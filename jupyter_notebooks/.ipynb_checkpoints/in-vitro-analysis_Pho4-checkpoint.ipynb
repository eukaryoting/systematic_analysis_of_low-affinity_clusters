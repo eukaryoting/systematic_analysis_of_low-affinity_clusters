{
 "cells": [
  {
   "cell_type": "markdown",
   "metadata": {
    "tags": []
   },
   "source": [
    "## Setup"
   ]
  },
  {
   "cell_type": "markdown",
   "metadata": {
    "tags": [],
    "toc-hr-collapsed": true
   },
   "source": [
    "#### Set the working directory to ../systematic-clusters-analysis_shahein-et.al"
   ]
  },
  {
   "cell_type": "code",
   "execution_count": 1,
   "metadata": {},
   "outputs": [
    {
     "name": "stdout",
     "output_type": "stream",
     "text": [
      "/Users/transcend/SynologyDrive/python_analysis/systematic-clusters-analysis_shahein-et.al\n"
     ]
    }
   ],
   "source": [
    "%cd \"../\""
   ]
  },
  {
   "cell_type": "markdown",
   "metadata": {
    "tags": [],
    "toc-hr-collapsed": true
   },
   "source": [
    "#### import"
   ]
  },
  {
   "cell_type": "code",
   "execution_count": 2,
   "metadata": {},
   "outputs": [],
   "source": [
    "import xlrd\n",
    "import json\n",
    "import os\n",
    "import pickle\n",
    "import emcee\n",
    "import corner\n",
    "\n",
    "import numpy as np\n",
    "import pandas as pd\n",
    "import matplotlib\n",
    "import matplotlib.pyplot as plt\n",
    "import seaborn as sns\n",
    "\n",
    "import lmfit as lm\n",
    "from lmfit import Model, fit_report\n",
    "\n",
    "from more_itertools import powerset\n",
    "from sympy.solvers import solve\n",
    "from sympy import Symbol\n",
    "\n",
    "from matplotlib.ticker import FixedLocator, FormatStrFormatter, LogFormatter\n",
    "\n",
    "%load_ext blackcellmagic"
   ]
  },
  {
   "cell_type": "markdown",
   "metadata": {
    "tags": [],
    "toc-hr-collapsed": true
   },
   "source": [
    "#### saving and loading methods"
   ]
  },
  {
   "cell_type": "code",
   "execution_count": 3,
   "metadata": {},
   "outputs": [],
   "source": [
    "def save_obj(obj, name ):\n",
    "    with open('obj/'+ name + '.pkl', 'wb') as f:\n",
    "        pickle.dump(obj, f, pickle.HIGHEST_PROTOCOL)\n",
    "\n",
    "def load_obj(name ):\n",
    "    with open('obj/' + name + '.pkl', 'rb') as f:\n",
    "        return pickle.load(f)"
   ]
  },
  {
   "cell_type": "markdown",
   "metadata": {
    "tags": [],
    "toc-hr-collapsed": true
   },
   "source": [
    "## Load and process data, run helper functions and create dictionaries"
   ]
  },
  {
   "cell_type": "code",
   "execution_count": 9,
   "metadata": {
    "tags": []
   },
   "outputs": [
    {
     "name": "stdout",
     "output_type": "stream",
     "text": [
      "      Flags  Column   Row     15a      25a     35a      55b      65a     65b  \\\n",
      "0       0.0     1.0   1.0  2933.0   7880.0  3971.0  28182.0   4200.0  3705.0   \n",
      "1     100.0     2.0   1.0  2935.0   3493.0  3810.0  28349.0   4054.0  3714.0   \n",
      "2       0.0     3.0   1.0  2939.0  15997.0  3935.0  26051.0  27202.0  3764.0   \n",
      "3       0.0     4.0   1.0  2938.0  13628.0  3902.0  27108.0  19149.0  3767.0   \n",
      "4       0.0     5.0   1.0  2943.0  29271.0  3891.0  26455.0  28700.0  3787.0   \n",
      "...     ...     ...   ...     ...      ...     ...      ...      ...     ...   \n",
      "2300  -50.0    44.0  16.0  2973.0  30326.0  3696.0   4064.0   4018.0  3849.0   \n",
      "2301  -50.0    45.0  16.0  2986.0  12014.0  3673.0   4053.0   3856.0  3840.0   \n",
      "2302  -50.0    46.0  16.0  2985.0  15252.0  3686.0   4061.0   3792.0  3839.0   \n",
      "2303  -50.0    47.0  16.0  2983.0  27203.0  3716.0   4064.0   3773.0  3833.0   \n",
      "2304  -50.0    48.0  16.0  2982.0  25315.0  3722.0   4064.0   3733.0  3834.0   \n",
      "\n",
      "      spotID      TgtName  Unnamed: 11           Date     51b     61b  \n",
      "0        1.0        XXXXX          NaN  Pho4_20201017     NaN     NaN  \n",
      "1        2.0  NO-TEMPLATE          NaN  Pho4_20201017     NaN     NaN  \n",
      "2        3.0   M1M2M3M4M5          NaN  Pho4_20201017     NaN     NaN  \n",
      "3        4.0    M1M2M3M4X          NaN  Pho4_20201017     NaN     NaN  \n",
      "4        5.0     M1M2M3XX          NaN  Pho4_20201017     NaN     NaN  \n",
      "...      ...          ...          ...            ...     ...     ...  \n",
      "2300    14.0   W1W2W3W4W5          NaN  Pho4_20201110  2016.0  1980.0  \n",
      "2301    15.0    W1W2W3W4X          NaN  Pho4_20201110  2013.0  1978.0  \n",
      "2302    16.0     W1W2W3XX          NaN  Pho4_20201110  2014.0  1978.0  \n",
      "2303    17.0      W1W2XXX          NaN  Pho4_20201110  2012.0  1976.0  \n",
      "2304    18.0       W1XXXX          NaN  Pho4_20201110  2010.0  1976.0  \n",
      "\n",
      "[2305 rows x 15 columns]\n"
     ]
    }
   ],
   "source": [
    "directory = 'input_datasets'\n",
    "filename = 'mitomi_pho4.xlsx'\n",
    "src = os.path.join(directory,'in-vitro',filename)\n",
    "datafile = pd.ExcelFile(src)\n",
    "\n",
    "dfs = []\n",
    "for sn in [sn for sn in datafile.sheet_names if sn in ['Pho4_20201017','Pho4_20201101','Pho4_20201110']]:\n",
    "    df = pd.read_excel(datafile, sheet_name=sn)\n",
    "    df['Date'] = sn\n",
    "#     df['date'] = df['date'].astype(np.int32)\n",
    "    dfs.append(df)\n",
    "    \n",
    "fdf = pd.concat(dfs)\n",
    "fdf = fdf.reset_index(drop=True)\n",
    "fdf['TgtName'] = fdf['TgtName'].apply(lambda x: str(x))\n",
    "fdf['TgtName'] = fdf['TgtName'].apply(lambda x: x.replace(\"'\", '').strip().upper()) #remove apostrophes\n",
    "# fdf['TgtNameRef'] = fdf['TgtNameRef'].apply(lambda x: x.replace('\\'', '').strip())\n",
    "\n",
    "print(fdf)"
   ]
  },
  {
   "cell_type": "markdown",
   "metadata": {},
   "source": [
    "#### Calculate complex and free protein conc."
   ]
  },
  {
   "cell_type": "code",
   "execution_count": 10,
   "metadata": {
    "tags": []
   },
   "outputs": [
    {
     "name": "stdout",
     "output_type": "stream",
     "text": [
      "      Flags  Column   Row     15a      25a     35a      55b      65a     65b  \\\n",
      "0       0.0     1.0   1.0  2933.0   7880.0  3971.0  28182.0   4200.0  3705.0   \n",
      "2       0.0     3.0   1.0  2939.0  15997.0  3935.0  26051.0  27202.0  3764.0   \n",
      "3       0.0     4.0   1.0  2938.0  13628.0  3902.0  27108.0  19149.0  3767.0   \n",
      "4       0.0     5.0   1.0  2943.0  29271.0  3891.0  26455.0  28700.0  3787.0   \n",
      "5       0.0     6.0   1.0  2940.0  10228.0  3828.0  28565.0  12220.0  3773.0   \n",
      "...     ...     ...   ...     ...      ...     ...      ...      ...     ...   \n",
      "2273    0.0    17.0  16.0  2971.0  29737.0  3680.0   4207.0   4502.0  3852.0   \n",
      "2274    0.0    18.0  16.0  2976.0  15793.0  3678.0   4261.0   3952.0  3842.0   \n",
      "2275    0.0    19.0  16.0  2986.0   9388.0  3659.0   4172.0   4193.0  3822.0   \n",
      "2276    0.0    20.0  16.0  2988.0  13935.0  3659.0   4049.0   4737.0  3800.0   \n",
      "2277    0.0    21.0  16.0  2978.0  17683.0  3672.0   4117.0   4466.0  3834.0   \n",
      "\n",
      "      spotID     TgtName  Unnamed: 11           Date     51b     61b  \\\n",
      "0        1.0       XXXXX          NaN  Pho4_20201017     NaN     NaN   \n",
      "2        3.0  M1M2M3M4M5          NaN  Pho4_20201017     NaN     NaN   \n",
      "3        4.0   M1M2M3M4X          NaN  Pho4_20201017     NaN     NaN   \n",
      "4        5.0    M1M2M3XX          NaN  Pho4_20201017     NaN     NaN   \n",
      "5        6.0     M1M2XXX          NaN  Pho4_20201017     NaN     NaN   \n",
      "...      ...         ...          ...            ...     ...     ...   \n",
      "2273     9.0      M3XXXX          NaN  Pho4_20201110  2052.0  1984.0   \n",
      "2274    10.0      M4XXXX          NaN  Pho4_20201110  2064.0  1977.0   \n",
      "2275    11.0      M5XXXX          NaN  Pho4_20201110  2041.0  1977.0   \n",
      "2276    12.0    M1XM3XM5          NaN  Pho4_20201110  2014.0  1971.0   \n",
      "2277    13.0     XM2XM4X          NaN  Pho4_20201110  2029.0  1980.0   \n",
      "\n",
      "            Free      Free_nM      DNA  Complex_raw   Complex  \n",
      "0     24477.0000  2528.615702   4947.0        229.0  0.046291  \n",
      "2     22287.0000  2302.376033  13058.0      23267.0  1.781820  \n",
      "3     23341.0000  2411.260331  10690.0      15247.0  1.426286  \n",
      "4     22668.0000  2341.735537  26328.0      24809.0  0.942305  \n",
      "5     24792.0000  2561.157025   7288.0       8392.0  1.151482  \n",
      "...          ...          ...      ...          ...       ...  \n",
      "2273    368.6434    38.082996  26766.0        822.0  0.030711  \n",
      "2274    466.1096    48.151818  12817.0        274.0  0.021378  \n",
      "2275    348.1242    35.963244   6402.0        534.0  0.083411  \n",
      "2276    240.3984    24.834545  10947.0       1078.0  0.098474  \n",
      "2277    271.1772    28.014174  14705.0        794.0  0.053995  \n",
      "\n",
      "[2024 rows x 20 columns]\n"
     ]
    }
   ],
   "source": [
    "# Some of the dates (201101, 201110) saturated the 500ms scan for 55b, \n",
    "# so need to use 51b instead and multiply by the calibration factor \n",
    "# for imaging conditions (near perfect conversion)\n",
    "\n",
    "for date, dategrp in fdf.groupby('Date'):\n",
    "\n",
    "    if date == 'Pho4_20201110' :\n",
    "        fdf.loc[fdf['Date']==date,'Free'] = (fdf['51b'] - fdf['61b'])*5.1298 + 19.817 #this is the conversion from 100ms exposure reading to 500ms\n",
    "    elif date == 'Pho4_20201101' :\n",
    "        fdf.loc[fdf['Date']==date,'Free'] = (fdf['51b'] - fdf['61b'])*4.8298 - 64.442 \n",
    "    elif date == 'Pho4_20201017' :\n",
    "        fdf.loc[fdf['Date']==date,'Free'] = fdf['55b'] - fdf['65b']\n",
    "    else: \n",
    "        raise Exception(\"Sorry, you need to input the function to convert from 100ms to 500ms values\")\n",
    "\n",
    "        \n",
    "fdf['Free_nM'] = fdf['Free'] / 9.68 #From the RFU to nM calibration curve\n",
    "fdf['DNA'] = fdf['25a'] - fdf['15a']\n",
    "fdf['Complex_raw'] = fdf['65a'] - fdf['35a']\n",
    "fdf['Complex'] = fdf['Complex_raw'] / fdf['DNA']\n",
    "\n",
    "fdf['TgtName'].replace('', np.nan, inplace=True)\n",
    "fdf.dropna(subset=['TgtName'], inplace=True)\n",
    "fdf = fdf.loc[fdf['Flags'] == 0]\n",
    "print(fdf)"
   ]
  },
  {
   "cell_type": "markdown",
   "metadata": {
    "tags": []
   },
   "source": [
    "## Do fitting, occ-cal, sample posterior to make plots"
   ]
  },
  {
   "cell_type": "markdown",
   "metadata": {
    "heading_collapsed": "true",
    "tags": []
   },
   "source": [
    "### Run SBC fitting (MCMC) for multi-site medium library, for each experimental day"
   ]
  },
  {
   "cell_type": "markdown",
   "metadata": {
    "tags": [],
    "toc-hr-collapsed": true
   },
   "source": [
    "#### Path"
   ]
  },
  {
   "cell_type": "code",
   "execution_count": 15,
   "metadata": {},
   "outputs": [],
   "source": [
    "dir1 = 'in-vitro_fits_plots'\n",
    "dir2 = 'Pho4'\n",
    "dir3 = 'SBC'\n",
    "path = os.path.join(dir1,dir2,dir3)"
   ]
  },
  {
   "cell_type": "markdown",
   "metadata": {
    "tags": []
   },
   "source": [
    "#### SBC fitting for calibration to mean occupancy"
   ]
  },
  {
   "cell_type": "code",
   "execution_count": 13,
   "metadata": {},
   "outputs": [],
   "source": [
    "def sbc(x, a=1, lk=1):\n",
    "    return a * x / (x + 10**(lk)) "
   ]
  },
  {
   "cell_type": "code",
   "execution_count": 17,
   "metadata": {
    "collapsed": true,
    "jupyter": {
     "outputs_hidden": true
    },
    "tags": []
   },
   "outputs": [
    {
     "name": "stderr",
     "output_type": "stream",
     "text": [
      "  0%|          | 0/100 [00:00<?, ?it/s]"
     ]
    },
    {
     "name": "stdout",
     "output_type": "stream",
     "text": [
      "M1M2M3M4M5 Pho4_20201017\n"
     ]
    },
    {
     "name": "stderr",
     "output_type": "stream",
     "text": [
      "100%|██████████| 100/100 [00:06<00:00, 15.98it/s]\n"
     ]
    },
    {
     "name": "stdout",
     "output_type": "stream",
     "text": [
      "The chain is shorter than 50 times the integrated autocorrelation time for 3 parameter(s). Use this estimate with caution and run a longer chain!\n",
      "N/50 = 2;\n",
      "tau: [ 8.10640833  7.47491826 11.79288358]\n"
     ]
    },
    {
     "name": "stderr",
     "output_type": "stream",
     "text": [
      "  0%|          | 0/100 [00:00<?, ?it/s]"
     ]
    },
    {
     "name": "stdout",
     "output_type": "stream",
     "text": [
      "M1M2M3M4M5 Pho4_20201101\n"
     ]
    },
    {
     "name": "stderr",
     "output_type": "stream",
     "text": [
      "100%|██████████| 100/100 [00:06<00:00, 16.31it/s]\n"
     ]
    },
    {
     "name": "stdout",
     "output_type": "stream",
     "text": [
      "The chain is shorter than 50 times the integrated autocorrelation time for 3 parameter(s). Use this estimate with caution and run a longer chain!\n",
      "N/50 = 2;\n",
      "tau: [ 7.75034619  7.44726922 11.67148534]\n"
     ]
    },
    {
     "name": "stderr",
     "output_type": "stream",
     "text": [
      "  0%|          | 0/100 [00:00<?, ?it/s]"
     ]
    },
    {
     "name": "stdout",
     "output_type": "stream",
     "text": [
      "M1M2M3M4M5 Pho4_20201110\n"
     ]
    },
    {
     "name": "stderr",
     "output_type": "stream",
     "text": [
      "100%|██████████| 100/100 [00:06<00:00, 15.23it/s]\n"
     ]
    },
    {
     "name": "stdout",
     "output_type": "stream",
     "text": [
      "The chain is shorter than 50 times the integrated autocorrelation time for 3 parameter(s). Use this estimate with caution and run a longer chain!\n",
      "N/50 = 2;\n",
      "tau: [ 7.71897406  8.00332508 11.75498059]\n"
     ]
    },
    {
     "name": "stderr",
     "output_type": "stream",
     "text": [
      "  0%|          | 0/100 [00:00<?, ?it/s]"
     ]
    },
    {
     "name": "stdout",
     "output_type": "stream",
     "text": [
      "M1M2M3M4X Pho4_20201017\n"
     ]
    },
    {
     "name": "stderr",
     "output_type": "stream",
     "text": [
      "100%|██████████| 100/100 [00:06<00:00, 15.80it/s]\n"
     ]
    },
    {
     "name": "stdout",
     "output_type": "stream",
     "text": [
      "The chain is shorter than 50 times the integrated autocorrelation time for 3 parameter(s). Use this estimate with caution and run a longer chain!\n",
      "N/50 = 2;\n",
      "tau: [ 7.97202952  7.31273632 12.13986626]\n"
     ]
    },
    {
     "name": "stderr",
     "output_type": "stream",
     "text": [
      "  0%|          | 0/100 [00:00<?, ?it/s]"
     ]
    },
    {
     "name": "stdout",
     "output_type": "stream",
     "text": [
      "M1M2M3M4X Pho4_20201101\n"
     ]
    },
    {
     "name": "stderr",
     "output_type": "stream",
     "text": [
      "100%|██████████| 100/100 [00:05<00:00, 17.00it/s]\n"
     ]
    },
    {
     "name": "stdout",
     "output_type": "stream",
     "text": [
      "The chain is shorter than 50 times the integrated autocorrelation time for 3 parameter(s). Use this estimate with caution and run a longer chain!\n",
      "N/50 = 2;\n",
      "tau: [ 7.74891766  7.85921089 12.2142786 ]\n"
     ]
    },
    {
     "name": "stderr",
     "output_type": "stream",
     "text": [
      "  0%|          | 0/100 [00:00<?, ?it/s]"
     ]
    },
    {
     "name": "stdout",
     "output_type": "stream",
     "text": [
      "M1M2M3M4X Pho4_20201110\n"
     ]
    },
    {
     "name": "stderr",
     "output_type": "stream",
     "text": [
      "100%|██████████| 100/100 [00:06<00:00, 15.67it/s]\n"
     ]
    },
    {
     "name": "stdout",
     "output_type": "stream",
     "text": [
      "The chain is shorter than 50 times the integrated autocorrelation time for 3 parameter(s). Use this estimate with caution and run a longer chain!\n",
      "N/50 = 2;\n",
      "tau: [ 8.07541209  7.68217727 11.65566933]\n"
     ]
    },
    {
     "name": "stderr",
     "output_type": "stream",
     "text": [
      "  0%|          | 0/100 [00:00<?, ?it/s]"
     ]
    },
    {
     "name": "stdout",
     "output_type": "stream",
     "text": [
      "M1M2M3XX Pho4_20201017\n"
     ]
    },
    {
     "name": "stderr",
     "output_type": "stream",
     "text": [
      "100%|██████████| 100/100 [00:06<00:00, 15.98it/s]\n"
     ]
    },
    {
     "name": "stdout",
     "output_type": "stream",
     "text": [
      "The chain is shorter than 50 times the integrated autocorrelation time for 3 parameter(s). Use this estimate with caution and run a longer chain!\n",
      "N/50 = 2;\n",
      "tau: [ 8.71281053  7.76502662 12.09382343]\n"
     ]
    },
    {
     "name": "stderr",
     "output_type": "stream",
     "text": [
      "  0%|          | 0/100 [00:00<?, ?it/s]"
     ]
    },
    {
     "name": "stdout",
     "output_type": "stream",
     "text": [
      "M1M2M3XX Pho4_20201101\n"
     ]
    },
    {
     "name": "stderr",
     "output_type": "stream",
     "text": [
      "100%|██████████| 100/100 [00:05<00:00, 17.73it/s]\n"
     ]
    },
    {
     "name": "stdout",
     "output_type": "stream",
     "text": [
      "The chain is shorter than 50 times the integrated autocorrelation time for 3 parameter(s). Use this estimate with caution and run a longer chain!\n",
      "N/50 = 2;\n",
      "tau: [ 8.20212619  7.51644719 12.02711147]\n"
     ]
    },
    {
     "name": "stderr",
     "output_type": "stream",
     "text": [
      "  0%|          | 0/100 [00:00<?, ?it/s]"
     ]
    },
    {
     "name": "stdout",
     "output_type": "stream",
     "text": [
      "M1M2M3XX Pho4_20201110\n"
     ]
    },
    {
     "name": "stderr",
     "output_type": "stream",
     "text": [
      "100%|██████████| 100/100 [00:06<00:00, 15.86it/s]\n"
     ]
    },
    {
     "name": "stdout",
     "output_type": "stream",
     "text": [
      "The chain is shorter than 50 times the integrated autocorrelation time for 3 parameter(s). Use this estimate with caution and run a longer chain!\n",
      "N/50 = 2;\n",
      "tau: [ 7.89632212  7.63085605 12.35113199]\n"
     ]
    },
    {
     "name": "stderr",
     "output_type": "stream",
     "text": [
      "  0%|          | 0/100 [00:00<?, ?it/s]"
     ]
    },
    {
     "name": "stdout",
     "output_type": "stream",
     "text": [
      "M1M2XXX Pho4_20201017\n"
     ]
    },
    {
     "name": "stderr",
     "output_type": "stream",
     "text": [
      "100%|██████████| 100/100 [00:05<00:00, 17.76it/s]\n"
     ]
    },
    {
     "name": "stdout",
     "output_type": "stream",
     "text": [
      "The chain is shorter than 50 times the integrated autocorrelation time for 3 parameter(s). Use this estimate with caution and run a longer chain!\n",
      "N/50 = 2;\n",
      "tau: [ 8.46908187  7.98041844 11.04712682]\n"
     ]
    },
    {
     "name": "stderr",
     "output_type": "stream",
     "text": [
      "  0%|          | 0/100 [00:00<?, ?it/s]"
     ]
    },
    {
     "name": "stdout",
     "output_type": "stream",
     "text": [
      "M1M2XXX Pho4_20201101\n"
     ]
    },
    {
     "name": "stderr",
     "output_type": "stream",
     "text": [
      "100%|██████████| 100/100 [00:05<00:00, 17.68it/s]\n"
     ]
    },
    {
     "name": "stdout",
     "output_type": "stream",
     "text": [
      "The chain is shorter than 50 times the integrated autocorrelation time for 3 parameter(s). Use this estimate with caution and run a longer chain!\n",
      "N/50 = 2;\n",
      "tau: [ 9.75497798  9.12070302 12.29380302]\n"
     ]
    },
    {
     "name": "stderr",
     "output_type": "stream",
     "text": [
      "  0%|          | 0/100 [00:00<?, ?it/s]"
     ]
    },
    {
     "name": "stdout",
     "output_type": "stream",
     "text": [
      "M1M2XXX Pho4_20201110\n"
     ]
    },
    {
     "name": "stderr",
     "output_type": "stream",
     "text": [
      "100%|██████████| 100/100 [00:06<00:00, 16.30it/s]\n"
     ]
    },
    {
     "name": "stdout",
     "output_type": "stream",
     "text": [
      "The chain is shorter than 50 times the integrated autocorrelation time for 3 parameter(s). Use this estimate with caution and run a longer chain!\n",
      "N/50 = 2;\n",
      "tau: [ 7.93444135  8.09768332 12.71218225]\n"
     ]
    },
    {
     "name": "stderr",
     "output_type": "stream",
     "text": [
      "  0%|          | 0/100 [00:00<?, ?it/s]"
     ]
    },
    {
     "name": "stdout",
     "output_type": "stream",
     "text": [
      "M1XXXX Pho4_20201017\n"
     ]
    },
    {
     "name": "stderr",
     "output_type": "stream",
     "text": [
      "100%|██████████| 100/100 [00:05<00:00, 17.83it/s]\n"
     ]
    },
    {
     "name": "stdout",
     "output_type": "stream",
     "text": [
      "The chain is shorter than 50 times the integrated autocorrelation time for 3 parameter(s). Use this estimate with caution and run a longer chain!\n",
      "N/50 = 2;\n",
      "tau: [ 8.18855822  7.70780437 11.81504742]\n"
     ]
    },
    {
     "name": "stderr",
     "output_type": "stream",
     "text": [
      "  0%|          | 0/100 [00:00<?, ?it/s]"
     ]
    },
    {
     "name": "stdout",
     "output_type": "stream",
     "text": [
      "M1XXXX Pho4_20201101\n"
     ]
    },
    {
     "name": "stderr",
     "output_type": "stream",
     "text": [
      "100%|██████████| 100/100 [00:05<00:00, 18.12it/s]\n"
     ]
    },
    {
     "name": "stdout",
     "output_type": "stream",
     "text": [
      "The chain is shorter than 50 times the integrated autocorrelation time for 3 parameter(s). Use this estimate with caution and run a longer chain!\n",
      "N/50 = 2;\n",
      "tau: [ 8.85058547  8.58309602 12.09584951]\n"
     ]
    },
    {
     "name": "stderr",
     "output_type": "stream",
     "text": [
      "  0%|          | 0/100 [00:00<?, ?it/s]"
     ]
    },
    {
     "name": "stdout",
     "output_type": "stream",
     "text": [
      "M1XXXX Pho4_20201110\n"
     ]
    },
    {
     "name": "stderr",
     "output_type": "stream",
     "text": [
      "100%|██████████| 100/100 [00:05<00:00, 17.67it/s]\n"
     ]
    },
    {
     "name": "stdout",
     "output_type": "stream",
     "text": [
      "The chain is shorter than 50 times the integrated autocorrelation time for 3 parameter(s). Use this estimate with caution and run a longer chain!\n",
      "N/50 = 2;\n",
      "tau: [ 8.22888201  8.06533252 11.77194776]\n"
     ]
    },
    {
     "name": "stderr",
     "output_type": "stream",
     "text": [
      "  0%|          | 0/100 [00:00<?, ?it/s]"
     ]
    },
    {
     "name": "stdout",
     "output_type": "stream",
     "text": [
      "S1XXXX Pho4_20201101\n"
     ]
    },
    {
     "name": "stderr",
     "output_type": "stream",
     "text": [
      "100%|██████████| 100/100 [00:05<00:00, 18.01it/s]\n"
     ]
    },
    {
     "name": "stdout",
     "output_type": "stream",
     "text": [
      "The chain is shorter than 50 times the integrated autocorrelation time for 3 parameter(s). Use this estimate with caution and run a longer chain!\n",
      "N/50 = 2;\n",
      "tau: [ 8.58946733  8.399645   11.72034077]\n"
     ]
    },
    {
     "name": "stderr",
     "output_type": "stream",
     "text": [
      "  0%|          | 0/100 [00:00<?, ?it/s]"
     ]
    },
    {
     "name": "stdout",
     "output_type": "stream",
     "text": [
      "S1XXXX Pho4_20201110\n"
     ]
    },
    {
     "name": "stderr",
     "output_type": "stream",
     "text": [
      "100%|██████████| 100/100 [00:05<00:00, 17.25it/s]\n"
     ]
    },
    {
     "name": "stdout",
     "output_type": "stream",
     "text": [
      "The chain is shorter than 50 times the integrated autocorrelation time for 3 parameter(s). Use this estimate with caution and run a longer chain!\n",
      "N/50 = 2;\n",
      "tau: [ 8.21743568  8.2559682  12.39951646]\n"
     ]
    },
    {
     "name": "stderr",
     "output_type": "stream",
     "text": [
      "  0%|          | 0/100 [00:00<?, ?it/s]/Users/transcend/opt/anaconda3/lib/python3.8/site-packages/emcee/moves/red_blue.py:99: RuntimeWarning: invalid value encountered in double_scalars\n",
      "  lnpdiff = f + nlp - state.log_prob[j]\n",
      "  3%|▎         | 3/100 [00:00<00:03, 24.30it/s]"
     ]
    },
    {
     "name": "stdout",
     "output_type": "stream",
     "text": [
      "XXXXX Pho4_20201017\n"
     ]
    },
    {
     "name": "stderr",
     "output_type": "stream",
     "text": [
      "100%|██████████| 100/100 [00:04<00:00, 20.77it/s]\n"
     ]
    },
    {
     "name": "stdout",
     "output_type": "stream",
     "text": [
      "The chain is shorter than 50 times the integrated autocorrelation time for 3 parameter(s). Use this estimate with caution and run a longer chain!\n",
      "N/50 = 2;\n",
      "tau: [ 9.90751217 11.55709709  9.533515  ]\n"
     ]
    },
    {
     "name": "stderr",
     "output_type": "stream",
     "text": [
      "WARNING:root:Too few points to create valid contours\n",
      "  0%|          | 0/100 [00:00<?, ?it/s]/Users/transcend/opt/anaconda3/lib/python3.8/site-packages/emcee/moves/red_blue.py:99: RuntimeWarning: invalid value encountered in double_scalars\n",
      "  lnpdiff = f + nlp - state.log_prob[j]\n",
      "  3%|▎         | 3/100 [00:00<00:03, 29.78it/s]"
     ]
    },
    {
     "name": "stdout",
     "output_type": "stream",
     "text": [
      "XXXXX Pho4_20201101\n"
     ]
    },
    {
     "name": "stderr",
     "output_type": "stream",
     "text": [
      "100%|██████████| 100/100 [00:04<00:00, 20.53it/s]\n"
     ]
    },
    {
     "name": "stdout",
     "output_type": "stream",
     "text": [
      "The chain is shorter than 50 times the integrated autocorrelation time for 3 parameter(s). Use this estimate with caution and run a longer chain!\n",
      "N/50 = 2;\n",
      "tau: [ 9.52240357 11.70234001  9.90828805]\n"
     ]
    },
    {
     "name": "stderr",
     "output_type": "stream",
     "text": [
      "WARNING:root:Too few points to create valid contours\n",
      "  0%|          | 0/100 [00:00<?, ?it/s]/Users/transcend/opt/anaconda3/lib/python3.8/site-packages/emcee/moves/red_blue.py:99: RuntimeWarning: invalid value encountered in double_scalars\n",
      "  lnpdiff = f + nlp - state.log_prob[j]\n",
      "  3%|▎         | 3/100 [00:00<00:03, 24.79it/s]"
     ]
    },
    {
     "name": "stdout",
     "output_type": "stream",
     "text": [
      "XXXXX Pho4_20201110\n"
     ]
    },
    {
     "name": "stderr",
     "output_type": "stream",
     "text": [
      "100%|██████████| 100/100 [00:04<00:00, 21.08it/s]\n"
     ]
    },
    {
     "name": "stdout",
     "output_type": "stream",
     "text": [
      "The chain is shorter than 50 times the integrated autocorrelation time for 3 parameter(s). Use this estimate with caution and run a longer chain!\n",
      "N/50 = 2;\n",
      "tau: [10.00963785 11.99351648 10.52725129]\n"
     ]
    },
    {
     "name": "stderr",
     "output_type": "stream",
     "text": [
      "WARNING:root:Too few points to create valid contours\n"
     ]
    }
   ],
   "source": [
    "sbcmodel = Model(sbc)\n",
    "xs = np.logspace(0, 3.5, 200)\n",
    "\n",
    "params_df = pd.DataFrame()\n",
    "\n",
    "ptiles = range(0,101)\n",
    "ptiles_df = pd.DataFrame()\n",
    "\n",
    "for tgtDate, tgtgrp in fdf.groupby(['TgtName','Date']): \n",
    "    \n",
    "    tgt = tgtDate[0]\n",
    "    date = tgtDate[1]\n",
    "    \n",
    "    if tgt in ['XXXXX','S1XXXX','M1XXXX','M1M2XXX','M1M2M3XX','M1M2M3M4X','M1M2M3M4M5']:\n",
    "        print(tgt, date)\n",
    "\n",
    "        tgtgrp = tgtgrp.loc[(tgtgrp['Free_nM']>0)&(tgtgrp['Complex']>0)]\n",
    "        xd, yd = (tgtgrp['Free_nM'], tgtgrp['Complex'])\n",
    "\n",
    "        params = sbcmodel.make_params(a=0.5, lk=2)\n",
    "        params['a'].min = 0\n",
    "        params['a'].max = 7\n",
    "        params['lk'].min = 0\n",
    "        params['lk'].max = 4\n",
    "\n",
    "        result = sbcmodel.fit(yd, params, x=xd)\n",
    "\n",
    "        emcee_kws = dict(steps=10000, burn=300, thin=10, is_weighted=False, progress=True) \n",
    "        emcee_params = result.params.copy()\n",
    "        emcee_params['a'].max = result.params['a']*1.75\n",
    "        result_emcee = sbcmodel.fit(yd, emcee_params, x=xd, method='emcee', fit_kws=emcee_kws)\n",
    "        result_emcee.col_deriv = None # lmfit has a bug and fails to set this parameter. The model can't be saved without it being set!\n",
    "\n",
    "        rps = result_emcee.params \n",
    "        np.savetxt(os.path.join(path,'{}_{}_flatchain_sbc.csv'.format(tgt,date[5:])), result_emcee.flatchain, delimiter=',') #save chain\n",
    "        lm.model.save_modelresult(rps, (os.path.join(path,'{}_{}_fitresult_sbc.model'.format(tgt,date[5:])))) #save model results\n",
    "        \n",
    "        #create a dataframe of parameter values\n",
    "        d = result_emcee.params.valuesdict()\n",
    "        d['tgt'] = tgt\n",
    "        d['date'] = date\n",
    "        params_df = pd.concat([params_df, pd.DataFrame(d, index=[0])])\n",
    "        \n",
    "        #create a dataframe of percentiles of parameter values\n",
    "        pp = result_emcee.flatchain.apply(np.percentile, args=[ptiles])\n",
    "        pp['tgt'] = tgt\n",
    "        pp['date'] = date\n",
    "        pp['ptile'] = ptiles     \n",
    "        ptiles_df = pd.concat([ptiles_df, pp])\n",
    "\n",
    "        fig = plt.figure(figsize=(4,6))\n",
    "        gs = fig.add_gridspec(2, 1)\n",
    "        ax1 = fig.add_subplot(gs[0,0])\n",
    "        ax2 = fig.add_subplot(gs[1,0])\n",
    "        ax1.plot(xs, result.eval(params=result_emcee.params, x=xs))\n",
    "        ax1.plot(xd, yd, 'k.') # plot the datapoints\n",
    "        result_emcee.plot_residuals(ax=ax2) \n",
    "\n",
    "        for ax in (ax1, ax2):\n",
    "            ax.set_xscale('log')\n",
    "            ax.set_xlim([1e0, 1.5e4])\n",
    "        ax2.set_xlabel('Free TF (nM)')\n",
    "        ax1.set_ylabel('DNA-TF complex (a.u.)')\n",
    "        ax2.set_ylabel('Residual')\n",
    "\n",
    "        ax1.set_title(\"{} {}\\na={:.2f} | k={:.2f}\".format(tgt, date, rps['a'].value, 10**rps['lk'].value))\n",
    "        ax2.set_title(None)\n",
    "        plt.tight_layout()\n",
    "        plt.savefig(os.path.join(path,\"{}_{}_fit_sbc.png\".format(tgt,date[5:])), dpi=200)\n",
    "    #     plt.show()\n",
    "\n",
    "        plt.clf()\n",
    "        emcee_corner = corner.corner(result_emcee.flatchain, labels=result_emcee.var_names, truths=list(result_emcee.params.valuesdict().values()))\n",
    "    #     plt.show()\n",
    "        plt.savefig(os.path.join(path,'{}_{}_corner_sbc.png'.format(tgt,date[5:])), dpi=200)\n",
    "        plt.close('all')\n",
    "\n",
    "params_df.reset_index(drop=True, inplace=True)\n",
    "params_df.set_index('tgt', drop=True, inplace=True)\n",
    "params_df.to_csv(os.path.join(path,'fit_params_sbc.csv'))\n",
    "ptiles_df = ptiles_df.set_index(['tgt', 'ptile'])\n",
    "ptiles_df.to_csv(os.path.join(path,'fit_params_percentiles_sbc.csv'))"
   ]
  },
  {
   "cell_type": "markdown",
   "metadata": {
    "heading_collapsed": "true",
    "tags": []
   },
   "source": [
    "### Fit the # site data (first 3 tgts) by-day to get occupancy calibration factors"
   ]
  },
  {
   "cell_type": "code",
   "execution_count": 19,
   "metadata": {
    "tags": []
   },
   "outputs": [
    {
     "name": "stderr",
     "output_type": "stream",
     "text": [
      "  0%|          | 4/3000 [00:00<01:22, 36.48it/s]"
     ]
    },
    {
     "name": "stdout",
     "output_type": "stream",
     "text": [
      "Pho4_20201017\n"
     ]
    },
    {
     "name": "stderr",
     "output_type": "stream",
     "text": [
      "100%|██████████| 3000/3000 [01:05<00:00, 45.97it/s]\n",
      "WARNING:root:Too few points to create valid contours\n",
      "  0%|          | 4/3000 [00:00<01:15, 39.90it/s]"
     ]
    },
    {
     "name": "stdout",
     "output_type": "stream",
     "text": [
      "Pho4_20201101\n"
     ]
    },
    {
     "name": "stderr",
     "output_type": "stream",
     "text": [
      "100%|██████████| 3000/3000 [01:04<00:00, 46.53it/s]\n",
      "WARNING:root:Too few points to create valid contours\n",
      "  0%|          | 4/3000 [00:00<01:16, 39.14it/s]"
     ]
    },
    {
     "name": "stdout",
     "output_type": "stream",
     "text": [
      "Pho4_20201110\n"
     ]
    },
    {
     "name": "stderr",
     "output_type": "stream",
     "text": [
      "100%|██████████| 3000/3000 [01:04<00:00, 46.83it/s]\n",
      "WARNING:root:Too few points to create valid contours\n"
     ]
    }
   ],
   "source": [
    "tgts = ['M1XXXX', 'M1M2XXX', 'M1M2M3XX']\n",
    "\n",
    "days = ['Pho4_20201017','Pho4_20201101','Pho4_20201110']\n",
    "\n",
    "params_df_alldays = pd.read_csv(os.path.join(path,'fit_params_sbc.csv'), index_col=0)\n",
    "ptiles_df_alldays = pd.read_csv(os.path.join(path,'fit_params_percentiles_sbc.csv'), index_col=[0,1])\n",
    "\n",
    "p = 'a'\n",
    "x = np.array([1, 2, 3])\n",
    "\n",
    "cal_factor_dict = {}\n",
    "\n",
    "for i,day in enumerate(days):\n",
    "    \n",
    "    print(day)\n",
    "    params_df = params_df_alldays[params_df_alldays['date']==day]\n",
    "    ptiles_df = ptiles_df_alldays[ptiles_df_alldays['date']==day]\n",
    "    y = params_df.loc[tgts, p]\n",
    "    ptiles = [5, 95]\n",
    "    yerr = np.vstack((y - ptiles_df.loc[[(tgt, ptiles[0]) for tgt in tgts]][p].values, ptiles_df.loc[[(tgt, ptiles[1]) for tgt in tgts]][p].values - y))\n",
    "\n",
    "    def proportional(x, m):\n",
    "        return x*m\n",
    "\n",
    "    pmodel = Model(proportional)\n",
    "    params = pmodel.make_params(m=0.7)\n",
    "    result = pmodel.fit(y, params, x=x)\n",
    "\n",
    "    emcee_kws = dict(steps=10000, burn=300, thin=10, is_weighted=False, progress=True)\n",
    "    emcee_params = result.params.copy()\n",
    "    result_emcee = pmodel.fit(y, emcee_params, x=x, method='emcee', fit_kws=emcee_kws)\n",
    "    result_emcee.col_deriv = None # lmfit has a bug and fails to set this parameter. The model can't be saved without it being set!\n",
    "\n",
    "    rps = result_emcee.params\n",
    "    np.savetxt(os.path.join(path,'{}_occupancy_calibration_flatchain_sbc.csv'.format(day)), result_emcee.flatchain, delimiter=',')\n",
    "    lm.model.save_modelresult(rps, os.path.join(path,'{}_occupancy_calibration_fitresult_sbc.model'.format(day)))\n",
    "\n",
    "    cal_factor_dict[day]=rps['m'].value\n",
    "\n",
    "    fig = plt.figure(figsize=(4,6))\n",
    "    gs = fig.add_gridspec(2, 1)\n",
    "    ax1 = fig.add_subplot(gs[0,0])\n",
    "    ax2 = fig.add_subplot(gs[1,0])\n",
    "    xs = x\n",
    "    ax1.plot(xs, result.eval(params=rps, x=xs))\n",
    "    ax1.errorbar(x, y, yerr=yerr, fmt='k.')\n",
    "    result_emcee.plot_residuals(ax=ax2)\n",
    "\n",
    "    ax2.set_xlabel('# sites')\n",
    "    ax1.set_ylabel('a, occ. at saturation')\n",
    "    ax2.set_ylabel('Residual')\n",
    "\n",
    "    lower, upper = np.percentile(result_emcee.flatchain['m'], [10, 90])\n",
    "    ax1.set_title(\"Occupancy calibration %.0f\\n$m=%.4f^{+%.4f}_{-%.4f}$\" % (int(day[5:]), rps['m'].value, upper-rps['m'].value, rps['m'].value-lower))\n",
    "    ax2.set_title(None)\n",
    "    plt.tight_layout()\n",
    "    plt.savefig(os.path.join(path,'{}_occupancy_calibration_fit_sbc.png'.format(day)), dpi=200)\n",
    "    #     plt.show()\n",
    "\n",
    "    plt.clf()\n",
    "    emcee_corner = corner.corner(result_emcee.flatchain, labels=result_emcee.var_names, truths=list(result_emcee.params.valuesdict().values()))\n",
    "    #     plt.show()\n",
    "    plt.savefig(os.path.join(path,'{}_occupancy_calibration_corner_sbc.png'.format(day)), dpi=200)\n",
    "    plt.close('all')\n",
    "\n",
    "save_obj(cal_factor_dict, 'daily_cal_factors_3tgtCal')"
   ]
  },
  {
   "cell_type": "markdown",
   "metadata": {
    "heading_collapsed": "true",
    "tags": [],
    "toc-hr-collapsed": true
   },
   "source": [
    "### Normalize the complex signal by the appropriate cal_factor to obtain the Mean_occupancy value"
   ]
  },
  {
   "cell_type": "code",
   "execution_count": 20,
   "metadata": {},
   "outputs": [],
   "source": [
    "daily_cal_factors=load_obj('daily_cal_factors_3tgtCal') #dictionary Key: date, Value: cal_factor for that day\n",
    "\n",
    "fdf['Mean_occupancy'] = fdf['Complex'] / [daily_cal_factors[date] for date in fdf['Date']] # divide 'Complex' by date-specific cal-factors"
   ]
  },
  {
   "cell_type": "markdown",
   "metadata": {
    "heading_collapsed": "true",
    "tags": []
   },
   "source": [
    "### SBC fitting on the Mean_occupancy dataset"
   ]
  },
  {
   "cell_type": "code",
   "execution_count": 22,
   "metadata": {
    "collapsed": true,
    "jupyter": {
     "outputs_hidden": true
    },
    "tags": []
   },
   "outputs": [
    {
     "name": "stderr",
     "output_type": "stream",
     "text": [
      "100%|██████████| 100/100 [00:06<00:00, 15.49it/s]\n"
     ]
    },
    {
     "name": "stdout",
     "output_type": "stream",
     "text": [
      "The chain is shorter than 50 times the integrated autocorrelation time for 3 parameter(s). Use this estimate with caution and run a longer chain!\n",
      "N/50 = 2;\n",
      "tau: [ 7.94743284  7.64877273 12.51794442]\n"
     ]
    },
    {
     "name": "stderr",
     "output_type": "stream",
     "text": [
      "100%|██████████| 100/100 [00:06<00:00, 14.98it/s]\n"
     ]
    },
    {
     "name": "stdout",
     "output_type": "stream",
     "text": [
      "The chain is shorter than 50 times the integrated autocorrelation time for 3 parameter(s). Use this estimate with caution and run a longer chain!\n",
      "N/50 = 2;\n",
      "tau: [ 8.04846     8.11562896 11.98723385]\n"
     ]
    },
    {
     "name": "stderr",
     "output_type": "stream",
     "text": [
      "100%|██████████| 100/100 [00:06<00:00, 14.97it/s]\n"
     ]
    },
    {
     "name": "stdout",
     "output_type": "stream",
     "text": [
      "The chain is shorter than 50 times the integrated autocorrelation time for 3 parameter(s). Use this estimate with caution and run a longer chain!\n",
      "N/50 = 2;\n",
      "tau: [ 8.07422182  8.02786752 12.39471094]\n"
     ]
    },
    {
     "name": "stderr",
     "output_type": "stream",
     "text": [
      "100%|██████████| 100/100 [00:06<00:00, 15.11it/s]\n"
     ]
    },
    {
     "name": "stdout",
     "output_type": "stream",
     "text": [
      "The chain is shorter than 50 times the integrated autocorrelation time for 3 parameter(s). Use this estimate with caution and run a longer chain!\n",
      "N/50 = 2;\n",
      "tau: [ 8.15033079  8.10581882 12.33372695]\n"
     ]
    },
    {
     "name": "stderr",
     "output_type": "stream",
     "text": [
      "100%|██████████| 100/100 [00:06<00:00, 15.57it/s]\n"
     ]
    },
    {
     "name": "stdout",
     "output_type": "stream",
     "text": [
      "The chain is shorter than 50 times the integrated autocorrelation time for 3 parameter(s). Use this estimate with caution and run a longer chain!\n",
      "N/50 = 2;\n",
      "tau: [ 8.11185541  7.75421593 11.97705594]\n"
     ]
    },
    {
     "name": "stderr",
     "output_type": "stream",
     "text": [
      "100%|██████████| 100/100 [00:06<00:00, 15.74it/s]\n"
     ]
    },
    {
     "name": "stdout",
     "output_type": "stream",
     "text": [
      "The chain is shorter than 50 times the integrated autocorrelation time for 3 parameter(s). Use this estimate with caution and run a longer chain!\n",
      "N/50 = 2;\n",
      "tau: [ 8.83851128  8.06749608 10.08881063]\n"
     ]
    },
    {
     "name": "stderr",
     "output_type": "stream",
     "text": [
      "100%|██████████| 100/100 [00:05<00:00, 16.74it/s]\n"
     ]
    },
    {
     "name": "stdout",
     "output_type": "stream",
     "text": [
      "The chain is shorter than 50 times the integrated autocorrelation time for 3 parameter(s). Use this estimate with caution and run a longer chain!\n",
      "N/50 = 2;\n",
      "tau: [ 7.98762964  7.50444714 11.98539614]\n"
     ]
    },
    {
     "name": "stderr",
     "output_type": "stream",
     "text": [
      "100%|██████████| 100/100 [00:06<00:00, 16.44it/s]\n"
     ]
    },
    {
     "name": "stdout",
     "output_type": "stream",
     "text": [
      "The chain is shorter than 50 times the integrated autocorrelation time for 3 parameter(s). Use this estimate with caution and run a longer chain!\n",
      "N/50 = 2;\n",
      "tau: [ 8.65487923  7.75343518 12.38743766]\n"
     ]
    },
    {
     "name": "stderr",
     "output_type": "stream",
     "text": [
      "100%|██████████| 100/100 [00:06<00:00, 16.00it/s]\n"
     ]
    },
    {
     "name": "stdout",
     "output_type": "stream",
     "text": [
      "The chain is shorter than 50 times the integrated autocorrelation time for 3 parameter(s). Use this estimate with caution and run a longer chain!\n",
      "N/50 = 2;\n",
      "tau: [ 7.55292451  7.69449442 12.10594809]\n"
     ]
    },
    {
     "name": "stderr",
     "output_type": "stream",
     "text": [
      "100%|██████████| 100/100 [00:06<00:00, 16.28it/s]\n"
     ]
    },
    {
     "name": "stdout",
     "output_type": "stream",
     "text": [
      "The chain is shorter than 50 times the integrated autocorrelation time for 3 parameter(s). Use this estimate with caution and run a longer chain!\n",
      "N/50 = 2;\n",
      "tau: [ 8.04282952  7.37127871 12.13282198]\n"
     ]
    },
    {
     "name": "stderr",
     "output_type": "stream",
     "text": [
      "100%|██████████| 100/100 [00:06<00:00, 16.66it/s]\n"
     ]
    },
    {
     "name": "stdout",
     "output_type": "stream",
     "text": [
      "The chain is shorter than 50 times the integrated autocorrelation time for 3 parameter(s). Use this estimate with caution and run a longer chain!\n",
      "N/50 = 2;\n",
      "tau: [ 8.36250383  7.52149826 10.99644023]\n"
     ]
    },
    {
     "name": "stderr",
     "output_type": "stream",
     "text": [
      "100%|██████████| 100/100 [00:05<00:00, 16.69it/s]\n"
     ]
    },
    {
     "name": "stdout",
     "output_type": "stream",
     "text": [
      "The chain is shorter than 50 times the integrated autocorrelation time for 3 parameter(s). Use this estimate with caution and run a longer chain!\n",
      "N/50 = 2;\n",
      "tau: [ 8.64153402  7.2853235  11.91333999]\n"
     ]
    },
    {
     "name": "stderr",
     "output_type": "stream",
     "text": [
      "100%|██████████| 100/100 [00:06<00:00, 16.63it/s]\n"
     ]
    },
    {
     "name": "stdout",
     "output_type": "stream",
     "text": [
      "The chain is shorter than 50 times the integrated autocorrelation time for 3 parameter(s). Use this estimate with caution and run a longer chain!\n",
      "N/50 = 2;\n",
      "tau: [ 8.1318812   7.4958575  11.40704203]\n"
     ]
    },
    {
     "name": "stderr",
     "output_type": "stream",
     "text": [
      "100%|██████████| 100/100 [00:06<00:00, 16.19it/s]\n"
     ]
    },
    {
     "name": "stdout",
     "output_type": "stream",
     "text": [
      "The chain is shorter than 50 times the integrated autocorrelation time for 3 parameter(s). Use this estimate with caution and run a longer chain!\n",
      "N/50 = 2;\n",
      "tau: [ 8.6892904   7.95298628 10.8408025 ]\n"
     ]
    },
    {
     "name": "stderr",
     "output_type": "stream",
     "text": [
      "100%|██████████| 100/100 [00:06<00:00, 15.74it/s]\n"
     ]
    },
    {
     "name": "stdout",
     "output_type": "stream",
     "text": [
      "The chain is shorter than 50 times the integrated autocorrelation time for 3 parameter(s). Use this estimate with caution and run a longer chain!\n",
      "N/50 = 2;\n",
      "tau: [ 7.83699517  7.92134105 11.47183724]\n"
     ]
    },
    {
     "name": "stderr",
     "output_type": "stream",
     "text": [
      "100%|██████████| 100/100 [00:06<00:00, 15.13it/s]\n"
     ]
    },
    {
     "name": "stdout",
     "output_type": "stream",
     "text": [
      "The chain is shorter than 50 times the integrated autocorrelation time for 3 parameter(s). Use this estimate with caution and run a longer chain!\n",
      "N/50 = 2;\n",
      "tau: [ 8.42717572  8.02400619 11.79374237]\n"
     ]
    },
    {
     "name": "stderr",
     "output_type": "stream",
     "text": [
      "100%|██████████| 100/100 [00:06<00:00, 14.66it/s]\n"
     ]
    },
    {
     "name": "stdout",
     "output_type": "stream",
     "text": [
      "The chain is shorter than 50 times the integrated autocorrelation time for 3 parameter(s). Use this estimate with caution and run a longer chain!\n",
      "N/50 = 2;\n",
      "tau: [ 8.17576169  7.92146149 11.84673694]\n"
     ]
    },
    {
     "name": "stderr",
     "output_type": "stream",
     "text": [
      "100%|██████████| 100/100 [00:06<00:00, 15.62it/s]\n"
     ]
    },
    {
     "name": "stdout",
     "output_type": "stream",
     "text": [
      "The chain is shorter than 50 times the integrated autocorrelation time for 3 parameter(s). Use this estimate with caution and run a longer chain!\n",
      "N/50 = 2;\n",
      "tau: [ 8.57087625  7.72460825 11.19672727]\n"
     ]
    },
    {
     "name": "stderr",
     "output_type": "stream",
     "text": [
      "100%|██████████| 100/100 [00:06<00:00, 16.19it/s]\n"
     ]
    },
    {
     "name": "stdout",
     "output_type": "stream",
     "text": [
      "The chain is shorter than 50 times the integrated autocorrelation time for 3 parameter(s). Use this estimate with caution and run a longer chain!\n",
      "N/50 = 2;\n",
      "tau: [ 8.58489003  8.02894782 11.58499125]\n"
     ]
    },
    {
     "name": "stderr",
     "output_type": "stream",
     "text": [
      "100%|██████████| 100/100 [00:06<00:00, 15.60it/s]\n"
     ]
    },
    {
     "name": "stdout",
     "output_type": "stream",
     "text": [
      "The chain is shorter than 50 times the integrated autocorrelation time for 3 parameter(s). Use this estimate with caution and run a longer chain!\n",
      "N/50 = 2;\n",
      "tau: [ 8.20335217  7.64363694 11.99430796]\n"
     ]
    },
    {
     "name": "stderr",
     "output_type": "stream",
     "text": [
      "100%|██████████| 100/100 [00:06<00:00, 14.96it/s]\n"
     ]
    },
    {
     "name": "stdout",
     "output_type": "stream",
     "text": [
      "The chain is shorter than 50 times the integrated autocorrelation time for 3 parameter(s). Use this estimate with caution and run a longer chain!\n",
      "N/50 = 2;\n",
      "tau: [ 9.44648975  9.16387146 12.73435247]\n"
     ]
    },
    {
     "name": "stderr",
     "output_type": "stream",
     "text": [
      "100%|██████████| 100/100 [00:06<00:00, 16.33it/s]\n"
     ]
    },
    {
     "name": "stdout",
     "output_type": "stream",
     "text": [
      "The chain is shorter than 50 times the integrated autocorrelation time for 3 parameter(s). Use this estimate with caution and run a longer chain!\n",
      "N/50 = 2;\n",
      "tau: [ 8.16975512  8.4137848  12.36640951]\n"
     ]
    },
    {
     "name": "stderr",
     "output_type": "stream",
     "text": [
      "100%|██████████| 100/100 [00:06<00:00, 16.05it/s]\n"
     ]
    },
    {
     "name": "stdout",
     "output_type": "stream",
     "text": [
      "The chain is shorter than 50 times the integrated autocorrelation time for 2 parameter(s). Use this estimate with caution and run a longer chain!\n",
      "N/50 = 2;\n",
      "tau: [ 7.58627939 12.32036652]\n"
     ]
    },
    {
     "name": "stderr",
     "output_type": "stream",
     "text": [
      "100%|██████████| 100/100 [00:06<00:00, 15.49it/s]\n"
     ]
    },
    {
     "name": "stdout",
     "output_type": "stream",
     "text": [
      "The chain is shorter than 50 times the integrated autocorrelation time for 3 parameter(s). Use this estimate with caution and run a longer chain!\n",
      "N/50 = 2;\n",
      "tau: [ 9.12438727  8.12572544 11.96598381]\n"
     ]
    },
    {
     "name": "stderr",
     "output_type": "stream",
     "text": [
      "100%|██████████| 100/100 [00:05<00:00, 17.35it/s]\n"
     ]
    },
    {
     "name": "stdout",
     "output_type": "stream",
     "text": [
      "The chain is shorter than 50 times the integrated autocorrelation time for 3 parameter(s). Use this estimate with caution and run a longer chain!\n",
      "N/50 = 2;\n",
      "tau: [ 9.09512246  7.66229385 11.75567401]\n"
     ]
    },
    {
     "name": "stderr",
     "output_type": "stream",
     "text": [
      "100%|██████████| 100/100 [00:05<00:00, 16.96it/s]\n"
     ]
    },
    {
     "name": "stdout",
     "output_type": "stream",
     "text": [
      "The chain is shorter than 50 times the integrated autocorrelation time for 3 parameter(s). Use this estimate with caution and run a longer chain!\n",
      "N/50 = 2;\n",
      "tau: [ 7.94064132  7.59996839 10.24378629]\n"
     ]
    },
    {
     "name": "stderr",
     "output_type": "stream",
     "text": [
      "100%|██████████| 100/100 [00:06<00:00, 16.66it/s]\n"
     ]
    },
    {
     "name": "stdout",
     "output_type": "stream",
     "text": [
      "The chain is shorter than 50 times the integrated autocorrelation time for 3 parameter(s). Use this estimate with caution and run a longer chain!\n",
      "N/50 = 2;\n",
      "tau: [ 8.37320509  8.29584432 11.71168158]\n"
     ]
    },
    {
     "name": "stderr",
     "output_type": "stream",
     "text": [
      "100%|██████████| 100/100 [00:06<00:00, 15.32it/s]\n"
     ]
    },
    {
     "name": "stdout",
     "output_type": "stream",
     "text": [
      "The chain is shorter than 50 times the integrated autocorrelation time for 3 parameter(s). Use this estimate with caution and run a longer chain!\n",
      "N/50 = 2;\n",
      "tau: [ 7.89816753  8.19826455 12.15041894]\n"
     ]
    },
    {
     "name": "stderr",
     "output_type": "stream",
     "text": [
      "100%|██████████| 100/100 [00:06<00:00, 15.81it/s]\n"
     ]
    },
    {
     "name": "stdout",
     "output_type": "stream",
     "text": [
      "The chain is shorter than 50 times the integrated autocorrelation time for 3 parameter(s). Use this estimate with caution and run a longer chain!\n",
      "N/50 = 2;\n",
      "tau: [ 8.35650699  8.04855087 12.03489441]\n"
     ]
    },
    {
     "name": "stderr",
     "output_type": "stream",
     "text": [
      "100%|██████████| 100/100 [00:06<00:00, 15.27it/s]\n"
     ]
    },
    {
     "name": "stdout",
     "output_type": "stream",
     "text": [
      "The chain is shorter than 50 times the integrated autocorrelation time for 3 parameter(s). Use this estimate with caution and run a longer chain!\n",
      "N/50 = 2;\n",
      "tau: [ 8.75169814  8.14987649 11.89495049]\n"
     ]
    },
    {
     "name": "stderr",
     "output_type": "stream",
     "text": [
      "  0%|          | 0/100 [00:00<?, ?it/s]/Users/transcend/opt/anaconda3/lib/python3.8/site-packages/emcee/moves/red_blue.py:99: RuntimeWarning: invalid value encountered in double_scalars\n",
      "  lnpdiff = f + nlp - state.log_prob[j]\n",
      "100%|██████████| 100/100 [00:05<00:00, 18.50it/s]\n"
     ]
    },
    {
     "name": "stdout",
     "output_type": "stream",
     "text": [
      "The chain is shorter than 50 times the integrated autocorrelation time for 3 parameter(s). Use this estimate with caution and run a longer chain!\n",
      "N/50 = 2;\n",
      "tau: [10.50954873 11.75792923 10.56783524]\n"
     ]
    },
    {
     "name": "stderr",
     "output_type": "stream",
     "text": [
      "  0%|          | 0/100 [00:00<?, ?it/s]/Users/transcend/opt/anaconda3/lib/python3.8/site-packages/emcee/moves/red_blue.py:99: RuntimeWarning: invalid value encountered in double_scalars\n",
      "  lnpdiff = f + nlp - state.log_prob[j]\n",
      "100%|██████████| 100/100 [00:05<00:00, 18.91it/s]\n"
     ]
    },
    {
     "name": "stdout",
     "output_type": "stream",
     "text": [
      "The chain is shorter than 50 times the integrated autocorrelation time for 3 parameter(s). Use this estimate with caution and run a longer chain!\n",
      "N/50 = 2;\n",
      "tau: [10.51256105 11.86078077 11.73297654]\n"
     ]
    },
    {
     "name": "stderr",
     "output_type": "stream",
     "text": [
      "100%|██████████| 100/100 [00:05<00:00, 16.98it/s]\n"
     ]
    },
    {
     "name": "stdout",
     "output_type": "stream",
     "text": [
      "The chain is shorter than 50 times the integrated autocorrelation time for 3 parameter(s). Use this estimate with caution and run a longer chain!\n",
      "N/50 = 2;\n",
      "tau: [ 9.63856098  9.3147907  12.47789743]\n"
     ]
    },
    {
     "name": "stderr",
     "output_type": "stream",
     "text": [
      "  0%|          | 0/100 [00:00<?, ?it/s]/Users/transcend/opt/anaconda3/lib/python3.8/site-packages/emcee/moves/red_blue.py:99: RuntimeWarning: invalid value encountered in double_scalars\n",
      "  lnpdiff = f + nlp - state.log_prob[j]\n",
      "100%|██████████| 100/100 [00:05<00:00, 18.09it/s]\n"
     ]
    },
    {
     "name": "stdout",
     "output_type": "stream",
     "text": [
      "The chain is shorter than 50 times the integrated autocorrelation time for 2 parameter(s). Use this estimate with caution and run a longer chain!\n",
      "N/50 = 2;\n",
      "tau: [11.34886614 11.57763921]\n"
     ]
    },
    {
     "name": "stderr",
     "output_type": "stream",
     "text": [
      "  0%|          | 0/100 [00:00<?, ?it/s]/Users/transcend/opt/anaconda3/lib/python3.8/site-packages/emcee/moves/red_blue.py:99: RuntimeWarning: invalid value encountered in double_scalars\n",
      "  lnpdiff = f + nlp - state.log_prob[j]\n",
      "100%|██████████| 100/100 [00:05<00:00, 18.47it/s]\n"
     ]
    },
    {
     "name": "stdout",
     "output_type": "stream",
     "text": [
      "The chain is shorter than 50 times the integrated autocorrelation time for 2 parameter(s). Use this estimate with caution and run a longer chain!\n",
      "N/50 = 2;\n",
      "tau: [10.9769285  12.30906926]\n"
     ]
    },
    {
     "name": "stderr",
     "output_type": "stream",
     "text": [
      "100%|██████████| 100/100 [00:06<00:00, 16.22it/s]\n"
     ]
    },
    {
     "name": "stdout",
     "output_type": "stream",
     "text": [
      "The chain is shorter than 50 times the integrated autocorrelation time for 2 parameter(s). Use this estimate with caution and run a longer chain!\n",
      "N/50 = 2;\n",
      "tau: [ 7.55731675 12.62455026]\n"
     ]
    },
    {
     "name": "stderr",
     "output_type": "stream",
     "text": [
      "100%|██████████| 100/100 [00:06<00:00, 16.56it/s]\n"
     ]
    },
    {
     "name": "stdout",
     "output_type": "stream",
     "text": [
      "The chain is shorter than 50 times the integrated autocorrelation time for 2 parameter(s). Use this estimate with caution and run a longer chain!\n",
      "N/50 = 2;\n",
      "tau: [ 7.61907434 12.60049391]\n"
     ]
    },
    {
     "name": "stderr",
     "output_type": "stream",
     "text": [
      "100%|██████████| 100/100 [00:05<00:00, 16.75it/s]\n"
     ]
    },
    {
     "name": "stdout",
     "output_type": "stream",
     "text": [
      "The chain is shorter than 50 times the integrated autocorrelation time for 2 parameter(s). Use this estimate with caution and run a longer chain!\n",
      "N/50 = 2;\n",
      "tau: [ 7.77126116 12.41468197]\n"
     ]
    },
    {
     "name": "stderr",
     "output_type": "stream",
     "text": [
      "100%|██████████| 100/100 [00:06<00:00, 15.97it/s]\n"
     ]
    },
    {
     "name": "stdout",
     "output_type": "stream",
     "text": [
      "The chain is shorter than 50 times the integrated autocorrelation time for 3 parameter(s). Use this estimate with caution and run a longer chain!\n",
      "N/50 = 2;\n",
      "tau: [ 8.30434168  8.21454215 12.20949204]\n"
     ]
    },
    {
     "name": "stderr",
     "output_type": "stream",
     "text": [
      "100%|██████████| 100/100 [00:05<00:00, 18.33it/s]\n"
     ]
    },
    {
     "name": "stdout",
     "output_type": "stream",
     "text": [
      "The chain is shorter than 50 times the integrated autocorrelation time for 3 parameter(s). Use this estimate with caution and run a longer chain!\n",
      "N/50 = 2;\n",
      "tau: [ 8.54884969  8.01172971 11.20009147]\n"
     ]
    },
    {
     "name": "stderr",
     "output_type": "stream",
     "text": [
      "100%|██████████| 100/100 [00:05<00:00, 18.92it/s]\n"
     ]
    },
    {
     "name": "stdout",
     "output_type": "stream",
     "text": [
      "The chain is shorter than 50 times the integrated autocorrelation time for 3 parameter(s). Use this estimate with caution and run a longer chain!\n",
      "N/50 = 2;\n",
      "tau: [10.22388618  8.5271564  10.47396329]\n"
     ]
    },
    {
     "name": "stderr",
     "output_type": "stream",
     "text": [
      "100%|██████████| 100/100 [00:05<00:00, 18.64it/s]\n"
     ]
    },
    {
     "name": "stdout",
     "output_type": "stream",
     "text": [
      "The chain is shorter than 50 times the integrated autocorrelation time for 3 parameter(s). Use this estimate with caution and run a longer chain!\n",
      "N/50 = 2;\n",
      "tau: [ 9.0686075   8.42116222 11.33048777]\n"
     ]
    },
    {
     "name": "stderr",
     "output_type": "stream",
     "text": [
      "100%|██████████| 100/100 [00:05<00:00, 17.39it/s]\n"
     ]
    },
    {
     "name": "stdout",
     "output_type": "stream",
     "text": [
      "The chain is shorter than 50 times the integrated autocorrelation time for 3 parameter(s). Use this estimate with caution and run a longer chain!\n",
      "N/50 = 2;\n",
      "tau: [ 8.53292619  7.93027681 11.7270107 ]\n"
     ]
    },
    {
     "name": "stderr",
     "output_type": "stream",
     "text": [
      "100%|██████████| 100/100 [00:05<00:00, 18.12it/s]\n"
     ]
    },
    {
     "name": "stdout",
     "output_type": "stream",
     "text": [
      "The chain is shorter than 50 times the integrated autocorrelation time for 3 parameter(s). Use this estimate with caution and run a longer chain!\n",
      "N/50 = 2;\n",
      "tau: [ 8.27976993  7.52133048 12.06272525]\n"
     ]
    },
    {
     "name": "stderr",
     "output_type": "stream",
     "text": [
      "  0%|          | 0/100 [00:00<?, ?it/s]/Users/transcend/opt/anaconda3/lib/python3.8/site-packages/emcee/moves/red_blue.py:99: RuntimeWarning: invalid value encountered in double_scalars\n",
      "  lnpdiff = f + nlp - state.log_prob[j]\n",
      "100%|██████████| 100/100 [00:05<00:00, 18.04it/s]\n"
     ]
    },
    {
     "name": "stdout",
     "output_type": "stream",
     "text": [
      "The chain is shorter than 50 times the integrated autocorrelation time for 3 parameter(s). Use this estimate with caution and run a longer chain!\n",
      "N/50 = 2;\n",
      "tau: [10.64136031 11.85151394 11.47112394]\n"
     ]
    }
   ],
   "source": [
    "sbcmodel = Model(sbc)\n",
    "xs = np.logspace(0, 3.5, 200)\n",
    "\n",
    "params_df = pd.DataFrame()\n",
    "\n",
    "ptiles = range(0,101)\n",
    "ptiles_df = pd.DataFrame()\n",
    "\n",
    "for tgt, tgtgrp in fdf.groupby('TgtName'):\n",
    "\n",
    "    tgtgrp = tgtgrp.loc[(tgtgrp['Free_nM']>0)&(tgtgrp['Complex']>0)] \n",
    "    xd, yd = (tgtgrp['Free_nM'], tgtgrp['Mean_occupancy']) \n",
    "\n",
    "    params = []\n",
    "\n",
    "    params = sbcmodel.make_params(a=1.0, lk=2)\n",
    "    params['a'].min = 0\n",
    "    params['a'].max = 7\n",
    "    if tgt in ['W1XXXX','W2XXXX','W3XXXX','W4XXXX','W5XXXX','M4XXXX']: # These are the very-weak targets that don't saturate in binding, so fix Bmax value\n",
    "        params['a'].vary = False\n",
    "    params['lk'].min = 0\n",
    "    params['lk'].max = 4\n",
    "\n",
    "    result = sbcmodel.fit(yd, params, x=xd)\n",
    "\n",
    "    emcee_kws = dict(steps=10000, burn=300, thin=10, is_weighted=False, progress=True)\n",
    "    emcee_params = result.params.copy()\n",
    "    emcee_params['a'].max = result.params['a']*1.75\n",
    "    result_emcee = sbcmodel.fit(yd, emcee_params, x=xd, method='emcee', fit_kws=emcee_kws)\n",
    "    result_emcee.col_deriv = None # lmfit has a bug and fails to set this parameter. The model can't be saved without it being set!\n",
    "\n",
    "    rps = result_emcee.params \n",
    "    np.savetxt(os.path.join(path,'{}_flatchain_sbc.csv'.format(tgt)), result_emcee.flatchain, delimiter=',') #save chain\n",
    "    lm.model.save_modelresult(rps, (os.path.join(path,'{}_fitresult_sbc.model'.format(tgt)))) #save model results\n",
    "\n",
    "    d = result_emcee.params.valuesdict()\n",
    "    d['tgt'] = tgt\n",
    "\n",
    "    paramsCalcRsq = []\n",
    "\n",
    "    # workaround with lmfit, to obtain Rsq value\n",
    "    paramsCalcRsq = sbcmodel.make_params(a=rps['a'].value,lk=rps['lk'].value)\n",
    "    paramsCalcRsq['a'].vary=False\n",
    "    paramsCalcRsq['lk'].vary=False\n",
    "    result_fit_report = sbcmodel.fit(yd, paramsCalcRsq, x=xd)\n",
    "\n",
    "    Rsq = 1 - result_fit_report.residual.var() / np.var(yd)  # Manually calculate the r-squared value\n",
    "\n",
    "    params_df = pd.concat([params_df, pd.DataFrame(d, index=[0])])\n",
    "\n",
    "    #create a dataframe of percentiles of parameter values\n",
    "    pp = result_emcee.flatchain.apply(np.percentile, args=[ptiles])\n",
    "    pp['tgt'] = tgt\n",
    "    pp['ptile'] = ptiles     \n",
    "    ptiles_df = pd.concat([ptiles_df, pp])\n",
    "\n",
    "    fig = plt.figure(figsize=(4,6))\n",
    "    gs = fig.add_gridspec(2, 1)\n",
    "    ax1 = fig.add_subplot(gs[0,0])\n",
    "    ax2 = fig.add_subplot(gs[1,0])\n",
    "    ax1.plot(xs, result.eval(params=result_emcee.params, x=xs))\n",
    "    ax1.plot(xd, yd, 'k.') \n",
    "    result_emcee.plot_residuals(ax=ax2) \n",
    "\n",
    "    for ax in (ax1, ax2):\n",
    "        ax.set_xscale('log')\n",
    "        ax.set_xlim([1e0, 1.5e4])\n",
    "    ax2.set_xlabel('Free TF (nM)')\n",
    "    ax1.set_ylabel('<N>, Mean Occupancy')\n",
    "    ax2.set_ylabel('Residual')\n",
    "\n",
    "    ax1.set_title(\"{} R\\u00b2={:.2f}\\na={:.2f} | k={:.2f}\".format(tgt, Rsq, rps['a'].value, 10**rps['lk'].value))\n",
    "    ax2.set_title(None)\n",
    "    plt.tight_layout()\n",
    "    plt.savefig(os.path.join(path,\"{}_fit_sbc.png\".format(tgt)), dpi=200)\n",
    "#     plt.show()\n",
    "\n",
    "    plt.clf()\n",
    "    plt.close('all')\n",
    "\n",
    "params_df.reset_index(drop=True, inplace=True)\n",
    "params_df.set_index('tgt', drop=True, inplace=True)\n",
    "params_df['k'] = 10**params_df['lk']\n",
    "params_df.to_csv(os.path.join(path,'fit_params_sbc.csv'))\n",
    "ptiles_df = ptiles_df.set_index(['tgt', 'ptile'])\n",
    "ptiles_df['k'] = 10**ptiles_df['lk']\n",
    "ptiles_df.to_csv(os.path.join(path,'fit_params_percentiles_sbc.csv'))"
   ]
  },
  {
   "cell_type": "markdown",
   "metadata": {},
   "source": [
    "#### SBC: Update the fit plots to include a sampling of the posterior distribution"
   ]
  },
  {
   "cell_type": "code",
   "execution_count": 27,
   "metadata": {},
   "outputs": [],
   "source": [
    "# Sample the flatchain and produce and return simulated results\n",
    "def eval_samples(flatchain, model, x, N):\n",
    "    \n",
    "    fc = flatchain\n",
    "    \n",
    "    results = np.zeros([len(x), N])\n",
    "    params_all = []\n",
    "    inds = np.random.randint(low=int(0.1*len(fc)), high=len(fc), size=N)\n",
    "    for i,ind in enumerate(inds):\n",
    "        sample = fc[ind]\n",
    "        params_all.append(sample)\n",
    "        params = lm.Parameters() \n",
    "        if len(sample) == 3:\n",
    "            params.add_many(('a', sample[0]), ('lk', sample[1]), ('_lnsigma', sample[2])) \n",
    "        elif len(sample) == 2: \n",
    "            params.add_many(('a', sample[0]), ('lk', sample[1]))\n",
    "        results[:, i] = model.eval(x=x, params=params) \n",
    "    return {'sims': results, 'params': np.array(params_all)}"
   ]
  },
  {
   "cell_type": "code",
   "execution_count": 28,
   "metadata": {
    "collapsed": true,
    "jupyter": {
     "outputs_hidden": true
    },
    "tags": []
   },
   "outputs": [
    {
     "name": "stdout",
     "output_type": "stream",
     "text": [
      "M1M2M3M4M5\n",
      "M1M2M3M4X\n",
      "M1M2M3XX\n",
      "M1M2XXX\n",
      "M1X(1)M2XX\n",
      "M1X(10)M2XX\n",
      "M1X(11)M2XX\n",
      "M1X(2)M2XX\n",
      "M1X(3)M2XX\n",
      "M1X(4)M2XX\n",
      "M1X(5)M2XX\n",
      "M1X(6)M2XX\n",
      "M1X(7)M2XX\n",
      "M1X(8)M2XX\n",
      "M1X(9)M2XX\n",
      "M1XM2XX\n",
      "M1XM3XM5\n",
      "M1XXM2X\n",
      "M1XXXM2\n",
      "M1XXXX\n",
      "M2XXXX\n",
      "M3XXXX\n",
      "M4XXXX\n",
      "M5XXXX\n",
      "M6XXXX\n",
      "NO-TEMPLATE\n",
      "S1XXXX\n",
      "S2XXXX\n",
      "W1W2W3W4W5\n",
      "W1W2W3W4X\n",
      "W1W2W3XX\n",
      "W1W2XXX\n",
      "W1XW3XW5\n",
      "W1XXXX\n",
      "W2XXXX\n",
      "W3XXXX\n",
      "W4XXXX\n",
      "W5XXXX\n",
      "XM2XM4X\n",
      "XM6XXX\n",
      "XW2XW4X\n",
      "XXM6XX\n",
      "XXXM6X\n",
      "XXXXM6\n",
      "XXXXX\n"
     ]
    }
   ],
   "source": [
    "def sbc(x, a=1, lk=1):\n",
    "    return a * x / (x + 10**(lk)) \n",
    "\n",
    "xs = np.logspace(-1,5,301)\n",
    "N=300\n",
    "\n",
    "sbcmodel = Model(sbc)\n",
    "\n",
    "params_df = pd.read_csv(os.path.join(path,'fit_params_sbc.csv'), index_col=0)\n",
    "ptiles_df = pd.read_csv(os.path.join(path,'fit_params_percentiles_sbc.csv'), index_col=[0,1])\n",
    "\n",
    "for tgt, tgtgrp in fdf.groupby('TgtName'):\n",
    "\n",
    "    print(tgt)\n",
    "    \n",
    "    tgtgrp = tgtgrp.loc[(tgtgrp['Free_nM']>0)&(tgtgrp['Complex']>0)]\n",
    "    xd, yd = (tgtgrp['Free_nM'], tgtgrp['Mean_occupancy'])\n",
    "\n",
    "    fc = np.loadtxt(os.path.join(path,'{}_flatchain_sbc.csv'.format(tgt)), delimiter=',')\n",
    "\n",
    "    results = eval_samples(fc, sbcmodel, xs, N)\n",
    "    sims = results['sims'] \n",
    "    params = results['params']\n",
    "    lower, upper = np.percentile(sims, [5, 95], axis=1)\n",
    "\n",
    "    np.savetxt(os.path.join(path,'{}_posterior_sims_sbc.csv'.format(tgt)), sims)\n",
    "    np.savetxt(os.path.join(path,'{}_posterior_sim_params_sbc.csv'.format(tgt)), params)\n",
    "\n",
    "    plt.figure(figsize=(5,5))\n",
    "    plt.fill_between(xs, lower, upper, color='gray', alpha=0.3)\n",
    "    plt.plot(xd, yd, '.')\n",
    "\n",
    "    plt.xlim([1e0, 1.5e4])\n",
    "    plt.xscale('log')\n",
    "    plt.xlabel('TF concentration (nM)')\n",
    "    plt.ylabel('<N>, Mean occupancy')\n",
    "    \n",
    "    val_Bmax = params_df.loc[tgt, 'a']\n",
    "    lower_Bmax, upper_Bmax = np.percentile(fc[:,0], [5, 95])\n",
    "    val_k = 10**params_df.loc[tgt, 'lk']\n",
    "    lower_k, upper_k = 10**np.percentile(fc[:,1], [5, 95])\n",
    "    plt.title(\"Zif268 %s \\n$Bmax\\'=%.2f^{+%.2f}_{-%.2f}$, $k=%.1f^{+%.1f}_{-%.1f}$\" % \\\n",
    "        (tgt, val_Bmax, upper_Bmax-val_Bmax, val_Bmax-lower_Bmax,\n",
    "         val_k, upper_k-val_k, val_k-lower_k))\n",
    "    plt.tight_layout()\n",
    "    plt.savefig(os.path.join(path,'{}_fit_samples_sbc.png'.format(tgt)), dpi=200)\n",
    "    plt.clf()\n",
    "    plt.close('all')"
   ]
  },
  {
   "cell_type": "markdown",
   "metadata": {
    "tags": []
   },
   "source": [
    "## Figure 2 multi-site plots"
   ]
  },
  {
   "cell_type": "markdown",
   "metadata": {
    "tags": [],
    "toc-hr-collapsed": true
   },
   "source": [
    "### Multi-weak lib."
   ]
  },
  {
   "cell_type": "code",
   "execution_count": 30,
   "metadata": {},
   "outputs": [
    {
     "name": "stdout",
     "output_type": "stream",
     "text": [
      "M1M2M3M4M5\n",
      "M1M2M3M4X\n",
      "M1M2M3XX\n",
      "M1M2XXX\n",
      "M1XXXX\n",
      "S2XXXX\n",
      "XXXXX\n"
     ]
    },
    {
     "data": {
      "image/png": "[encoded data removed]",
      "text/plain": [
       "<Figure size 360x360 with 1 Axes>"
      ]
     },
     "metadata": {
      "needs_background": "light"
     },
     "output_type": "display_data"
    }
   ],
   "source": [
    "xs = np.logspace(-1,5,301) #note: logspace so -1 = 10^-1 = 1/10\n",
    "N=300\n",
    "cal_factor = 1\n",
    "\n",
    "params_df = pd.read_csv(os.path.join(path,'fit_params_sbc.csv'), index_col=0)\n",
    "ptiles_df = pd.read_csv(os.path.join(path,'fit_params_percentiles_sbc.csv'), index_col=[0,1])\n",
    "\n",
    "tgts = ['M1XXXX','M1M2XXX','M1M2M3XX','M1M2M3M4X','M1M2M3M4M5', 'S2XXXX','XXXXX']\n",
    "labels = ['5 Medium TFBS','4 Medium TFBS','3 Medium TFBS','2 Medium TFBS', '1 Medium TFBS', '1 Strong TFBS','Nonspecific']\n",
    "\n",
    "colors = ['#8F84AE','#8F84AE', '#8F84AE', '#8F84AE', '#8F84AE', '#59AA84','k']\n",
    "i=0\n",
    "\n",
    "plt.figure(figsize=(5,5))\n",
    "\n",
    "for tgt, tgtgrp in fdf.groupby('TgtName'):\n",
    "    \n",
    "    if tgt in tgts:\n",
    "        print(tgt)\n",
    "        \n",
    "        tgtgrp = tgtgrp.loc[(tgtgrp['Free_nM']>0)&(tgtgrp['Complex']>0)]\n",
    "        xd, yd = (tgtgrp['Free_nM'], tgtgrp['Complex'])\n",
    "        \n",
    "        sims = np.loadtxt(os.path.join(path,'{}_posterior_sims_sbc.csv'.format(tgt)))\n",
    "    \n",
    "        lower, upper = np.percentile(sims, [5, 95], axis=1)\n",
    "\n",
    "        plt.fill_between(xs, lower / cal_factor, upper / cal_factor, color=colors[i], alpha=0.9, label=labels[i], zorder=7-i)\n",
    "#         plt.plot(xd, yd / cal_factor, '.', color=colors[i])\n",
    "        \n",
    "        plt.xlim([1e0, 1.5e4])\n",
    "        plt.xscale('log')\n",
    "        plt.xlabel('TF concentration (nM)',fontsize=18)\n",
    "        plt.ylabel(r\"$\\langle$\"+ \"N\"+ r\"$\\rangle$\"+', Mean occupancy',fontsize=18)\n",
    "        plt.tight_layout()\n",
    "        plt.xticks(fontsize=16)\n",
    "        plt.yticks(fontsize=16)\n",
    "        \n",
    "        i=i+1\n",
    "        \n",
    "# plt.legend(loc = 'upper left')\n",
    "plt.savefig(os.path.join(dir1,dir2,'plots','multi_site_plot_SBC_woLegend.svg'.format(tgt)), dpi=300)\n",
    "plt.savefig(os.path.join(dir1,dir2,'plots','multi_site_plot_SBC_woLegend.jpg'.format(tgt)), dpi=300)\n",
    "plt.savefig(os.path.join(dir1,dir2,'plots','multi_site_plot_SBC_woLegend.png'.format(tgt)), dpi=300)"
   ]
  },
  {
   "cell_type": "markdown",
   "metadata": {
    "tags": []
   },
   "source": [
    "### Multi- very-weak lib"
   ]
  },
  {
   "cell_type": "code",
   "execution_count": 31,
   "metadata": {},
   "outputs": [
    {
     "name": "stdout",
     "output_type": "stream",
     "text": [
      "M1M2M3M4M5\n",
      "S2XXXX\n",
      "W1W2W3W4W5\n",
      "XXXXX\n"
     ]
    },
    {
     "data": {
      "image/png": "[encoded data removed]",
      "text/plain": [
       "<Figure size 360x360 with 1 Axes>"
      ]
     },
     "metadata": {
      "needs_background": "light"
     },
     "output_type": "display_data"
    }
   ],
   "source": [
    "xs = np.logspace(-1,5,301)\n",
    "N=300\n",
    "cal_factor = 1\n",
    "\n",
    "params_df = pd.read_csv(os.path.join(path,'fit_params_sbc.csv'), index_col=0)\n",
    "ptiles_df = pd.read_csv(os.path.join(path,'fit_params_percentiles_sbc.csv'), index_col=[0,1])\n",
    "\n",
    "tgts = ['M1M2M3M4M5', 'S2XXXX', 'W1W2W3W4W5','XXXXX']\n",
    "labels = ['5 Medium TFBS','1 Strong TFBS','5 Weak TFBS','Nonspecific']\n",
    "\n",
    "colors = ['#8F84AE','#59AA84', '#AA765B','k']\n",
    "i=0\n",
    "\n",
    "plt.figure(figsize=(5,5))\n",
    "\n",
    "for tgt, tgtgrp in fdf.groupby('TgtName'):\n",
    "    \n",
    "    if tgt in tgts:\n",
    "        print(tgt)\n",
    "        \n",
    "        tgtgrp = tgtgrp.loc[(tgtgrp['Free_nM']>0)&(tgtgrp['Complex']>0)]\n",
    "        xd, yd = (tgtgrp['Free_nM'], tgtgrp['Complex'])\n",
    "        \n",
    "        sims = np.loadtxt(os.path.join(path,'{}_posterior_sims_sbc.csv'.format(tgt)))\n",
    "    \n",
    "        lower, upper = np.percentile(sims, [5, 95], axis=1)\n",
    "\n",
    "        plt.fill_between(xs, lower / cal_factor, upper / cal_factor, color=colors[i], alpha=0.9, label=labels[i], zorder=4-i)\n",
    "#         plt.plot(xd, yd / cal_factor, '.', color=colors[i])\n",
    "        \n",
    "        plt.xlim([1e0, 1.5e4])\n",
    "        plt.xscale('log')\n",
    "        plt.xlabel('TF concentration (nM)',fontsize=18)\n",
    "        plt.ylabel(r\"$\\langle$\"+ \"N\"+ r\"$\\rangle$\"+', Mean occupancy',fontsize=18)\n",
    "        plt.tight_layout()\n",
    "        plt.xticks(fontsize=16)\n",
    "        plt.yticks(fontsize=16)\n",
    "        \n",
    "        i=i+1\n",
    "    \n",
    "# plt.legend(loc = 'upper left')\n",
    "plt.savefig(os.path.join(dir1,dir2,'plots','multi_site_plot_withWeak_SBC_woLegend.png'.format(tgt)), dpi=300)\n",
    "plt.savefig(os.path.join(dir1,dir2,'plots','multi_site_plot_withWeak_SBC_woLegend.svg'.format(tgt)), dpi=300)\n",
    "plt.savefig(os.path.join(dir1,dir2,'plots','multi_site_plot_withWeak_SBC_woLegend.jpg'.format(tgt)), dpi=300)"
   ]
  },
  {
   "cell_type": "markdown",
   "metadata": {
    "tags": [],
    "toc-hr-collapsed": true
   },
   "source": [
    "### Calculate crosspoints"
   ]
  },
  {
   "cell_type": "code",
   "execution_count": 32,
   "metadata": {},
   "outputs": [],
   "source": [
    "def calculate_crosspoints_SBC(tgtlist, strong_tgtname, params_df, directory='', subdirectory=''):\n",
    "    \"\"\"\n",
    "    this method takes as input a params_df, as well as a list of targets, and the target name for which\n",
    "    to calculate cross points against. It assumes that the fitting was done using a saturation binding curve\n",
    "    model: Y = Bmax * x/(x+Kd)\n",
    "    \n",
    "    \n",
    "    \"\"\"\n",
    "    Bmax_s = params_df.loc[strong_tgtname,'a']\n",
    "    Kd_s = 10**params_df.loc[strong_tgtname,'lk']\n",
    "    \n",
    "    Bmax_tgts = params_df.loc[tgtlist,'a'].values\n",
    "    Kd_tgts = 10**params_df.loc[tgtlist,'lk'].values\n",
    "    \n",
    "    crosspoints = []\n",
    "    \n",
    "    for i in range(len(tgtlist)):\n",
    "        x = Symbol('x')\n",
    "        \n",
    "        eqn = Bmax_s*x/(x+Kd_s) - Bmax_tgts[i]*x/(x+Kd_tgts[i])\n",
    "        crosspoints.append(solve(eqn, x)[1][0])\n",
    "    \n",
    "    return crosspoints"
   ]
  },
  {
   "cell_type": "code",
   "execution_count": 33,
   "metadata": {},
   "outputs": [],
   "source": [
    "params_df = pd.read_csv(os.path.join(path,'fit_params_sbc.csv'), index_col=0)\n",
    "ptiles_df = pd.read_csv(os.path.join(path,'fit_params_percentiles_sbc.csv'), index_col=[0,1])\n",
    "\n",
    "ptiles_df['kd']=10**ptiles_df.loc[:,'lk']\n",
    "\n",
    "tgts = ['M1M2XXX','M1M2M3XX','M1M2M3M4X','M1M2M3M4M5','W1W2W3W4W5']\n",
    "strongtgt = ['S2XXXX']\n",
    "\n",
    "crosspoints = calculate_crosspoints_SBC(tgtlist=tgts, strong_tgtname=strongtgt, params_df=params_df)\n",
    "xd = range(2,len(tgts)+2)\n",
    "\n",
    "crosspointsdf = pd.DataFrame({'crosspoint': crosspoints}, index=tgts)\n",
    "\n",
    "crosspointsdf.to_csv(os.path.join(path,'crosspoints.csv'))"
   ]
  }
 ],
 "metadata": {
  "kernelspec": {
   "display_name": "Python 3",
   "language": "python",
   "name": "python3"
  },
  "language_info": {
   "codemirror_mode": {
    "name": "ipython",
    "version": 3
   },
   "file_extension": ".py",
   "mimetype": "text/x-python",
   "name": "python",
   "nbconvert_exporter": "python",
   "pygments_lexer": "ipython3",
   "version": "3.8.10"
  },
  "toc-autonumbering": false,
  "toc-showcode": false,
  "toc-showmarkdowntxt": false,
  "toc-showtags": false
 },
 "nbformat": 4,
 "nbformat_minor": 4
}
