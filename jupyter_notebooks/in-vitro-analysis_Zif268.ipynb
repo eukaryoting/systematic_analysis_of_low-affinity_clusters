{
 "cells": [
  {
   "cell_type": "markdown",
   "metadata": {
    "tags": []
   },
   "source": [
    "# Setup"
   ]
  },
  {
   "cell_type": "markdown",
   "metadata": {
    "tags": [],
    "toc-hr-collapsed": true
   },
   "source": [
    "#### Set the working directory to ../systematic-clusters-analysis_shahein-et.al"
   ]
  },
  {
   "cell_type": "code",
   "execution_count": 4,
   "metadata": {
    "tags": []
   },
   "outputs": [
    {
     "name": "stdout",
     "output_type": "stream",
     "text": [
      "/Users/transcend/SynologyDrive/python_analysis/systematic-clusters-analysis_shahein-et.al\n"
     ]
    }
   ],
   "source": [
    "%cd \"../\""
   ]
  },
  {
   "cell_type": "markdown",
   "metadata": {
    "tags": [],
    "toc-hr-collapsed": true
   },
   "source": [
    "#### Import"
   ]
  },
  {
   "cell_type": "code",
   "execution_count": 1,
   "metadata": {
    "tags": []
   },
   "outputs": [],
   "source": [
    "import xlrd\n",
    "import json\n",
    "import os\n",
    "import pickle\n",
    "import emcee\n",
    "import corner\n",
    "\n",
    "import numpy as np\n",
    "import pandas as pd\n",
    "import matplotlib\n",
    "import matplotlib.pyplot as plt\n",
    "import seaborn as sns\n",
    "\n",
    "import lmfit as lm\n",
    "from lmfit import Model, fit_report\n",
    "\n",
    "from more_itertools import powerset\n",
    "from sympy.solvers import solve\n",
    "from sympy import Symbol\n",
    "\n",
    "from matplotlib.ticker import FixedLocator, FormatStrFormatter, LogFormatter\n",
    "\n",
    "matplotlib.rcParams['font.sans-serif'] = \"Arial\" # Say, \"the default sans-serif font is COMIC SANS\"\n",
    "matplotlib.rcParams['font.family'] = \"sans-serif\" # Then, \"ALWAYS use sans-serif fonts\"\n",
    "plt.rcParams['xtick.labelsize']=16\n",
    "plt.rcParams['ytick.labelsize']=16\n",
    "\n",
    "%load_ext blackcellmagic"
   ]
  },
  {
   "cell_type": "code",
   "execution_count": 94,
   "metadata": {
    "tags": []
   },
   "outputs": [
    {
     "name": "stdout",
     "output_type": "stream",
     "text": [
      "xlrd==2.0.1\n",
      "json==2.0.9\n",
      "emcee==3.1.0\n",
      "corner==2.2.1\n",
      "numpy==1.20.2\n",
      "pandas==1.2.5\n",
      "matplotlib==3.3.4\n",
      "seaborn==0.11.1\n",
      "lmfit==1.0.2\n"
     ]
    }
   ],
   "source": [
    "print('\\n'.join(f'{m.__name__}=={m.__version__}' for m in globals().values() if getattr(m, '__version__', None)))"
   ]
  },
  {
   "cell_type": "markdown",
   "metadata": {
    "tags": [],
    "toc-hr-collapsed": true
   },
   "source": [
    "#### Saving and loading functions"
   ]
  },
  {
   "cell_type": "code",
   "execution_count": 2,
   "metadata": {
    "tags": []
   },
   "outputs": [],
   "source": [
    "def save_obj(obj, name ):\n",
    "    with open(name + '.pkl', 'wb') as f:\n",
    "        pickle.dump(obj, f, pickle.HIGHEST_PROTOCOL)\n",
    "\n",
    "def load_obj(name ):\n",
    "    with open(name + '.pkl', 'rb') as f:\n",
    "        return pickle.load(f)"
   ]
  },
  {
   "cell_type": "markdown",
   "metadata": {
    "tags": []
   },
   "source": [
    "## Load and process data, run helper functions and create dictionaries"
   ]
  },
  {
   "cell_type": "code",
   "execution_count": 25,
   "metadata": {
    "tags": []
   },
   "outputs": [
    {
     "name": "stdout",
     "output_type": "stream",
     "text": [
      "      Flags  Column  Row   15a    25a   35a     45a    55b    65a   65b  \\\n",
      "0         0       1    1  2927   6481  3665  3708.0  10937  25204  3710   \n",
      "1         0       2    1  2925   6292  3639  3669.0  11011  24244  3706   \n",
      "2         0       3    1  2928   6469  3671  3696.0  11762  16144  3759   \n",
      "3         0       4    1  2928   6839  3668  3688.0  12597   7313  3748   \n",
      "4         0       5    1  2940  12895  3776  3792.0  11892  15209  3802   \n",
      "...     ...     ...  ...   ...    ...   ...     ...    ...    ...   ...   \n",
      "5371    100      44   16  2870  11473  4768     NaN   4139   5173  4068   \n",
      "5372    100      45   16  2864   8204  5038     NaN   4865   5335  4766   \n",
      "5373      0      46   16  2860   8527  3968     NaN   3858   4342  3757   \n",
      "5374      0      47   16  2855   7943  4011     NaN   3820   4427  3720   \n",
      "5375      0      48   16  2851  12262  4058     NaN   3899   4652  3806   \n",
      "\n",
      "                                                TgtName      Date  \n",
      "0        (17)A11(-3)A11(-3)A11(-3)A11(-3)A11(-3)A11(34)  20200929  \n",
      "1     (17)A11(-3)A11(-3)A11(-3)A11(-3)A11(-3)A11(-3)...  20200929  \n",
      "2     (17)A11(-3)A11(-3)A11(-3)A11(-3)A11(-3)A11(-3)...  20200929  \n",
      "3                                      (17)M5(-3)M5(58)  20200929  \n",
      "4                                (17)M5(-3)M5(-3)M5(52)  20200929  \n",
      "...                                                 ...       ...  \n",
      "5371                                         M1(8)M2XXX  20200129  \n",
      "5372                                         M1(9)M2XXX  20200129  \n",
      "5373                                        M1(10)M2XXX  20200129  \n",
      "5374                                           M1XM2XXX  20200129  \n",
      "5375                                        M1(12)M2XXX  20200129  \n",
      "\n",
      "[5376 rows x 12 columns]\n"
     ]
    }
   ],
   "source": [
    "src = 'mitomi_zif268.xlsx'\n",
    "filepath = os.path.join('input_datasets','in-vitro',src)\n",
    "datafile = pd.ExcelFile(filepath)\n",
    "\n",
    "dfs = []\n",
    "for sn in [sn for sn in datafile.sheet_names if sn not in ['README']]: \n",
    "    df = pd.read_excel(datafile, sheet_name=sn)\n",
    "    df['Date'] = sn\n",
    "#     df['date'] = df['date'].astype(np.int32)\n",
    "    dfs.append(df)\n",
    "           \n",
    "fdf = pd.concat(dfs)\n",
    "fdf['TgtName'] = fdf['TgtName'].apply(lambda x: x.replace(\"'\", '').strip().upper()) #remove apostrophes\n",
    "fdf = fdf.reset_index(drop=True)\n",
    "\n",
    "print(fdf)"
   ]
  },
  {
   "cell_type": "markdown",
   "metadata": {
    "tags": []
   },
   "source": [
    "### Calculate complex and free protein columns"
   ]
  },
  {
   "cell_type": "code",
   "execution_count": 26,
   "metadata": {
    "collapsed": true,
    "jupyter": {
     "outputs_hidden": true
    },
    "tags": []
   },
   "outputs": [
    {
     "name": "stdout",
     "output_type": "stream",
     "text": [
      "      Flags  Column  Row   15a    25a   35a     45a    55b    65a   65b  \\\n",
      "0         0       1    1  2927   6481  3665  3708.0  10937  25204  3710   \n",
      "1         0       2    1  2925   6292  3639  3669.0  11011  24244  3706   \n",
      "2         0       3    1  2928   6469  3671  3696.0  11762  16144  3759   \n",
      "3         0       4    1  2928   6839  3668  3688.0  12597   7313  3748   \n",
      "4         0       5    1  2940  12895  3776  3792.0  11892  15209  3802   \n",
      "...     ...     ...  ...   ...    ...   ...     ...    ...    ...   ...   \n",
      "5371    100      44   16  2870  11473  4768     NaN   4139   5173  4068   \n",
      "5372    100      45   16  2864   8204  5038     NaN   4865   5335  4766   \n",
      "5373      0      46   16  2860   8527  3968     NaN   3858   4342  3757   \n",
      "5374      0      47   16  2855   7943  4011     NaN   3820   4427  3720   \n",
      "5375      0      48   16  2851  12262  4058     NaN   3899   4652  3806   \n",
      "\n",
      "                                                TgtName      Date  Free  \\\n",
      "0        (17)A11(-3)A11(-3)A11(-3)A11(-3)A11(-3)A11(34)  20200929  7227   \n",
      "1     (17)A11(-3)A11(-3)A11(-3)A11(-3)A11(-3)A11(-3)...  20200929  7305   \n",
      "2     (17)A11(-3)A11(-3)A11(-3)A11(-3)A11(-3)A11(-3)...  20200929  8003   \n",
      "3                                      (17)M5(-3)M5(58)  20200929  8849   \n",
      "4                                (17)M5(-3)M5(-3)M5(52)  20200929  8090   \n",
      "...                                                 ...       ...   ...   \n",
      "5371                                         M1(8)M2XXX  20200129    71   \n",
      "5372                                         M1(9)M2XXX  20200129    99   \n",
      "5373                                        M1(10)M2XXX  20200129   101   \n",
      "5374                                           M1XM2XXX  20200129   100   \n",
      "5375                                        M1(12)M2XXX  20200129    93   \n",
      "\n",
      "         Free_nM   DNA  Complex_raw   Complex   Meanocc  \n",
      "0     746.590909  3554        21539  6.060495  8.969210  \n",
      "1     754.648760  3367        20605  6.119691  9.056817  \n",
      "2     826.756198  3541        12473  3.522451  5.213040  \n",
      "3     914.152893  3911         3645  0.931987  1.379291  \n",
      "4     835.743802  9955        11433  1.148468  1.699672  \n",
      "...          ...   ...          ...       ...       ...  \n",
      "5371    7.334711  8603          405  0.047077  0.069671  \n",
      "5372   10.227273  5340          297  0.055618  0.082312  \n",
      "5373   10.433884  5667          374  0.065996  0.097671  \n",
      "5374   10.330579  5088          416  0.081761  0.121002  \n",
      "5375    9.607438  9411          594  0.063118  0.093411  \n",
      "\n",
      "[5294 rows x 18 columns]\n"
     ]
    }
   ],
   "source": [
    "occ_cal = 0.6758 # occupancy calibration factor (SBC model), see Supplemental Figure S4 E) \n",
    "\n",
    "fdf['Free'] = fdf['55b'] - fdf['65b']\n",
    "fdf['Free_nM'] = fdf['Free'] / 9.68 # See Supplemental Figure S2 D) for calibration curve\n",
    "fdf['DNA'] = fdf['25a'] - fdf['15a']\n",
    "fdf['Complex_raw'] = fdf['65a'] - fdf['35a']\n",
    "fdf['Complex'] = fdf['Complex_raw'] / fdf['DNA']\n",
    "fdf['Meanocc'] = fdf['Complex']/occ_cal\n",
    "\n",
    "fdf['TgtName'].replace('', np.nan, inplace=True)\n",
    "fdf.dropna(subset=['TgtName'], inplace=True)\n",
    "fdf = fdf.loc[fdf['Flags'] == 0]"
   ]
  },
  {
   "cell_type": "markdown",
   "metadata": {
    "tags": []
   },
   "source": [
    "### Helper functions and dictionaries"
   ]
  },
  {
   "cell_type": "markdown",
   "metadata": {
    "tags": []
   },
   "source": [
    "#### Create information dictionaries for the targets as references"
   ]
  },
  {
   "cell_type": "code",
   "execution_count": 7,
   "metadata": {
    "tags": []
   },
   "outputs": [],
   "source": [
    "target_info = pd.read_csv(os.path.join('input_datasets','in-vitro','target_info.csv'), index_col=0)\n",
    "\n",
    "def parse_sites(siteString):\n",
    "    try:\n",
    "        sites = siteString.strip().replace(' ', '').split(',')\n",
    "    except:\n",
    "        sites = []\n",
    "    return sites\n",
    "\n",
    "def parse_libraries(librariesString):\n",
    "    try:\n",
    "        libraries = librariesString.strip().replace(' ', '').split(',')\n",
    "    except:\n",
    "        libraries = []\n",
    "    return libraries\n",
    "\n",
    "# Parse the site info for each target\n",
    "site_info = {}\n",
    "for tgt in target_info.index.values:\n",
    "    site_info[tgt] = parse_sites(target_info.loc[tgt, 'Sites']) #create a dictionary {key: tgt name, value: which sites (with repeats) are in the target}\n",
    "    \n",
    "# Parse the library info for each target\n",
    "library_info = {}\n",
    "for tgt in target_info.index.values:\n",
    "    library_info[tgt] = parse_libraries(target_info.loc[tgt, 'Libraries'])\n",
    "# Make a lookup to go from site labels to single-site targets\n",
    "single_sites = np.unique(sum(site_info.values(), []))\n",
    "\n",
    "referenceSingleTargets = {} \n",
    "for ss in single_sites:\n",
    "    if ss == 'None':\n",
    "        continue\n",
    "    referenceSingleTargets[ss] = ss+'XXXXX' #{key: single site name, value: target name containing that single site alone}"
   ]
  },
  {
   "cell_type": "markdown",
   "metadata": {
    "tags": [],
    "toc-hr-collapsed": true
   },
   "source": [
    "#### mins_to_index"
   ]
  },
  {
   "cell_type": "code",
   "execution_count": 8,
   "metadata": {},
   "outputs": [],
   "source": [
    "def mins_to_index(minsInterval, listOfMins):\n",
    "    \"\"\"\n",
    "    Turn a minutes time interval into index time interval.\n",
    "    \n",
    "    Take as input the minutes time interval, and a list of minutes for the channel in question.\n",
    "    pc['timeInterval'], loD[0][channelTimevals]\n",
    "    \"\"\"\n",
    "    listOfMins = np.array(listOfMins)\n",
    "    \n",
    "    indices = np.where(np.logical_and(listOfMins>=minsInterval['start'], listOfMins<=minsInterval['stop']))\n",
    "    indices = indices[0]\n",
    "    \n",
    "    start = indices[0]\n",
    "    end = indices[-1]\n",
    "    \n",
    "    return start,end"
   ]
  },
  {
   "cell_type": "markdown",
   "metadata": {
    "jupyter": {
     "outputs_hidden": true
    },
    "tags": []
   },
   "source": [
    "# Relating mean occupancy predictions to expression"
   ]
  },
  {
   "cell_type": "markdown",
   "metadata": {
    "jupyter": {
     "outputs_hidden": true
    },
    "tags": []
   },
   "source": [
    "For all targets, generate predicted occupancies using an independent stat. mech. model parameterized by the single binding site targets' fits"
   ]
  },
  {
   "cell_type": "markdown",
   "metadata": {
    "tags": []
   },
   "source": [
    "### Fit data to ISMM"
   ]
  },
  {
   "cell_type": "code",
   "execution_count": 15,
   "metadata": {},
   "outputs": [],
   "source": [
    "def independent_multisite_fitting(x, numSites, de1=-18):\n",
    "    \n",
    "    C0 = 0.6e9 #reference concentration parameter  \n",
    "\n",
    "    numSitesStates = np.array([len(z) for z in list(powerset(np.arange(0,numSites)))]) #creates a list where each element corresponds to a different state of the system, and each value is the number of sites bound in that state\n",
    "    \n",
    "    relmults = np.power.outer((x/C0),numSitesStates) * np.exp(numSitesStates*(-de1)) #matrix of relative multiplicities, note that unbound (z0 = 1) is handled implicitly\n",
    "\n",
    "    ztot = np.sum(relmults, axis=1) #for each datapoint calculate the partition function (sum over relmults of all states)\n",
    "    \n",
    "    occ = (relmults@numSitesStates)/ztot #for each datapoint, calculate the occupancy (vector multiply numSitesStates), divide by ztot elementwise\n",
    "\n",
    "    return(occ)"
   ]
  },
  {
   "cell_type": "markdown",
   "metadata": {
    "heading_collapsed": "true",
    "tags": []
   },
   "source": [
    "#### Fit the data to the independent 1-parameter stat.mech. model, which assumes all sites in a target are the same affinity"
   ]
  },
  {
   "cell_type": "code",
   "execution_count": 22,
   "metadata": {
    "collapsed": true,
    "jupyter": {
     "outputs_hidden": true
    },
    "tags": []
   },
   "outputs": [
    {
     "name": "stderr",
     "output_type": "stream",
     "text": [
      "  2%|▏         | 10/500 [00:00<00:05, 92.79it/s]"
     ]
    },
    {
     "name": "stdout",
     "output_type": "stream",
     "text": [
      "A11XXXXX\n"
     ]
    },
    {
     "name": "stderr",
     "output_type": "stream",
     "text": [
      "100%|██████████| 500/500 [00:05<00:00, 90.66it/s]\n"
     ]
    },
    {
     "name": "stdout",
     "output_type": "stream",
     "text": [
      "The chain is shorter than 50 times the integrated autocorrelation time for 2 parameter(s). Use this estimate with caution and run a longer chain!\n",
      "N/50 = 10;\n",
      "tau: [22.51181631 59.54601093]\n"
     ]
    },
    {
     "name": "stderr",
     "output_type": "stream",
     "text": [
      "  2%|▏         | 10/500 [00:00<00:05, 93.92it/s]"
     ]
    },
    {
     "name": "stdout",
     "output_type": "stream",
     "text": [
      "A4XXXXX\n"
     ]
    },
    {
     "name": "stderr",
     "output_type": "stream",
     "text": [
      "100%|██████████| 500/500 [00:05<00:00, 96.05it/s] \n"
     ]
    },
    {
     "name": "stdout",
     "output_type": "stream",
     "text": [
      "The chain is shorter than 50 times the integrated autocorrelation time for 2 parameter(s). Use this estimate with caution and run a longer chain!\n",
      "N/50 = 10;\n",
      "tau: [18.13177401 58.387893  ]\n"
     ]
    },
    {
     "name": "stderr",
     "output_type": "stream",
     "text": [
      "  2%|▏         | 9/500 [00:00<00:05, 86.04it/s]"
     ]
    },
    {
     "name": "stdout",
     "output_type": "stream",
     "text": [
      "A5XXXXX\n"
     ]
    },
    {
     "name": "stderr",
     "output_type": "stream",
     "text": [
      "100%|██████████| 500/500 [00:05<00:00, 90.77it/s]\n"
     ]
    },
    {
     "name": "stdout",
     "output_type": "stream",
     "text": [
      "The chain is shorter than 50 times the integrated autocorrelation time for 2 parameter(s). Use this estimate with caution and run a longer chain!\n",
      "N/50 = 10;\n",
      "tau: [18.17155683 57.81111978]\n"
     ]
    },
    {
     "name": "stderr",
     "output_type": "stream",
     "text": [
      "  1%|          | 4/500 [00:00<00:12, 39.67it/s]"
     ]
    },
    {
     "name": "stdout",
     "output_type": "stream",
     "text": [
      "M1M2M3M4M5M6\n"
     ]
    },
    {
     "name": "stderr",
     "output_type": "stream",
     "text": [
      "100%|██████████| 500/500 [00:11<00:00, 43.35it/s]\n"
     ]
    },
    {
     "name": "stdout",
     "output_type": "stream",
     "text": [
      "The chain is shorter than 50 times the integrated autocorrelation time for 2 parameter(s). Use this estimate with caution and run a longer chain!\n",
      "N/50 = 10;\n",
      "tau: [20.03384846 55.34564345]\n"
     ]
    },
    {
     "name": "stderr",
     "output_type": "stream",
     "text": [
      "  1%|▏         | 7/500 [00:00<00:07, 61.65it/s]"
     ]
    },
    {
     "name": "stdout",
     "output_type": "stream",
     "text": [
      "M1M2M3M4M5X\n"
     ]
    },
    {
     "name": "stderr",
     "output_type": "stream",
     "text": [
      "100%|██████████| 500/500 [00:07<00:00, 63.21it/s]\n"
     ]
    },
    {
     "name": "stdout",
     "output_type": "stream",
     "text": [
      "The chain is shorter than 50 times the integrated autocorrelation time for 2 parameter(s). Use this estimate with caution and run a longer chain!\n",
      "N/50 = 10;\n",
      "tau: [20.60062275 53.5421395 ]\n"
     ]
    },
    {
     "name": "stderr",
     "output_type": "stream",
     "text": [
      "  2%|▏         | 8/500 [00:00<00:06, 73.47it/s]"
     ]
    },
    {
     "name": "stdout",
     "output_type": "stream",
     "text": [
      "M1M2M3M4XX\n"
     ]
    },
    {
     "name": "stderr",
     "output_type": "stream",
     "text": [
      "100%|██████████| 500/500 [00:06<00:00, 77.08it/s]\n"
     ]
    },
    {
     "name": "stdout",
     "output_type": "stream",
     "text": [
      "The chain is shorter than 50 times the integrated autocorrelation time for 2 parameter(s). Use this estimate with caution and run a longer chain!\n",
      "N/50 = 10;\n",
      "tau: [22.64646484 56.31919679]\n"
     ]
    },
    {
     "name": "stderr",
     "output_type": "stream",
     "text": [
      "  2%|▏         | 8/500 [00:00<00:06, 75.55it/s]"
     ]
    },
    {
     "name": "stdout",
     "output_type": "stream",
     "text": [
      "M1M2M3XXX\n"
     ]
    },
    {
     "name": "stderr",
     "output_type": "stream",
     "text": [
      "100%|██████████| 500/500 [00:06<00:00, 78.89it/s]\n"
     ]
    },
    {
     "name": "stdout",
     "output_type": "stream",
     "text": [
      "The chain is shorter than 50 times the integrated autocorrelation time for 2 parameter(s). Use this estimate with caution and run a longer chain!\n",
      "N/50 = 10;\n",
      "tau: [21.48042121 54.33410852]\n"
     ]
    },
    {
     "name": "stderr",
     "output_type": "stream",
     "text": [
      "  2%|▏         | 8/500 [00:00<00:06, 79.00it/s]"
     ]
    },
    {
     "name": "stdout",
     "output_type": "stream",
     "text": [
      "M1M2XXXX\n"
     ]
    },
    {
     "name": "stderr",
     "output_type": "stream",
     "text": [
      "100%|██████████| 500/500 [00:05<00:00, 85.84it/s]\n"
     ]
    },
    {
     "name": "stdout",
     "output_type": "stream",
     "text": [
      "The chain is shorter than 50 times the integrated autocorrelation time for 2 parameter(s). Use this estimate with caution and run a longer chain!\n",
      "N/50 = 10;\n",
      "tau: [21.01870111 58.22256053]\n"
     ]
    },
    {
     "name": "stderr",
     "output_type": "stream",
     "text": [
      "  2%|▏         | 9/500 [00:00<00:06, 81.36it/s]"
     ]
    },
    {
     "name": "stdout",
     "output_type": "stream",
     "text": [
      "M1XXXXX\n"
     ]
    },
    {
     "name": "stderr",
     "output_type": "stream",
     "text": [
      "100%|██████████| 500/500 [00:05<00:00, 90.96it/s]\n"
     ]
    },
    {
     "name": "stdout",
     "output_type": "stream",
     "text": [
      "The chain is shorter than 50 times the integrated autocorrelation time for 2 parameter(s). Use this estimate with caution and run a longer chain!\n",
      "N/50 = 10;\n",
      "tau: [19.61502672 57.3404395 ]\n"
     ]
    },
    {
     "name": "stderr",
     "output_type": "stream",
     "text": [
      "  2%|▏         | 9/500 [00:00<00:05, 86.15it/s]"
     ]
    },
    {
     "name": "stdout",
     "output_type": "stream",
     "text": [
      "M2XXXXX\n"
     ]
    },
    {
     "name": "stderr",
     "output_type": "stream",
     "text": [
      "100%|██████████| 500/500 [00:05<00:00, 94.46it/s] \n"
     ]
    },
    {
     "name": "stdout",
     "output_type": "stream",
     "text": [
      "The chain is shorter than 50 times the integrated autocorrelation time for 2 parameter(s). Use this estimate with caution and run a longer chain!\n",
      "N/50 = 10;\n",
      "tau: [19.92735879 59.4523608 ]\n"
     ]
    },
    {
     "name": "stderr",
     "output_type": "stream",
     "text": [
      "  2%|▏         | 9/500 [00:00<00:05, 89.41it/s]"
     ]
    },
    {
     "name": "stdout",
     "output_type": "stream",
     "text": [
      "M3XXXXX\n"
     ]
    },
    {
     "name": "stderr",
     "output_type": "stream",
     "text": [
      "100%|██████████| 500/500 [00:05<00:00, 92.13it/s]\n"
     ]
    },
    {
     "name": "stdout",
     "output_type": "stream",
     "text": [
      "The chain is shorter than 50 times the integrated autocorrelation time for 2 parameter(s). Use this estimate with caution and run a longer chain!\n",
      "N/50 = 10;\n",
      "tau: [17.54568062 58.56509831]\n"
     ]
    },
    {
     "name": "stderr",
     "output_type": "stream",
     "text": [
      "  2%|▏         | 9/500 [00:00<00:06, 80.67it/s]"
     ]
    },
    {
     "name": "stdout",
     "output_type": "stream",
     "text": [
      "M4XXXXX\n"
     ]
    },
    {
     "name": "stderr",
     "output_type": "stream",
     "text": [
      "100%|██████████| 500/500 [00:05<00:00, 94.68it/s]\n"
     ]
    },
    {
     "name": "stdout",
     "output_type": "stream",
     "text": [
      "The chain is shorter than 50 times the integrated autocorrelation time for 2 parameter(s). Use this estimate with caution and run a longer chain!\n",
      "N/50 = 10;\n",
      "tau: [17.3877211  58.27090256]\n"
     ]
    },
    {
     "name": "stderr",
     "output_type": "stream",
     "text": [
      "  2%|▏         | 9/500 [00:00<00:05, 85.06it/s]"
     ]
    },
    {
     "name": "stdout",
     "output_type": "stream",
     "text": [
      "M5XXXXX\n"
     ]
    },
    {
     "name": "stderr",
     "output_type": "stream",
     "text": [
      "100%|██████████| 500/500 [00:05<00:00, 98.15it/s] \n"
     ]
    },
    {
     "name": "stdout",
     "output_type": "stream",
     "text": [
      "The chain is shorter than 50 times the integrated autocorrelation time for 2 parameter(s). Use this estimate with caution and run a longer chain!\n",
      "N/50 = 10;\n",
      "tau: [19.23278585 56.65642275]\n"
     ]
    },
    {
     "name": "stderr",
     "output_type": "stream",
     "text": [
      "  2%|▏         | 8/500 [00:00<00:06, 79.68it/s]"
     ]
    },
    {
     "name": "stdout",
     "output_type": "stream",
     "text": [
      "M6XXXXX\n"
     ]
    },
    {
     "name": "stderr",
     "output_type": "stream",
     "text": [
      "100%|██████████| 500/500 [00:05<00:00, 95.69it/s] \n"
     ]
    },
    {
     "name": "stdout",
     "output_type": "stream",
     "text": [
      "The chain is shorter than 50 times the integrated autocorrelation time for 2 parameter(s). Use this estimate with caution and run a longer chain!\n",
      "N/50 = 10;\n",
      "tau: [18.19182851 58.86737953]\n"
     ]
    },
    {
     "name": "stderr",
     "output_type": "stream",
     "text": [
      "  2%|▏         | 8/500 [00:00<00:06, 77.94it/s]"
     ]
    },
    {
     "name": "stdout",
     "output_type": "stream",
     "text": [
      "W1XXXXX\n"
     ]
    },
    {
     "name": "stderr",
     "output_type": "stream",
     "text": [
      "100%|██████████| 500/500 [00:05<00:00, 95.23it/s] \n"
     ]
    },
    {
     "name": "stdout",
     "output_type": "stream",
     "text": [
      "The chain is shorter than 50 times the integrated autocorrelation time for 2 parameter(s). Use this estimate with caution and run a longer chain!\n",
      "N/50 = 10;\n",
      "tau: [26.8075078  58.88999817]\n"
     ]
    },
    {
     "name": "stderr",
     "output_type": "stream",
     "text": [
      "  1%|▏         | 7/500 [00:00<00:07, 69.37it/s]"
     ]
    },
    {
     "name": "stdout",
     "output_type": "stream",
     "text": [
      "W2W3W1W4W3W2\n"
     ]
    },
    {
     "name": "stderr",
     "output_type": "stream",
     "text": [
      "100%|██████████| 500/500 [00:06<00:00, 72.82it/s]\n"
     ]
    },
    {
     "name": "stdout",
     "output_type": "stream",
     "text": [
      "The chain is shorter than 50 times the integrated autocorrelation time for 2 parameter(s). Use this estimate with caution and run a longer chain!\n",
      "N/50 = 10;\n",
      "tau: [18.68156167 54.65186792]\n"
     ]
    },
    {
     "name": "stderr",
     "output_type": "stream",
     "text": [
      "  2%|▏         | 9/500 [00:00<00:05, 89.90it/s]"
     ]
    },
    {
     "name": "stdout",
     "output_type": "stream",
     "text": [
      "W2XXXXX\n"
     ]
    },
    {
     "name": "stderr",
     "output_type": "stream",
     "text": [
      "100%|██████████| 500/500 [00:05<00:00, 93.28it/s] \n"
     ]
    },
    {
     "name": "stdout",
     "output_type": "stream",
     "text": [
      "The chain is shorter than 50 times the integrated autocorrelation time for 2 parameter(s). Use this estimate with caution and run a longer chain!\n",
      "N/50 = 10;\n",
      "tau: [27.14333819 61.14849706]\n"
     ]
    },
    {
     "name": "stderr",
     "output_type": "stream",
     "text": [
      "  1%|▏         | 7/500 [00:00<00:07, 69.01it/s]"
     ]
    },
    {
     "name": "stdout",
     "output_type": "stream",
     "text": [
      "W3XXXXX\n"
     ]
    },
    {
     "name": "stderr",
     "output_type": "stream",
     "text": [
      "100%|██████████| 500/500 [00:05<00:00, 95.71it/s] \n"
     ]
    },
    {
     "name": "stdout",
     "output_type": "stream",
     "text": [
      "The chain is shorter than 50 times the integrated autocorrelation time for 2 parameter(s). Use this estimate with caution and run a longer chain!\n",
      "N/50 = 10;\n",
      "tau: [22.54234861 59.71339763]\n"
     ]
    },
    {
     "name": "stderr",
     "output_type": "stream",
     "text": [
      "  2%|▏         | 9/500 [00:00<00:05, 89.83it/s]"
     ]
    },
    {
     "name": "stdout",
     "output_type": "stream",
     "text": [
      "W4XXXXX\n"
     ]
    },
    {
     "name": "stderr",
     "output_type": "stream",
     "text": [
      "100%|██████████| 500/500 [00:05<00:00, 93.91it/s]\n"
     ]
    },
    {
     "name": "stdout",
     "output_type": "stream",
     "text": [
      "The chain is shorter than 50 times the integrated autocorrelation time for 2 parameter(s). Use this estimate with caution and run a longer chain!\n",
      "N/50 = 10;\n",
      "tau: [21.13060724 59.68911024]\n"
     ]
    },
    {
     "name": "stderr",
     "output_type": "stream",
     "text": [
      "  2%|▏         | 9/500 [00:00<00:05, 89.27it/s]"
     ]
    },
    {
     "name": "stdout",
     "output_type": "stream",
     "text": [
      "XXXXXX\n"
     ]
    },
    {
     "name": "stderr",
     "output_type": "stream",
     "text": [
      "100%|██████████| 500/500 [00:05<00:00, 89.33it/s]\n"
     ]
    },
    {
     "name": "stdout",
     "output_type": "stream",
     "text": [
      "The chain is shorter than 50 times the integrated autocorrelation time for 2 parameter(s). Use this estimate with caution and run a longer chain!\n",
      "N/50 = 10;\n",
      "tau: [25.25014867 55.29281106]\n"
     ]
    },
    {
     "data": {
      "text/plain": [
       "<Figure size 288x432 with 0 Axes>"
      ]
     },
     "metadata": {},
     "output_type": "display_data"
    },
    {
     "data": {
      "text/plain": [
       "<Figure size 288x432 with 0 Axes>"
      ]
     },
     "metadata": {},
     "output_type": "display_data"
    },
    {
     "data": {
      "text/plain": [
       "<Figure size 288x432 with 0 Axes>"
      ]
     },
     "metadata": {},
     "output_type": "display_data"
    },
    {
     "data": {
      "text/plain": [
       "<Figure size 288x432 with 0 Axes>"
      ]
     },
     "metadata": {},
     "output_type": "display_data"
    },
    {
     "data": {
      "text/plain": [
       "<Figure size 288x432 with 0 Axes>"
      ]
     },
     "metadata": {},
     "output_type": "display_data"
    },
    {
     "data": {
      "text/plain": [
       "<Figure size 288x432 with 0 Axes>"
      ]
     },
     "metadata": {},
     "output_type": "display_data"
    },
    {
     "data": {
      "text/plain": [
       "<Figure size 288x432 with 0 Axes>"
      ]
     },
     "metadata": {},
     "output_type": "display_data"
    },
    {
     "data": {
      "text/plain": [
       "<Figure size 288x432 with 0 Axes>"
      ]
     },
     "metadata": {},
     "output_type": "display_data"
    },
    {
     "data": {
      "text/plain": [
       "<Figure size 288x432 with 0 Axes>"
      ]
     },
     "metadata": {},
     "output_type": "display_data"
    },
    {
     "data": {
      "text/plain": [
       "<Figure size 288x432 with 0 Axes>"
      ]
     },
     "metadata": {},
     "output_type": "display_data"
    },
    {
     "data": {
      "text/plain": [
       "<Figure size 288x432 with 0 Axes>"
      ]
     },
     "metadata": {},
     "output_type": "display_data"
    },
    {
     "data": {
      "text/plain": [
       "<Figure size 288x432 with 0 Axes>"
      ]
     },
     "metadata": {},
     "output_type": "display_data"
    },
    {
     "data": {
      "text/plain": [
       "<Figure size 288x432 with 0 Axes>"
      ]
     },
     "metadata": {},
     "output_type": "display_data"
    },
    {
     "data": {
      "text/plain": [
       "<Figure size 288x432 with 0 Axes>"
      ]
     },
     "metadata": {},
     "output_type": "display_data"
    },
    {
     "data": {
      "text/plain": [
       "<Figure size 288x432 with 0 Axes>"
      ]
     },
     "metadata": {},
     "output_type": "display_data"
    },
    {
     "data": {
      "text/plain": [
       "<Figure size 288x432 with 0 Axes>"
      ]
     },
     "metadata": {},
     "output_type": "display_data"
    },
    {
     "data": {
      "text/plain": [
       "<Figure size 288x432 with 0 Axes>"
      ]
     },
     "metadata": {},
     "output_type": "display_data"
    },
    {
     "data": {
      "text/plain": [
       "<Figure size 288x432 with 0 Axes>"
      ]
     },
     "metadata": {},
     "output_type": "display_data"
    },
    {
     "data": {
      "text/plain": [
       "<Figure size 288x432 with 0 Axes>"
      ]
     },
     "metadata": {},
     "output_type": "display_data"
    },
    {
     "data": {
      "text/plain": [
       "<Figure size 288x432 with 0 Axes>"
      ]
     },
     "metadata": {},
     "output_type": "display_data"
    }
   ],
   "source": [
    "C0 = 0.6e9 #reference concentration parameter\n",
    "\n",
    "directory = 'in-vitro_fits_plots'\n",
    "subdirectory = 'Zif268'\n",
    "\n",
    "target_info = pd.read_csv(os.path.join('input_datasets','in-vitro','target_info.csv'), index_col=0)\n",
    "\n",
    "imsfmodel = Model(independent_multisite_fitting)\n",
    "\n",
    "xs = np.logspace(-1, 5, 200)\n",
    "\n",
    "params_df = pd.DataFrame()\n",
    "ptiles_df = pd.DataFrame()\n",
    "\n",
    "ptiles = range(0,101)\n",
    "\n",
    "for tgt, tgtgrp in fdf.groupby('TgtName'):\n",
    "        \n",
    "        if tgt not in ['XXXXXX','W2XXXXX','A11XXXXX','M1XXXXX','W3XXXXX','W1XXXXX','W4XXXXX','M2XXXXX',\n",
    "                       'M3XXXXX','M4XXXXX','M5XXXXX','M6XXXXX','A4XXXXX','A5XXXXX','M1M2XXXX','M1M2M3XXX',\n",
    "                       'M1M2M3M4XX','M1M2M3M4M5X','M1M2M3M4M5M6','W2W3W1W4W3W2']: \n",
    "            continue\n",
    "        \n",
    "        print(tgt)\n",
    "        \n",
    "        nrSites = target_info.loc[tgt,'NumSites']\n",
    "        if tgt == 'XXXXXX':\n",
    "            nrSites=1 # use single-site model to model non-specific target\n",
    "        \n",
    "        params = []\n",
    "\n",
    "        tgtgrp = tgtgrp.loc[(tgtgrp['Free_nM']>0)&(tgtgrp['Meanocc']>0)]\n",
    "        xd, yd = (tgtgrp['Free_nM'], tgtgrp['Meanocc']) #set x and y values\n",
    "\n",
    "        yd = yd.values.flatten() #make into 1-dimensional np.array\n",
    "        xd = xd.values.flatten()\n",
    "        \n",
    "        #initialize parameter values\n",
    "        params = imsfmodel.make_params(de1=-18, numSites=float(nrSites))\n",
    "        params['de1'].min = -6\n",
    "        params['de1'].max = -22        \n",
    "        params['numSites'].vary=False\n",
    "        \n",
    "        #use traditional minimizer to get an initial estimate, and then use MCMC to explore parameter space around those values\n",
    "        result = imsfmodel.fit(yd, params, x=xd)\n",
    "        \n",
    "        #set up and run MCMC\n",
    "        emcee_kws = dict(steps=10000, burn=300, thin=10, is_weighted=False, progress=True) \n",
    "        emcee_params = result.params.copy()\n",
    "        result_emcee = imsfmodel.fit(yd, emcee_params, x=xd, method='emcee', fit_kws=emcee_kws)\n",
    "        result_emcee.col_deriv = None # lmfit has a bug and fails to set this parameter. The model can't be saved without it being set!\n",
    "\n",
    "        rps = result_emcee.params\n",
    "        np.savetxt(os.path.join(directory,subdirectory,'1par_statmech_measured','{}_flatchain_imsf_model.csv'.format(tgt)), result_emcee.flatchain, delimiter=',') #save chain\n",
    "        lm.model.save_modelresult(rps, (os.path.join(directory,subdirectory,'1par_statmech_measured','{}_fitresult_imsf_model.model'.format(tgt)))) #save model results\n",
    "        \n",
    "        #create a dataframe of parameter values \n",
    "        d = result_emcee.params.valuesdict()\n",
    "        d['tgt'] = tgt\n",
    "        params_df = pd.concat([params_df, pd.DataFrame(d, index=[0])])\n",
    "        \n",
    "        #create a dataframe of percentiles of parameter values\n",
    "        pp = result_emcee.flatchain.apply(np.percentile, args=[ptiles])\n",
    "        pp['tgt'] = tgt\n",
    "        pp['ptile'] = ptiles     \n",
    "        ptiles_df = pd.concat([ptiles_df, pp])\n",
    "        \n",
    "        #Barebones plot of the fitted function and residuals; plot with confidence intervals in a subsequent cell\n",
    "        fig = plt.figure(figsize=(4,6))\n",
    "        gs = fig.add_gridspec(2, 1)\n",
    "        ax1 = fig.add_subplot(gs[0,0])\n",
    "        ax2 = fig.add_subplot(gs[1,0])\n",
    "        ax1.plot(xs, result.eval(params=result_emcee.params, x=xs)) # plot the model for that target\n",
    "        ax1.plot(xd, yd, 'k.') # plot the datapoints for that target\n",
    "        result_emcee.plot_residuals(ax=ax2) # plot difference between predicted and actual (residuals)\n",
    "\n",
    "        for ax in (ax1, ax2):\n",
    "            ax.set_xlim([1, 3e3])\n",
    "            ax.set_xscale('log')\n",
    "        ax2.set_xlabel('Free TF (nM)')\n",
    "        ax1.set_ylabel('Mean Occupancy (RU)')\n",
    "        ax2.set_ylabel('Residual')\n",
    "\n",
    "        ax1.set_title(\"{} Kd={:.2f}\".format(tgt, (C0)*np.exp(rps['de1'].value))) # Convert from delE (in Kb*T units) to Kd \n",
    "        ax2.set_title(None)\n",
    "        plt.tight_layout()\n",
    "        plt.savefig(os.path.join(directory,subdirectory,'1par_statmech_measured','{}_fit_imsf_model.png'.format(tgt)), dpi=300)\n",
    "\n",
    "        plt.clf()\n",
    "#         emcee_corner = corner.corner(result_emcee.flatchain, labels=result_emcee.var_names, truths=list(result_emcee.params.valuesdict().values()))\n",
    "#         plt.savefig(os.path.join(directory,subdirectory,'measured','{}_corner_imsf_model.png'.format(tgt)), dpi=300)\n",
    "#         plt.close('all')\n",
    "\n",
    "params_df.reset_index(drop=True, inplace=True)\n",
    "params_df.set_index('tgt', drop=True, inplace=True)\n",
    "params_df.to_csv(os.path.join(directory,subdirectory,'1par_statmech_measured','fit_params_imsf_model.csv'))\n",
    "ptiles_df = ptiles_df.set_index(['tgt', 'ptile'])\n",
    "ptiles_df.to_csv(os.path.join(directory,subdirectory,'1par_statmech_measured','fit_params_percentiles_imsf-model.csv'))"
   ]
  },
  {
   "cell_type": "markdown",
   "metadata": {
    "tags": []
   },
   "source": [
    "#### Update fit plots to include a sampling of the posterior distribution"
   ]
  },
  {
   "cell_type": "code",
   "execution_count": 23,
   "metadata": {},
   "outputs": [],
   "source": [
    "# Sample the flatchain and produce and return simulated results\n",
    "def eval_samples(flatchain, model, x, N, nrSites):\n",
    "    \n",
    "    fc = flatchain\n",
    "    \n",
    "    results = np.zeros([len(x), N])\n",
    "    params_all = []\n",
    "    inds = np.random.randint(low=int(0.1*len(fc)), high=len(fc), size=N) #randomly choose 300 parameter-sets from the flatchain\n",
    "    for i,ind in enumerate(inds):\n",
    "        sample = fc[ind]\n",
    "        params_all.append(sample)\n",
    "        params = lm.Parameters() #Parameters class/object that can receive parameters as input\n",
    "        if len(sample) == 2:\n",
    "            params.add_many(('de1', sample[0]), ('_lnsigma', sample[1]), ('numSites', nrSites)) #store the sample parameters\n",
    "        elif len(sample) == 1: #defensive programming\n",
    "            params.add_many(('de1', sample[0]), ('numSites', nrSites))\n",
    "        results[:, i] = model.eval(x=x, params=params) #for each x-value generate an occupancy value by feeding the parameters back into the model (supplied in argument).\n",
    "    return {'sims': results, 'params': np.array(params_all)}"
   ]
  },
  {
   "cell_type": "markdown",
   "metadata": {
    "tags": []
   },
   "source": [
    "#### First generate the sims (sample the posterior distribution) for the targets characterized in vitro"
   ]
  },
  {
   "cell_type": "code",
   "execution_count": 25,
   "metadata": {
    "collapsed": true,
    "jupyter": {
     "outputs_hidden": true
    },
    "tags": []
   },
   "outputs": [
    {
     "name": "stdout",
     "output_type": "stream",
     "text": [
      "A11XXXXX\n",
      "A4XXXXX\n",
      "A5XXXXX\n",
      "M1M2M3M4M5M6\n",
      "M1M2M3M4M5X\n",
      "M1M2M3M4XX\n",
      "M1M2M3XXX\n",
      "M1M2XXXX\n",
      "M1XXXXX\n",
      "M2XXXXX\n",
      "M3XXXXX\n",
      "M4XXXXX\n",
      "M5XXXXX\n",
      "M6XXXXX\n",
      "W1XXXXX\n",
      "W2W3W1W4W3W2\n",
      "W2XXXXX\n",
      "W3XXXXX\n",
      "W4XXXXX\n",
      "XXXXXX\n"
     ]
    }
   ],
   "source": [
    "C0 = 0.6e9\n",
    "xs = np.logspace(-1,5,10000) #note: logspace so -1 = 10^-1 = 1/10\n",
    "N=300\n",
    "\n",
    "target_info = pd.read_csv(os.path.join('input_datasets','in-vitro','target_info.csv'), index_col=0)\n",
    "\n",
    "dir1 = 'in-vitro_fits_plots'\n",
    "dir2 = 'Zif268'\n",
    "\n",
    "params_df = pd.read_csv(os.path.join(dir1,dir2,'1par_statmech_measured','fit_params_imsf_model.csv'), index_col=0)\n",
    "ptiles_df = pd.read_csv(os.path.join(dir1,dir2,'1par_statmech_measured','fit_params_percentiles_imsf-model.csv'), index_col=[0,1])\n",
    "\n",
    "indexlist = params_df.index.tolist()\n",
    "\n",
    "smmodel = Model(independent_multisite_fitting)\n",
    "\n",
    "for tgt, tgtgrp in fdf.groupby('TgtName'):\n",
    "    \n",
    "    if tgt not in ['XXXXXX','W2XXXXX','A11XXXXX','M1XXXXX','W3XXXXX','W1XXXXX','W4XXXXX',\n",
    "                   'M2XXXXX','M3XXXXX','M4XXXXX','M5XXXXX','M6XXXXX','A4XXXXX','A5XXXXX',\n",
    "                   'M1M2XXXX','M1M2M3XXX','M1M2M3M4XX','M1M2M3M4M5X','M1M2M3M4M5M6','W2W3W1W4W3W2']: \n",
    "        continue\n",
    "\n",
    "    print(tgt)\n",
    "\n",
    "    params = []\n",
    "\n",
    "    nrSites = target_info.loc[tgt,'NumSites']\n",
    "\n",
    "    fc = np.loadtxt(os.path.join(dir1,dir2,'1par_statmech_measured','{}_flatchain_imsf_model.csv'.format(tgt)), delimiter=',')\n",
    "\n",
    "    results = eval_samples(fc, smmodel, xs, N, nrSites)\n",
    "    simsIMSF = results['sims'] # these are the predicted occupancy values associated with the sample parameter sets\n",
    "    params = results['params'] # these are the sample parameter sets\n",
    "\n",
    "    np.savetxt(os.path.join(dir1,dir2,'1par_statmech_measured','{}_posterior_sims_imsf_model.csv'.format(tgt)), simsIMSF)\n",
    "    np.savetxt(os.path.join(dir1,dir2,'1par_statmech_measured','{}_posterior_sim_params_imsf_model.csv'.format(tgt)), params)\n",
    "\n",
    "    lowerIMSF, upperIMSF = np.percentile(simsIMSF, [5, 95], axis=1)\n",
    "\n",
    "    tgtgrp = tgtgrp.loc[(tgtgrp['Free_nM']>0)&(tgtgrp['Meanocc']>0)]\n",
    "    xd, yd = (tgtgrp['Free_nM'], tgtgrp['Meanocc'])\n",
    "\n",
    "    plt.figure(figsize=(5,5))\n",
    "    plt.plot(xd, yd, 'k.', label='Data')\n",
    "    plt.fill_between(xs, lowerIMSF, upperIMSF, color='darkviolet', alpha=0.3, label='Independent Multi-site Model Fit')\n",
    "    plt.legend(loc='best') \n",
    "\n",
    "    plt.xlim([1e0, 3e3])\n",
    "    plt.xscale('log')\n",
    "    plt.xlabel('TF concentration (nM)')\n",
    "    plt.ylabel('<N>, Mean occupancy')\n",
    "\n",
    "    val_k = C0*np.exp(params_df.loc[tgt, 'de1'])\n",
    "    plt.title(\"Zif268 | %s, $k=%.1f$\" % \\\n",
    "        (tgt,\n",
    "         val_k))\n",
    "    plt.tight_layout()\n",
    "    plt.savefig(os.path.join(dir1,dir2,'1par_statmech_measured',\"{}_fit_samples_imsf_model.png\".format(tgt)), dpi=400)\n",
    "    plt.clf()\n",
    "    plt.close('all')"
   ]
  },
  {
   "cell_type": "markdown",
   "metadata": {
    "tags": [],
    "toc-hr-collapsed": true
   },
   "source": [
    "#### Then include remaining targets, and predict their sims by summing occupancies from single-site targets characterized in vitro"
   ]
  },
  {
   "cell_type": "code",
   "execution_count": 27,
   "metadata": {
    "tags": []
   },
   "outputs": [],
   "source": [
    "xs = np.logspace(-1,5,10000) \n",
    "\n",
    "dir1 = 'in-vitro_fits_plots'\n",
    "dir2 = 'Zif268'\n",
    "dir3 = '1par_statmech_predicted'\n",
    "\n",
    "for tgt in ['W2XXXXX','A11XXXXX','M1XXXXX','M1M2XXXX','M1M2M3XXX','M1M2M3M4XX',\n",
    "            'M1M2M3M4M5X','M1M2M3M4M5M6','W2W3W1XXX','W2W3W1W4W3W2','M1W4M2W3M3W2', \n",
    "            'M1XM2XM3X', 'M1M2M3W4W3W2', 'A11A11A11A11A11A11', 'A11A11A11XXX', 'A4A5M2XXX', \n",
    "            'A4A5M2A4A5M2', 'W4W4W4XXX', 'W4W4W4W4W4W4']:\n",
    "    \n",
    "    sites = site_info[tgt]\n",
    "    sims = []\n",
    "    \n",
    "    for ss in sites: #for each site in the target, append to sims the posterior_sims.csv corresponding to that single site target\n",
    "        if ss == 'None':\n",
    "            continue\n",
    "        sims.append(np.loadtxt(os.path.join(dir1, dir2, '1par_statmech_measured', '{}_posterior_sims_imsf_model.csv'.format(referenceSingleTargets[ss]))))\n",
    "        \n",
    "    sims = sum(sims)\n",
    "        \n",
    "    np.savetxt(os.path.join(dir1,dir2,dir3,'{}_posterior_sims_imsf_model.csv'.format(tgt)), sims)    \n",
    "\n",
    "    # Plot simulation and data\n",
    "    lower, upper = np.percentile(sims, [5,95], axis=1) #independent simulated target occupancy prediction\n",
    "\n",
    "    plt.figure(figsize=(5,5))\n",
    "    plt.fill_between(xs, lower, upper, color='darkviolet', alpha=0.3, label='Independent SM Model')\n",
    "    plt.legend(loc='lower right') \n",
    "\n",
    "    plt.xlim([1e0,2e3])\n",
    "    plt.xscale('log')\n",
    "    plt.xlabel('TF concentration (nM)')\n",
    "    plt.ylabel('<N>, mean occupancy')\n",
    "\n",
    "    plt.title(\"Zif268 | {}\".format(tgt))\n",
    "    plt.tight_layout()\n",
    "    plt.savefig(os.path.join(dir1,dir2,dir3,\"{}_fit_samples_imsf_model.png\".format(tgt)), dpi=400)    \n",
    "    plt.clf()\n",
    "    plt.close('all')"
   ]
  },
  {
   "cell_type": "markdown",
   "metadata": {
    "tags": []
   },
   "source": [
    "### Relate predicted occupancy to gene expression in vivo"
   ]
  },
  {
   "cell_type": "markdown",
   "metadata": {
    "tags": [],
    "toc-hr-collapsed": true
   },
   "source": [
    "#### Create the dataframe relating mean-occ to GE out (fill in occupancies corresponding to consensus occupancy intervals)"
   ]
  },
  {
   "cell_type": "code",
   "execution_count": 30,
   "metadata": {
    "collapsed": true,
    "jupyter": {
     "outputs_hidden": true
    },
    "tags": []
   },
   "outputs": [
    {
     "name": "stdout",
     "output_type": "stream",
     "text": [
      "                        0.01      0.02      0.03      0.04      0.05  \\\n",
      "tgt                                                                    \n",
      "XXXXXX              0.000000  0.000000  0.000000  0.000000  0.000000   \n",
      "W2XXXXX             0.000058  0.000117  0.000177  0.000238  0.000301   \n",
      "A11XXXXX            0.010004  0.020008  0.030017  0.040038  0.050042   \n",
      "M1XXXXX             0.001640  0.003308  0.005006  0.006735  0.008491   \n",
      "M1M2XXXX            0.002255  0.004549  0.006885  0.009266  0.011686   \n",
      "M1M2M3XXX           0.004565  0.009206  0.013927  0.018734  0.023615   \n",
      "M1M2M3M4XX          0.005864  0.011826  0.017893  0.024070  0.030343   \n",
      "M1M2M3M4M5X         0.006960  0.014039  0.021244  0.028583  0.036040   \n",
      "M1M2M3M4M5M6        0.007570  0.015270  0.023107  0.031091  0.039202   \n",
      "W2W3W1XXX           0.000280  0.000565  0.000856  0.001154  0.001457   \n",
      "W2W3W1W4W3W2        0.000693  0.001400  0.002122  0.002859  0.003611   \n",
      "M1W4M2W3M3W2        0.004976  0.010035  0.015184  0.020428  0.025754   \n",
      "M1XM2XM3X           0.004565  0.009206  0.013927  0.018734  0.023615   \n",
      "M1M2M3W4W3W2        0.004976  0.010035  0.015184  0.020428  0.025754   \n",
      "A11A11A11A11A11A11  0.060026  0.120049  0.180102  0.240227  0.300249   \n",
      "A11A11A11XXX        0.030013  0.060025  0.090051  0.120113  0.150125   \n",
      "A4A5M2XXX           0.001926  0.003889  0.005890  0.007933  0.010012   \n",
      "A4A5M2A4A5M2        0.003852  0.007777  0.011780  0.015865  0.020024   \n",
      "W4W4W4XXX           0.000549  0.001110  0.001681  0.002266  0.002861   \n",
      "W4W4W4W4W4W4        0.001099  0.002219  0.003363  0.004531  0.005722   \n",
      "\n",
      "                        0.06      0.07      0.08      0.09       0.1  ...  \\\n",
      "tgt                                                                   ...   \n",
      "XXXXXX              0.000000  0.000000  0.000000  0.000000  0.000000  ...   \n",
      "W2XXXXX             0.000365  0.000430  0.000497  0.000565  0.000635  ...   \n",
      "A11XXXXX            0.060001  0.070064  0.080025  0.090010  0.100104  ...   \n",
      "M1XXXXX             0.010271  0.012101  0.013945  0.015826  0.017764  ...   \n",
      "M1M2XXXX            0.014139  0.016663  0.019209  0.021808  0.024486  ...   \n",
      "M1M2M3XXX           0.028557  0.033636  0.038754  0.043975  0.049348  ...   \n",
      "M1M2M3M4XX          0.036697  0.043230  0.049811  0.056527  0.063439  ...   \n",
      "M1M2M3M4M5X         0.043595  0.051365  0.059195  0.067187  0.075416  ...   \n",
      "M1M2M3M4M5M6        0.047421  0.055875  0.064398  0.073098  0.082058  ...   \n",
      "W2W3W1XXX           0.001765  0.002083  0.002404  0.002734  0.003074  ...   \n",
      "W2W3W1W4W3W2        0.004375  0.005163  0.005960  0.006776  0.007619  ...   \n",
      "M1W4M2W3M3W2        0.031149  0.036697  0.042286  0.047990  0.053860  ...   \n",
      "M1XM2XM3X           0.028557  0.033636  0.038754  0.043975  0.049348  ...   \n",
      "M1M2M3W4W3W2        0.031149  0.036697  0.042286  0.047990  0.053860  ...   \n",
      "A11A11A11A11A11A11  0.360009  0.420384  0.480148  0.540059  0.600623  ...   \n",
      "A11A11A11XXX        0.180004  0.210192  0.240074  0.270030  0.300312  ...   \n",
      "A4A5M2XXX           0.012123  0.014298  0.016495  0.018743  0.021062  ...   \n",
      "A4A5M2A4A5M2        0.024246  0.028597  0.032991  0.037485  0.042123  ...   \n",
      "W4W4W4XXX           0.003466  0.004090  0.004721  0.005368  0.006035  ...   \n",
      "W4W4W4W4W4W4        0.006932  0.008181  0.009443  0.010735  0.012070  ...   \n",
      "\n",
      "                         0.9      0.91      0.92      0.93      0.94  \\\n",
      "tgt                                                                    \n",
      "XXXXXX              0.000000  0.000000  0.000000  0.000000  0.000000   \n",
      "W2XXXXX             0.048929  0.054622  0.061729  0.070595  0.082175   \n",
      "A11XXXXX            0.900043  0.910010  0.920095  0.930042  0.940013   \n",
      "M1XXXXX             0.594137  0.621791  0.651817  0.683679  0.718119   \n",
      "M1M2XXXX            0.949436  1.003663  1.064463  1.131507  1.206881   \n",
      "M1M2M3XXX           1.620052  1.699805  1.787690  1.882723  1.987799   \n",
      "M1M2M3M4XX          2.158910  2.266634  2.385341  2.513606  2.655889   \n",
      "M1M2M3M4M5X         2.649454  2.787030  2.939029  3.103321  3.283930   \n",
      "M1M2M3M4M5M6        3.000697  3.165513  3.348221  3.546770  3.769344   \n",
      "W2W3W1XXX           0.224368  0.249037  0.279430  0.316807  0.364591   \n",
      "W2W3W1W4W3W2        0.546827  0.605516  0.677814  0.766189  0.878764   \n",
      "M1W4M2W3M3W2        1.942543  2.056665  2.186215  2.332067  2.501302   \n",
      "M1XM2XM3X           1.620052  1.699805  1.787690  1.882723  1.987799   \n",
      "M1M2M3W4W3W2        1.942543  2.056665  2.186215  2.332067  2.501302   \n",
      "A11A11A11A11A11A11  5.400257  5.460062  5.520571  5.580253  5.640075   \n",
      "A11A11A11XXX        2.700128  2.730031  2.760285  2.790126  2.820038   \n",
      "A4A5M2XXX           1.084355  1.165508  1.258795  1.364118  1.486288   \n",
      "A4A5M2A4A5M2        2.168710  2.331015  2.517589  2.728236  2.972576   \n",
      "W4W4W4XXX           0.420839  0.464609  0.517922  0.582419  0.663484   \n",
      "W4W4W4W4W4W4        0.841679  0.929219  1.035844  1.164839  1.326969   \n",
      "\n",
      "                        0.95      0.96      0.97      0.98      0.99  \n",
      "tgt                                                                   \n",
      "XXXXXX              0.000000  0.000000  0.000000  0.000000  0.000000  \n",
      "W2XXXXX             0.097993  0.120657  0.156069  0.218935  0.361559  \n",
      "A11XXXXX            0.950036  0.960025  0.970030  0.980024  0.990012  \n",
      "M1XXXXX             0.755578  0.796100  0.840310  0.888591  0.941569  \n",
      "M1M2XXXX            1.292123  1.389926  1.503401  1.637707  1.799146  \n",
      "M1M2M3XXX           2.104697  2.236010  2.384245  2.556099  2.757469  \n",
      "M1M2M3M4XX          2.814278  2.991032  3.190512  3.418304  3.683393  \n",
      "M1M2M3M4M5X         3.485361  3.711096  3.965717  4.258610  4.597666  \n",
      "M1M2M3M4M5M6        4.018799  4.301009  4.626037  5.004293  5.452577  \n",
      "W2W3W1XXX           0.428206  0.515827  0.646898  0.866881  1.317392  \n",
      "W2W3W1W4W3W2        1.027500  1.231364  1.531150  2.013607  2.948895  \n",
      "M1W4M2W3M3W2        2.701829  2.947051  3.263543  3.698510  4.386041  \n",
      "M1XM2XM3X           2.104697  2.236010  2.384245  2.556099  2.757469  \n",
      "M1M2M3W4W3W2        2.701829  2.947051  3.263543  3.698510  4.386041  \n",
      "A11A11A11A11A11A11  5.700215  5.760149  5.820182  5.880142  5.940071  \n",
      "A11A11A11XXX        2.850108  2.880074  2.910091  2.940071  2.970035  \n",
      "A4A5M2XXX           1.629935  1.799930  2.005886  2.259696  2.580181  \n",
      "A4A5M2A4A5M2        3.259870  3.599861  4.011772  4.519391  5.160363  \n",
      "W4W4W4XXX           0.768794  0.909687  1.109086  1.411875  1.927096  \n",
      "W4W4W4W4W4W4        1.537588  1.819374  2.218173  2.823750  3.854191  \n",
      "\n",
      "[20 rows x 99 columns]\n"
     ]
    }
   ],
   "source": [
    "dir1 = 'in-vitro_fits_plots'\n",
    "dir2 = 'Zif268'\n",
    "dir3 = '1par_statmech_predicted'\n",
    "\n",
    "tgts = ['XXXXXX','W2XXXXX','A11XXXXX','M1XXXXX','M1M2XXXX','M1M2M3XXX',\n",
    "        'M1M2M3M4XX','M1M2M3M4M5X','M1M2M3M4M5M6','W2W3W1XXX','W2W3W1W4W3W2',\n",
    "        'M1W4M2W3M3W2', 'M1XM2XM3X', 'M1M2M3W4W3W2', 'A11A11A11A11A11A11', \n",
    "        'A11A11A11XXX', 'A4A5M2XXX', 'A4A5M2A4A5M2', 'W4W4W4XXX', 'W4W4W4W4W4W4']\n",
    "\n",
    "simsConsensus = np.loadtxt(os.path.join(dir1, dir2, dir3, '{}_posterior_sims_imsf_model.csv'.format('A11XXXXX')))\n",
    "meansConsensus = np.percentile(simsConsensus, 50, axis=1)\n",
    "\n",
    "# find indices where meansConsensus first passes these step values in occupancy\n",
    "stepIndices = [np.argmax(meansConsensus>step) for step in np.arange(0.01,1,0.01)] \n",
    "\n",
    "dfs = []\n",
    "\n",
    "for tgt in tgts:\n",
    "    if tgt == 'XXXXXX': ## Note: this target gets a predicted occ. of 0 since it has 0 sites, doesn't matter since we don't use the <N> anyway\n",
    "        simsTgt = np.loadtxt(os.path.join(dir1, dir2, '1par_statmech_measured', '{}_posterior_sims_imsf_model.csv'.format(tgt)))\n",
    "    else:\n",
    "        simsTgt = np.loadtxt(os.path.join(dir1, dir2, dir3, '{}_posterior_sims_imsf_model.csv'.format(tgt)))\n",
    "    meansTgt = list(np.percentile(simsTgt, 50, axis=1)) # Take the mean of all the parameter sets\n",
    "    meansTgt = list(np.take(meansTgt,stepIndices)) # Take the occ.values corresponding to the [TF] where the consensus hits step occ.values\n",
    "    meansTgt.append(tgt)\n",
    "    \n",
    "    dfs.append(meansTgt)\n",
    "\n",
    "columns = [str(interval/100) for interval in np.arange(1,100,1)] # Set up column names\n",
    "columns.append('tgt')\n",
    "df_NtoGE = pd.DataFrame(dfs, columns = columns)\n",
    "df_NtoGE = df_NtoGE.set_index('tgt')\n",
    "\n",
    "print(df_NtoGE)"
   ]
  },
  {
   "cell_type": "markdown",
   "metadata": {
    "tags": [],
    "toc-hr-collapsed": true
   },
   "source": [
    "#### Fill in gene expression data for induced strains"
   ]
  },
  {
   "cell_type": "code",
   "execution_count": 32,
   "metadata": {
    "collapsed": true,
    "jupyter": {
     "outputs_hidden": true
    },
    "tags": []
   },
   "outputs": [
    {
     "name": "stdout",
     "output_type": "stream",
     "text": [
      "start 51 end 59\n",
      "                        0.01      0.02      0.03      0.04      0.05  \\\n",
      "tgt                                                                    \n",
      "XXXXXX              0.000000  0.000000  0.000000  0.000000  0.000000   \n",
      "W2XXXXX             0.000058  0.000117  0.000177  0.000238  0.000301   \n",
      "A11XXXXX            0.010004  0.020008  0.030017  0.040038  0.050042   \n",
      "M1XXXXX             0.001640  0.003308  0.005006  0.006735  0.008491   \n",
      "M1M2XXXX            0.002255  0.004549  0.006885  0.009266  0.011686   \n",
      "M1M2M3XXX           0.004565  0.009206  0.013927  0.018734  0.023615   \n",
      "M1M2M3M4XX          0.005864  0.011826  0.017893  0.024070  0.030343   \n",
      "M1M2M3M4M5X         0.006960  0.014039  0.021244  0.028583  0.036040   \n",
      "M1M2M3M4M5M6        0.007570  0.015270  0.023107  0.031091  0.039202   \n",
      "W2W3W1XXX           0.000280  0.000565  0.000856  0.001154  0.001457   \n",
      "W2W3W1W4W3W2        0.000693  0.001400  0.002122  0.002859  0.003611   \n",
      "M1W4M2W3M3W2        0.004976  0.010035  0.015184  0.020428  0.025754   \n",
      "M1XM2XM3X           0.004565  0.009206  0.013927  0.018734  0.023615   \n",
      "M1M2M3W4W3W2        0.004976  0.010035  0.015184  0.020428  0.025754   \n",
      "A11A11A11A11A11A11  0.060026  0.120049  0.180102  0.240227  0.300249   \n",
      "A11A11A11XXX        0.030013  0.060025  0.090051  0.120113  0.150125   \n",
      "A4A5M2XXX           0.001926  0.003889  0.005890  0.007933  0.010012   \n",
      "A4A5M2A4A5M2        0.003852  0.007777  0.011780  0.015865  0.020024   \n",
      "W4W4W4XXX           0.000549  0.001110  0.001681  0.002266  0.002861   \n",
      "W4W4W4W4W4W4        0.001099  0.002219  0.003363  0.004531  0.005722   \n",
      "\n",
      "                        0.06      0.07      0.08      0.09       0.1  ...  \\\n",
      "tgt                                                                   ...   \n",
      "XXXXXX              0.000000  0.000000  0.000000  0.000000  0.000000  ...   \n",
      "W2XXXXX             0.000365  0.000430  0.000497  0.000565  0.000635  ...   \n",
      "A11XXXXX            0.060001  0.070064  0.080025  0.090010  0.100104  ...   \n",
      "M1XXXXX             0.010271  0.012101  0.013945  0.015826  0.017764  ...   \n",
      "M1M2XXXX            0.014139  0.016663  0.019209  0.021808  0.024486  ...   \n",
      "M1M2M3XXX           0.028557  0.033636  0.038754  0.043975  0.049348  ...   \n",
      "M1M2M3M4XX          0.036697  0.043230  0.049811  0.056527  0.063439  ...   \n",
      "M1M2M3M4M5X         0.043595  0.051365  0.059195  0.067187  0.075416  ...   \n",
      "M1M2M3M4M5M6        0.047421  0.055875  0.064398  0.073098  0.082058  ...   \n",
      "W2W3W1XXX           0.001765  0.002083  0.002404  0.002734  0.003074  ...   \n",
      "W2W3W1W4W3W2        0.004375  0.005163  0.005960  0.006776  0.007619  ...   \n",
      "M1W4M2W3M3W2        0.031149  0.036697  0.042286  0.047990  0.053860  ...   \n",
      "M1XM2XM3X           0.028557  0.033636  0.038754  0.043975  0.049348  ...   \n",
      "M1M2M3W4W3W2        0.031149  0.036697  0.042286  0.047990  0.053860  ...   \n",
      "A11A11A11A11A11A11  0.360009  0.420384  0.480148  0.540059  0.600623  ...   \n",
      "A11A11A11XXX        0.180004  0.210192  0.240074  0.270030  0.300312  ...   \n",
      "A4A5M2XXX           0.012123  0.014298  0.016495  0.018743  0.021062  ...   \n",
      "A4A5M2A4A5M2        0.024246  0.028597  0.032991  0.037485  0.042123  ...   \n",
      "W4W4W4XXX           0.003466  0.004090  0.004721  0.005368  0.006035  ...   \n",
      "W4W4W4W4W4W4        0.006932  0.008181  0.009443  0.010735  0.012070  ...   \n",
      "\n",
      "                        0.97      0.98      0.99        GFPss         SEM  \\\n",
      "tgt                                                                         \n",
      "XXXXXX              0.000000  0.000000  0.000000   133.833239    6.698654   \n",
      "W2XXXXX             0.156069  0.218935  0.361559   127.593828    9.503801   \n",
      "A11XXXXX            0.970030  0.980024  0.990012   263.882332    7.460792   \n",
      "M1XXXXX             0.840310  0.888591  0.941569   130.446826    9.158528   \n",
      "M1M2XXXX            1.503401  1.637707  1.799146   164.925100   10.572680   \n",
      "M1M2M3XXX           2.384245  2.556099  2.757469   425.902396   10.893416   \n",
      "M1M2M3M4XX          3.190512  3.418304  3.683393  1233.004861   53.426163   \n",
      "M1M2M3M4M5X         3.965717  4.258610  4.597666  1725.584864   36.428235   \n",
      "M1M2M3M4M5M6        4.626037  5.004293  5.452577  2089.522475   31.464921   \n",
      "W2W3W1XXX           0.646898  0.866881  1.317392   120.597113    6.610064   \n",
      "W2W3W1W4W3W2        1.531150  2.013607  2.948895   177.075795    9.029785   \n",
      "M1W4M2W3M3W2        3.263543  3.698510  4.386041   965.274670   40.702088   \n",
      "M1XM2XM3X           2.384245  2.556099  2.757469   453.231549   13.606399   \n",
      "M1M2M3W4W3W2        3.263543  3.698510  4.386041   726.645390   29.957255   \n",
      "A11A11A11A11A11A11  5.820182  5.880142  5.940071  2987.668400  103.253515   \n",
      "A11A11A11XXX        2.910091  2.940071  2.970035  1578.349923   63.114874   \n",
      "A4A5M2XXX           2.005886  2.259696  2.580181   158.145463    8.421364   \n",
      "A4A5M2A4A5M2        4.011772  4.519391  5.160363   542.110514   21.300044   \n",
      "W4W4W4XXX           1.109086  1.411875  1.927096   145.677065    8.594179   \n",
      "W4W4W4W4W4W4        2.218173  2.823750  3.854191   311.612247    7.944250   \n",
      "\n",
      "                    GFPss_notinduced  SEM_notinduced  nrSites     affinity  \\\n",
      "tgt                                                                          \n",
      "XXXXXX                    137.792669        9.254057      0.0          NaN   \n",
      "W2XXXXX                   125.835441        9.497492      1.0  2240.806569   \n",
      "A11XXXXX                  138.357591        8.580719      1.0    12.923013   \n",
      "M1XXXXX                   123.378061       12.815407      1.0    78.036016   \n",
      "M1M2XXXX                  167.800841       12.388064      2.0   127.749541   \n",
      "M1M2M3XXX                 248.487867       12.823913      3.0    96.987962   \n",
      "M1M2M3M4XX                293.490129       10.304962      4.0    97.538781   \n",
      "M1M2M3M4M5X               430.374363       30.203179      5.0   101.264837   \n",
      "M1M2M3M4M5M6              549.043390       15.272864      6.0   114.485278   \n",
      "W2W3W1XXX                 117.619780        8.965579      3.0  1628.473097   \n",
      "W2W3W1W4W3W2              174.585657       11.261602      6.0  1312.903866   \n",
      "M1W4M2W3M3W2              648.471655       17.016405      6.0   320.406671   \n",
      "M1XM2XM3X                 268.075561       14.549980      3.0    96.987962   \n",
      "M1M2M3W4W3W2              330.723671       11.850318      6.0   320.406671   \n",
      "A11A11A11A11A11A11        773.728130       27.686586      6.0    12.923013   \n",
      "A11A11A11XXX              172.866874       12.996338      3.0    12.923013   \n",
      "A4A5M2XXX                 158.962028       10.140453      3.0   202.623527   \n",
      "A4A5M2A4A5M2              318.729584       19.748336      6.0   202.623527   \n",
      "W4W4W4XXX                 160.068070       11.324992      3.0   702.322845   \n",
      "W4W4W4W4W4W4              344.502995       11.814118      6.0   702.322845   \n",
      "\n",
      "                    GFPss_difference  \n",
      "tgt                                   \n",
      "XXXXXX                     -3.959429  \n",
      "W2XXXXX                     1.758387  \n",
      "A11XXXXX                  125.524741  \n",
      "M1XXXXX                     7.068764  \n",
      "M1M2XXXX                   -2.875741  \n",
      "M1M2M3XXX                 177.414529  \n",
      "M1M2M3M4XX                939.514732  \n",
      "M1M2M3M4M5X              1295.210501  \n",
      "M1M2M3M4M5M6             1540.479085  \n",
      "W2W3W1XXX                   2.977333  \n",
      "W2W3W1W4W3W2                2.490138  \n",
      "M1W4M2W3M3W2              316.803014  \n",
      "M1XM2XM3X                 185.155988  \n",
      "M1M2M3W4W3W2              395.921719  \n",
      "A11A11A11A11A11A11       2213.940269  \n",
      "A11A11A11XXX             1405.483049  \n",
      "A4A5M2XXX                  -0.816565  \n",
      "A4A5M2A4A5M2              223.380930  \n",
      "W4W4W4XXX                 -14.391005  \n",
      "W4W4W4W4W4W4              -32.890749  \n",
      "\n",
      "[20 rows x 106 columns]\n"
     ]
    },
    {
     "name": "stderr",
     "output_type": "stream",
     "text": [
      "/Users/transcend/opt/anaconda3/lib/python3.8/site-packages/numpy/core/fromnumeric.py:3419: RuntimeWarning: Mean of empty slice.\n",
      "  return _methods._mean(a, axis=axis, dtype=dtype,\n",
      "/Users/transcend/opt/anaconda3/lib/python3.8/site-packages/numpy/core/_methods.py:188: RuntimeWarning: invalid value encountered in double_scalars\n",
      "  ret = ret.dtype.type(ret / rcount)\n"
     ]
    }
   ],
   "source": [
    "C0 = 0.6e9 #reference concentration parameter\n",
    "\n",
    "dir1 = 'in-vitro_fits_plots'\n",
    "dir2 = 'Zif268'\n",
    "dir3 = '1par_statmech_predicted'\n",
    "\n",
    "params_df = pd.read_csv(os.path.join(dir1,dir2,'1par_statmech_measured','fit_params_imsf_model.csv'), index_col=0)\n",
    "\n",
    "tgtsToPromoters = {'XXXXXX':'NS','W2XXXXX':'1V','A11XXXXX':'1S','M1XXXXX':'1W','M1M2XXXX':'2W',\n",
    "                   'M1M2M3XXX':'3W','M1M2M3M4XX':'4W','M1M2M3M4M5X':'5W','M1M2M3M4M5M6':'6W',\n",
    "                   'W2W3W1W4W3W2':'6V','M1W4M2W3M3W2':\"3W3V'\", 'M1XM2XM3X':\"3W'\", 'M1M2M3W4W3W2':\"3W3V\", \n",
    "                   'A11A11A11A11A11A11':'6S', 'A11A11A11XXX':'3S', 'A4A5M2XXX':'3VW', 'A4A5M2A4A5M2':'6VW', \n",
    "                   'W4W4W4XXX':\"3V'\", 'W4W4W4W4W4W4':\"6V'\", 'W2W3W1XXX':\"3V\"}\n",
    "\n",
    "promotersToTgts = {value : key for (key, value) in tgtsToPromoters.items()} #invert dictionary\n",
    "\n",
    "listInduced=load_obj(os.path.join('obj','listInduced_Zif268_v1_media>0'))\n",
    "listNotInduced=load_obj(os.path.join('obj','listNotInduced_Zif268_v1'))\n",
    "\n",
    "channel = 'GFP70/OD600'\n",
    "\n",
    "channelMean = '{}mean'.format(channel)\n",
    "channelTimevals = '{}mins'.format(channel)\n",
    "channelSEM = '{}sem'.format(channel)\n",
    "\n",
    "timeInterval = {'start':8.5*60, 'stop':10*60}\n",
    "start, end = mins_to_index(timeInterval, listInduced[0][channelTimevals])\n",
    "print('start',start,'end',end)\n",
    "\n",
    "df_NtoGE[\"GFPss\"] = np.nan #add column to NtoGE dataframe for GFPss\n",
    "df_NtoGE[\"SEM\"] = np.nan # column for the standard error\n",
    "df_NtoGE[\"GFPss_notinduced\"] = np.nan\n",
    "df_NtoGE[\"SEM_notinduced\"] = np.nan\n",
    "df_NtoGE[\"nrSites\"] = np.nan\n",
    "df_NtoGE[\"affinity\"] = np.nan\n",
    "\n",
    "for tgt in df_NtoGE.index: #iterate through DF\n",
    "    \n",
    "    for dataset in listInduced: #search the list of dicts for each promoter \n",
    "        \n",
    "        promoter = dataset['binding_sites']\n",
    "        \n",
    "        if promoter == tgtsToPromoters[tgt]:\n",
    "            \n",
    "            meanSS = np.mean(dataset[channelMean][start:end+1])\n",
    "            SEM = np.mean(dataset[channelSEM][start:end+1])\n",
    "            \n",
    "            df_NtoGE.loc[tgt, \"SEM\"] = SEM\n",
    "            df_NtoGE.loc[tgt, \"GFPss\"] = meanSS\n",
    "            \n",
    "            break\n",
    "            \n",
    "    for dataset in listNotInduced:\n",
    "        \n",
    "        promoter = dataset['binding_sites']\n",
    "        \n",
    "        if promoter == tgtsToPromoters[tgt]:\n",
    "            \n",
    "            meanSS = np.mean(dataset[channelMean][start:end+1])\n",
    "            SEM = np.mean(dataset[channelSEM][start:end+1])\n",
    "            \n",
    "            df_NtoGE.loc[tgt, \"SEM_notinduced\"] = SEM\n",
    "            df_NtoGE.loc[tgt, \"GFPss_notinduced\"] = meanSS\n",
    "            \n",
    "            break\n",
    "    \n",
    "    nrSites = target_info.loc[tgt,'NumSites']\n",
    "    df_NtoGE.loc[tgt, \"nrSites\"] = nrSites\n",
    "\n",
    "    sites = site_info[tgt]\n",
    "    de1Array = []\n",
    "    for ss in sites:\n",
    "        de1Array.append(params_df.loc[referenceSingleTargets[ss], 'de1'])\n",
    "    val_kd = C0*np.exp(np.mean(de1Array)) # compute average site affinity as another feature\n",
    "    \n",
    "    df_NtoGE.loc[tgt, \"affinity\"] = val_kd    \n",
    "    df_NtoGE[\"GFPss_difference\"] = df_NtoGE[\"GFPss\"] - df_NtoGE[\"GFPss_notinduced\"] \n",
    "\n",
    "save_obj(df_NtoGE, os.path.join(dir1,dir2,dir3,'df_NtoGE_induced-uninduced'))\n",
    "print(df_NtoGE) # Note: the warning is just due to the 'XXXXXX' tgt"
   ]
  },
  {
   "cell_type": "markdown",
   "metadata": {
    "tags": [],
    "toc-hr-collapsed": true
   },
   "source": [
    "#### Create a new df_NtoGE but with 'measured' values, for the targets characterized in vitro (use later to compare measured to predicted)"
   ]
  },
  {
   "cell_type": "code",
   "execution_count": 33,
   "metadata": {
    "collapsed": true,
    "jupyter": {
     "outputs_hidden": true
    },
    "tags": []
   },
   "outputs": [
    {
     "name": "stdout",
     "output_type": "stream",
     "text": [
      "[0.00776529 0.00777595 0.00778661 ... 0.99987188 0.99987206 0.99987224]\n",
      "                  0.01      0.02      0.03      0.04      0.05      0.06  \\\n",
      "tgt                                                                        \n",
      "W2XXXXX       0.000058  0.000117  0.000177  0.000238  0.000301  0.000365   \n",
      "A11XXXXX      0.010004  0.020008  0.030017  0.040038  0.050042  0.060001   \n",
      "M1XXXXX       0.001640  0.003308  0.005006  0.006735  0.008491  0.010271   \n",
      "M1M2XXXX      0.002101  0.004239  0.006419  0.008641  0.010902  0.013195   \n",
      "M1M2M3XXX     0.003024  0.006104  0.009242  0.012442  0.015697  0.019000   \n",
      "M1M2M3M4XX    0.004119  0.008314  0.012588  0.016947  0.021381  0.025879   \n",
      "M1M2M3M4M5X   0.005496  0.011092  0.016793  0.022607  0.028519  0.034516   \n",
      "M1M2M3M4M5M6  0.005684  0.011472  0.017371  0.023388  0.029509  0.035720   \n",
      "W2W3W1W4W3W2  0.000606  0.001223  0.001854  0.002499  0.003156  0.003823   \n",
      "\n",
      "                  0.07      0.08      0.09       0.1  ...       0.9      0.91  \\\n",
      "tgt                                                   ...                       \n",
      "W2XXXXX       0.000430  0.000497  0.000565  0.000635  ...  0.048929  0.054622   \n",
      "A11XXXXX      0.070064  0.080025  0.090010  0.100104  ...  0.900043  0.910010   \n",
      "M1XXXXX       0.012101  0.013945  0.015826  0.017764  ...  0.594137  0.621791   \n",
      "M1M2XXXX      0.015556  0.017938  0.020373  0.022883  ...  0.967386  1.025400   \n",
      "M1M2M3XXX     0.022401  0.025833  0.029340  0.032957  ...  1.420308  1.507279   \n",
      "M1M2M3M4XX    0.030510  0.035184  0.039960  0.044883  ...  1.915127  2.031135   \n",
      "M1M2M3M4M5X   0.040690  0.046919  0.053284  0.059845  ...  2.475471  2.620454   \n",
      "M1M2M3M4M5M6  0.042117  0.048573  0.055172  0.061976  ...  2.747681  2.921194   \n",
      "W2W3W1W4W3W2  0.004512  0.005209  0.005923  0.006660  ...  0.495151  0.550496   \n",
      "\n",
      "                  0.92      0.93      0.94      0.95      0.96      0.97  \\\n",
      "tgt                                                                        \n",
      "W2XXXXX       0.061729  0.070595  0.082175  0.097993  0.120657  0.156069   \n",
      "A11XXXXX      0.920095  0.930042  0.940013  0.950036  0.960025  0.970030   \n",
      "M1XXXXX       0.651817  0.683679  0.718119  0.755578  0.796100  0.840310   \n",
      "M1M2XXXX      1.090100  1.160786  1.239651  1.328479  1.428350  1.542080   \n",
      "M1M2M3XXX     1.604519  1.711051  1.830278  1.965032  2.117133  2.291108   \n",
      "M1M2M3M4XX    2.160670  2.302376  2.460714  2.639350  2.840569  3.070194   \n",
      "M1M2M3M4M5X   2.781694  2.957310  3.152582  3.371688  3.616985  3.894976   \n",
      "M1M2M3M4M5M6  3.115937  3.330195  3.571116  3.844862  4.155709  4.513706   \n",
      "W2W3W1W4W3W2  0.618968  0.703405  0.812097  0.957744  1.160910  1.465988   \n",
      "\n",
      "                  0.98      0.99  \n",
      "tgt                               \n",
      "W2XXXXX       0.218935  0.361559  \n",
      "A11XXXXX      0.980024  0.990012  \n",
      "M1XXXXX       0.888591  0.941569  \n",
      "M1M2XXXX      1.672362  1.823205  \n",
      "M1M2M3XXX     2.491416  2.724701  \n",
      "M1M2M3M4XX    3.333872  3.640018  \n",
      "M1M2M3M4M5X   4.211677  4.576055  \n",
      "M1M2M3M4M5M6  4.929157  5.417469  \n",
      "W2W3W1W4W3W2  1.973367  2.985135  \n",
      "\n",
      "[9 rows x 99 columns]\n"
     ]
    }
   ],
   "source": [
    "dir1 = 'in-vitro_fits_plots'\n",
    "dir2 = 'Zif268'\n",
    "dir3 = '1par_statmech_measured'\n",
    "\n",
    "tgts = ['W2XXXXX','A11XXXXX','M1XXXXX','M1M2XXXX','M1M2M3XXX','M1M2M3M4XX','M1M2M3M4M5X','M1M2M3M4M5M6','W2W3W1W4W3W2']\n",
    "\n",
    "simsConsensus = np.loadtxt(os.path.join(dir1, dir2, dir3, '{}_posterior_sims_imsf_model.csv'.format('A11XXXXX')))\n",
    "meansConsensus = np.percentile(simsConsensus, 50, axis=1)\n",
    "print(meansConsensus)\n",
    "# find indices where meansConsensus first passes these step values in occupancy\n",
    "stepIndices = [np.argmax(meansConsensus>step) for step in np.arange(0.01,1,0.01)] \n",
    "\n",
    "dfs = []\n",
    "\n",
    "for tgt in tgts:\n",
    "    simsTgt = np.loadtxt(os.path.join(dir1, dir2, dir3, '{}_posterior_sims_imsf_model.csv'.format(tgt)))\n",
    "    meansTgt = list(np.percentile(simsTgt, 50, axis=1)) # Take the mean of all the parameter sets\n",
    "    meansTgt = list(np.take(meansTgt,stepIndices)) # Take the occ.values corresponding to [TF] where the consensus hits certain occ.values\n",
    "    meansTgt.append(tgt)\n",
    "    \n",
    "    dfs.append(meansTgt)\n",
    "\n",
    "columns = [str(interval/100) for interval in np.arange(1,100,1)] # Naming the columns\n",
    "columns.append('tgt')\n",
    "df_NtoGE_measured = pd.DataFrame(dfs, columns = columns)\n",
    "df_NtoGE_measured = df_NtoGE_measured.set_index('tgt')\n",
    "\n",
    "print(df_NtoGE_measured)\n",
    "\n",
    "save_obj(df_NtoGE_measured, os.path.join(dir1,dir2,dir3,'df_NtoGE_measured'))"
   ]
  },
  {
   "cell_type": "markdown",
   "metadata": {
    "tags": []
   },
   "source": [
    "### Plotting Methods"
   ]
  },
  {
   "cell_type": "markdown",
   "metadata": {
    "tags": [],
    "toc-hr-collapsed": true
   },
   "source": [
    "#### Plot GFPss vs. < N > for predicted"
   ]
  },
  {
   "cell_type": "code",
   "execution_count": 34,
   "metadata": {
    "tags": []
   },
   "outputs": [],
   "source": [
    "def plot_meanOcc_vs_GEout(plot_config):\n",
    "    \n",
    "    tgtsToPromoters = {'XXXXXX':'NS','W2XXXXX':'1V','A11XXXXX':'1S','M1XXXXX':'1W','M1M2XXXX':'2W','M1M2M3XXX':'3W','M1M2M3M4XX':'4W','M1M2M3M4M5X':'5W','M1M2M3M4M5M6':'6W','W2W3W1W4W3W2':'6V','M1W4M2W3M3W2':\"3W3V'\", 'M1XM2XM3X':\"3W'\", 'M1M2M3W4W3W2':\"3W3V\", 'A11A11A11A11A11A11':'6S', 'A11A11A11XXX':'3S', 'A4A5M2XXX':'3VW', 'A4A5M2A4A5M2':'6VW', 'W4W4W4XXX':\"3V'\", 'W4W4W4W4W4W4':\"6V'\", 'W2W3W1XXX':\"3V\"}\n",
    "    promotersToTgts = {value : key for (key, value) in tgtsToPromoters.items()} #invert dictionary\n",
    "    colorscheme = {'NS':'k', '1V':'#CBB6A2', '1S':'#579E7C', '1W':'#AF7CB5', '3V':'#CBB6A2', '3W':'#AF7CB5', '6V':'#CBB6A2', '6W':'#AF7CB5','2W':'#AF7CB5','4W':'#AF7CB5','5W':'#AF7CB5',\"3V'\":'#897A77',\"6V'\":'#897A77','3VW':'#EFDAE6','6VW':'#EFDAE6','3S':'#579E7C','6S':'#579E7C','3W3V':'#B79C97',\"3W'\":'#AF7CB5',\"3W3V'\":'#B79C97'}\n",
    "    \n",
    "    pc = plot_config\n",
    "\n",
    "    fig, axes = plt.subplots(nrows=1, ncols=1, figsize=pc['figsize'])\n",
    "    \n",
    "    if pc['status']=='induced':\n",
    "        GFPss = 'GFPss'\n",
    "        SEM = 'SEM'\n",
    "    elif pc['status']=='induced_diff':\n",
    "        GFPss = 'GFPss_difference'\n",
    "        SEM = 'SEM'\n",
    "    elif pc['status']=='uninduced':\n",
    "        GFPss = 'GFPss_notinduced'\n",
    "        SEM = 'SEM_notinduced'\n",
    "    else:\n",
    "        print('PLEASE SPECIFY INDUCER STATUS...')\n",
    "        x = 1/0\n",
    "    \n",
    "    for tgt in pc['df'].index:\n",
    "        \n",
    "        if isinstance(pc['consensusOcc'],float):\n",
    "            x = pc['df'].loc[tgt,str(pc['consensusOcc'])]\n",
    "        \n",
    "        if isinstance(pc['consensusOcc'],dict):\n",
    "            x = pc['df'].loc[tgt,str(pc['consensusOcc']['mid'])]\n",
    "            lower = pc['df'].loc[tgt,str(pc['consensusOcc']['mid'])]-pc['df'].loc[tgt,str(pc['consensusOcc']['low'])]\n",
    "            upper = pc['df'].loc[tgt,str(pc['consensusOcc']['high'])]-pc['df'].loc[tgt,str(pc['consensusOcc']['mid'])]\n",
    "            xerr = np.vstack((lower, upper))\n",
    "        \n",
    "        y = pc['df'].loc[tgt,GFPss]\n",
    "\n",
    "        color=[]\n",
    "        color = colorscheme[tgtsToPromoters[tgt]]\n",
    "        \n",
    "        if isinstance(pc['consensusOcc'],float):\n",
    "            if tgt == 'XXXXXX':\n",
    "                y_error = pc['df'].loc[tgt,SEM]\n",
    "#                 axes.add_patch(plt.Rectangle((pc['xlim'][0],y-y_error), pc['xlim'][1]-pc['xlim'][0], 2*y_error, facecolor=color, alpha=1, zorder=1))\n",
    "            else:\n",
    "                axes.scatter(x, y, marker='o', c=color, s=100, linewidths=1.75, edgecolors='k', zorder=2)\n",
    "        \n",
    "        elif isinstance(pc['consensusOcc'],dict):\n",
    "            axes.errorbar(x, y, xerr=xerr, fmt='o', c=color, capsize=0, label='Data', zorder=2, elinewidth=3) #edgecolors=colorscheme[tgtsToPromoters[tgt]]\n",
    "\n",
    "\n",
    "    axes.grid(b=True, which='both', axis='both', zorder=1, alpha = 0.3)\n",
    "\n",
    "    if 'xlabel' in pc:\n",
    "        axes.set_xlabel(pc['xlabel'],fontsize=18, labelpad=30)\n",
    "    if 'ylabel' in pc:\n",
    "        axes.set_ylabel(pc['ylabel'],fontsize=18, labelpad=30)\n",
    "\n",
    "    if 'ylim' in pc:\n",
    "        axes.set_ylim(pc['ylim'])\n",
    "    if 'xlim' in pc:\n",
    "        axes.set_xlim(pc['xlim'])\n",
    "\n",
    "    if 'xscale' in pc:\n",
    "        axes.set_xscale(pc['xscale'])\n",
    "    if 'yscale' in pc:\n",
    "        axes.set_yscale(pc['yscale'])\n",
    "\n",
    "    if 'xmajorticks' in pc:\n",
    "        majorLocator   = FixedLocator(pc['xmajorticks'])\n",
    "        axes.xaxis.set_major_locator(majorLocator)\n",
    "        axes.xaxis.set_major_formatter(FormatStrFormatter(pc['xtickformat']))\n",
    "    if 'xminorticks' in pc:\n",
    "        minorLocator   = FixedLocator(pc['xminorticks'])\n",
    "        axes.xaxis.set_minor_locator(minorLocator)\n",
    "        axes.tick_params(axis='x', which='minor', label1On=False)\n",
    "        \n",
    "    if 'ymajorticks' in pc:\n",
    "        majorLocator   = FixedLocator(pc['ymajorticks'])\n",
    "        axes.yaxis.set_major_locator(majorLocator)\n",
    "        axes.yaxis.set_major_formatter(FormatStrFormatter(pc['ytickformat']))\n",
    "    if 'yminorticks' in pc:\n",
    "        minorLocator   = FixedLocator(pc['yminorticks'])\n",
    "        axes.yaxis.set_minor_locator(minorLocator)\n",
    "        axes.tick_params(axis='y', which='minor', label1On=False)\n",
    "    \n",
    "    if 'title' in pc: \n",
    "        axes.set_title(pc['title'],fontsize=16)\n",
    "    \n",
    "    if 'saveas' in pc:\n",
    "        plt.savefig((pc['saveas']+'.jpg'), dpi=300, bbox_inches = \"tight\")\n",
    "        plt.savefig((pc['saveas']+'.svg'), dpi=300, bbox_inches = \"tight\")\n",
    "\n",
    "\n",
    "    plt.show()"
   ]
  },
  {
   "cell_type": "markdown",
   "metadata": {
    "heading_collapsed": "true",
    "tags": [],
    "toc-hr-collapsed": true
   },
   "source": [
    "#### Plot Measured vs. Predicted < N >"
   ]
  },
  {
   "cell_type": "code",
   "execution_count": 35,
   "metadata": {
    "tags": []
   },
   "outputs": [],
   "source": [
    "def plot_measured_vs_predicted(plot_config):\n",
    "    \n",
    "    def linear(x, m, b):\n",
    "        y = m*x + b\n",
    "        return y\n",
    "    \n",
    "    tgtsToPromoters = {'XXXXXX':'NS','W2XXXXX':'1V','A11XXXXX':'1S','M1XXXXX':'1W','M1M2XXXX':'2W','M1M2M3XXX':'3W','M1M2M3M4XX':'4W','M1M2M3M4M5X':'5W','M1M2M3M4M5M6':'6W','W2W3W1W4W3W2':'6V','M1W4M2W3M3W2':\"3W3V'\", 'M1XM2XM3X':\"3W'\", 'M1M2M3W4W3W2':\"3W3V\", 'A11A11A11A11A11A11':'6S', 'A11A11A11XXX':'3S', 'A4A5M2XXX':'3VW', 'A4A5M2A4A5M2':'6VW', 'W4W4W4XXX':\"3V'\", 'W4W4W4W4W4W4':\"6V'\", 'W2W3W1XXX':\"3V\"}\n",
    "    promotersToTgts = {value : key for (key, value) in tgtsToPromoters.items()} #invert dictionary\n",
    "    colorscheme = {'NS':'k', '1V':'#CBB6A2', '1S':'#579E7C', '1W':'#AF7CB5', '3V':'#CBB6A2', '3W':'#AF7CB5', '6V':'#CBB6A2', '6W':'#AF7CB5','2W':'#AF7CB5','4W':'#AF7CB5','5W':'#AF7CB5',\"3V'\":'#897A77',\"6V'\":'#897A77','3VW':'#EFDAE6','6VW':'#EFDAE6','3S':'#579E7C','6S':'#579E7C','3W3V':'#B79C97',\"3W'\":'#AF7CB5',\"3W3V'\":'#B79C97'}\n",
    "    \n",
    "    pc = plot_config\n",
    "\n",
    "    fig, axes = plt.subplots(nrows=1, ncols=1, figsize=pc['figsize'])\n",
    "    \n",
    "    xd = []\n",
    "    yd = []\n",
    "    \n",
    "    for tgt in pc['df_measured'].index:\n",
    "                \n",
    "        x = pc['df_predicted'].loc[tgt,str(pc['consensusOcc'])]\n",
    "        y = pc['df_measured'].loc[tgt,str(pc['consensusOcc'])]\n",
    "\n",
    "        color=[]\n",
    "        color = colorscheme[tgtsToPromoters[tgt]]\n",
    "        \n",
    "        axes.scatter(x, y, marker='o', c=color, s=100, linewidths=1, edgecolors='k')\n",
    "        \n",
    "        xd.append(x)\n",
    "        yd.append(y)\n",
    "\n",
    "    linmodel = Model(linear)\n",
    "    params = linmodel.make_params(m=1, b=0)\n",
    "    params['b'].vary=False\n",
    "    \n",
    "    result = linmodel.fit(yd, params, x=xd)\n",
    "    \n",
    "    Rsq = 1 - result.residual.var() / np.var(yd)  # Manually calculate the r-squared value\n",
    "    print('Rsq: ',Rsq)\n",
    "    \n",
    "    print(result.fit_report())\n",
    "    \n",
    "    axes.plot(xd, result.best_fit, 'k-')\n",
    "        \n",
    "    axes.grid(b=True, which='both', axis='both', zorder=1, alpha = 0.3)\n",
    "\n",
    "    if 'xlabel' in pc:\n",
    "        axes.set_xlabel(pc['xlabel'],fontsize=18, labelpad=30)\n",
    "    if 'ylabel' in pc:\n",
    "        axes.set_ylabel(pc['ylabel'],fontsize=18, labelpad=30)\n",
    "\n",
    "    if 'ylim' in pc:\n",
    "        axes.set_ylim(pc['ylim'])\n",
    "    if 'xlim' in pc:\n",
    "        axes.set_xlim(pc['xlim'])\n",
    "\n",
    "    if 'xscale' in pc:\n",
    "        axes.set_xscale(pc['xscale'])\n",
    "    if 'yscale' in pc:\n",
    "        axes.set_yscale(pc['yscale'])\n",
    "\n",
    "    if 'xmajorticks' in pc:\n",
    "        majorLocator   = FixedLocator(pc['xmajorticks'])\n",
    "        axes.xaxis.set_major_locator(majorLocator)\n",
    "        axes.xaxis.set_major_formatter(FormatStrFormatter(pc['xtickformat']))\n",
    "    if 'xminorticks' in pc:\n",
    "        minorLocator   = FixedLocator(pc['xminorticks'])\n",
    "        axes.xaxis.set_minor_locator(minorLocator)\n",
    "        axes.tick_params(axis='x', which='minor', label1On=False)\n",
    "        \n",
    "    if 'ymajorticks' in pc:\n",
    "        majorLocator   = FixedLocator(pc['ymajorticks'])\n",
    "        axes.yaxis.set_major_locator(majorLocator)\n",
    "        axes.yaxis.set_major_formatter(FormatStrFormatter(pc['ytickformat']))\n",
    "    if 'yminorticks' in pc:\n",
    "        minorLocator   = FixedLocator(pc['yminorticks'])\n",
    "        axes.yaxis.set_minor_locator(minorLocator)\n",
    "        axes.tick_params(axis='y', which='minor', label1On=False)\n",
    "    \n",
    "    if 'title' in pc: \n",
    "        axes.set_title(pc['title']+', R$^2$: '+str(round(Rsq,3)),fontsize=16)\n",
    "    \n",
    "    if 'saveas' in pc:\n",
    "        plt.savefig((pc['saveas']+'.jpg'), dpi=300, bbox_inches = \"tight\")\n",
    "        plt.savefig((pc['saveas']+'.svg'), dpi=300, bbox_inches = \"tight\")\n",
    "\n",
    "\n",
    "    plt.show()"
   ]
  },
  {
   "cell_type": "markdown",
   "metadata": {
    "tags": []
   },
   "source": [
    "### Plots"
   ]
  },
  {
   "cell_type": "markdown",
   "metadata": {
    "tags": [],
    "toc-hr-collapsed": true
   },
   "source": [
    "#### Gene expression as a function of mean occupancy < N >, induced-uninduced"
   ]
  },
  {
   "cell_type": "code",
   "execution_count": 36,
   "metadata": {
    "tags": []
   },
   "outputs": [
    {
     "data": {
      "image/png": "[encoded data removed]",
      "text/plain": [
       "<Figure size 432x360 with 1 Axes>"
      ]
     },
     "metadata": {
      "needs_background": "light"
     },
     "output_type": "display_data"
    }
   ],
   "source": [
    "dir1 = 'in-vitro_fits_plots'\n",
    "dir2 = 'Zif268'\n",
    "dir3 = '1par_statmech_predicted'\n",
    "\n",
    "df_NtoGE = load_obj(os.path.join(dir1,dir2,dir3,'df_NtoGE_induced-uninduced'))\n",
    "plot_config = dict(\n",
    "    df = df_NtoGE,\n",
    "    figsize = (6,5),\n",
    "    yscale = 'linear',\n",
    "    xlabel = '<N> Mean Occupancy',\n",
    "    ylabel = 'Normalized GFP at Steady-State',\n",
    "    xmajorticks = [0,1,2,3,4,5,6],\n",
    "    xminorticks = [0.5,1.0,1.5,2,2.5,3,3.5,4,4.5,5,5.5],\n",
    "    ymajorticks = [0, 500, 1000, 1500, 2000, 2500, 3000],\n",
    "    xtickformat = '%g',\n",
    "    ytickformat = '%g',\n",
    "    consensusOcc = 0.9,\n",
    "    status = 'induced_diff',\n",
    "    xlim = [-0.1,6.1],\n",
    "    ylim = [-100, 3000],\n",
    "    colors = {'NS':'k', '1V':'#CBB6A2', '1S':'#579E7C', '1W':'#AF7CB5', '3V':'#CBB6A2', '3W':'#AF7CB5', '6V':'#CBB6A2', '6W':'#AF7CB5','2W':'#AF7CB5','4W':'#AF7CB5','5W':'#AF7CB5',\"3V'\":'#897A77',\"6V'\":'#897A77','3VW':'#EFDAE6','6VW':'#EFDAE6','3S':'#579E7C','6S':'#579E7C','3W3V':'#B79C97',\"3W'\":'#AF7CB5',\"3W3V'\":'#B79C97'},\n",
    "    xscale = 'linear',\n",
    "    title = 'Consensus 90% Saturated induced-uninduced',\n",
    "    saveas = os.path.join(dir1,dir2,dir3,'meanOcc_GFPss_0.90_induced-uninduced'))\n",
    "\n",
    "plot_meanOcc_vs_GEout(plot_config)"
   ]
  },
  {
   "cell_type": "markdown",
   "metadata": {
    "tags": [],
    "toc-hr-collapsed": true
   },
   "source": [
    "#### Gene expression as a function of mean occupancy < N >, induced-uninduced, cons. occ = 0.95"
   ]
  },
  {
   "cell_type": "code",
   "execution_count": 37,
   "metadata": {
    "tags": []
   },
   "outputs": [
    {
     "data": {
      "image/png": "[encoded data removed]",
      "text/plain": [
       "<Figure size 432x360 with 1 Axes>"
      ]
     },
     "metadata": {
      "needs_background": "light"
     },
     "output_type": "display_data"
    }
   ],
   "source": [
    "dir1 = 'in-vitro_fits_plots'\n",
    "dir2 = 'Zif268'\n",
    "dir3 = '1par_statmech_predicted'\n",
    "\n",
    "df_NtoGE = load_obj(os.path.join(dir1,dir2,dir3,'df_NtoGE_induced-uninduced'))\n",
    "plot_config = dict(\n",
    "    df = df_NtoGE,\n",
    "    figsize = (6,5),\n",
    "    yscale = 'linear',\n",
    "    xlabel = '<N> Mean Occupancy',\n",
    "    ylabel = 'Normalized GFP at Steady-State',\n",
    "    xmajorticks = [0,1,2,3,4,5,6],\n",
    "    xminorticks = [0.5,1.0,1.5,2,2.5,3,3.5,4,4.5,5,5.5],\n",
    "    ymajorticks = [0, 500, 1000, 1500, 2000, 2500, 3000],\n",
    "    xtickformat = '%g',\n",
    "    ytickformat = '%g',\n",
    "    consensusOcc = 0.95,\n",
    "    status = 'induced_diff',\n",
    "    xlim = [-0.1,6.1],\n",
    "    ylim = [-100, 3000],\n",
    "    colors = {'NS':'k', '1V':'#CBB6A2', '1S':'#579E7C', '1W':'#AF7CB5', '3V':'#CBB6A2', '3W':'#AF7CB5', '6V':'#CBB6A2', '6W':'#AF7CB5','2W':'#AF7CB5','4W':'#AF7CB5','5W':'#AF7CB5',\"3V'\":'#897A77',\"6V'\":'#897A77','3VW':'#EFDAE6','6VW':'#EFDAE6','3S':'#579E7C','6S':'#579E7C','3W3V':'#B79C97',\"3W'\":'#AF7CB5',\"3W3V'\":'#B79C97'},\n",
    "    xscale = 'linear',\n",
    "    title = '',\n",
    "    saveas = os.path.join(dir1,dir2,dir3,'meanOcc_GFPss_0.95_induced-uninduced'))\n",
    "\n",
    "plot_meanOcc_vs_GEout(plot_config)"
   ]
  },
  {
   "cell_type": "markdown",
   "metadata": {
    "tags": [],
    "toc-hr-collapsed": true
   },
   "source": [
    "#### Gene expression as a function of mean occupancy < N >, induced-uninduced, cons. occ = 0.85"
   ]
  },
  {
   "cell_type": "code",
   "execution_count": 38,
   "metadata": {
    "tags": []
   },
   "outputs": [
    {
     "data": {
      "image/png": "[encoded data removed]",
      "text/plain": [
       "<Figure size 432x360 with 1 Axes>"
      ]
     },
     "metadata": {
      "needs_background": "light"
     },
     "output_type": "display_data"
    }
   ],
   "source": [
    "dir1 = 'in-vitro_fits_plots'\n",
    "dir2 = 'Zif268'\n",
    "dir3 = '1par_statmech_predicted'\n",
    "\n",
    "df_NtoGE = load_obj(os.path.join(dir1,dir2,dir3,'df_NtoGE_induced-uninduced'))\n",
    "plot_config = dict(\n",
    "    df = df_NtoGE,\n",
    "    figsize = (6,5),\n",
    "    yscale = 'linear',\n",
    "    xlabel = '<N> Mean Occupancy',\n",
    "    ylabel = 'Normalized GFP at Steady-State',\n",
    "    xmajorticks = [0,1,2,3,4,5,6],\n",
    "    xminorticks = [0.5,1.0,1.5,2,2.5,3,3.5,4,4.5,5,5.5],\n",
    "    ymajorticks = [0, 500, 1000, 1500, 2000, 2500, 3000],\n",
    "    xtickformat = '%g',\n",
    "    ytickformat = '%g',\n",
    "    consensusOcc = 0.85,\n",
    "    status = 'induced_diff',\n",
    "    xlim = [-0.1,6.1],\n",
    "    ylim = [-100, 3000],\n",
    "    colors = {'NS':'k', '1V':'#CBB6A2', '1S':'#579E7C', '1W':'#AF7CB5', '3V':'#CBB6A2', '3W':'#AF7CB5', '6V':'#CBB6A2', '6W':'#AF7CB5','2W':'#AF7CB5','4W':'#AF7CB5','5W':'#AF7CB5',\"3V'\":'#897A77',\"6V'\":'#897A77','3VW':'#EFDAE6','6VW':'#EFDAE6','3S':'#579E7C','6S':'#579E7C','3W3V':'#B79C97',\"3W'\":'#AF7CB5',\"3W3V'\":'#B79C97'},\n",
    "    xscale = 'linear',\n",
    "    title = '',\n",
    "    saveas = os.path.join(dir1,dir2,dir3,'meanOcc_GFPss_0.85_induced-uninduced'))\n",
    "\n",
    "plot_meanOcc_vs_GEout(plot_config)"
   ]
  },
  {
   "cell_type": "markdown",
   "metadata": {
    "tags": [],
    "toc-hr-collapsed": true
   },
   "source": [
    "#### Gene expression as a function of mean occupancy < N >, induced"
   ]
  },
  {
   "cell_type": "code",
   "execution_count": 40,
   "metadata": {
    "tags": []
   },
   "outputs": [
    {
     "data": {
      "image/png": "[encoded data removed]",
      "text/plain": [
       "<Figure size 432x360 with 1 Axes>"
      ]
     },
     "metadata": {
      "needs_background": "light"
     },
     "output_type": "display_data"
    }
   ],
   "source": [
    "dir1 = 'in-vitro_fits_plots'\n",
    "dir2 = 'Zif268'\n",
    "dir3 = '1par_statmech_predicted'\n",
    "\n",
    "df_NtoGE = load_obj(os.path.join(dir1,dir2,dir3,'df_NtoGE'))\n",
    "plot_config = dict(\n",
    "    df = df_NtoGE,\n",
    "    figsize = (6,5),\n",
    "    yscale = 'linear',\n",
    "    xlabel = '<N> Mean Occupancy',\n",
    "    ylabel = 'Normalized GFP at Steady-State',\n",
    "    xmajorticks = [0,1,2,3,4,5,6],\n",
    "    xminorticks = [0.5,1.0,1.5,2,2.5,3,3.5,4,4.5,5,5.5],\n",
    "    ymajorticks = [0, 500, 1000, 1500, 2000, 2500, 3000],\n",
    "    xtickformat = '%g',\n",
    "    ytickformat = '%g',\n",
    "    consensusOcc = 0.90,\n",
    "    status = 'induced',\n",
    "    xlim = [-0.1,6.1],\n",
    "    ylim = [0, 3250],\n",
    "    colors = {'NS':'k', '1V':'#CBB6A2', '1S':'#579E7C', '1W':'#AF7CB5', '3V':'#CBB6A2', '3W':'#AF7CB5', '6V':'#CBB6A2', '6W':'#AF7CB5','2W':'#AF7CB5','4W':'#AF7CB5','5W':'#AF7CB5',\"3V'\":'#897A77',\"6V'\":'#897A77','3VW':'#EFDAE6','6VW':'#EFDAE6','3S':'#579E7C','6S':'#579E7C','3W3V':'#B79C97',\"3W'\":'#AF7CB5',\"3W3V'\":'#B79C97'},\n",
    "    xscale = 'linear',\n",
    "    title = 'Consensus 90% Saturated',\n",
    "    saveas = os.path.join(dir1,dir2,dir3,'meanOcc_GFPss_induced_0.90'))\n",
    "\n",
    "plot_meanOcc_vs_GEout(plot_config)"
   ]
  },
  {
   "cell_type": "markdown",
   "metadata": {
    "heading_collapsed": "true",
    "tags": [],
    "toc-hr-collapsed": true
   },
   "source": [
    "#### Measured vs Predicted < N > for targets characterized in vitro"
   ]
  },
  {
   "cell_type": "code",
   "execution_count": 42,
   "metadata": {
    "heading_collapsed": "true",
    "tags": []
   },
   "outputs": [
    {
     "name": "stdout",
     "output_type": "stream",
     "text": [
      "Rsq:  0.9961121807950863\n",
      "[[Model]]\n",
      "    Model(linear)\n",
      "[[Fit Statistics]]\n",
      "    # fitting method   = leastsq\n",
      "    # function evals   = 4\n",
      "    # data points      = 9\n",
      "    # variables        = 1\n",
      "    chi-square         = 0.02789177\n",
      "    reduced chi-square = 0.00348647\n",
      "    Akaike info crit   = -49.9898341\n",
      "    Bayesian info crit = -49.7926095\n",
      "[[Variables]]\n",
      "    m:  0.91893714 +/- 0.01165296 (1.27%) (init = 1)\n",
      "    b:  0 (fixed)\n"
     ]
    },
    {
     "data": {
      "image/png": "[encoded data removed]",
      "text/plain": [
       "<Figure size 432x432 with 1 Axes>"
      ]
     },
     "metadata": {
      "needs_background": "light"
     },
     "output_type": "display_data"
    }
   ],
   "source": [
    "dir1 = 'in-vitro_fits_plots'\n",
    "dir2 = os.path.join('Zif268','plots')\n",
    "\n",
    "df_NtoGE = load_obj(os.path.join(dir1,dir2,'1par_statmech_predicted','df_NtoGE_induced-uninduced'))\n",
    "df_NtoGE_measured = load_obj(os.path.join(dir1,dir2,'1par_statmech_measured','df_NtoGE_measured'))\n",
    "\n",
    "plot_config = dict(\n",
    "    df_predicted = df_NtoGE,\n",
    "    df_measured = df_NtoGE_measured,\n",
    "    figsize = (6,6),\n",
    "    yscale = 'linear',\n",
    "    xlabel = 'Predicted mean occ., ' + r\"$\\langle$\"+ \"N\"+ r\"$\\rangle$\",\n",
    "    ylabel = 'Measured mean occ., ' + r\"$\\langle$\"+ \"N\"+ r\"$\\rangle$\",\n",
    "    xmajorticks = [0,1,2,3,4,5,6],\n",
    "    xminorticks = [0.5,1.0,1.5,2,2.5,3],\n",
    "    ymajorticks = [0,1,2,3,4,5,6],\n",
    "    yminorticks = [0.5,1.0,1.5,2,2.5,3],\n",
    "    xtickformat = '%g',\n",
    "    ytickformat = '%g',\n",
    "    consensusOcc = 0.90,\n",
    "    xlim = [-0.1,3.25],\n",
    "    ylim = [-0.1,3.25],\n",
    "    colors = {'NS':'k', '1V':'#CBB6A2', '1S':'#579E7C', '1W':'#AF7CB5', \n",
    "              '3V':'#CBB6A2', '3W':'#AF7CB5', '6V':'#CBB6A2', '6W':'#AF7CB5',\n",
    "              '2W':'#AF7CB5','4W':'#AF7CB5','5W':'#AF7CB5',\"3V'\":'#897A77',\n",
    "              \"6V'\":'#897A77','3VW':'#EFDAE6','6VW':'#EFDAE6','3S':'#579E7C',\n",
    "              '6S':'#579E7C','3W3V':'#B79C97',\"3W'\":'#AF7CB5',\"3W3V'\":'#B79C97'},\n",
    "    xscale = 'linear',\n",
    "    title = 'Measured vs. Predicted '+r\"$\\langle$\"+ \"N\"+ r\"$\\rangle$\",\n",
    "    saveas = os.path.join(dir1,dir2,'measured_vs_predicted_meanOccs'))\n",
    "\n",
    "plot_measured_vs_predicted(plot_config)"
   ]
  },
  {
   "cell_type": "markdown",
   "metadata": {
    "tags": []
   },
   "source": [
    "# Further SBC, Hill, and Statmech. binding models, fits, and plots"
   ]
  },
  {
   "cell_type": "markdown",
   "metadata": {
    "tags": []
   },
   "source": [
    "### Determine parameters of SBC model consistent with the data"
   ]
  },
  {
   "cell_type": "markdown",
   "metadata": {
    "tags": [],
    "toc-hr-collapsed": true
   },
   "source": [
    "#### Path"
   ]
  },
  {
   "cell_type": "code",
   "execution_count": 31,
   "metadata": {},
   "outputs": [],
   "source": [
    "dir1 = 'in-vitro_fits_plots'\n",
    "dir2 = 'Zif268'\n",
    "dir3 = 'SBC'\n",
    "path = os.path.join(dir1,dir2,dir3)"
   ]
  },
  {
   "cell_type": "markdown",
   "metadata": {
    "tags": []
   },
   "source": [
    "#### MCMC SBC"
   ]
  },
  {
   "cell_type": "code",
   "execution_count": 32,
   "metadata": {},
   "outputs": [],
   "source": [
    "def sbc(x, a=1, lk=1):\n",
    "    return a * x / (x + 10**(lk)) "
   ]
  },
  {
   "cell_type": "code",
   "execution_count": 35,
   "metadata": {
    "collapsed": true,
    "jupyter": {
     "outputs_hidden": true
    },
    "tags": []
   },
   "outputs": [],
   "source": [
    "sbcmodel = Model(sbc)\n",
    "xs = np.logspace(0, 3.5, 200)\n",
    "\n",
    "params_df = pd.DataFrame()\n",
    "ptiles_df = pd.DataFrame()\n",
    "\n",
    "ptiles = range(0,101)\n",
    "\n",
    "for tgt, tgtgrp in fdf.groupby('TgtName'):\n",
    "    print(tgt)\n",
    "\n",
    "    tgtgrp = tgtgrp.loc[(tgtgrp['Free_nM']>0)&(tgtgrp['Complex']>0)] \n",
    "    xd, yd = (tgtgrp['Free_nM'], tgtgrp['Complex']) \n",
    "\n",
    "    params = []\n",
    "\n",
    "    params = sbcmodel.make_params(a=0.6758, lk=2)\n",
    "    params['a'].min = 0\n",
    "    params['a'].max = 7\n",
    "    if tgt in ['W1XXXXX','W2XXXXX','W3XXXXX','W4XXXXX']: # Fix Bmax (to the occupancy calibration factor) for these weak targets since binding doesn't saturate\n",
    "        params['a'].vary = False\n",
    "\n",
    "    params['lk'].min = 0\n",
    "    params['lk'].max = 4\n",
    "\n",
    "    result = sbcmodel.fit(yd, params, x=xd)\n",
    "\n",
    "    emcee_kws = dict(steps=10000, burn=300, thin=10, is_weighted=False, progress=True)\n",
    "    emcee_params = result.params.copy()\n",
    "    emcee_params['a'].max = result.params['a']*1.75\n",
    "    result_emcee = sbcmodel.fit(yd, emcee_params, x=xd, method='emcee', fit_kws=emcee_kws)\n",
    "    result_emcee.col_deriv = None # lmfit has a bug and fails to set this parameter. The model can't be saved without it being set!\n",
    "\n",
    "    rps = result_emcee.params \n",
    "    np.savetxt(os.path.join(path,'{}_flatchain_sbc.csv'.format(tgt)), result_emcee.flatchain, delimiter=',') #save chain\n",
    "    lm.model.save_modelresult(rps, os.path.join(path,'{}_fitresult_sbc.model'.format(tgt))) \n",
    "\n",
    "    paramsCalcRsq = []\n",
    "\n",
    "    # feed the .fit (emcee) params back into .fit to obtain goodness-of-fit stats \n",
    "    # this is a workaround because lmfit's emcee-fitting doesn't output useful residual stats\n",
    "    paramsCalcRsq = sbcmodel.make_params(a=rps['a'].value,lk=rps['lk'].value)\n",
    "    paramsCalcRsq['a'].vary=False\n",
    "    paramsCalcRsq['lk'].vary=False\n",
    "    result_fit_report = sbcmodel.fit(yd, paramsCalcRsq, x=xd)\n",
    "\n",
    "    Rsq = 1 - result_fit_report.residual.var() / np.var(yd)\n",
    "\n",
    "    #Create dataframe of parameters\n",
    "    d = result_emcee.params.valuesdict()\n",
    "    d['tgt'] = tgt\n",
    "    d['Rsq'] = Rsq\n",
    "    params_df = pd.concat([params_df, pd.DataFrame(d, index=[0])])\n",
    "\n",
    "    #Create dataframe of percentiles\n",
    "    pp = result_emcee.flatchain.apply(np.percentile, args=[ptiles])\n",
    "    pp['tgt'] = tgt\n",
    "    pp['ptile'] = ptiles     \n",
    "    ptiles_df = pd.concat([ptiles_df, pp])\n",
    "\n",
    "    fig = plt.figure(figsize=(4,6))\n",
    "    gs = fig.add_gridspec(2, 1)\n",
    "    ax1 = fig.add_subplot(gs[0,0])\n",
    "    ax2 = fig.add_subplot(gs[1,0])\n",
    "    ax1.plot(xs, result.eval(params=result_emcee.params, x=xs))\n",
    "    ax1.plot(xd, yd, 'k.') # plot datapoits for that target\n",
    "    result_emcee.plot_residuals(ax=ax2)\n",
    "\n",
    "    for ax in (ax1, ax2):\n",
    "        ax.set_xscale('log')\n",
    "        ax.set_xlim([1e0, 3e3])\n",
    "    ax2.set_xlabel('Free TF (nM)')\n",
    "    ax1.set_ylabel('DNA-TF complex (a.u.)')\n",
    "    ax2.set_ylabel('Residual')\n",
    "\n",
    "    ax1.set_title(\"{} R\\u00b2={:.2f}\\na={:.2f} | k={:.2f}\".format(tgt, Rsq, rps['a'].value, 10**rps['lk'].value))\n",
    "    ax2.set_title(None)\n",
    "    plt.tight_layout()\n",
    "    plt.savefig(os.path.join(path,\"{}_fit_sbc.png\".format(tgt)), dpi=200)\n",
    "\n",
    "    plt.clf()\n",
    "    \n",
    "    if tgt in ['W1XXXXX','W2XXXXX','W3XXXXX','W4XXXXX']:\n",
    "        continue\n",
    "    emcee_corner = corner.corner(result_emcee.flatchain, labels=result_emcee.var_names, truths=list(result_emcee.params.valuesdict().values()))\n",
    "    plt.savefig(os.path.join(path,'{}_corner_sbc.png'.format(tgt)), dpi=200)\n",
    "    plt.close('all')\n",
    "\n",
    "params_df.reset_index(drop=True, inplace=True)\n",
    "params_df.set_index('tgt', drop=True, inplace=True)\n",
    "params_df['k'] = 10**params_df['lk']\n",
    "params_df.to_csv(os.path.join(path,'fit_params_sbc.csv'))\n",
    "ptiles_df = ptiles_df.set_index(['tgt', 'ptile'])\n",
    "ptiles_df['k'] = 10**params_df['lk']\n",
    "ptiles_df.to_csv(os.path.join(path,'fit_params_percentiles_sbc.csv'))"
   ]
  },
  {
   "cell_type": "markdown",
   "metadata": {
    "tags": []
   },
   "source": [
    "#### Fit the # site data to get an occupancy calibration"
   ]
  },
  {
   "cell_type": "code",
   "execution_count": 38,
   "metadata": {
    "tags": []
   },
   "outputs": [
    {
     "name": "stderr",
     "output_type": "stream",
     "text": [
      "100%|██████████| 10000/10000 [03:50<00:00, 43.38it/s]\n"
     ]
    }
   ],
   "source": [
    "tgts = ['M1XXXXX', 'M1M2XXXX', 'M1M2M3XXX', 'M1M2M3M4XX', 'M1M2M3M4M5X', 'M1M2M3M4M5M6']\n",
    "\n",
    "params_df = pd.read_csv(os.path.join(path,'fit_params_sbc.csv'), index_col=0)\n",
    "ptiles_df = pd.read_csv(os.path.join(path,'fit_params_percentiles_sbc.csv'), index_col=[0,1])\n",
    "\n",
    "p = 'a'\n",
    "x = np.array([1, 2, 3, 4, 5, 6])\n",
    "y = params_df.loc[tgts, p]\n",
    "ptiles = [5, 95]\n",
    "yerr = np.vstack((y - ptiles_df.loc[[(tgt, ptiles[0]) for tgt in tgts]][p].values, ptiles_df.loc[[(tgt, ptiles[1]) for tgt in tgts]][p].values - y))\n",
    "\n",
    "def proportional(x, m):\n",
    "    return x*m\n",
    "\n",
    "pmodel = Model(proportional)\n",
    "params = pmodel.make_params(m=0.7)\n",
    "result = pmodel.fit(y, params, x=x)\n",
    "    \n",
    "emcee_kws = dict(steps=10000, burn=300, thin=10, is_weighted=False, progress=True)\n",
    "emcee_params = result.params.copy()\n",
    "result_emcee = pmodel.fit(y, emcee_params, x=x, method='emcee', fit_kws=emcee_kws)\n",
    "result_emcee.col_deriv = None # lmfit has a bug and fails to set this parameter. The model can't be saved without it being set!\n",
    "\n",
    "rps = result_emcee.params\n",
    "np.savetxt(os.path.join(path,'occupancy_calibration_flatchain_sbc.csv'.format(tgt)), result_emcee.flatchain, delimiter=',')\n",
    "lm.model.save_modelresult(rps, os.path.join(path,'occupancy_calibration_fitresult_sbc.model'.format(tgt)))\n",
    "\n",
    "d = result_emcee.params.valuesdict()\n",
    "d['tgt'] = tgt\n",
    "\n",
    "fig = plt.figure(figsize=(4,6))\n",
    "gs = fig.add_gridspec(2, 1)\n",
    "ax1 = fig.add_subplot(gs[0,0])\n",
    "ax2 = fig.add_subplot(gs[1,0])\n",
    "xs = x\n",
    "ax1.plot(xs, result.eval(params=rps, x=xs))\n",
    "ax1.errorbar(x, y, yerr=yerr, fmt='k.')\n",
    "result_emcee.plot_residuals(ax=ax2)\n",
    "\n",
    "ax2.set_xlabel('# sites')\n",
    "ax1.set_ylabel('a, occ. at saturation')\n",
    "ax2.set_ylabel('Residual')\n",
    "\n",
    "lower, upper = np.percentile(result_emcee.flatchain['m'], [5, 95])\n",
    "ax1.set_title(\"Occupancy calibration\\n$m=%.4f^{+%.4f}_{-%.4f}$\" % (rps['m'].value, upper-rps['m'].value, rps['m'].value-lower))\n",
    "ax2.set_title(None)\n",
    "plt.tight_layout()\n",
    "plt.savefig(os.path.join(path,\"occupancy_calibration_fit_sbc.png\".format(tgt)), dpi=200)\n",
    "\n",
    "plt.clf()\n",
    "emcee_corner = corner.corner(result_emcee.flatchain, labels=result_emcee.var_names, truths=list(result_emcee.params.valuesdict().values()))\n",
    "\n",
    "plt.savefig(os.path.join(path,'occupancy_calibration_corner_sbc.png'.format(tgt)), dpi=200)\n",
    "plt.close('all')"
   ]
  },
  {
   "cell_type": "markdown",
   "metadata": {
    "tags": []
   },
   "source": [
    "#### SBC: Update the fit plots to include a sampling of the posterior distribution"
   ]
  },
  {
   "cell_type": "code",
   "execution_count": 40,
   "metadata": {},
   "outputs": [],
   "source": [
    "# Sample the flatchain and produce and return simulated results\n",
    "def eval_samples(flatchain, model, x, N):\n",
    "    \n",
    "    fc = flatchain\n",
    "    \n",
    "    results = np.zeros([len(x), N])\n",
    "    params_all = []\n",
    "    inds = np.random.randint(low=int(0.1*len(fc)), high=len(fc), size=N)\n",
    "    for i,ind in enumerate(inds):\n",
    "        sample = fc[ind]\n",
    "        params_all.append(sample)\n",
    "        params = lm.Parameters() \n",
    "        if len(sample) == 3:\n",
    "            params.add_many(('a', sample[0]), ('lk', sample[1]), ('_lnsigma', sample[2])) #store the sample parameters\n",
    "        elif len(sample) == 2:\n",
    "            params.add_many(('a', sample[0]), ('lk', sample[1]))\n",
    "        results[:, i] = model.eval(x=x, params=params) #for each x, determine the occupancy\n",
    "    return {'sims': results, 'params': np.array(params_all)}"
   ]
  },
  {
   "cell_type": "code",
   "execution_count": 41,
   "metadata": {
    "collapsed": true,
    "jupyter": {
     "outputs_hidden": true
    },
    "tags": []
   },
   "outputs": [
    {
     "name": "stdout",
     "output_type": "stream",
     "text": [
      "(17)A11(-1)A11(-1)A11(-1)A11(40)\n",
      "(17)A11(-1)A11(-1)A11(48)\n",
      "(17)A11(-1)A11(56)\n",
      "(17)A11(-3)A11(-3)A11(-3)A11(-3)A11(-3)A11(-3)A11(-3)A11(-3)A11(16)\n",
      "(17)A11(-3)A11(-3)A11(-3)A11(-3)A11(-3)A11(-3)A11(-3)A11(22)\n",
      "(17)A11(-3)A11(-3)A11(-3)A11(-3)A11(-3)A11(34)\n",
      "(17)A11(-3)A11(-3)A11(-3)A11(46)\n",
      "(17)A11(-3)A11(-3)A11(52)\n",
      "(17)A11(-3)A11(58)\n",
      "(17)A11(-3)A5(-3)A11(52)\n",
      "(17)A11(-3)A5(58)\n",
      "(17)A11(-3)A95(-3)A11(52)\n",
      "(17)A11(-3)M5(-3)A11(52)\n",
      "(17)A11(-3)M5(58)\n",
      "(17)A11(-3)W4(-3)A11(52)\n",
      "(17)A11(-3)W4(58)\n",
      "(17)A4(-3)A6(-3)A4(52)\n",
      "(17)A4(-3)A6(58)\n",
      "(17)A5(-1)A11(-1)A5(48)\n",
      "(17)A5(-3)A11(-3)A5(52)\n",
      "(17)A5(-3)M5(-3)A5(52)\n",
      "(17)A6(-3)A4(-3)A6(52)\n",
      "(17)A6(-3)A4(58)\n",
      "(17)A6(-3)M5(58)\n",
      "(17)A7(-3)A11(-3)A9(52)\n",
      "(17)A7(-3)M4(-3)A10(52)\n",
      "(17)A7(-3)M5(-3)A9(52)\n",
      "(17)A95(-1)A11(-1)A95(48)\n",
      "(17)A95(-3)A11(-3)A95(52)\n",
      "(17)M1(-1)M2(56)\n",
      "(17)M1(-3)M2(-3)M3(-3)M4(46)\n",
      "(17)M1(-3)M2(-3)M3(52)\n",
      "(17)M1(-3)M2(58)\n",
      "(17)M5(-1)A11(-1)M5(48)\n",
      "(17)M5(-1)M5(-1)M5(-1)M5(40)\n",
      "(17)M5(-1)M5(-1)M5(48)\n",
      "(17)M5(-1)M5(56)\n",
      "(17)M5(-3)A11(-3)M5(52)\n",
      "(17)M5(-3)A5(-3)M5(52)\n",
      "(17)M5(-3)A95(-3)M5(52)\n",
      "(17)M5(-3)M5(-3)M5(-3)M5(46)\n",
      "(17)M5(-3)M5(-3)M5(52)\n",
      "(17)M5(-3)M5(58)\n",
      "(17)M5(-3)W4(-3)M5(52)\n",
      "(17)W4(-1)A11(-1)W4(48)\n",
      "(17)W4(-3)A11(-3)W4(52)\n",
      "(17)W4(-3)M5(-3)W4(52)\n",
      "(17)W4(-3)W4(-3)W4(52)\n",
      "(17)W4(-3)W4(58)\n",
      "(23)A4(-3)A6(52)\n",
      "(23)A5(-3)A11(52)\n",
      "(23)A5(58)\n",
      "(23)M5(-3)A11(52)\n",
      "(23)W4(-3)A11(52)\n",
      "(23)W4(58)\n",
      "(29)A11(52)\n",
      "(49)M3(32)\n",
      "(51)M3(30)\n",
      "(53)M3(28)\n",
      "(55)M3(26)\n",
      "(59)M3(22)\n",
      "(61)M3(20)\n",
      "(63)M3(18)\n",
      "(65)M3(16)\n",
      "A105XXXXX\n",
      "A11XXXXX\n",
      "A4XXXXX\n",
      "A5XXXXX\n",
      "A6XXXXX\n",
      "A7XXXXX\n",
      "A8XXXXX\n",
      "A95XXXXX\n",
      "A9XXXXX\n",
      "M1(0)M2XXXX\n",
      "M1(10)M2XXX\n",
      "M1(12)M2XXX\n",
      "M1(13)M2XXX\n",
      "M1(14)M2XXX\n",
      "M1(2)M2XXX\n",
      "M1(3)M2XXX\n",
      "M1(4)M2XXX\n",
      "M1(5)M2XXX\n",
      "M1(6)M2XXX\n",
      "M1(7)M2XXX\n",
      "M1(8)M2XXX\n",
      "M1(9)M2XXX\n",
      "M1M2M3M4M5M6\n",
      "M1M2M3M4M5X\n",
      "M1M2M3M4XX\n",
      "M1M2M3M6M4M5\n",
      "M1M2M3M6M5M4\n",
      "M1M2M3XXX\n",
      "M1M2XXXX\n",
      "M1XM2XXX\n",
      "M1XXM2XX\n",
      "M1XXXM2X\n",
      "M1XXXXM2\n",
      "M1XXXXX\n",
      "M2XXXXX\n",
      "M3M4M1M5M2X\n",
      "M3XXXXX\n",
      "M4XXXXX\n",
      "M5XXXXX\n",
      "M6XXXXX\n",
      "NEWA8XXXXX\n",
      "NEWXXXXXA8\n",
      "RC(M1M2M3M4M5M6)\n",
      "RC(M1M2M3M4M5X)\n",
      "RC(M1M2M3M4XX)\n",
      "W1XXXXX\n",
      "W2W3W1W4W3W2\n",
      "W2XXXXX\n",
      "W3XXXXX\n",
      "W4XXXXX\n",
      "XA11A4A4A11X\n",
      "XA11A5A5A11X\n",
      "XA11M2M2A11X\n",
      "XA4A11A11A4X\n",
      "XA5A11A11A5X\n",
      "XM2A11A11M2X\n",
      "XM2XXXX\n",
      "XM3XXXX\n",
      "XXM3XXX\n",
      "XXXM3XX\n",
      "XXXM4XX\n",
      "XXXXM3X\n",
      "XXXXM5X\n",
      "XXXXXM3\n",
      "XXXXXM6\n",
      "XXXXXX\n"
     ]
    }
   ],
   "source": [
    "xs = np.logspace(-1,5,301)\n",
    "N=300\n",
    "sbcmodel = Model(sbc)\n",
    "cal_factor = 0.6758\n",
    "\n",
    "params_df = pd.read_csv(os.path.join(path,'fit_params_sbc.csv'), index_col=0)\n",
    "ptiles_df = pd.read_csv(os.path.join(path,'fit_params_percentiles_sbc.csv'), index_col=[0,1])\n",
    "\n",
    "for tgt, tgtgrp in fdf.groupby('TgtName'):\n",
    "    if tgt in params_df.index :\n",
    "    \n",
    "        print(tgt)\n",
    "\n",
    "        tgtgrp = tgtgrp.loc[(tgtgrp['Free_nM']>0)&(tgtgrp['Complex']>0)]\n",
    "        xd, yd = (tgtgrp['Free_nM'], tgtgrp['Complex'])\n",
    "\n",
    "        fc = np.loadtxt(os.path.join(path,'{}_flatchain_sbc.csv'.format(tgt)), delimiter=',')\n",
    "\n",
    "        results = eval_samples(fc, sbcmodel, xs, N)\n",
    "        sims = results['sims'] # every x value is evaluated for every paramter set\n",
    "        params = results['params'] # sample parameter sets\n",
    "        lower, upper = np.percentile(sims, [5, 95], axis=1)\n",
    "\n",
    "        np.savetxt(os.path.join(path,'{}_posterior_sims_sbc.csv'.format(tgt)), sims)\n",
    "        np.savetxt(os.path.join(path,'{}_posterior_sim_params_sbc.csv'.format(tgt)), params)\n",
    "\n",
    "        plt.figure(figsize=(5,5))\n",
    "        plt.fill_between(xs, lower / cal_factor, upper / cal_factor, color='gray', alpha=0.3)\n",
    "        plt.plot(xd, yd / cal_factor, '.')\n",
    "\n",
    "        plt.xlim([1e0, 2e3])\n",
    "        plt.xscale('log')\n",
    "        plt.xlabel('TF concentration (nM)')\n",
    "        plt.ylabel('<N>, Mean occupancy')\n",
    "\n",
    "        val_Bmax = params_df.loc[tgt, 'a'] / cal_factor\n",
    "        lower_Bmax, upper_Bmax = np.percentile(fc[:,0], [5, 95]) / cal_factor\n",
    "        val_k = 10**params_df.loc[tgt, 'lk']\n",
    "        lower_k, upper_k = 10**np.percentile(fc[:,1], [5, 95])\n",
    "        plt.title(\"Zif268 | %s \\n$Bmax\\'=%.2f^{+%.2f}_{-%.2f}$, $k=%.1f^{+%.1f}_{-%.1f}$\" % \\\n",
    "            (tgt,\n",
    "             val_Bmax, upper_Bmax-val_Bmax, val_Bmax-lower_Bmax,\n",
    "             val_k, upper_k-val_k, val_k-lower_k))\n",
    "        plt.tight_layout()\n",
    "        plt.savefig(os.path.join(path,\"{}_fit_samples_sbc.png\".format(tgt)), dpi=200)\n",
    "        plt.clf()\n",
    "        plt.close('all')"
   ]
  },
  {
   "cell_type": "markdown",
   "metadata": {
    "jupyter": {
     "outputs_hidden": true
    },
    "tags": [],
    "toc-hr-collapsed": true
   },
   "source": [
    "#### plot the Fig.2 multi-site plots"
   ]
  },
  {
   "cell_type": "code",
   "execution_count": 42,
   "metadata": {},
   "outputs": [],
   "source": [
    "dir1 = 'in-vitro_fits_plots'\n",
    "dir2 = 'Zif268'\n",
    "dir3 = 'SBC'\n",
    "path = os.path.join(dir1,dir2,dir3)"
   ]
  },
  {
   "cell_type": "code",
   "execution_count": 45,
   "metadata": {
    "collapsed": true,
    "jupyter": {
     "outputs_hidden": true
    },
    "tags": []
   },
   "outputs": [
    {
     "name": "stdout",
     "output_type": "stream",
     "text": [
      "A11XXXXX\n",
      "M1M2M3M4M5M6\n",
      "M1M2M3M4M5X\n",
      "M1M2M3M4XX\n",
      "M1M2M3XXX\n",
      "M1M2XXXX\n",
      "M1XXXXX\n",
      "XXXXXX\n"
     ]
    },
    {
     "data": {
      "image/png": "[encoded data removed]",
      "text/plain": [
       "<Figure size 360x360 with 1 Axes>"
      ]
     },
     "metadata": {
      "needs_background": "light"
     },
     "output_type": "display_data"
    }
   ],
   "source": [
    "def sbc(x, a=1, lk=1):\n",
    "    return a * x / (x + 10**(lk)) \n",
    "\n",
    "xs = np.logspace(-1,5,301)\n",
    "N=300\n",
    "cal_factor = 0.6758 \n",
    "sbcmodel = Model(sbc)\n",
    "\n",
    "params_df = pd.read_csv(os.path.join(path,'fit_params_sbc.csv'), index_col=0)\n",
    "ptiles_df = pd.read_csv(os.path.join(path,'fit_params_percentiles_sbc.csv'), index_col=[0,1])\n",
    "\n",
    "tgts = ['M1XXXXX','M1M2XXXX','M1M2M3XXX','M1M2M3M4XX','M1M2M3M4M5X','M1M2M3M4M5M6', 'A11XXXXX','XXXXXX']\n",
    "labels = ['1 Strong TFBS','6 Weak TFBS','5 Weak TFBS','4 Weak TFBS','3 Weak TFBS','2 Weak TFBS', '1 Weak TFBS', 'Nonspecific']\n",
    "\n",
    "colors = ['#579E7C', '#8F84AE','#8F84AE', '#8F84AE', '#8F84AE', '#8F84AE', '#8F84AE', 'k']\n",
    "i=0\n",
    "\n",
    "plt.figure(figsize=(5,5))\n",
    "\n",
    "for tgt, tgtgrp in fdf.groupby('TgtName'):\n",
    "    \n",
    "    if tgt in tgts:\n",
    "        print(tgt)\n",
    "        \n",
    "        tgtgrp = tgtgrp.loc[(tgtgrp['Free_nM']>0)&(tgtgrp['Complex']>0)]\n",
    "        xd, yd = (tgtgrp['Free_nM'], tgtgrp['Complex'])\n",
    "        \n",
    "        fc = np.loadtxt(os.path.join(path,'{}_flatchain_sbc.csv'.format(tgt)), delimiter=',')\n",
    "\n",
    "        sims = np.loadtxt(os.path.join(path,'{}_posterior_sims_sbc.csv'.format(tgt)))\n",
    "        params = np.loadtxt(os.path.join(path,'{}_posterior_sim_params_sbc.csv'.format(tgt)))\n",
    "\n",
    "        lower, upper = np.percentile(sims, [5, 95], axis=1)\n",
    "        \n",
    "        plt.fill_between(xs, lower / cal_factor, upper / cal_factor, color=colors[i], alpha=0.9, label=labels[i])\n",
    "#         plt.plot(xd, yd / cal_factor, '.', color=colors[i])\n",
    "        \n",
    "        plt.xlim([1e0, 2e3])\n",
    "        plt.ylim([-0.5,6])\n",
    "        plt.xscale('log')\n",
    "        plt.xlabel('TF concentration (nM)',fontsize=18)\n",
    "        plt.ylabel(r\"$\\langle$\"+ \"N\"+ r\"$\\rangle$\"+', Mean occupancy',fontsize=18)\n",
    "        plt.tight_layout()\n",
    "        plt.xticks(fontsize=16)\n",
    "        plt.yticks(fontsize=16)\n",
    "        \n",
    "        i=i+1\n",
    "# plt.legend(loc = 'upper left')\n",
    "plt.savefig(os.path.join(dir1,dir2,'plots','multi_site_plot_without6xVW_woLegend.svg'.format(tgt)), dpi=300)\n",
    "plt.savefig(os.path.join(dir1,dir2,'plots','multi_site_plot_without6xVW_woLegend.png'.format(tgt)), dpi=300)\n",
    "plt.savefig(os.path.join(dir1,dir2,'plots','multi_site_plot_without6xVW_woLegend.jpg'.format(tgt)), dpi=300)\n",
    "\n",
    "plt.show()                "
   ]
  },
  {
   "cell_type": "code",
   "execution_count": 47,
   "metadata": {},
   "outputs": [
    {
     "name": "stdout",
     "output_type": "stream",
     "text": [
      "A11XXXXX\n",
      "M1M2M3M4M5M6\n",
      "W2W3W1W4W3W2\n",
      "XXXXXX\n"
     ]
    },
    {
     "data": {
      "image/png": "[encoded data removed]",
      "text/plain": [
       "<Figure size 360x360 with 1 Axes>"
      ]
     },
     "metadata": {
      "needs_background": "light"
     },
     "output_type": "display_data"
    }
   ],
   "source": [
    "def sbc(x, a=1, lk=1):\n",
    "    return a * x / (x + 10**(lk)) \n",
    "\n",
    "xs = np.logspace(-1,5,301) #note: logspace so -1 = 10^-1 = 1/10\n",
    "N=300\n",
    "cal_factor = 0.6758 \n",
    "sbcmodel = Model(sbc)\n",
    "\n",
    "params_df = pd.read_csv(os.path.join(path,'fit_params_sbc.csv'), index_col=0)\n",
    "ptiles_df = pd.read_csv(os.path.join(path,'fit_params_percentiles_sbc.csv'), index_col=[0,1])\n",
    "\n",
    "tgts = ['M1M2M3M4M5M6', 'A11XXXXX', 'W2W3W1W4W3W2','XXXXXX']\n",
    "labels = ['1 Strong TFBS','6 Weak TFBS','6 Very-weak TFBS', 'Nonspecific']\n",
    "\n",
    "colors = ['#579E7C', '#8F84AE','#8B4820', 'k']\n",
    "i=0\n",
    "\n",
    "plt.figure(figsize=(5,5))\n",
    "\n",
    "for tgt, tgtgrp in fdf.groupby('TgtName'):\n",
    "    \n",
    "    if tgt in tgts:\n",
    "        print(tgt)\n",
    "        \n",
    "        tgtgrp = tgtgrp.loc[(tgtgrp['Free_nM']>0)&(tgtgrp['Complex']>0)]\n",
    "        xd, yd = (tgtgrp['Free_nM'], tgtgrp['Complex'])\n",
    "        \n",
    "        fc = np.loadtxt(os.path.join(path,'{}_flatchain_sbc.csv'.format(tgt)), delimiter=',')\n",
    "\n",
    "        sims = np.loadtxt(os.path.join(path,'{}_posterior_sims_sbc.csv'.format(tgt)))\n",
    "        params = np.loadtxt(os.path.join(path,'{}_posterior_sim_params_sbc.csv'.format(tgt)))\n",
    "\n",
    "        lower, upper = np.percentile(sims, [5, 95], axis=1)\n",
    "        \n",
    "        plt.fill_between(xs, lower / cal_factor, upper / cal_factor, color=colors[i], alpha=0.9, label=labels[i])\n",
    "#         plt.plot(xd, yd / cal_factor, '.', color=colors[i])\n",
    "        \n",
    "        plt.xlim([1e0, 2e3])\n",
    "        plt.ylim([-0.5,6])\n",
    "        plt.xscale('log')\n",
    "        plt.xlabel('TF concentration (nM)',fontsize=18)\n",
    "        plt.ylabel(r\"$\\langle$\"+ \"N\"+ r\"$\\rangle$\"+', Mean occupancy',fontsize=18)\n",
    "        plt.tight_layout()\n",
    "        plt.xticks(fontsize=16)\n",
    "        plt.yticks(fontsize=16)\n",
    "\n",
    "        \n",
    "        i=i+1\n",
    "# plt.legend(loc = 'upper left')\n",
    "plt.savefig(os.path.join(dir1,dir2,'plots','multi_site_plot_6xW_minimal_woLegend.svg'.format(tgt)), dpi=300)\n",
    "plt.savefig(os.path.join(dir1,dir2,'plots','multi_site_plot_6xW_minimal_woLegend.jpg'.format(tgt)), dpi=300)\n",
    "plt.savefig(os.path.join(dir1,dir2,'plots','multi_site_plot_6xW_minimal_woLegend.png'.format(tgt)), dpi=300)\n",
    "\n",
    "plt.show()                "
   ]
  },
  {
   "cell_type": "markdown",
   "metadata": {
    "heading_collapsed": "true",
    "tags": [],
    "toc-hr-collapsed": true
   },
   "source": [
    "#### Calculate the cross point between strong site targets and multi low-affinity targets"
   ]
  },
  {
   "cell_type": "code",
   "execution_count": 51,
   "metadata": {},
   "outputs": [],
   "source": [
    "def calculate_crosspoints_SBC(tgtlist, strong_tgtname, params_df, directory='', subdirectory=''):\n",
    "    \"\"\"\n",
    "    this method takes as input a params_df, as well as a list of targets, and the target name for which\n",
    "    to calculate cross points against. It assumes that the fitting was done using a saturation binding curve\n",
    "    model: Y = Bmax * x/(x+Kd)\n",
    "    \n",
    "    \n",
    "    \"\"\"\n",
    "    Bmax_s = params_df.loc[strong_tgtname,'a']\n",
    "    Kd_s = 10**params_df.loc[strong_tgtname,'lk']\n",
    "    \n",
    "    Bmax_tgts = params_df.loc[tgtlist,'a'].values\n",
    "    Kd_tgts = 10**params_df.loc[tgtlist,'lk'].values\n",
    "    \n",
    "    crosspoints = []\n",
    "    \n",
    "    for i in range(len(tgtlist)):\n",
    "        x = Symbol('x')\n",
    "        \n",
    "        eqn = Bmax_s*x/(x+Kd_s) - Bmax_tgts[i]*x/(x+Kd_tgts[i])\n",
    "        crosspoints.append(solve(eqn, x)[1][0])\n",
    "    \n",
    "    return crosspoints"
   ]
  },
  {
   "cell_type": "code",
   "execution_count": 54,
   "metadata": {},
   "outputs": [],
   "source": [
    "params_df = pd.read_csv(os.path.join(path,'fit_params_sbc.csv'), index_col=0)\n",
    "ptiles_df = pd.read_csv(os.path.join(path,'fit_params_percentiles_sbc.csv'), index_col=[0,1])\n",
    "ptiles_df['kd']=10**ptiles_df.loc[:,'lk']\n",
    "\n",
    "tgts = ['M1M2XXXX','M1M2M3XXX','M1M2M3M4XX','M1M2M3M4M5X','M1M2M3M4M5M6', 'W2W3W1W4W3W2']\n",
    "strongtgt = ['A11XXXXX']\n",
    "\n",
    "crosspoints = calculate_crosspoints_SBC(tgtlist=tgts, strong_tgtname=strongtgt, params_df=params_df)\n",
    "\n",
    "crosspointsdf = pd.DataFrame({'crosspoint': crosspoints}, index=tgts)\n",
    "\n",
    "crosspointsdf.to_csv(os.path.join(path,'crosspoints.csv'))"
   ]
  },
  {
   "cell_type": "markdown",
   "metadata": {
    "heading_collapsed": "true",
    "tags": []
   },
   "source": [
    "### Alternate model: determine parameters of Hill functions consistent with the data"
   ]
  },
  {
   "cell_type": "code",
   "execution_count": 13,
   "metadata": {
    "tags": []
   },
   "outputs": [],
   "source": [
    "dir1 = 'in-vitro_fits_plots'\n",
    "dir2 = 'Zif268'\n",
    "dir3 = 'Hill'\n",
    "path = os.path.join(dir1,dir2,dir3)"
   ]
  },
  {
   "cell_type": "code",
   "execution_count": 10,
   "metadata": {
    "tags": []
   },
   "outputs": [],
   "source": [
    "def hill(x, Bmax=1, n=1, lk=1):\n",
    "    return Bmax * x**n / (x**n + 10**(n*lk)) "
   ]
  },
  {
   "cell_type": "code",
   "execution_count": 11,
   "metadata": {
    "collapsed": true,
    "jupyter": {
     "outputs_hidden": true
    },
    "tags": []
   },
   "outputs": [
    {
     "name": "stdout",
     "output_type": "stream",
     "text": [
      "(17)A11(-1)A11(-1)A11(-1)A11(40)\n"
     ]
    },
    {
     "name": "stderr",
     "output_type": "stream",
     "text": [
      "100%|██████████| 40/40 [00:03<00:00, 12.68it/s]\n"
     ]
    },
    {
     "name": "stdout",
     "output_type": "stream",
     "text": [
      "The chain is shorter than 50 times the integrated autocorrelation time for 4 parameter(s). Use this estimate with caution and run a longer chain!\n",
      "N/50 = 1;\n",
      "tau: [4.31617641 4.1736148  4.3119741  4.23423142]\n"
     ]
    },
    {
     "name": "stderr",
     "output_type": "stream",
     "text": [
      "WARNING:root:Too few points to create valid contours\n",
      "WARNING:root:Too few points to create valid contours\n",
      "WARNING:root:Too few points to create valid contours\n",
      "WARNING:root:Too few points to create valid contours\n",
      "WARNING:root:Too few points to create valid contours\n",
      "WARNING:root:Too few points to create valid contours\n",
      "  0%|          | 0/40 [00:00<?, ?it/s]"
     ]
    },
    {
     "name": "stdout",
     "output_type": "stream",
     "text": [
      "(17)A11(-1)A11(-1)A11(48)\n"
     ]
    },
    {
     "name": "stderr",
     "output_type": "stream",
     "text": [
      "100%|██████████| 40/40 [00:03<00:00, 12.31it/s]\n"
     ]
    },
    {
     "name": "stdout",
     "output_type": "stream",
     "text": [
      "The chain is shorter than 50 times the integrated autocorrelation time for 4 parameter(s). Use this estimate with caution and run a longer chain!\n",
      "N/50 = 1;\n",
      "tau: [3.82296471 4.04832821 4.18827675 3.96280496]\n"
     ]
    },
    {
     "name": "stderr",
     "output_type": "stream",
     "text": [
      "WARNING:root:Too few points to create valid contours\n",
      "WARNING:root:Too few points to create valid contours\n",
      "WARNING:root:Too few points to create valid contours\n",
      "WARNING:root:Too few points to create valid contours\n",
      "WARNING:root:Too few points to create valid contours\n",
      "WARNING:root:Too few points to create valid contours\n",
      "  0%|          | 0/40 [00:00<?, ?it/s]"
     ]
    },
    {
     "name": "stdout",
     "output_type": "stream",
     "text": [
      "(17)A11(-1)A11(56)\n"
     ]
    },
    {
     "name": "stderr",
     "output_type": "stream",
     "text": [
      "100%|██████████| 40/40 [00:03<00:00, 12.38it/s]\n"
     ]
    },
    {
     "name": "stdout",
     "output_type": "stream",
     "text": [
      "The chain is shorter than 50 times the integrated autocorrelation time for 4 parameter(s). Use this estimate with caution and run a longer chain!\n",
      "N/50 = 1;\n",
      "tau: [4.43063382 4.31462027 4.17001683 4.16582073]\n"
     ]
    },
    {
     "name": "stderr",
     "output_type": "stream",
     "text": [
      "WARNING:root:Too few points to create valid contours\n",
      "WARNING:root:Too few points to create valid contours\n",
      "WARNING:root:Too few points to create valid contours\n",
      "WARNING:root:Too few points to create valid contours\n",
      "WARNING:root:Too few points to create valid contours\n",
      "WARNING:root:Too few points to create valid contours\n",
      "  0%|          | 0/40 [00:00<?, ?it/s]"
     ]
    },
    {
     "name": "stdout",
     "output_type": "stream",
     "text": [
      "(17)A11(-3)A11(-3)A11(-3)A11(-3)A11(-3)A11(-3)A11(-3)A11(-3)A11(16)\n"
     ]
    },
    {
     "name": "stderr",
     "output_type": "stream",
     "text": [
      "100%|██████████| 40/40 [00:03<00:00, 11.80it/s]\n"
     ]
    },
    {
     "name": "stdout",
     "output_type": "stream",
     "text": [
      "The chain is shorter than 50 times the integrated autocorrelation time for 4 parameter(s). Use this estimate with caution and run a longer chain!\n",
      "N/50 = 1;\n",
      "tau: [4.03735354 4.15246571 4.00168236 4.18784581]\n"
     ]
    },
    {
     "name": "stderr",
     "output_type": "stream",
     "text": [
      "WARNING:root:Too few points to create valid contours\n",
      "WARNING:root:Too few points to create valid contours\n",
      "WARNING:root:Too few points to create valid contours\n",
      "WARNING:root:Too few points to create valid contours\n",
      "WARNING:root:Too few points to create valid contours\n",
      "WARNING:root:Too few points to create valid contours\n",
      "  0%|          | 0/40 [00:00<?, ?it/s]"
     ]
    },
    {
     "name": "stdout",
     "output_type": "stream",
     "text": [
      "(17)A11(-3)A11(-3)A11(-3)A11(-3)A11(-3)A11(-3)A11(-3)A11(22)\n"
     ]
    },
    {
     "name": "stderr",
     "output_type": "stream",
     "text": [
      "100%|██████████| 40/40 [00:03<00:00, 11.69it/s]\n"
     ]
    },
    {
     "name": "stdout",
     "output_type": "stream",
     "text": [
      "The chain is shorter than 50 times the integrated autocorrelation time for 4 parameter(s). Use this estimate with caution and run a longer chain!\n",
      "N/50 = 1;\n",
      "tau: [4.15926759 4.24051205 4.23892298 4.55840479]\n"
     ]
    },
    {
     "name": "stderr",
     "output_type": "stream",
     "text": [
      "WARNING:root:Too few points to create valid contours\n",
      "WARNING:root:Too few points to create valid contours\n",
      "WARNING:root:Too few points to create valid contours\n",
      "WARNING:root:Too few points to create valid contours\n",
      "WARNING:root:Too few points to create valid contours\n",
      "WARNING:root:Too few points to create valid contours\n",
      "  0%|          | 0/40 [00:00<?, ?it/s]"
     ]
    },
    {
     "name": "stdout",
     "output_type": "stream",
     "text": [
      "(17)A11(-3)A11(-3)A11(-3)A11(-3)A11(-3)A11(34)\n"
     ]
    },
    {
     "name": "stderr",
     "output_type": "stream",
     "text": [
      "100%|██████████| 40/40 [00:03<00:00, 11.52it/s]\n"
     ]
    },
    {
     "name": "stdout",
     "output_type": "stream",
     "text": [
      "The chain is shorter than 50 times the integrated autocorrelation time for 4 parameter(s). Use this estimate with caution and run a longer chain!\n",
      "N/50 = 1;\n",
      "tau: [4.50567237 4.10943795 4.02049287 4.01282523]\n"
     ]
    },
    {
     "name": "stderr",
     "output_type": "stream",
     "text": [
      "WARNING:root:Too few points to create valid contours\n",
      "WARNING:root:Too few points to create valid contours\n",
      "WARNING:root:Too few points to create valid contours\n",
      "WARNING:root:Too few points to create valid contours\n",
      "WARNING:root:Too few points to create valid contours\n",
      "WARNING:root:Too few points to create valid contours\n",
      "  0%|          | 0/40 [00:00<?, ?it/s]"
     ]
    },
    {
     "name": "stdout",
     "output_type": "stream",
     "text": [
      "(17)A11(-3)A11(-3)A11(-3)A11(46)\n"
     ]
    },
    {
     "name": "stderr",
     "output_type": "stream",
     "text": [
      "100%|██████████| 40/40 [00:03<00:00, 12.07it/s]\n"
     ]
    },
    {
     "name": "stdout",
     "output_type": "stream",
     "text": [
      "The chain is shorter than 50 times the integrated autocorrelation time for 4 parameter(s). Use this estimate with caution and run a longer chain!\n",
      "N/50 = 1;\n",
      "tau: [3.95906933 4.12904174 4.05820222 4.15481352]\n"
     ]
    },
    {
     "name": "stderr",
     "output_type": "stream",
     "text": [
      "WARNING:root:Too few points to create valid contours\n",
      "WARNING:root:Too few points to create valid contours\n",
      "WARNING:root:Too few points to create valid contours\n",
      "WARNING:root:Too few points to create valid contours\n",
      "WARNING:root:Too few points to create valid contours\n",
      "WARNING:root:Too few points to create valid contours\n",
      "  0%|          | 0/40 [00:00<?, ?it/s]"
     ]
    },
    {
     "name": "stdout",
     "output_type": "stream",
     "text": [
      "(17)A11(-3)A11(-3)A11(52)\n"
     ]
    },
    {
     "name": "stderr",
     "output_type": "stream",
     "text": [
      "100%|██████████| 40/40 [00:03<00:00, 11.99it/s]\n"
     ]
    },
    {
     "name": "stdout",
     "output_type": "stream",
     "text": [
      "The chain is shorter than 50 times the integrated autocorrelation time for 4 parameter(s). Use this estimate with caution and run a longer chain!\n",
      "N/50 = 1;\n",
      "tau: [4.23120488 4.30715119 4.33659605 4.13640436]\n"
     ]
    },
    {
     "name": "stderr",
     "output_type": "stream",
     "text": [
      "WARNING:root:Too few points to create valid contours\n",
      "WARNING:root:Too few points to create valid contours\n",
      "WARNING:root:Too few points to create valid contours\n",
      "WARNING:root:Too few points to create valid contours\n",
      "WARNING:root:Too few points to create valid contours\n",
      "WARNING:root:Too few points to create valid contours\n",
      "  0%|          | 0/40 [00:00<?, ?it/s]"
     ]
    },
    {
     "name": "stdout",
     "output_type": "stream",
     "text": [
      "(17)A11(-3)A11(58)\n"
     ]
    },
    {
     "name": "stderr",
     "output_type": "stream",
     "text": [
      "100%|██████████| 40/40 [00:03<00:00, 12.23it/s]\n"
     ]
    },
    {
     "name": "stdout",
     "output_type": "stream",
     "text": [
      "The chain is shorter than 50 times the integrated autocorrelation time for 4 parameter(s). Use this estimate with caution and run a longer chain!\n",
      "N/50 = 1;\n",
      "tau: [4.40228983 4.18389269 4.33090659 4.204253  ]\n"
     ]
    },
    {
     "name": "stderr",
     "output_type": "stream",
     "text": [
      "WARNING:root:Too few points to create valid contours\n",
      "WARNING:root:Too few points to create valid contours\n",
      "WARNING:root:Too few points to create valid contours\n",
      "WARNING:root:Too few points to create valid contours\n",
      "WARNING:root:Too few points to create valid contours\n",
      "WARNING:root:Too few points to create valid contours\n",
      "  0%|          | 0/40 [00:00<?, ?it/s]"
     ]
    },
    {
     "name": "stdout",
     "output_type": "stream",
     "text": [
      "(17)A11(-3)A5(-3)A11(52)\n"
     ]
    },
    {
     "name": "stderr",
     "output_type": "stream",
     "text": [
      "100%|██████████| 40/40 [00:03<00:00, 11.00it/s]\n"
     ]
    },
    {
     "name": "stdout",
     "output_type": "stream",
     "text": [
      "The chain is shorter than 50 times the integrated autocorrelation time for 4 parameter(s). Use this estimate with caution and run a longer chain!\n",
      "N/50 = 1;\n",
      "tau: [4.01576094 4.22140886 4.02367513 4.36376115]\n"
     ]
    },
    {
     "name": "stderr",
     "output_type": "stream",
     "text": [
      "WARNING:root:Too few points to create valid contours\n",
      "WARNING:root:Too few points to create valid contours\n",
      "WARNING:root:Too few points to create valid contours\n",
      "WARNING:root:Too few points to create valid contours\n",
      "WARNING:root:Too few points to create valid contours\n",
      "WARNING:root:Too few points to create valid contours\n",
      "  0%|          | 0/40 [00:00<?, ?it/s]"
     ]
    },
    {
     "name": "stdout",
     "output_type": "stream",
     "text": [
      "(17)A11(-3)A5(58)\n"
     ]
    },
    {
     "name": "stderr",
     "output_type": "stream",
     "text": [
      "100%|██████████| 40/40 [00:03<00:00, 12.09it/s]\n"
     ]
    },
    {
     "name": "stdout",
     "output_type": "stream",
     "text": [
      "The chain is shorter than 50 times the integrated autocorrelation time for 4 parameter(s). Use this estimate with caution and run a longer chain!\n",
      "N/50 = 1;\n",
      "tau: [4.34963647 4.26368979 4.24515337 4.31758824]\n"
     ]
    },
    {
     "name": "stderr",
     "output_type": "stream",
     "text": [
      "WARNING:root:Too few points to create valid contours\n",
      "WARNING:root:Too few points to create valid contours\n",
      "WARNING:root:Too few points to create valid contours\n",
      "WARNING:root:Too few points to create valid contours\n",
      "WARNING:root:Too few points to create valid contours\n",
      "WARNING:root:Too few points to create valid contours\n",
      "  0%|          | 0/40 [00:00<?, ?it/s]"
     ]
    },
    {
     "name": "stdout",
     "output_type": "stream",
     "text": [
      "(17)A11(-3)A95(-3)A11(52)\n"
     ]
    },
    {
     "name": "stderr",
     "output_type": "stream",
     "text": [
      "100%|██████████| 40/40 [00:03<00:00, 10.51it/s]\n"
     ]
    },
    {
     "name": "stdout",
     "output_type": "stream",
     "text": [
      "The chain is shorter than 50 times the integrated autocorrelation time for 4 parameter(s). Use this estimate with caution and run a longer chain!\n",
      "N/50 = 1;\n",
      "tau: [4.23388418 4.26112233 4.3028009  4.06452788]\n"
     ]
    },
    {
     "name": "stderr",
     "output_type": "stream",
     "text": [
      "WARNING:root:Too few points to create valid contours\n",
      "WARNING:root:Too few points to create valid contours\n",
      "WARNING:root:Too few points to create valid contours\n",
      "WARNING:root:Too few points to create valid contours\n",
      "WARNING:root:Too few points to create valid contours\n",
      "WARNING:root:Too few points to create valid contours\n",
      "  0%|          | 0/40 [00:00<?, ?it/s]"
     ]
    },
    {
     "name": "stdout",
     "output_type": "stream",
     "text": [
      "(17)A11(-3)M5(-3)A11(52)\n"
     ]
    },
    {
     "name": "stderr",
     "output_type": "stream",
     "text": [
      "100%|██████████| 40/40 [00:03<00:00, 11.26it/s]\n"
     ]
    },
    {
     "name": "stdout",
     "output_type": "stream",
     "text": [
      "The chain is shorter than 50 times the integrated autocorrelation time for 4 parameter(s). Use this estimate with caution and run a longer chain!\n",
      "N/50 = 1;\n",
      "tau: [4.21127264 4.10796708 4.17043649 3.95376196]\n"
     ]
    },
    {
     "name": "stderr",
     "output_type": "stream",
     "text": [
      "WARNING:root:Too few points to create valid contours\n",
      "WARNING:root:Too few points to create valid contours\n",
      "WARNING:root:Too few points to create valid contours\n",
      "WARNING:root:Too few points to create valid contours\n",
      "WARNING:root:Too few points to create valid contours\n",
      "WARNING:root:Too few points to create valid contours\n",
      "  0%|          | 0/40 [00:00<?, ?it/s]"
     ]
    },
    {
     "name": "stdout",
     "output_type": "stream",
     "text": [
      "(17)A11(-3)M5(58)\n"
     ]
    },
    {
     "name": "stderr",
     "output_type": "stream",
     "text": [
      "100%|██████████| 40/40 [00:03<00:00, 12.32it/s]\n"
     ]
    },
    {
     "name": "stdout",
     "output_type": "stream",
     "text": [
      "The chain is shorter than 50 times the integrated autocorrelation time for 4 parameter(s). Use this estimate with caution and run a longer chain!\n",
      "N/50 = 1;\n",
      "tau: [4.26539136 4.32231109 4.30470177 4.07993866]\n"
     ]
    },
    {
     "name": "stderr",
     "output_type": "stream",
     "text": [
      "WARNING:root:Too few points to create valid contours\n",
      "WARNING:root:Too few points to create valid contours\n",
      "WARNING:root:Too few points to create valid contours\n",
      "WARNING:root:Too few points to create valid contours\n",
      "WARNING:root:Too few points to create valid contours\n",
      "WARNING:root:Too few points to create valid contours\n",
      "  0%|          | 0/40 [00:00<?, ?it/s]"
     ]
    },
    {
     "name": "stdout",
     "output_type": "stream",
     "text": [
      "(17)A11(-3)W4(-3)A11(52)\n"
     ]
    },
    {
     "name": "stderr",
     "output_type": "stream",
     "text": [
      "100%|██████████| 40/40 [00:03<00:00, 11.27it/s]\n"
     ]
    },
    {
     "name": "stdout",
     "output_type": "stream",
     "text": [
      "The chain is shorter than 50 times the integrated autocorrelation time for 4 parameter(s). Use this estimate with caution and run a longer chain!\n",
      "N/50 = 1;\n",
      "tau: [3.86596469 4.08148514 4.08663612 4.01904725]\n"
     ]
    },
    {
     "name": "stderr",
     "output_type": "stream",
     "text": [
      "WARNING:root:Too few points to create valid contours\n",
      "WARNING:root:Too few points to create valid contours\n",
      "WARNING:root:Too few points to create valid contours\n",
      "WARNING:root:Too few points to create valid contours\n",
      "WARNING:root:Too few points to create valid contours\n",
      "WARNING:root:Too few points to create valid contours\n",
      "  0%|          | 0/40 [00:00<?, ?it/s]"
     ]
    },
    {
     "name": "stdout",
     "output_type": "stream",
     "text": [
      "(17)A11(-3)W4(58)\n"
     ]
    },
    {
     "name": "stderr",
     "output_type": "stream",
     "text": [
      "100%|██████████| 40/40 [00:03<00:00, 12.65it/s]\n"
     ]
    },
    {
     "name": "stdout",
     "output_type": "stream",
     "text": [
      "The chain is shorter than 50 times the integrated autocorrelation time for 4 parameter(s). Use this estimate with caution and run a longer chain!\n",
      "N/50 = 1;\n",
      "tau: [4.51765943 4.14859232 4.3253902  4.24875772]\n"
     ]
    },
    {
     "name": "stderr",
     "output_type": "stream",
     "text": [
      "WARNING:root:Too few points to create valid contours\n",
      "WARNING:root:Too few points to create valid contours\n",
      "WARNING:root:Too few points to create valid contours\n",
      "WARNING:root:Too few points to create valid contours\n",
      "WARNING:root:Too few points to create valid contours\n",
      "WARNING:root:Too few points to create valid contours\n",
      "  0%|          | 0/40 [00:00<?, ?it/s]"
     ]
    },
    {
     "name": "stdout",
     "output_type": "stream",
     "text": [
      "(17)A4(-3)A6(-3)A4(52)\n"
     ]
    },
    {
     "name": "stderr",
     "output_type": "stream",
     "text": [
      "100%|██████████| 40/40 [00:03<00:00, 11.95it/s]\n"
     ]
    },
    {
     "name": "stdout",
     "output_type": "stream",
     "text": [
      "The chain is shorter than 50 times the integrated autocorrelation time for 4 parameter(s). Use this estimate with caution and run a longer chain!\n",
      "N/50 = 1;\n",
      "tau: [4.38075192 4.39996429 4.10570347 4.36628231]\n"
     ]
    },
    {
     "name": "stderr",
     "output_type": "stream",
     "text": [
      "WARNING:root:Too few points to create valid contours\n",
      "WARNING:root:Too few points to create valid contours\n",
      "WARNING:root:Too few points to create valid contours\n",
      "WARNING:root:Too few points to create valid contours\n",
      "WARNING:root:Too few points to create valid contours\n",
      "WARNING:root:Too few points to create valid contours\n",
      "  0%|          | 0/40 [00:00<?, ?it/s]"
     ]
    },
    {
     "name": "stdout",
     "output_type": "stream",
     "text": [
      "(17)A4(-3)A6(58)\n"
     ]
    },
    {
     "name": "stderr",
     "output_type": "stream",
     "text": [
      "100%|██████████| 40/40 [00:03<00:00, 10.08it/s]\n"
     ]
    },
    {
     "name": "stdout",
     "output_type": "stream",
     "text": [
      "The chain is shorter than 50 times the integrated autocorrelation time for 4 parameter(s). Use this estimate with caution and run a longer chain!\n",
      "N/50 = 1;\n",
      "tau: [4.2844421  4.09556265 4.31604906 3.94527466]\n"
     ]
    },
    {
     "name": "stderr",
     "output_type": "stream",
     "text": [
      "WARNING:root:Too few points to create valid contours\n",
      "WARNING:root:Too few points to create valid contours\n",
      "WARNING:root:Too few points to create valid contours\n",
      "WARNING:root:Too few points to create valid contours\n",
      "WARNING:root:Too few points to create valid contours\n",
      "WARNING:root:Too few points to create valid contours\n"
     ]
    },
    {
     "name": "stdout",
     "output_type": "stream",
     "text": [
      "(17)A5(-1)A11(-1)A5(48)\n"
     ]
    },
    {
     "name": "stderr",
     "output_type": "stream",
     "text": [
      "100%|██████████| 40/40 [00:05<00:00,  7.64it/s]\n"
     ]
    },
    {
     "name": "stdout",
     "output_type": "stream",
     "text": [
      "The chain is shorter than 50 times the integrated autocorrelation time for 4 parameter(s). Use this estimate with caution and run a longer chain!\n",
      "N/50 = 1;\n",
      "tau: [4.15491294 4.26287658 4.26624659 4.32691565]\n"
     ]
    },
    {
     "name": "stderr",
     "output_type": "stream",
     "text": [
      "WARNING:root:Too few points to create valid contours\n",
      "WARNING:root:Too few points to create valid contours\n",
      "WARNING:root:Too few points to create valid contours\n",
      "WARNING:root:Too few points to create valid contours\n",
      "WARNING:root:Too few points to create valid contours\n",
      "WARNING:root:Too few points to create valid contours\n",
      "  0%|          | 0/40 [00:00<?, ?it/s]"
     ]
    },
    {
     "name": "stdout",
     "output_type": "stream",
     "text": [
      "(17)A5(-3)A11(-3)A5(52)\n"
     ]
    },
    {
     "name": "stderr",
     "output_type": "stream",
     "text": [
      "100%|██████████| 40/40 [00:05<00:00,  7.87it/s]\n"
     ]
    },
    {
     "name": "stdout",
     "output_type": "stream",
     "text": [
      "The chain is shorter than 50 times the integrated autocorrelation time for 4 parameter(s). Use this estimate with caution and run a longer chain!\n",
      "N/50 = 1;\n",
      "tau: [4.13598214 4.29143374 4.15088635 4.07072644]\n"
     ]
    },
    {
     "name": "stderr",
     "output_type": "stream",
     "text": [
      "WARNING:root:Too few points to create valid contours\n",
      "WARNING:root:Too few points to create valid contours\n",
      "WARNING:root:Too few points to create valid contours\n",
      "WARNING:root:Too few points to create valid contours\n",
      "WARNING:root:Too few points to create valid contours\n",
      "WARNING:root:Too few points to create valid contours\n",
      "  0%|          | 0/40 [00:00<?, ?it/s]"
     ]
    },
    {
     "name": "stdout",
     "output_type": "stream",
     "text": [
      "(17)A5(-3)M5(-3)A5(52)\n"
     ]
    },
    {
     "name": "stderr",
     "output_type": "stream",
     "text": [
      "100%|██████████| 40/40 [00:04<00:00,  8.97it/s]\n"
     ]
    },
    {
     "name": "stdout",
     "output_type": "stream",
     "text": [
      "The chain is shorter than 50 times the integrated autocorrelation time for 4 parameter(s). Use this estimate with caution and run a longer chain!\n",
      "N/50 = 1;\n",
      "tau: [4.18641415 4.4122315  4.00012283 4.20797794]\n"
     ]
    },
    {
     "name": "stderr",
     "output_type": "stream",
     "text": [
      "WARNING:root:Too few points to create valid contours\n",
      "WARNING:root:Too few points to create valid contours\n",
      "WARNING:root:Too few points to create valid contours\n",
      "WARNING:root:Too few points to create valid contours\n",
      "WARNING:root:Too few points to create valid contours\n",
      "WARNING:root:Too few points to create valid contours\n",
      "  0%|          | 0/40 [00:00<?, ?it/s]"
     ]
    },
    {
     "name": "stdout",
     "output_type": "stream",
     "text": [
      "(17)A6(-3)A4(-3)A6(52)\n"
     ]
    },
    {
     "name": "stderr",
     "output_type": "stream",
     "text": [
      "100%|██████████| 40/40 [00:04<00:00,  9.49it/s]\n"
     ]
    },
    {
     "name": "stdout",
     "output_type": "stream",
     "text": [
      "The chain is shorter than 50 times the integrated autocorrelation time for 4 parameter(s). Use this estimate with caution and run a longer chain!\n",
      "N/50 = 1;\n",
      "tau: [4.15612723 4.26732418 4.47975823 4.33384144]\n"
     ]
    },
    {
     "name": "stderr",
     "output_type": "stream",
     "text": [
      "WARNING:root:Too few points to create valid contours\n",
      "WARNING:root:Too few points to create valid contours\n",
      "WARNING:root:Too few points to create valid contours\n",
      "WARNING:root:Too few points to create valid contours\n",
      "WARNING:root:Too few points to create valid contours\n",
      "WARNING:root:Too few points to create valid contours\n",
      "  0%|          | 0/40 [00:00<?, ?it/s]"
     ]
    },
    {
     "name": "stdout",
     "output_type": "stream",
     "text": [
      "(17)A6(-3)A4(58)\n"
     ]
    },
    {
     "name": "stderr",
     "output_type": "stream",
     "text": [
      "100%|██████████| 40/40 [00:03<00:00, 10.26it/s]\n"
     ]
    },
    {
     "name": "stdout",
     "output_type": "stream",
     "text": [
      "The chain is shorter than 50 times the integrated autocorrelation time for 4 parameter(s). Use this estimate with caution and run a longer chain!\n",
      "N/50 = 1;\n",
      "tau: [4.43479943 4.41223724 4.55546074 4.3699445 ]\n"
     ]
    },
    {
     "name": "stderr",
     "output_type": "stream",
     "text": [
      "WARNING:root:Too few points to create valid contours\n",
      "WARNING:root:Too few points to create valid contours\n",
      "WARNING:root:Too few points to create valid contours\n",
      "WARNING:root:Too few points to create valid contours\n",
      "WARNING:root:Too few points to create valid contours\n",
      "WARNING:root:Too few points to create valid contours\n",
      "  0%|          | 0/40 [00:00<?, ?it/s]"
     ]
    },
    {
     "name": "stdout",
     "output_type": "stream",
     "text": [
      "(17)A6(-3)M5(58)\n"
     ]
    },
    {
     "name": "stderr",
     "output_type": "stream",
     "text": [
      "100%|██████████| 40/40 [00:03<00:00, 10.86it/s]\n"
     ]
    },
    {
     "name": "stdout",
     "output_type": "stream",
     "text": [
      "The chain is shorter than 50 times the integrated autocorrelation time for 4 parameter(s). Use this estimate with caution and run a longer chain!\n",
      "N/50 = 1;\n",
      "tau: [4.22127606 4.34632981 4.2540383  4.1460405 ]\n"
     ]
    },
    {
     "name": "stderr",
     "output_type": "stream",
     "text": [
      "WARNING:root:Too few points to create valid contours\n",
      "WARNING:root:Too few points to create valid contours\n",
      "WARNING:root:Too few points to create valid contours\n",
      "WARNING:root:Too few points to create valid contours\n",
      "WARNING:root:Too few points to create valid contours\n",
      "WARNING:root:Too few points to create valid contours\n",
      "  0%|          | 0/40 [00:00<?, ?it/s]"
     ]
    },
    {
     "name": "stdout",
     "output_type": "stream",
     "text": [
      "(17)A7(-3)A11(-3)A9(52)\n"
     ]
    },
    {
     "name": "stderr",
     "output_type": "stream",
     "text": [
      "100%|██████████| 40/40 [00:04<00:00,  9.44it/s]\n"
     ]
    },
    {
     "name": "stdout",
     "output_type": "stream",
     "text": [
      "The chain is shorter than 50 times the integrated autocorrelation time for 4 parameter(s). Use this estimate with caution and run a longer chain!\n",
      "N/50 = 1;\n",
      "tau: [4.42170153 4.48300324 4.03204132 4.13015622]\n"
     ]
    },
    {
     "name": "stderr",
     "output_type": "stream",
     "text": [
      "WARNING:root:Too few points to create valid contours\n",
      "WARNING:root:Too few points to create valid contours\n",
      "WARNING:root:Too few points to create valid contours\n",
      "WARNING:root:Too few points to create valid contours\n",
      "WARNING:root:Too few points to create valid contours\n",
      "WARNING:root:Too few points to create valid contours\n",
      "  0%|          | 0/40 [00:00<?, ?it/s]"
     ]
    },
    {
     "name": "stdout",
     "output_type": "stream",
     "text": [
      "(17)A7(-3)M4(-3)A10(52)\n"
     ]
    },
    {
     "name": "stderr",
     "output_type": "stream",
     "text": [
      "100%|██████████| 40/40 [00:04<00:00,  9.49it/s]\n"
     ]
    },
    {
     "name": "stdout",
     "output_type": "stream",
     "text": [
      "The chain is shorter than 50 times the integrated autocorrelation time for 4 parameter(s). Use this estimate with caution and run a longer chain!\n",
      "N/50 = 1;\n",
      "tau: [4.39683452 4.22150676 4.25430385 4.19918036]\n"
     ]
    },
    {
     "name": "stderr",
     "output_type": "stream",
     "text": [
      "WARNING:root:Too few points to create valid contours\n",
      "WARNING:root:Too few points to create valid contours\n",
      "WARNING:root:Too few points to create valid contours\n",
      "WARNING:root:Too few points to create valid contours\n",
      "WARNING:root:Too few points to create valid contours\n",
      "WARNING:root:Too few points to create valid contours\n",
      "  0%|          | 0/40 [00:00<?, ?it/s]"
     ]
    },
    {
     "name": "stdout",
     "output_type": "stream",
     "text": [
      "(17)A7(-3)M5(-3)A9(52)\n"
     ]
    },
    {
     "name": "stderr",
     "output_type": "stream",
     "text": [
      "100%|██████████| 40/40 [00:03<00:00, 10.35it/s]\n"
     ]
    },
    {
     "name": "stdout",
     "output_type": "stream",
     "text": [
      "The chain is shorter than 50 times the integrated autocorrelation time for 4 parameter(s). Use this estimate with caution and run a longer chain!\n",
      "N/50 = 1;\n",
      "tau: [4.38969772 4.21251985 3.90696249 4.29068618]\n"
     ]
    },
    {
     "name": "stderr",
     "output_type": "stream",
     "text": [
      "WARNING:root:Too few points to create valid contours\n",
      "WARNING:root:Too few points to create valid contours\n",
      "WARNING:root:Too few points to create valid contours\n",
      "WARNING:root:Too few points to create valid contours\n",
      "WARNING:root:Too few points to create valid contours\n",
      "WARNING:root:Too few points to create valid contours\n",
      "  0%|          | 0/40 [00:00<?, ?it/s]"
     ]
    },
    {
     "name": "stdout",
     "output_type": "stream",
     "text": [
      "(17)A95(-1)A11(-1)A95(48)\n"
     ]
    },
    {
     "name": "stderr",
     "output_type": "stream",
     "text": [
      "100%|██████████| 40/40 [00:03<00:00, 11.21it/s]\n"
     ]
    },
    {
     "name": "stdout",
     "output_type": "stream",
     "text": [
      "The chain is shorter than 50 times the integrated autocorrelation time for 4 parameter(s). Use this estimate with caution and run a longer chain!\n",
      "N/50 = 1;\n",
      "tau: [4.15608704 4.19211263 4.33790865 4.33117805]\n"
     ]
    },
    {
     "name": "stderr",
     "output_type": "stream",
     "text": [
      "WARNING:root:Too few points to create valid contours\n",
      "WARNING:root:Too few points to create valid contours\n",
      "WARNING:root:Too few points to create valid contours\n",
      "WARNING:root:Too few points to create valid contours\n",
      "WARNING:root:Too few points to create valid contours\n",
      "WARNING:root:Too few points to create valid contours\n",
      "  0%|          | 0/40 [00:00<?, ?it/s]"
     ]
    },
    {
     "name": "stdout",
     "output_type": "stream",
     "text": [
      "(17)A95(-3)A11(-3)A95(52)\n"
     ]
    },
    {
     "name": "stderr",
     "output_type": "stream",
     "text": [
      "100%|██████████| 40/40 [00:03<00:00, 11.21it/s]\n"
     ]
    },
    {
     "name": "stdout",
     "output_type": "stream",
     "text": [
      "The chain is shorter than 50 times the integrated autocorrelation time for 4 parameter(s). Use this estimate with caution and run a longer chain!\n",
      "N/50 = 1;\n",
      "tau: [4.2668186  4.06820458 4.06933294 4.27910381]\n"
     ]
    },
    {
     "name": "stderr",
     "output_type": "stream",
     "text": [
      "WARNING:root:Too few points to create valid contours\n",
      "WARNING:root:Too few points to create valid contours\n",
      "WARNING:root:Too few points to create valid contours\n",
      "WARNING:root:Too few points to create valid contours\n",
      "WARNING:root:Too few points to create valid contours\n",
      "WARNING:root:Too few points to create valid contours\n",
      "  0%|          | 0/40 [00:00<?, ?it/s]"
     ]
    },
    {
     "name": "stdout",
     "output_type": "stream",
     "text": [
      "(17)M1(-1)M2(56)\n"
     ]
    },
    {
     "name": "stderr",
     "output_type": "stream",
     "text": [
      "100%|██████████| 40/40 [00:03<00:00, 11.52it/s]\n"
     ]
    },
    {
     "name": "stdout",
     "output_type": "stream",
     "text": [
      "The chain is shorter than 50 times the integrated autocorrelation time for 4 parameter(s). Use this estimate with caution and run a longer chain!\n",
      "N/50 = 1;\n",
      "tau: [4.31637261 4.24279239 4.09579058 4.07832474]\n"
     ]
    },
    {
     "name": "stderr",
     "output_type": "stream",
     "text": [
      "WARNING:root:Too few points to create valid contours\n",
      "WARNING:root:Too few points to create valid contours\n",
      "WARNING:root:Too few points to create valid contours\n",
      "WARNING:root:Too few points to create valid contours\n",
      "WARNING:root:Too few points to create valid contours\n",
      "WARNING:root:Too few points to create valid contours\n",
      "  0%|          | 0/40 [00:00<?, ?it/s]"
     ]
    },
    {
     "name": "stdout",
     "output_type": "stream",
     "text": [
      "(17)M1(-3)M2(-3)M3(-3)M4(46)\n"
     ]
    },
    {
     "name": "stderr",
     "output_type": "stream",
     "text": [
      "100%|██████████| 40/40 [00:03<00:00, 10.23it/s]\n"
     ]
    },
    {
     "name": "stdout",
     "output_type": "stream",
     "text": [
      "The chain is shorter than 50 times the integrated autocorrelation time for 4 parameter(s). Use this estimate with caution and run a longer chain!\n",
      "N/50 = 1;\n",
      "tau: [4.13910722 4.1530286  4.00303305 4.25700936]\n"
     ]
    },
    {
     "name": "stderr",
     "output_type": "stream",
     "text": [
      "WARNING:root:Too few points to create valid contours\n",
      "WARNING:root:Too few points to create valid contours\n",
      "WARNING:root:Too few points to create valid contours\n",
      "WARNING:root:Too few points to create valid contours\n",
      "WARNING:root:Too few points to create valid contours\n",
      "WARNING:root:Too few points to create valid contours\n",
      "  0%|          | 0/40 [00:00<?, ?it/s]"
     ]
    },
    {
     "name": "stdout",
     "output_type": "stream",
     "text": [
      "(17)M1(-3)M2(-3)M3(52)\n"
     ]
    },
    {
     "name": "stderr",
     "output_type": "stream",
     "text": [
      "100%|██████████| 40/40 [00:03<00:00, 10.55it/s]\n"
     ]
    },
    {
     "name": "stdout",
     "output_type": "stream",
     "text": [
      "The chain is shorter than 50 times the integrated autocorrelation time for 4 parameter(s). Use this estimate with caution and run a longer chain!\n",
      "N/50 = 1;\n",
      "tau: [4.45020302 4.30374399 4.424728   4.27076774]\n"
     ]
    },
    {
     "name": "stderr",
     "output_type": "stream",
     "text": [
      "WARNING:root:Too few points to create valid contours\n",
      "WARNING:root:Too few points to create valid contours\n",
      "WARNING:root:Too few points to create valid contours\n",
      "WARNING:root:Too few points to create valid contours\n",
      "WARNING:root:Too few points to create valid contours\n",
      "WARNING:root:Too few points to create valid contours\n",
      "  0%|          | 0/40 [00:00<?, ?it/s]"
     ]
    },
    {
     "name": "stdout",
     "output_type": "stream",
     "text": [
      "(17)M1(-3)M2(58)\n"
     ]
    },
    {
     "name": "stderr",
     "output_type": "stream",
     "text": [
      "100%|██████████| 40/40 [00:04<00:00,  9.52it/s]\n"
     ]
    },
    {
     "name": "stdout",
     "output_type": "stream",
     "text": [
      "The chain is shorter than 50 times the integrated autocorrelation time for 4 parameter(s). Use this estimate with caution and run a longer chain!\n",
      "N/50 = 1;\n",
      "tau: [4.43737785 4.33037627 3.99247334 4.20486945]\n"
     ]
    },
    {
     "name": "stderr",
     "output_type": "stream",
     "text": [
      "WARNING:root:Too few points to create valid contours\n",
      "WARNING:root:Too few points to create valid contours\n",
      "WARNING:root:Too few points to create valid contours\n",
      "WARNING:root:Too few points to create valid contours\n",
      "WARNING:root:Too few points to create valid contours\n",
      "WARNING:root:Too few points to create valid contours\n",
      "  0%|          | 0/40 [00:00<?, ?it/s]"
     ]
    },
    {
     "name": "stdout",
     "output_type": "stream",
     "text": [
      "(17)M5(-1)A11(-1)M5(48)\n"
     ]
    },
    {
     "name": "stderr",
     "output_type": "stream",
     "text": [
      "100%|██████████| 40/40 [00:04<00:00,  9.39it/s]\n"
     ]
    },
    {
     "name": "stdout",
     "output_type": "stream",
     "text": [
      "The chain is shorter than 50 times the integrated autocorrelation time for 4 parameter(s). Use this estimate with caution and run a longer chain!\n",
      "N/50 = 1;\n",
      "tau: [4.50898575 4.3273209  4.2231149  4.39217861]\n"
     ]
    },
    {
     "name": "stderr",
     "output_type": "stream",
     "text": [
      "WARNING:root:Too few points to create valid contours\n",
      "WARNING:root:Too few points to create valid contours\n",
      "WARNING:root:Too few points to create valid contours\n",
      "WARNING:root:Too few points to create valid contours\n",
      "WARNING:root:Too few points to create valid contours\n",
      "WARNING:root:Too few points to create valid contours\n",
      "  0%|          | 0/40 [00:00<?, ?it/s]"
     ]
    },
    {
     "name": "stdout",
     "output_type": "stream",
     "text": [
      "(17)M5(-1)M5(-1)M5(-1)M5(40)\n"
     ]
    },
    {
     "name": "stderr",
     "output_type": "stream",
     "text": [
      "100%|██████████| 40/40 [00:03<00:00, 11.10it/s]\n"
     ]
    },
    {
     "name": "stdout",
     "output_type": "stream",
     "text": [
      "The chain is shorter than 50 times the integrated autocorrelation time for 4 parameter(s). Use this estimate with caution and run a longer chain!\n",
      "N/50 = 1;\n",
      "tau: [4.12695197 4.28275924 4.30314042 4.44449205]\n"
     ]
    },
    {
     "name": "stderr",
     "output_type": "stream",
     "text": [
      "WARNING:root:Too few points to create valid contours\n",
      "WARNING:root:Too few points to create valid contours\n",
      "WARNING:root:Too few points to create valid contours\n",
      "WARNING:root:Too few points to create valid contours\n",
      "WARNING:root:Too few points to create valid contours\n",
      "WARNING:root:Too few points to create valid contours\n",
      "  0%|          | 0/40 [00:00<?, ?it/s]"
     ]
    },
    {
     "name": "stdout",
     "output_type": "stream",
     "text": [
      "(17)M5(-1)M5(-1)M5(48)\n"
     ]
    },
    {
     "name": "stderr",
     "output_type": "stream",
     "text": [
      "100%|██████████| 40/40 [00:03<00:00, 10.55it/s]\n"
     ]
    },
    {
     "name": "stdout",
     "output_type": "stream",
     "text": [
      "The chain is shorter than 50 times the integrated autocorrelation time for 4 parameter(s). Use this estimate with caution and run a longer chain!\n",
      "N/50 = 1;\n",
      "tau: [4.2050419  4.39007444 4.33590862 4.14532217]\n"
     ]
    },
    {
     "name": "stderr",
     "output_type": "stream",
     "text": [
      "WARNING:root:Too few points to create valid contours\n",
      "WARNING:root:Too few points to create valid contours\n",
      "WARNING:root:Too few points to create valid contours\n",
      "WARNING:root:Too few points to create valid contours\n",
      "WARNING:root:Too few points to create valid contours\n",
      "WARNING:root:Too few points to create valid contours\n",
      "  0%|          | 0/40 [00:00<?, ?it/s]"
     ]
    },
    {
     "name": "stdout",
     "output_type": "stream",
     "text": [
      "(17)M5(-1)M5(56)\n"
     ]
    },
    {
     "name": "stderr",
     "output_type": "stream",
     "text": [
      "100%|██████████| 40/40 [00:03<00:00, 10.58it/s]\n"
     ]
    },
    {
     "name": "stdout",
     "output_type": "stream",
     "text": [
      "The chain is shorter than 50 times the integrated autocorrelation time for 4 parameter(s). Use this estimate with caution and run a longer chain!\n",
      "N/50 = 1;\n",
      "tau: [4.40273651 4.32312239 4.40891198 4.30508253]\n"
     ]
    },
    {
     "name": "stderr",
     "output_type": "stream",
     "text": [
      "WARNING:root:Too few points to create valid contours\n",
      "WARNING:root:Too few points to create valid contours\n",
      "WARNING:root:Too few points to create valid contours\n",
      "WARNING:root:Too few points to create valid contours\n",
      "WARNING:root:Too few points to create valid contours\n",
      "WARNING:root:Too few points to create valid contours\n",
      "  0%|          | 0/40 [00:00<?, ?it/s]"
     ]
    },
    {
     "name": "stdout",
     "output_type": "stream",
     "text": [
      "(17)M5(-3)A11(-3)M5(52)\n"
     ]
    },
    {
     "name": "stderr",
     "output_type": "stream",
     "text": [
      "100%|██████████| 40/40 [00:03<00:00, 10.21it/s]\n"
     ]
    },
    {
     "name": "stdout",
     "output_type": "stream",
     "text": [
      "The chain is shorter than 50 times the integrated autocorrelation time for 4 parameter(s). Use this estimate with caution and run a longer chain!\n",
      "N/50 = 1;\n",
      "tau: [4.0059887  4.2122542  4.398004   4.35806031]\n"
     ]
    },
    {
     "name": "stderr",
     "output_type": "stream",
     "text": [
      "WARNING:root:Too few points to create valid contours\n",
      "WARNING:root:Too few points to create valid contours\n",
      "WARNING:root:Too few points to create valid contours\n",
      "WARNING:root:Too few points to create valid contours\n",
      "WARNING:root:Too few points to create valid contours\n",
      "WARNING:root:Too few points to create valid contours\n",
      "  0%|          | 0/40 [00:00<?, ?it/s]"
     ]
    },
    {
     "name": "stdout",
     "output_type": "stream",
     "text": [
      "(17)M5(-3)A5(-3)M5(52)\n"
     ]
    },
    {
     "name": "stderr",
     "output_type": "stream",
     "text": [
      "100%|██████████| 40/40 [00:03<00:00, 10.88it/s]\n"
     ]
    },
    {
     "name": "stdout",
     "output_type": "stream",
     "text": [
      "The chain is shorter than 50 times the integrated autocorrelation time for 4 parameter(s). Use this estimate with caution and run a longer chain!\n",
      "N/50 = 1;\n",
      "tau: [4.52884565 4.36462956 4.29054689 4.29342863]\n"
     ]
    },
    {
     "name": "stderr",
     "output_type": "stream",
     "text": [
      "WARNING:root:Too few points to create valid contours\n",
      "WARNING:root:Too few points to create valid contours\n",
      "WARNING:root:Too few points to create valid contours\n",
      "WARNING:root:Too few points to create valid contours\n",
      "WARNING:root:Too few points to create valid contours\n",
      "WARNING:root:Too few points to create valid contours\n",
      "  0%|          | 0/40 [00:00<?, ?it/s]"
     ]
    },
    {
     "name": "stdout",
     "output_type": "stream",
     "text": [
      "(17)M5(-3)A95(-3)M5(52)\n"
     ]
    },
    {
     "name": "stderr",
     "output_type": "stream",
     "text": [
      "100%|██████████| 40/40 [00:03<00:00, 12.18it/s]\n"
     ]
    },
    {
     "name": "stdout",
     "output_type": "stream",
     "text": [
      "The chain is shorter than 50 times the integrated autocorrelation time for 4 parameter(s). Use this estimate with caution and run a longer chain!\n",
      "N/50 = 1;\n",
      "tau: [4.15048969 4.31940196 4.18581784 4.05246847]\n"
     ]
    },
    {
     "name": "stderr",
     "output_type": "stream",
     "text": [
      "WARNING:root:Too few points to create valid contours\n",
      "WARNING:root:Too few points to create valid contours\n",
      "WARNING:root:Too few points to create valid contours\n",
      "WARNING:root:Too few points to create valid contours\n",
      "WARNING:root:Too few points to create valid contours\n",
      "WARNING:root:Too few points to create valid contours\n",
      "  0%|          | 0/40 [00:00<?, ?it/s]"
     ]
    },
    {
     "name": "stdout",
     "output_type": "stream",
     "text": [
      "(17)M5(-3)M5(-3)M5(-3)M5(46)\n"
     ]
    },
    {
     "name": "stderr",
     "output_type": "stream",
     "text": [
      "100%|██████████| 40/40 [00:03<00:00, 12.27it/s]\n"
     ]
    },
    {
     "name": "stdout",
     "output_type": "stream",
     "text": [
      "The chain is shorter than 50 times the integrated autocorrelation time for 4 parameter(s). Use this estimate with caution and run a longer chain!\n",
      "N/50 = 1;\n",
      "tau: [4.39236319 4.33761892 4.35246366 4.15291762]\n"
     ]
    },
    {
     "name": "stderr",
     "output_type": "stream",
     "text": [
      "WARNING:root:Too few points to create valid contours\n",
      "WARNING:root:Too few points to create valid contours\n",
      "WARNING:root:Too few points to create valid contours\n",
      "WARNING:root:Too few points to create valid contours\n",
      "WARNING:root:Too few points to create valid contours\n",
      "WARNING:root:Too few points to create valid contours\n",
      "  0%|          | 0/40 [00:00<?, ?it/s]"
     ]
    },
    {
     "name": "stdout",
     "output_type": "stream",
     "text": [
      "(17)M5(-3)M5(-3)M5(52)\n"
     ]
    },
    {
     "name": "stderr",
     "output_type": "stream",
     "text": [
      "100%|██████████| 40/40 [00:03<00:00, 12.34it/s]\n"
     ]
    },
    {
     "name": "stdout",
     "output_type": "stream",
     "text": [
      "The chain is shorter than 50 times the integrated autocorrelation time for 4 parameter(s). Use this estimate with caution and run a longer chain!\n",
      "N/50 = 1;\n",
      "tau: [4.41615927 4.10934258 4.15236886 4.24369308]\n"
     ]
    },
    {
     "name": "stderr",
     "output_type": "stream",
     "text": [
      "WARNING:root:Too few points to create valid contours\n",
      "WARNING:root:Too few points to create valid contours\n",
      "WARNING:root:Too few points to create valid contours\n",
      "WARNING:root:Too few points to create valid contours\n",
      "WARNING:root:Too few points to create valid contours\n",
      "  0%|          | 0/40 [00:00<?, ?it/s]"
     ]
    },
    {
     "name": "stdout",
     "output_type": "stream",
     "text": [
      "(17)M5(-3)M5(58)\n"
     ]
    },
    {
     "name": "stderr",
     "output_type": "stream",
     "text": [
      "100%|██████████| 40/40 [00:03<00:00, 12.75it/s]\n"
     ]
    },
    {
     "name": "stdout",
     "output_type": "stream",
     "text": [
      "The chain is shorter than 50 times the integrated autocorrelation time for 4 parameter(s). Use this estimate with caution and run a longer chain!\n",
      "N/50 = 1;\n",
      "tau: [4.42276216 4.27246481 4.30564061 4.36242595]\n"
     ]
    },
    {
     "name": "stderr",
     "output_type": "stream",
     "text": [
      "WARNING:root:Too few points to create valid contours\n",
      "WARNING:root:Too few points to create valid contours\n",
      "WARNING:root:Too few points to create valid contours\n",
      "WARNING:root:Too few points to create valid contours\n",
      "WARNING:root:Too few points to create valid contours\n",
      "WARNING:root:Too few points to create valid contours\n",
      "  0%|          | 0/40 [00:00<?, ?it/s]"
     ]
    },
    {
     "name": "stdout",
     "output_type": "stream",
     "text": [
      "(17)M5(-3)W4(-3)M5(52)\n"
     ]
    },
    {
     "name": "stderr",
     "output_type": "stream",
     "text": [
      "100%|██████████| 40/40 [00:03<00:00, 12.93it/s]\n"
     ]
    },
    {
     "name": "stdout",
     "output_type": "stream",
     "text": [
      "The chain is shorter than 50 times the integrated autocorrelation time for 4 parameter(s). Use this estimate with caution and run a longer chain!\n",
      "N/50 = 1;\n",
      "tau: [4.17626919 4.0171555  4.3741054  4.25498109]\n"
     ]
    },
    {
     "name": "stderr",
     "output_type": "stream",
     "text": [
      "WARNING:root:Too few points to create valid contours\n",
      "WARNING:root:Too few points to create valid contours\n",
      "WARNING:root:Too few points to create valid contours\n",
      "WARNING:root:Too few points to create valid contours\n",
      "WARNING:root:Too few points to create valid contours\n",
      "WARNING:root:Too few points to create valid contours\n",
      "  0%|          | 0/40 [00:00<?, ?it/s]"
     ]
    },
    {
     "name": "stdout",
     "output_type": "stream",
     "text": [
      "(17)W4(-1)A11(-1)W4(48)\n"
     ]
    },
    {
     "name": "stderr",
     "output_type": "stream",
     "text": [
      "100%|██████████| 40/40 [00:03<00:00, 11.42it/s]\n"
     ]
    },
    {
     "name": "stdout",
     "output_type": "stream",
     "text": [
      "The chain is shorter than 50 times the integrated autocorrelation time for 4 parameter(s). Use this estimate with caution and run a longer chain!\n",
      "N/50 = 1;\n",
      "tau: [4.18935529 4.177256   4.4537884  4.59988603]\n"
     ]
    },
    {
     "name": "stderr",
     "output_type": "stream",
     "text": [
      "WARNING:root:Too few points to create valid contours\n",
      "WARNING:root:Too few points to create valid contours\n",
      "WARNING:root:Too few points to create valid contours\n",
      "WARNING:root:Too few points to create valid contours\n",
      "WARNING:root:Too few points to create valid contours\n",
      "WARNING:root:Too few points to create valid contours\n",
      "  0%|          | 0/40 [00:00<?, ?it/s]"
     ]
    },
    {
     "name": "stdout",
     "output_type": "stream",
     "text": [
      "(17)W4(-3)A11(-3)W4(52)\n"
     ]
    },
    {
     "name": "stderr",
     "output_type": "stream",
     "text": [
      "100%|██████████| 40/40 [00:03<00:00, 11.32it/s]\n"
     ]
    },
    {
     "name": "stdout",
     "output_type": "stream",
     "text": [
      "The chain is shorter than 50 times the integrated autocorrelation time for 4 parameter(s). Use this estimate with caution and run a longer chain!\n",
      "N/50 = 1;\n",
      "tau: [4.11486555 4.18737613 4.50111676 4.25907819]\n"
     ]
    },
    {
     "name": "stderr",
     "output_type": "stream",
     "text": [
      "WARNING:root:Too few points to create valid contours\n",
      "WARNING:root:Too few points to create valid contours\n",
      "WARNING:root:Too few points to create valid contours\n",
      "WARNING:root:Too few points to create valid contours\n",
      "WARNING:root:Too few points to create valid contours\n",
      "WARNING:root:Too few points to create valid contours\n",
      "  0%|          | 0/40 [00:00<?, ?it/s]"
     ]
    },
    {
     "name": "stdout",
     "output_type": "stream",
     "text": [
      "(17)W4(-3)M5(-3)W4(52)\n"
     ]
    },
    {
     "name": "stderr",
     "output_type": "stream",
     "text": [
      "100%|██████████| 40/40 [00:03<00:00, 11.77it/s]\n"
     ]
    },
    {
     "name": "stdout",
     "output_type": "stream",
     "text": [
      "The chain is shorter than 50 times the integrated autocorrelation time for 4 parameter(s). Use this estimate with caution and run a longer chain!\n",
      "N/50 = 1;\n",
      "tau: [4.44255532 4.21548333 4.2478841  4.56371776]\n"
     ]
    },
    {
     "name": "stderr",
     "output_type": "stream",
     "text": [
      "WARNING:root:Too few points to create valid contours\n",
      "WARNING:root:Too few points to create valid contours\n",
      "WARNING:root:Too few points to create valid contours\n",
      "WARNING:root:Too few points to create valid contours\n",
      "WARNING:root:Too few points to create valid contours\n",
      "WARNING:root:Too few points to create valid contours\n",
      "  0%|          | 0/40 [00:00<?, ?it/s]"
     ]
    },
    {
     "name": "stdout",
     "output_type": "stream",
     "text": [
      "(17)W4(-3)W4(-3)W4(52)\n"
     ]
    },
    {
     "name": "stderr",
     "output_type": "stream",
     "text": [
      "100%|██████████| 40/40 [00:03<00:00, 12.76it/s]\n"
     ]
    },
    {
     "name": "stdout",
     "output_type": "stream",
     "text": [
      "The chain is shorter than 50 times the integrated autocorrelation time for 4 parameter(s). Use this estimate with caution and run a longer chain!\n",
      "N/50 = 1;\n",
      "tau: [4.27283593 4.49680619 4.48851457 4.21129893]\n"
     ]
    },
    {
     "name": "stderr",
     "output_type": "stream",
     "text": [
      "WARNING:root:Too few points to create valid contours\n",
      "WARNING:root:Too few points to create valid contours\n",
      "WARNING:root:Too few points to create valid contours\n",
      "WARNING:root:Too few points to create valid contours\n",
      "WARNING:root:Too few points to create valid contours\n",
      "WARNING:root:Too few points to create valid contours\n",
      "  0%|          | 0/40 [00:00<?, ?it/s]"
     ]
    },
    {
     "name": "stdout",
     "output_type": "stream",
     "text": [
      "(17)W4(-3)W4(58)\n"
     ]
    },
    {
     "name": "stderr",
     "output_type": "stream",
     "text": [
      "100%|██████████| 40/40 [00:03<00:00, 12.73it/s]\n"
     ]
    },
    {
     "name": "stdout",
     "output_type": "stream",
     "text": [
      "The chain is shorter than 50 times the integrated autocorrelation time for 4 parameter(s). Use this estimate with caution and run a longer chain!\n",
      "N/50 = 1;\n",
      "tau: [4.42029594 4.1871691  4.44934916 4.41956684]\n"
     ]
    },
    {
     "name": "stderr",
     "output_type": "stream",
     "text": [
      "WARNING:root:Too few points to create valid contours\n",
      "WARNING:root:Too few points to create valid contours\n",
      "WARNING:root:Too few points to create valid contours\n",
      "WARNING:root:Too few points to create valid contours\n",
      "WARNING:root:Too few points to create valid contours\n",
      "WARNING:root:Too few points to create valid contours\n",
      "  0%|          | 0/40 [00:00<?, ?it/s]"
     ]
    },
    {
     "name": "stdout",
     "output_type": "stream",
     "text": [
      "(23)A4(-3)A6(52)\n"
     ]
    },
    {
     "name": "stderr",
     "output_type": "stream",
     "text": [
      "100%|██████████| 40/40 [00:03<00:00, 12.16it/s]\n"
     ]
    },
    {
     "name": "stdout",
     "output_type": "stream",
     "text": [
      "The chain is shorter than 50 times the integrated autocorrelation time for 4 parameter(s). Use this estimate with caution and run a longer chain!\n",
      "N/50 = 1;\n",
      "tau: [4.50428159 4.1820702  4.38407514 4.11106747]\n"
     ]
    },
    {
     "name": "stderr",
     "output_type": "stream",
     "text": [
      "WARNING:root:Too few points to create valid contours\n",
      "WARNING:root:Too few points to create valid contours\n",
      "WARNING:root:Too few points to create valid contours\n",
      "WARNING:root:Too few points to create valid contours\n",
      "WARNING:root:Too few points to create valid contours\n",
      "WARNING:root:Too few points to create valid contours\n",
      "  0%|          | 0/40 [00:00<?, ?it/s]"
     ]
    },
    {
     "name": "stdout",
     "output_type": "stream",
     "text": [
      "(23)A5(-3)A11(52)\n"
     ]
    },
    {
     "name": "stderr",
     "output_type": "stream",
     "text": [
      "100%|██████████| 40/40 [00:03<00:00, 11.92it/s]\n"
     ]
    },
    {
     "name": "stdout",
     "output_type": "stream",
     "text": [
      "The chain is shorter than 50 times the integrated autocorrelation time for 4 parameter(s). Use this estimate with caution and run a longer chain!\n",
      "N/50 = 1;\n",
      "tau: [4.22676381 4.24079602 4.22175526 4.13791018]\n"
     ]
    },
    {
     "name": "stderr",
     "output_type": "stream",
     "text": [
      "WARNING:root:Too few points to create valid contours\n",
      "WARNING:root:Too few points to create valid contours\n",
      "WARNING:root:Too few points to create valid contours\n",
      "WARNING:root:Too few points to create valid contours\n",
      "WARNING:root:Too few points to create valid contours\n",
      "WARNING:root:Too few points to create valid contours\n",
      "  0%|          | 0/40 [00:00<?, ?it/s]"
     ]
    },
    {
     "name": "stdout",
     "output_type": "stream",
     "text": [
      "(23)A5(58)\n"
     ]
    },
    {
     "name": "stderr",
     "output_type": "stream",
     "text": [
      "100%|██████████| 40/40 [00:03<00:00, 12.57it/s]\n"
     ]
    },
    {
     "name": "stdout",
     "output_type": "stream",
     "text": [
      "The chain is shorter than 50 times the integrated autocorrelation time for 4 parameter(s). Use this estimate with caution and run a longer chain!\n",
      "N/50 = 1;\n",
      "tau: [4.60999174 4.56434786 4.41868546 4.42189459]\n"
     ]
    },
    {
     "name": "stderr",
     "output_type": "stream",
     "text": [
      "WARNING:root:Too few points to create valid contours\n",
      "WARNING:root:Too few points to create valid contours\n",
      "WARNING:root:Too few points to create valid contours\n",
      "WARNING:root:Too few points to create valid contours\n",
      "WARNING:root:Too few points to create valid contours\n",
      "WARNING:root:Too few points to create valid contours\n",
      "  0%|          | 0/40 [00:00<?, ?it/s]"
     ]
    },
    {
     "name": "stdout",
     "output_type": "stream",
     "text": [
      "(23)M5(-3)A11(52)\n"
     ]
    },
    {
     "name": "stderr",
     "output_type": "stream",
     "text": [
      "100%|██████████| 40/40 [00:03<00:00, 12.30it/s]\n"
     ]
    },
    {
     "name": "stdout",
     "output_type": "stream",
     "text": [
      "The chain is shorter than 50 times the integrated autocorrelation time for 4 parameter(s). Use this estimate with caution and run a longer chain!\n",
      "N/50 = 1;\n",
      "tau: [4.21379933 4.20870435 4.25520829 4.27557957]\n"
     ]
    },
    {
     "name": "stderr",
     "output_type": "stream",
     "text": [
      "WARNING:root:Too few points to create valid contours\n",
      "WARNING:root:Too few points to create valid contours\n",
      "WARNING:root:Too few points to create valid contours\n",
      "WARNING:root:Too few points to create valid contours\n",
      "WARNING:root:Too few points to create valid contours\n",
      "WARNING:root:Too few points to create valid contours\n",
      "  0%|          | 0/40 [00:00<?, ?it/s]"
     ]
    },
    {
     "name": "stdout",
     "output_type": "stream",
     "text": [
      "(23)W4(-3)A11(52)\n"
     ]
    },
    {
     "name": "stderr",
     "output_type": "stream",
     "text": [
      "100%|██████████| 40/40 [00:03<00:00, 12.48it/s]\n"
     ]
    },
    {
     "name": "stdout",
     "output_type": "stream",
     "text": [
      "The chain is shorter than 50 times the integrated autocorrelation time for 4 parameter(s). Use this estimate with caution and run a longer chain!\n",
      "N/50 = 1;\n",
      "tau: [4.59933846 4.29296673 4.18453753 4.24628339]\n"
     ]
    },
    {
     "name": "stderr",
     "output_type": "stream",
     "text": [
      "WARNING:root:Too few points to create valid contours\n",
      "WARNING:root:Too few points to create valid contours\n",
      "WARNING:root:Too few points to create valid contours\n",
      "WARNING:root:Too few points to create valid contours\n",
      "WARNING:root:Too few points to create valid contours\n",
      "WARNING:root:Too few points to create valid contours\n",
      "  0%|          | 0/40 [00:00<?, ?it/s]"
     ]
    },
    {
     "name": "stdout",
     "output_type": "stream",
     "text": [
      "(23)W4(58)\n"
     ]
    },
    {
     "name": "stderr",
     "output_type": "stream",
     "text": [
      "100%|██████████| 40/40 [00:03<00:00, 12.51it/s]\n"
     ]
    },
    {
     "name": "stdout",
     "output_type": "stream",
     "text": [
      "The chain is shorter than 50 times the integrated autocorrelation time for 4 parameter(s). Use this estimate with caution and run a longer chain!\n",
      "N/50 = 1;\n",
      "tau: [4.31753585 4.3743977  4.26885339 4.21513866]\n"
     ]
    },
    {
     "name": "stderr",
     "output_type": "stream",
     "text": [
      "WARNING:root:Too few points to create valid contours\n",
      "WARNING:root:Too few points to create valid contours\n",
      "WARNING:root:Too few points to create valid contours\n",
      "WARNING:root:Too few points to create valid contours\n",
      "WARNING:root:Too few points to create valid contours\n",
      "WARNING:root:Too few points to create valid contours\n",
      "  0%|          | 0/40 [00:00<?, ?it/s]"
     ]
    },
    {
     "name": "stdout",
     "output_type": "stream",
     "text": [
      "(29)A11(52)\n"
     ]
    },
    {
     "name": "stderr",
     "output_type": "stream",
     "text": [
      "/Users/transcend/opt/anaconda3/lib/python3.8/site-packages/emcee/moves/red_blue.py:99: RuntimeWarning: invalid value encountered in double_scalars\n",
      "  lnpdiff = f + nlp - state.log_prob[j]\n",
      "100%|██████████| 40/40 [00:02<00:00, 14.94it/s]\n"
     ]
    },
    {
     "name": "stdout",
     "output_type": "stream",
     "text": [
      "The chain is shorter than 50 times the integrated autocorrelation time for 4 parameter(s). Use this estimate with caution and run a longer chain!\n",
      "N/50 = 1;\n",
      "tau: [4.02474571 4.28419888 4.31399315 4.20297494]\n"
     ]
    },
    {
     "name": "stderr",
     "output_type": "stream",
     "text": [
      "WARNING:root:Too few points to create valid contours\n",
      "WARNING:root:Too few points to create valid contours\n",
      "WARNING:root:Too few points to create valid contours\n",
      "WARNING:root:Too few points to create valid contours\n",
      "WARNING:root:Too few points to create valid contours\n",
      "WARNING:root:Too few points to create valid contours\n",
      "  0%|          | 0/40 [00:00<?, ?it/s]"
     ]
    },
    {
     "name": "stdout",
     "output_type": "stream",
     "text": [
      "(49)M3(32)\n"
     ]
    },
    {
     "name": "stderr",
     "output_type": "stream",
     "text": [
      "100%|██████████| 40/40 [00:03<00:00, 10.75it/s]\n"
     ]
    },
    {
     "name": "stdout",
     "output_type": "stream",
     "text": [
      "The chain is shorter than 50 times the integrated autocorrelation time for 4 parameter(s). Use this estimate with caution and run a longer chain!\n",
      "N/50 = 1;\n",
      "tau: [4.38214737 4.15190622 4.13113934 4.18317721]\n"
     ]
    },
    {
     "name": "stderr",
     "output_type": "stream",
     "text": [
      "WARNING:root:Too few points to create valid contours\n",
      "WARNING:root:Too few points to create valid contours\n",
      "WARNING:root:Too few points to create valid contours\n",
      "WARNING:root:Too few points to create valid contours\n",
      "WARNING:root:Too few points to create valid contours\n",
      "WARNING:root:Too few points to create valid contours\n",
      "  0%|          | 0/40 [00:00<?, ?it/s]"
     ]
    },
    {
     "name": "stdout",
     "output_type": "stream",
     "text": [
      "(51)M3(30)\n"
     ]
    },
    {
     "name": "stderr",
     "output_type": "stream",
     "text": [
      "100%|██████████| 40/40 [00:03<00:00, 10.79it/s]\n"
     ]
    },
    {
     "name": "stdout",
     "output_type": "stream",
     "text": [
      "The chain is shorter than 50 times the integrated autocorrelation time for 4 parameter(s). Use this estimate with caution and run a longer chain!\n",
      "N/50 = 1;\n",
      "tau: [4.28980336 4.08394042 4.32342157 4.38371869]\n"
     ]
    },
    {
     "name": "stderr",
     "output_type": "stream",
     "text": [
      "WARNING:root:Too few points to create valid contours\n",
      "WARNING:root:Too few points to create valid contours\n",
      "WARNING:root:Too few points to create valid contours\n",
      "WARNING:root:Too few points to create valid contours\n",
      "WARNING:root:Too few points to create valid contours\n",
      "WARNING:root:Too few points to create valid contours\n",
      "  0%|          | 0/40 [00:00<?, ?it/s]"
     ]
    },
    {
     "name": "stdout",
     "output_type": "stream",
     "text": [
      "(53)M3(28)\n"
     ]
    },
    {
     "name": "stderr",
     "output_type": "stream",
     "text": [
      "100%|██████████| 40/40 [00:03<00:00, 11.45it/s]\n"
     ]
    },
    {
     "name": "stdout",
     "output_type": "stream",
     "text": [
      "The chain is shorter than 50 times the integrated autocorrelation time for 4 parameter(s). Use this estimate with caution and run a longer chain!\n",
      "N/50 = 1;\n",
      "tau: [4.3519805  4.40873156 4.47104461 4.5058841 ]\n"
     ]
    },
    {
     "name": "stderr",
     "output_type": "stream",
     "text": [
      "WARNING:root:Too few points to create valid contours\n",
      "WARNING:root:Too few points to create valid contours\n",
      "WARNING:root:Too few points to create valid contours\n",
      "WARNING:root:Too few points to create valid contours\n",
      "WARNING:root:Too few points to create valid contours\n",
      "WARNING:root:Too few points to create valid contours\n",
      "  0%|          | 0/40 [00:00<?, ?it/s]"
     ]
    },
    {
     "name": "stdout",
     "output_type": "stream",
     "text": [
      "(55)M3(26)\n"
     ]
    },
    {
     "name": "stderr",
     "output_type": "stream",
     "text": [
      "100%|██████████| 40/40 [00:03<00:00, 12.33it/s]\n"
     ]
    },
    {
     "name": "stdout",
     "output_type": "stream",
     "text": [
      "The chain is shorter than 50 times the integrated autocorrelation time for 4 parameter(s). Use this estimate with caution and run a longer chain!\n",
      "N/50 = 1;\n",
      "tau: [4.24308219 4.44134594 4.36929885 4.2616036 ]\n"
     ]
    },
    {
     "name": "stderr",
     "output_type": "stream",
     "text": [
      "WARNING:root:Too few points to create valid contours\n",
      "WARNING:root:Too few points to create valid contours\n",
      "WARNING:root:Too few points to create valid contours\n",
      "WARNING:root:Too few points to create valid contours\n",
      "WARNING:root:Too few points to create valid contours\n",
      "WARNING:root:Too few points to create valid contours\n",
      "  0%|          | 0/40 [00:00<?, ?it/s]"
     ]
    },
    {
     "name": "stdout",
     "output_type": "stream",
     "text": [
      "(59)M3(22)\n"
     ]
    },
    {
     "name": "stderr",
     "output_type": "stream",
     "text": [
      "100%|██████████| 40/40 [00:03<00:00, 12.90it/s]\n"
     ]
    },
    {
     "name": "stdout",
     "output_type": "stream",
     "text": [
      "The chain is shorter than 50 times the integrated autocorrelation time for 4 parameter(s). Use this estimate with caution and run a longer chain!\n",
      "N/50 = 1;\n",
      "tau: [4.27705266 4.3327008  4.58772027 4.34799508]\n"
     ]
    },
    {
     "name": "stderr",
     "output_type": "stream",
     "text": [
      "WARNING:root:Too few points to create valid contours\n",
      "WARNING:root:Too few points to create valid contours\n",
      "WARNING:root:Too few points to create valid contours\n",
      "WARNING:root:Too few points to create valid contours\n",
      "WARNING:root:Too few points to create valid contours\n",
      "WARNING:root:Too few points to create valid contours\n",
      "  0%|          | 0/40 [00:00<?, ?it/s]"
     ]
    },
    {
     "name": "stdout",
     "output_type": "stream",
     "text": [
      "(61)M3(20)\n"
     ]
    },
    {
     "name": "stderr",
     "output_type": "stream",
     "text": [
      "100%|██████████| 40/40 [00:03<00:00, 12.94it/s]\n"
     ]
    },
    {
     "name": "stdout",
     "output_type": "stream",
     "text": [
      "The chain is shorter than 50 times the integrated autocorrelation time for 4 parameter(s). Use this estimate with caution and run a longer chain!\n",
      "N/50 = 1;\n",
      "tau: [4.43714877 4.30933867 4.23075038 4.38559756]\n"
     ]
    },
    {
     "name": "stderr",
     "output_type": "stream",
     "text": [
      "WARNING:root:Too few points to create valid contours\n",
      "WARNING:root:Too few points to create valid contours\n",
      "WARNING:root:Too few points to create valid contours\n",
      "WARNING:root:Too few points to create valid contours\n",
      "WARNING:root:Too few points to create valid contours\n",
      "WARNING:root:Too few points to create valid contours\n",
      "  0%|          | 0/40 [00:00<?, ?it/s]"
     ]
    },
    {
     "name": "stdout",
     "output_type": "stream",
     "text": [
      "(63)M3(18)\n"
     ]
    },
    {
     "name": "stderr",
     "output_type": "stream",
     "text": [
      "100%|██████████| 40/40 [00:03<00:00, 12.79it/s]\n"
     ]
    },
    {
     "name": "stdout",
     "output_type": "stream",
     "text": [
      "The chain is shorter than 50 times the integrated autocorrelation time for 4 parameter(s). Use this estimate with caution and run a longer chain!\n",
      "N/50 = 1;\n",
      "tau: [4.38202027 4.29567191 4.23865983 4.1096955 ]\n"
     ]
    },
    {
     "name": "stderr",
     "output_type": "stream",
     "text": [
      "WARNING:root:Too few points to create valid contours\n",
      "WARNING:root:Too few points to create valid contours\n",
      "WARNING:root:Too few points to create valid contours\n",
      "WARNING:root:Too few points to create valid contours\n",
      "WARNING:root:Too few points to create valid contours\n",
      "WARNING:root:Too few points to create valid contours\n",
      "  0%|          | 0/40 [00:00<?, ?it/s]"
     ]
    },
    {
     "name": "stdout",
     "output_type": "stream",
     "text": [
      "(65)M3(16)\n"
     ]
    },
    {
     "name": "stderr",
     "output_type": "stream",
     "text": [
      "100%|██████████| 40/40 [00:03<00:00, 12.78it/s]\n"
     ]
    },
    {
     "name": "stdout",
     "output_type": "stream",
     "text": [
      "The chain is shorter than 50 times the integrated autocorrelation time for 4 parameter(s). Use this estimate with caution and run a longer chain!\n",
      "N/50 = 1;\n",
      "tau: [4.35818091 4.28446915 4.45027416 4.51029385]\n"
     ]
    },
    {
     "name": "stderr",
     "output_type": "stream",
     "text": [
      "WARNING:root:Too few points to create valid contours\n",
      "WARNING:root:Too few points to create valid contours\n",
      "WARNING:root:Too few points to create valid contours\n",
      "WARNING:root:Too few points to create valid contours\n",
      "WARNING:root:Too few points to create valid contours\n",
      "WARNING:root:Too few points to create valid contours\n",
      "  0%|          | 0/40 [00:00<?, ?it/s]"
     ]
    },
    {
     "name": "stdout",
     "output_type": "stream",
     "text": [
      "A105XXXXX\n"
     ]
    },
    {
     "name": "stderr",
     "output_type": "stream",
     "text": [
      "/Users/transcend/opt/anaconda3/lib/python3.8/site-packages/emcee/moves/red_blue.py:99: RuntimeWarning: invalid value encountered in double_scalars\n",
      "  lnpdiff = f + nlp - state.log_prob[j]\n",
      "100%|██████████| 40/40 [00:02<00:00, 15.70it/s]\n"
     ]
    },
    {
     "name": "stdout",
     "output_type": "stream",
     "text": [
      "The chain is shorter than 50 times the integrated autocorrelation time for 4 parameter(s). Use this estimate with caution and run a longer chain!\n",
      "N/50 = 1;\n",
      "tau: [4.19389113 3.97889671 4.55356359 4.14424369]\n"
     ]
    },
    {
     "name": "stderr",
     "output_type": "stream",
     "text": [
      "WARNING:root:Too few points to create valid contours\n",
      "WARNING:root:Too few points to create valid contours\n",
      "WARNING:root:Too few points to create valid contours\n",
      "WARNING:root:Too few points to create valid contours\n",
      "WARNING:root:Too few points to create valid contours\n",
      "WARNING:root:Too few points to create valid contours\n",
      "  0%|          | 0/40 [00:00<?, ?it/s]"
     ]
    },
    {
     "name": "stdout",
     "output_type": "stream",
     "text": [
      "A11XXXXX\n"
     ]
    },
    {
     "name": "stderr",
     "output_type": "stream",
     "text": [
      "100%|██████████| 40/40 [00:03<00:00, 11.82it/s]\n"
     ]
    },
    {
     "name": "stdout",
     "output_type": "stream",
     "text": [
      "The chain is shorter than 50 times the integrated autocorrelation time for 4 parameter(s). Use this estimate with caution and run a longer chain!\n",
      "N/50 = 1;\n",
      "tau: [4.43396997 4.56827497 4.20996725 4.49085008]\n"
     ]
    },
    {
     "name": "stderr",
     "output_type": "stream",
     "text": [
      "WARNING:root:Too few points to create valid contours\n",
      "WARNING:root:Too few points to create valid contours\n",
      "WARNING:root:Too few points to create valid contours\n",
      "WARNING:root:Too few points to create valid contours\n",
      "WARNING:root:Too few points to create valid contours\n",
      "WARNING:root:Too few points to create valid contours\n",
      "  0%|          | 0/40 [00:00<?, ?it/s]"
     ]
    },
    {
     "name": "stdout",
     "output_type": "stream",
     "text": [
      "A4XXXXX\n"
     ]
    },
    {
     "name": "stderr",
     "output_type": "stream",
     "text": [
      "100%|██████████| 40/40 [00:03<00:00, 11.81it/s]\n"
     ]
    },
    {
     "name": "stdout",
     "output_type": "stream",
     "text": [
      "The chain is shorter than 50 times the integrated autocorrelation time for 4 parameter(s). Use this estimate with caution and run a longer chain!\n",
      "N/50 = 1;\n",
      "tau: [4.22590678 4.24771282 4.55398129 4.51643077]\n"
     ]
    },
    {
     "name": "stderr",
     "output_type": "stream",
     "text": [
      "WARNING:root:Too few points to create valid contours\n",
      "WARNING:root:Too few points to create valid contours\n",
      "WARNING:root:Too few points to create valid contours\n",
      "WARNING:root:Too few points to create valid contours\n",
      "WARNING:root:Too few points to create valid contours\n",
      "WARNING:root:Too few points to create valid contours\n",
      "  0%|          | 0/40 [00:00<?, ?it/s]"
     ]
    },
    {
     "name": "stdout",
     "output_type": "stream",
     "text": [
      "A5XXXXX\n"
     ]
    },
    {
     "name": "stderr",
     "output_type": "stream",
     "text": [
      "100%|██████████| 40/40 [00:03<00:00, 11.82it/s]\n"
     ]
    },
    {
     "name": "stdout",
     "output_type": "stream",
     "text": [
      "The chain is shorter than 50 times the integrated autocorrelation time for 4 parameter(s). Use this estimate with caution and run a longer chain!\n",
      "N/50 = 1;\n",
      "tau: [4.53824589 4.17268443 4.19752623 4.33791291]\n"
     ]
    },
    {
     "name": "stderr",
     "output_type": "stream",
     "text": [
      "WARNING:root:Too few points to create valid contours\n",
      "WARNING:root:Too few points to create valid contours\n",
      "WARNING:root:Too few points to create valid contours\n",
      "WARNING:root:Too few points to create valid contours\n",
      "WARNING:root:Too few points to create valid contours\n",
      "WARNING:root:Too few points to create valid contours\n",
      "  0%|          | 0/40 [00:00<?, ?it/s]"
     ]
    },
    {
     "name": "stdout",
     "output_type": "stream",
     "text": [
      "A6XXXXX\n"
     ]
    },
    {
     "name": "stderr",
     "output_type": "stream",
     "text": [
      "100%|██████████| 40/40 [00:03<00:00, 12.20it/s]\n"
     ]
    },
    {
     "name": "stdout",
     "output_type": "stream",
     "text": [
      "The chain is shorter than 50 times the integrated autocorrelation time for 4 parameter(s). Use this estimate with caution and run a longer chain!\n",
      "N/50 = 1;\n",
      "tau: [4.26626185 4.33646631 4.05050122 4.26994663]\n"
     ]
    },
    {
     "name": "stderr",
     "output_type": "stream",
     "text": [
      "WARNING:root:Too few points to create valid contours\n",
      "WARNING:root:Too few points to create valid contours\n",
      "WARNING:root:Too few points to create valid contours\n",
      "WARNING:root:Too few points to create valid contours\n",
      "WARNING:root:Too few points to create valid contours\n",
      "WARNING:root:Too few points to create valid contours\n",
      "  0%|          | 0/40 [00:00<?, ?it/s]"
     ]
    },
    {
     "name": "stdout",
     "output_type": "stream",
     "text": [
      "A7XXXXX\n"
     ]
    },
    {
     "name": "stderr",
     "output_type": "stream",
     "text": [
      "100%|██████████| 40/40 [00:03<00:00, 12.54it/s]\n"
     ]
    },
    {
     "name": "stdout",
     "output_type": "stream",
     "text": [
      "The chain is shorter than 50 times the integrated autocorrelation time for 4 parameter(s). Use this estimate with caution and run a longer chain!\n",
      "N/50 = 1;\n",
      "tau: [4.1353614  4.20967717 4.21625413 4.29058339]\n"
     ]
    },
    {
     "name": "stderr",
     "output_type": "stream",
     "text": [
      "WARNING:root:Too few points to create valid contours\n",
      "WARNING:root:Too few points to create valid contours\n",
      "WARNING:root:Too few points to create valid contours\n",
      "WARNING:root:Too few points to create valid contours\n",
      "WARNING:root:Too few points to create valid contours\n",
      "WARNING:root:Too few points to create valid contours\n",
      "  0%|          | 0/40 [00:00<?, ?it/s]"
     ]
    },
    {
     "name": "stdout",
     "output_type": "stream",
     "text": [
      "A8XXXXX\n"
     ]
    },
    {
     "name": "stderr",
     "output_type": "stream",
     "text": [
      "100%|██████████| 40/40 [00:03<00:00, 13.18it/s]\n"
     ]
    },
    {
     "name": "stdout",
     "output_type": "stream",
     "text": [
      "The chain is shorter than 50 times the integrated autocorrelation time for 4 parameter(s). Use this estimate with caution and run a longer chain!\n",
      "N/50 = 1;\n",
      "tau: [4.09629438 4.22729232 4.17699123 4.09302807]\n"
     ]
    },
    {
     "name": "stderr",
     "output_type": "stream",
     "text": [
      "WARNING:root:Too few points to create valid contours\n",
      "WARNING:root:Too few points to create valid contours\n",
      "WARNING:root:Too few points to create valid contours\n",
      "WARNING:root:Too few points to create valid contours\n",
      "WARNING:root:Too few points to create valid contours\n",
      "WARNING:root:Too few points to create valid contours\n",
      "  0%|          | 0/40 [00:00<?, ?it/s]"
     ]
    },
    {
     "name": "stdout",
     "output_type": "stream",
     "text": [
      "A95XXXXX\n"
     ]
    },
    {
     "name": "stderr",
     "output_type": "stream",
     "text": [
      "100%|██████████| 40/40 [00:03<00:00, 11.78it/s]\n"
     ]
    },
    {
     "name": "stdout",
     "output_type": "stream",
     "text": [
      "The chain is shorter than 50 times the integrated autocorrelation time for 4 parameter(s). Use this estimate with caution and run a longer chain!\n",
      "N/50 = 1;\n",
      "tau: [4.46932605 4.52064563 4.51399758 4.45691655]\n"
     ]
    },
    {
     "name": "stderr",
     "output_type": "stream",
     "text": [
      "WARNING:root:Too few points to create valid contours\n",
      "WARNING:root:Too few points to create valid contours\n",
      "WARNING:root:Too few points to create valid contours\n",
      "WARNING:root:Too few points to create valid contours\n",
      "WARNING:root:Too few points to create valid contours\n",
      "WARNING:root:Too few points to create valid contours\n",
      "  0%|          | 0/40 [00:00<?, ?it/s]"
     ]
    },
    {
     "name": "stdout",
     "output_type": "stream",
     "text": [
      "A9XXXXX\n"
     ]
    },
    {
     "name": "stderr",
     "output_type": "stream",
     "text": [
      "100%|██████████| 40/40 [00:03<00:00, 11.09it/s]\n"
     ]
    },
    {
     "name": "stdout",
     "output_type": "stream",
     "text": [
      "The chain is shorter than 50 times the integrated autocorrelation time for 4 parameter(s). Use this estimate with caution and run a longer chain!\n",
      "N/50 = 1;\n",
      "tau: [4.4734866  4.44424394 4.2418633  4.0867476 ]\n"
     ]
    },
    {
     "name": "stderr",
     "output_type": "stream",
     "text": [
      "WARNING:root:Too few points to create valid contours\n",
      "WARNING:root:Too few points to create valid contours\n",
      "WARNING:root:Too few points to create valid contours\n",
      "WARNING:root:Too few points to create valid contours\n",
      "WARNING:root:Too few points to create valid contours\n",
      "WARNING:root:Too few points to create valid contours\n",
      "  0%|          | 0/40 [00:00<?, ?it/s]"
     ]
    },
    {
     "name": "stdout",
     "output_type": "stream",
     "text": [
      "M1(0)M2XXXX\n"
     ]
    },
    {
     "name": "stderr",
     "output_type": "stream",
     "text": [
      "100%|██████████| 40/40 [00:03<00:00, 11.15it/s]\n"
     ]
    },
    {
     "name": "stdout",
     "output_type": "stream",
     "text": [
      "The chain is shorter than 50 times the integrated autocorrelation time for 4 parameter(s). Use this estimate with caution and run a longer chain!\n",
      "N/50 = 1;\n",
      "tau: [4.2767676  4.22735261 4.22108686 4.22586324]\n"
     ]
    },
    {
     "name": "stderr",
     "output_type": "stream",
     "text": [
      "WARNING:root:Too few points to create valid contours\n",
      "WARNING:root:Too few points to create valid contours\n",
      "WARNING:root:Too few points to create valid contours\n",
      "WARNING:root:Too few points to create valid contours\n",
      "WARNING:root:Too few points to create valid contours\n",
      "WARNING:root:Too few points to create valid contours\n",
      "  0%|          | 0/40 [00:00<?, ?it/s]"
     ]
    },
    {
     "name": "stdout",
     "output_type": "stream",
     "text": [
      "M1(10)M2XXX\n"
     ]
    },
    {
     "name": "stderr",
     "output_type": "stream",
     "text": [
      "100%|██████████| 40/40 [00:03<00:00, 12.63it/s]\n"
     ]
    },
    {
     "name": "stdout",
     "output_type": "stream",
     "text": [
      "The chain is shorter than 50 times the integrated autocorrelation time for 4 parameter(s). Use this estimate with caution and run a longer chain!\n",
      "N/50 = 1;\n",
      "tau: [4.25312442 4.32607629 4.05628513 4.3516542 ]\n"
     ]
    },
    {
     "name": "stderr",
     "output_type": "stream",
     "text": [
      "WARNING:root:Too few points to create valid contours\n",
      "WARNING:root:Too few points to create valid contours\n",
      "WARNING:root:Too few points to create valid contours\n",
      "WARNING:root:Too few points to create valid contours\n",
      "WARNING:root:Too few points to create valid contours\n",
      "WARNING:root:Too few points to create valid contours\n",
      "  0%|          | 0/40 [00:00<?, ?it/s]"
     ]
    },
    {
     "name": "stdout",
     "output_type": "stream",
     "text": [
      "M1(12)M2XXX\n"
     ]
    },
    {
     "name": "stderr",
     "output_type": "stream",
     "text": [
      "100%|██████████| 40/40 [00:03<00:00, 12.95it/s]\n"
     ]
    },
    {
     "name": "stdout",
     "output_type": "stream",
     "text": [
      "The chain is shorter than 50 times the integrated autocorrelation time for 4 parameter(s). Use this estimate with caution and run a longer chain!\n",
      "N/50 = 1;\n",
      "tau: [4.1257794  4.25675502 3.93326359 4.4044021 ]\n"
     ]
    },
    {
     "name": "stderr",
     "output_type": "stream",
     "text": [
      "WARNING:root:Too few points to create valid contours\n",
      "WARNING:root:Too few points to create valid contours\n",
      "WARNING:root:Too few points to create valid contours\n",
      "WARNING:root:Too few points to create valid contours\n",
      "WARNING:root:Too few points to create valid contours\n",
      "WARNING:root:Too few points to create valid contours\n",
      "  0%|          | 0/40 [00:00<?, ?it/s]"
     ]
    },
    {
     "name": "stdout",
     "output_type": "stream",
     "text": [
      "M1(13)M2XXX\n"
     ]
    },
    {
     "name": "stderr",
     "output_type": "stream",
     "text": [
      "100%|██████████| 40/40 [00:03<00:00, 12.77it/s]\n"
     ]
    },
    {
     "name": "stdout",
     "output_type": "stream",
     "text": [
      "The chain is shorter than 50 times the integrated autocorrelation time for 4 parameter(s). Use this estimate with caution and run a longer chain!\n",
      "N/50 = 1;\n",
      "tau: [4.31601494 4.20666615 4.22190161 3.92695301]\n"
     ]
    },
    {
     "name": "stderr",
     "output_type": "stream",
     "text": [
      "WARNING:root:Too few points to create valid contours\n",
      "WARNING:root:Too few points to create valid contours\n",
      "WARNING:root:Too few points to create valid contours\n",
      "WARNING:root:Too few points to create valid contours\n",
      "WARNING:root:Too few points to create valid contours\n",
      "WARNING:root:Too few points to create valid contours\n",
      "  0%|          | 0/40 [00:00<?, ?it/s]"
     ]
    },
    {
     "name": "stdout",
     "output_type": "stream",
     "text": [
      "M1(14)M2XXX\n"
     ]
    },
    {
     "name": "stderr",
     "output_type": "stream",
     "text": [
      "100%|██████████| 40/40 [00:03<00:00, 12.10it/s]\n"
     ]
    },
    {
     "name": "stdout",
     "output_type": "stream",
     "text": [
      "The chain is shorter than 50 times the integrated autocorrelation time for 4 parameter(s). Use this estimate with caution and run a longer chain!\n",
      "N/50 = 1;\n",
      "tau: [4.2094208  4.42129569 3.92021498 4.30455373]\n"
     ]
    },
    {
     "name": "stderr",
     "output_type": "stream",
     "text": [
      "WARNING:root:Too few points to create valid contours\n",
      "WARNING:root:Too few points to create valid contours\n",
      "WARNING:root:Too few points to create valid contours\n",
      "WARNING:root:Too few points to create valid contours\n",
      "WARNING:root:Too few points to create valid contours\n",
      "WARNING:root:Too few points to create valid contours\n",
      "  0%|          | 0/40 [00:00<?, ?it/s]"
     ]
    },
    {
     "name": "stdout",
     "output_type": "stream",
     "text": [
      "M1(2)M2XXX\n"
     ]
    },
    {
     "name": "stderr",
     "output_type": "stream",
     "text": [
      "100%|██████████| 40/40 [00:03<00:00, 11.73it/s]\n"
     ]
    },
    {
     "name": "stdout",
     "output_type": "stream",
     "text": [
      "The chain is shorter than 50 times the integrated autocorrelation time for 4 parameter(s). Use this estimate with caution and run a longer chain!\n",
      "N/50 = 1;\n",
      "tau: [4.57819398 4.1995417  4.03263231 4.17741746]\n"
     ]
    },
    {
     "name": "stderr",
     "output_type": "stream",
     "text": [
      "WARNING:root:Too few points to create valid contours\n",
      "WARNING:root:Too few points to create valid contours\n",
      "WARNING:root:Too few points to create valid contours\n",
      "WARNING:root:Too few points to create valid contours\n",
      "WARNING:root:Too few points to create valid contours\n",
      "  0%|          | 0/40 [00:00<?, ?it/s]"
     ]
    },
    {
     "name": "stdout",
     "output_type": "stream",
     "text": [
      "M1(3)M2XXX\n"
     ]
    },
    {
     "name": "stderr",
     "output_type": "stream",
     "text": [
      "100%|██████████| 40/40 [00:03<00:00, 11.94it/s]\n"
     ]
    },
    {
     "name": "stdout",
     "output_type": "stream",
     "text": [
      "The chain is shorter than 50 times the integrated autocorrelation time for 4 parameter(s). Use this estimate with caution and run a longer chain!\n",
      "N/50 = 1;\n",
      "tau: [4.27943283 4.34260104 4.31306543 4.23112723]\n"
     ]
    },
    {
     "name": "stderr",
     "output_type": "stream",
     "text": [
      "WARNING:root:Too few points to create valid contours\n",
      "WARNING:root:Too few points to create valid contours\n",
      "WARNING:root:Too few points to create valid contours\n",
      "WARNING:root:Too few points to create valid contours\n",
      "WARNING:root:Too few points to create valid contours\n",
      "WARNING:root:Too few points to create valid contours\n",
      "  0%|          | 0/40 [00:00<?, ?it/s]"
     ]
    },
    {
     "name": "stdout",
     "output_type": "stream",
     "text": [
      "M1(4)M2XXX\n"
     ]
    },
    {
     "name": "stderr",
     "output_type": "stream",
     "text": [
      "100%|██████████| 40/40 [00:03<00:00, 12.56it/s]\n"
     ]
    },
    {
     "name": "stdout",
     "output_type": "stream",
     "text": [
      "The chain is shorter than 50 times the integrated autocorrelation time for 4 parameter(s). Use this estimate with caution and run a longer chain!\n",
      "N/50 = 1;\n",
      "tau: [4.38042802 4.32158974 4.21751373 4.35496564]\n"
     ]
    },
    {
     "name": "stderr",
     "output_type": "stream",
     "text": [
      "WARNING:root:Too few points to create valid contours\n",
      "WARNING:root:Too few points to create valid contours\n",
      "WARNING:root:Too few points to create valid contours\n",
      "WARNING:root:Too few points to create valid contours\n",
      "WARNING:root:Too few points to create valid contours\n",
      "WARNING:root:Too few points to create valid contours\n",
      "  0%|          | 0/40 [00:00<?, ?it/s]"
     ]
    },
    {
     "name": "stdout",
     "output_type": "stream",
     "text": [
      "M1(5)M2XXX\n"
     ]
    },
    {
     "name": "stderr",
     "output_type": "stream",
     "text": [
      "100%|██████████| 40/40 [00:03<00:00, 12.86it/s]\n"
     ]
    },
    {
     "name": "stdout",
     "output_type": "stream",
     "text": [
      "The chain is shorter than 50 times the integrated autocorrelation time for 4 parameter(s). Use this estimate with caution and run a longer chain!\n",
      "N/50 = 1;\n",
      "tau: [4.28331168 4.18968581 4.29186473 4.09386876]\n"
     ]
    },
    {
     "name": "stderr",
     "output_type": "stream",
     "text": [
      "WARNING:root:Too few points to create valid contours\n",
      "WARNING:root:Too few points to create valid contours\n",
      "WARNING:root:Too few points to create valid contours\n",
      "WARNING:root:Too few points to create valid contours\n",
      "WARNING:root:Too few points to create valid contours\n",
      "WARNING:root:Too few points to create valid contours\n",
      "  0%|          | 0/40 [00:00<?, ?it/s]"
     ]
    },
    {
     "name": "stdout",
     "output_type": "stream",
     "text": [
      "M1(6)M2XXX\n"
     ]
    },
    {
     "name": "stderr",
     "output_type": "stream",
     "text": [
      "100%|██████████| 40/40 [00:03<00:00, 12.73it/s]\n"
     ]
    },
    {
     "name": "stdout",
     "output_type": "stream",
     "text": [
      "The chain is shorter than 50 times the integrated autocorrelation time for 4 parameter(s). Use this estimate with caution and run a longer chain!\n",
      "N/50 = 1;\n",
      "tau: [4.36435446 4.20027027 4.12361516 4.17310012]\n"
     ]
    },
    {
     "name": "stderr",
     "output_type": "stream",
     "text": [
      "WARNING:root:Too few points to create valid contours\n",
      "WARNING:root:Too few points to create valid contours\n",
      "WARNING:root:Too few points to create valid contours\n",
      "WARNING:root:Too few points to create valid contours\n",
      "WARNING:root:Too few points to create valid contours\n",
      "WARNING:root:Too few points to create valid contours\n",
      "  0%|          | 0/40 [00:00<?, ?it/s]"
     ]
    },
    {
     "name": "stdout",
     "output_type": "stream",
     "text": [
      "M1(7)M2XXX\n"
     ]
    },
    {
     "name": "stderr",
     "output_type": "stream",
     "text": [
      "100%|██████████| 40/40 [00:03<00:00, 12.26it/s]\n"
     ]
    },
    {
     "name": "stdout",
     "output_type": "stream",
     "text": [
      "The chain is shorter than 50 times the integrated autocorrelation time for 4 parameter(s). Use this estimate with caution and run a longer chain!\n",
      "N/50 = 1;\n",
      "tau: [4.26145216 4.20016718 4.17411857 4.13996294]\n"
     ]
    },
    {
     "name": "stderr",
     "output_type": "stream",
     "text": [
      "WARNING:root:Too few points to create valid contours\n",
      "WARNING:root:Too few points to create valid contours\n",
      "WARNING:root:Too few points to create valid contours\n",
      "WARNING:root:Too few points to create valid contours\n",
      "WARNING:root:Too few points to create valid contours\n",
      "WARNING:root:Too few points to create valid contours\n",
      "  0%|          | 0/40 [00:00<?, ?it/s]"
     ]
    },
    {
     "name": "stdout",
     "output_type": "stream",
     "text": [
      "M1(8)M2XXX\n"
     ]
    },
    {
     "name": "stderr",
     "output_type": "stream",
     "text": [
      "100%|██████████| 40/40 [00:03<00:00, 11.69it/s]\n"
     ]
    },
    {
     "name": "stdout",
     "output_type": "stream",
     "text": [
      "The chain is shorter than 50 times the integrated autocorrelation time for 4 parameter(s). Use this estimate with caution and run a longer chain!\n",
      "N/50 = 1;\n",
      "tau: [4.3283699  4.36588734 4.17425656 4.23497018]\n"
     ]
    },
    {
     "name": "stderr",
     "output_type": "stream",
     "text": [
      "WARNING:root:Too few points to create valid contours\n",
      "WARNING:root:Too few points to create valid contours\n",
      "WARNING:root:Too few points to create valid contours\n",
      "WARNING:root:Too few points to create valid contours\n",
      "WARNING:root:Too few points to create valid contours\n",
      "WARNING:root:Too few points to create valid contours\n",
      "  0%|          | 0/40 [00:00<?, ?it/s]"
     ]
    },
    {
     "name": "stdout",
     "output_type": "stream",
     "text": [
      "M1(9)M2XXX\n"
     ]
    },
    {
     "name": "stderr",
     "output_type": "stream",
     "text": [
      "100%|██████████| 40/40 [00:03<00:00, 11.09it/s]\n"
     ]
    },
    {
     "name": "stdout",
     "output_type": "stream",
     "text": [
      "The chain is shorter than 50 times the integrated autocorrelation time for 4 parameter(s). Use this estimate with caution and run a longer chain!\n",
      "N/50 = 1;\n",
      "tau: [4.3929573  4.07943869 4.57750149 3.95961337]\n"
     ]
    },
    {
     "name": "stderr",
     "output_type": "stream",
     "text": [
      "WARNING:root:Too few points to create valid contours\n",
      "WARNING:root:Too few points to create valid contours\n",
      "WARNING:root:Too few points to create valid contours\n",
      "WARNING:root:Too few points to create valid contours\n",
      "WARNING:root:Too few points to create valid contours\n",
      "WARNING:root:Too few points to create valid contours\n",
      "  0%|          | 0/40 [00:00<?, ?it/s]"
     ]
    },
    {
     "name": "stdout",
     "output_type": "stream",
     "text": [
      "M1M2M3M4M5M6\n"
     ]
    },
    {
     "name": "stderr",
     "output_type": "stream",
     "text": [
      "100%|██████████| 40/40 [00:03<00:00, 11.39it/s]\n"
     ]
    },
    {
     "name": "stdout",
     "output_type": "stream",
     "text": [
      "The chain is shorter than 50 times the integrated autocorrelation time for 4 parameter(s). Use this estimate with caution and run a longer chain!\n",
      "N/50 = 1;\n",
      "tau: [4.09090509 4.32426783 3.78905808 4.13770257]\n"
     ]
    },
    {
     "name": "stderr",
     "output_type": "stream",
     "text": [
      "WARNING:root:Too few points to create valid contours\n",
      "WARNING:root:Too few points to create valid contours\n",
      "WARNING:root:Too few points to create valid contours\n",
      "WARNING:root:Too few points to create valid contours\n",
      "WARNING:root:Too few points to create valid contours\n",
      "  0%|          | 0/40 [00:00<?, ?it/s]"
     ]
    },
    {
     "name": "stdout",
     "output_type": "stream",
     "text": [
      "M1M2M3M4M5X\n"
     ]
    },
    {
     "name": "stderr",
     "output_type": "stream",
     "text": [
      "100%|██████████| 40/40 [00:03<00:00, 12.07it/s]\n"
     ]
    },
    {
     "name": "stdout",
     "output_type": "stream",
     "text": [
      "The chain is shorter than 50 times the integrated autocorrelation time for 4 parameter(s). Use this estimate with caution and run a longer chain!\n",
      "N/50 = 1;\n",
      "tau: [4.10442006 4.36972949 4.20632474 4.14157412]\n"
     ]
    },
    {
     "name": "stderr",
     "output_type": "stream",
     "text": [
      "WARNING:root:Too few points to create valid contours\n",
      "WARNING:root:Too few points to create valid contours\n",
      "WARNING:root:Too few points to create valid contours\n",
      "WARNING:root:Too few points to create valid contours\n",
      "WARNING:root:Too few points to create valid contours\n",
      "WARNING:root:Too few points to create valid contours\n",
      "  0%|          | 0/40 [00:00<?, ?it/s]"
     ]
    },
    {
     "name": "stdout",
     "output_type": "stream",
     "text": [
      "M1M2M3M4XX\n"
     ]
    },
    {
     "name": "stderr",
     "output_type": "stream",
     "text": [
      "100%|██████████| 40/40 [00:03<00:00, 12.20it/s]\n"
     ]
    },
    {
     "name": "stdout",
     "output_type": "stream",
     "text": [
      "The chain is shorter than 50 times the integrated autocorrelation time for 4 parameter(s). Use this estimate with caution and run a longer chain!\n",
      "N/50 = 1;\n",
      "tau: [4.21540104 4.03486655 4.35530151 4.14877485]\n"
     ]
    },
    {
     "name": "stderr",
     "output_type": "stream",
     "text": [
      "WARNING:root:Too few points to create valid contours\n",
      "WARNING:root:Too few points to create valid contours\n",
      "WARNING:root:Too few points to create valid contours\n",
      "WARNING:root:Too few points to create valid contours\n",
      "WARNING:root:Too few points to create valid contours\n",
      "  0%|          | 0/40 [00:00<?, ?it/s]"
     ]
    },
    {
     "name": "stdout",
     "output_type": "stream",
     "text": [
      "M1M2M3M6M4M5\n"
     ]
    },
    {
     "name": "stderr",
     "output_type": "stream",
     "text": [
      "100%|██████████| 40/40 [00:03<00:00, 12.42it/s]\n"
     ]
    },
    {
     "name": "stdout",
     "output_type": "stream",
     "text": [
      "The chain is shorter than 50 times the integrated autocorrelation time for 4 parameter(s). Use this estimate with caution and run a longer chain!\n",
      "N/50 = 1;\n",
      "tau: [3.98725381 4.14168234 3.99895189 4.18173165]\n"
     ]
    },
    {
     "name": "stderr",
     "output_type": "stream",
     "text": [
      "WARNING:root:Too few points to create valid contours\n",
      "WARNING:root:Too few points to create valid contours\n",
      "WARNING:root:Too few points to create valid contours\n",
      "WARNING:root:Too few points to create valid contours\n",
      "WARNING:root:Too few points to create valid contours\n",
      "WARNING:root:Too few points to create valid contours\n",
      "  0%|          | 0/40 [00:00<?, ?it/s]"
     ]
    },
    {
     "name": "stdout",
     "output_type": "stream",
     "text": [
      "M1M2M3M6M5M4\n"
     ]
    },
    {
     "name": "stderr",
     "output_type": "stream",
     "text": [
      "100%|██████████| 40/40 [00:03<00:00, 12.32it/s]\n"
     ]
    },
    {
     "name": "stdout",
     "output_type": "stream",
     "text": [
      "The chain is shorter than 50 times the integrated autocorrelation time for 4 parameter(s). Use this estimate with caution and run a longer chain!\n",
      "N/50 = 1;\n",
      "tau: [4.035406   4.30488218 4.37665482 4.16951457]\n"
     ]
    },
    {
     "name": "stderr",
     "output_type": "stream",
     "text": [
      "WARNING:root:Too few points to create valid contours\n",
      "WARNING:root:Too few points to create valid contours\n",
      "WARNING:root:Too few points to create valid contours\n",
      "WARNING:root:Too few points to create valid contours\n",
      "WARNING:root:Too few points to create valid contours\n",
      "  0%|          | 0/40 [00:00<?, ?it/s]"
     ]
    },
    {
     "name": "stdout",
     "output_type": "stream",
     "text": [
      "M1M2M3XXX\n"
     ]
    },
    {
     "name": "stderr",
     "output_type": "stream",
     "text": [
      "100%|██████████| 40/40 [00:03<00:00, 12.19it/s]\n"
     ]
    },
    {
     "name": "stdout",
     "output_type": "stream",
     "text": [
      "The chain is shorter than 50 times the integrated autocorrelation time for 4 parameter(s). Use this estimate with caution and run a longer chain!\n",
      "N/50 = 1;\n",
      "tau: [4.29863076 4.36633807 4.03632898 4.37805733]\n"
     ]
    },
    {
     "name": "stderr",
     "output_type": "stream",
     "text": [
      "WARNING:root:Too few points to create valid contours\n",
      "WARNING:root:Too few points to create valid contours\n",
      "WARNING:root:Too few points to create valid contours\n",
      "WARNING:root:Too few points to create valid contours\n",
      "WARNING:root:Too few points to create valid contours\n",
      "WARNING:root:Too few points to create valid contours\n",
      "  0%|          | 0/40 [00:00<?, ?it/s]"
     ]
    },
    {
     "name": "stdout",
     "output_type": "stream",
     "text": [
      "M1M2XXXX\n"
     ]
    },
    {
     "name": "stderr",
     "output_type": "stream",
     "text": [
      "100%|██████████| 40/40 [00:03<00:00, 11.96it/s]\n"
     ]
    },
    {
     "name": "stdout",
     "output_type": "stream",
     "text": [
      "The chain is shorter than 50 times the integrated autocorrelation time for 4 parameter(s). Use this estimate with caution and run a longer chain!\n",
      "N/50 = 1;\n",
      "tau: [4.36282446 4.37230931 4.20378724 4.24699264]\n"
     ]
    },
    {
     "name": "stderr",
     "output_type": "stream",
     "text": [
      "WARNING:root:Too few points to create valid contours\n",
      "WARNING:root:Too few points to create valid contours\n",
      "WARNING:root:Too few points to create valid contours\n",
      "WARNING:root:Too few points to create valid contours\n",
      "WARNING:root:Too few points to create valid contours\n",
      "WARNING:root:Too few points to create valid contours\n",
      "  0%|          | 0/40 [00:00<?, ?it/s]"
     ]
    },
    {
     "name": "stdout",
     "output_type": "stream",
     "text": [
      "M1XM2XXX\n"
     ]
    },
    {
     "name": "stderr",
     "output_type": "stream",
     "text": [
      "100%|██████████| 40/40 [00:03<00:00, 12.02it/s]\n"
     ]
    },
    {
     "name": "stdout",
     "output_type": "stream",
     "text": [
      "The chain is shorter than 50 times the integrated autocorrelation time for 4 parameter(s). Use this estimate with caution and run a longer chain!\n",
      "N/50 = 1;\n",
      "tau: [4.23919907 4.38999435 4.22656793 4.35722887]\n"
     ]
    },
    {
     "name": "stderr",
     "output_type": "stream",
     "text": [
      "WARNING:root:Too few points to create valid contours\n",
      "WARNING:root:Too few points to create valid contours\n",
      "WARNING:root:Too few points to create valid contours\n",
      "WARNING:root:Too few points to create valid contours\n",
      "WARNING:root:Too few points to create valid contours\n",
      "WARNING:root:Too few points to create valid contours\n",
      "  0%|          | 0/40 [00:00<?, ?it/s]"
     ]
    },
    {
     "name": "stdout",
     "output_type": "stream",
     "text": [
      "M1XXM2XX\n"
     ]
    },
    {
     "name": "stderr",
     "output_type": "stream",
     "text": [
      "100%|██████████| 40/40 [00:03<00:00, 12.16it/s]\n"
     ]
    },
    {
     "name": "stdout",
     "output_type": "stream",
     "text": [
      "The chain is shorter than 50 times the integrated autocorrelation time for 4 parameter(s). Use this estimate with caution and run a longer chain!\n",
      "N/50 = 1;\n",
      "tau: [4.20783114 4.31131906 4.24639955 4.37176214]\n"
     ]
    },
    {
     "name": "stderr",
     "output_type": "stream",
     "text": [
      "WARNING:root:Too few points to create valid contours\n",
      "WARNING:root:Too few points to create valid contours\n",
      "WARNING:root:Too few points to create valid contours\n",
      "WARNING:root:Too few points to create valid contours\n",
      "WARNING:root:Too few points to create valid contours\n",
      "WARNING:root:Too few points to create valid contours\n",
      "  0%|          | 0/40 [00:00<?, ?it/s]"
     ]
    },
    {
     "name": "stdout",
     "output_type": "stream",
     "text": [
      "M1XXXM2X\n"
     ]
    },
    {
     "name": "stderr",
     "output_type": "stream",
     "text": [
      "100%|██████████| 40/40 [00:03<00:00, 12.54it/s]\n"
     ]
    },
    {
     "name": "stdout",
     "output_type": "stream",
     "text": [
      "The chain is shorter than 50 times the integrated autocorrelation time for 4 parameter(s). Use this estimate with caution and run a longer chain!\n",
      "N/50 = 1;\n",
      "tau: [4.30523671 4.32298962 4.30128029 4.16030285]\n"
     ]
    },
    {
     "name": "stderr",
     "output_type": "stream",
     "text": [
      "WARNING:root:Too few points to create valid contours\n",
      "WARNING:root:Too few points to create valid contours\n",
      "WARNING:root:Too few points to create valid contours\n",
      "WARNING:root:Too few points to create valid contours\n",
      "WARNING:root:Too few points to create valid contours\n",
      "WARNING:root:Too few points to create valid contours\n",
      "  0%|          | 0/40 [00:00<?, ?it/s]"
     ]
    },
    {
     "name": "stdout",
     "output_type": "stream",
     "text": [
      "M1XXXXM2\n"
     ]
    },
    {
     "name": "stderr",
     "output_type": "stream",
     "text": [
      "100%|██████████| 40/40 [00:03<00:00, 12.34it/s]\n"
     ]
    },
    {
     "name": "stdout",
     "output_type": "stream",
     "text": [
      "The chain is shorter than 50 times the integrated autocorrelation time for 4 parameter(s). Use this estimate with caution and run a longer chain!\n",
      "N/50 = 1;\n",
      "tau: [4.42775446 4.16167459 4.29764928 4.25015518]\n"
     ]
    },
    {
     "name": "stderr",
     "output_type": "stream",
     "text": [
      "WARNING:root:Too few points to create valid contours\n",
      "WARNING:root:Too few points to create valid contours\n",
      "WARNING:root:Too few points to create valid contours\n",
      "WARNING:root:Too few points to create valid contours\n",
      "WARNING:root:Too few points to create valid contours\n",
      "WARNING:root:Too few points to create valid contours\n",
      "  0%|          | 0/40 [00:00<?, ?it/s]"
     ]
    },
    {
     "name": "stdout",
     "output_type": "stream",
     "text": [
      "M1XXXXX\n"
     ]
    },
    {
     "name": "stderr",
     "output_type": "stream",
     "text": [
      "100%|██████████| 40/40 [00:03<00:00, 12.11it/s]\n"
     ]
    },
    {
     "name": "stdout",
     "output_type": "stream",
     "text": [
      "The chain is shorter than 50 times the integrated autocorrelation time for 4 parameter(s). Use this estimate with caution and run a longer chain!\n",
      "N/50 = 1;\n",
      "tau: [4.34326528 4.3885982  4.37199833 4.50897718]\n"
     ]
    },
    {
     "name": "stderr",
     "output_type": "stream",
     "text": [
      "WARNING:root:Too few points to create valid contours\n",
      "WARNING:root:Too few points to create valid contours\n",
      "WARNING:root:Too few points to create valid contours\n",
      "WARNING:root:Too few points to create valid contours\n",
      "WARNING:root:Too few points to create valid contours\n",
      "WARNING:root:Too few points to create valid contours\n",
      "  0%|          | 0/40 [00:00<?, ?it/s]"
     ]
    },
    {
     "name": "stdout",
     "output_type": "stream",
     "text": [
      "M2XXXXX\n"
     ]
    },
    {
     "name": "stderr",
     "output_type": "stream",
     "text": [
      "100%|██████████| 40/40 [00:03<00:00, 10.03it/s]\n"
     ]
    },
    {
     "name": "stdout",
     "output_type": "stream",
     "text": [
      "The chain is shorter than 50 times the integrated autocorrelation time for 4 parameter(s). Use this estimate with caution and run a longer chain!\n",
      "N/50 = 1;\n",
      "tau: [4.45363621 4.57781724 4.22982364 4.48170762]\n"
     ]
    },
    {
     "name": "stderr",
     "output_type": "stream",
     "text": [
      "WARNING:root:Too few points to create valid contours\n",
      "WARNING:root:Too few points to create valid contours\n",
      "WARNING:root:Too few points to create valid contours\n",
      "WARNING:root:Too few points to create valid contours\n",
      "WARNING:root:Too few points to create valid contours\n",
      "WARNING:root:Too few points to create valid contours\n",
      "  0%|          | 0/40 [00:00<?, ?it/s]"
     ]
    },
    {
     "name": "stdout",
     "output_type": "stream",
     "text": [
      "M3M4M1M5M2X\n"
     ]
    },
    {
     "name": "stderr",
     "output_type": "stream",
     "text": [
      "100%|██████████| 40/40 [00:03<00:00, 10.33it/s]\n"
     ]
    },
    {
     "name": "stdout",
     "output_type": "stream",
     "text": [
      "The chain is shorter than 50 times the integrated autocorrelation time for 4 parameter(s). Use this estimate with caution and run a longer chain!\n",
      "N/50 = 1;\n",
      "tau: [4.35570931 4.33676483 4.31003086 4.05552033]\n"
     ]
    },
    {
     "name": "stderr",
     "output_type": "stream",
     "text": [
      "WARNING:root:Too few points to create valid contours\n",
      "WARNING:root:Too few points to create valid contours\n",
      "WARNING:root:Too few points to create valid contours\n",
      "WARNING:root:Too few points to create valid contours\n",
      "WARNING:root:Too few points to create valid contours\n",
      "WARNING:root:Too few points to create valid contours\n",
      "  0%|          | 0/40 [00:00<?, ?it/s]"
     ]
    },
    {
     "name": "stdout",
     "output_type": "stream",
     "text": [
      "M3XXXXX\n"
     ]
    },
    {
     "name": "stderr",
     "output_type": "stream",
     "text": [
      "100%|██████████| 40/40 [00:03<00:00, 12.76it/s]\n"
     ]
    },
    {
     "name": "stdout",
     "output_type": "stream",
     "text": [
      "The chain is shorter than 50 times the integrated autocorrelation time for 4 parameter(s). Use this estimate with caution and run a longer chain!\n",
      "N/50 = 1;\n",
      "tau: [4.37157283 4.32268161 4.1774191  4.33234774]\n"
     ]
    },
    {
     "name": "stderr",
     "output_type": "stream",
     "text": [
      "WARNING:root:Too few points to create valid contours\n",
      "WARNING:root:Too few points to create valid contours\n",
      "WARNING:root:Too few points to create valid contours\n",
      "WARNING:root:Too few points to create valid contours\n",
      "WARNING:root:Too few points to create valid contours\n",
      "WARNING:root:Too few points to create valid contours\n",
      "  0%|          | 0/40 [00:00<?, ?it/s]"
     ]
    },
    {
     "name": "stdout",
     "output_type": "stream",
     "text": [
      "M4XXXXX\n"
     ]
    },
    {
     "name": "stderr",
     "output_type": "stream",
     "text": [
      "100%|██████████| 40/40 [00:03<00:00, 12.87it/s]\n"
     ]
    },
    {
     "name": "stdout",
     "output_type": "stream",
     "text": [
      "The chain is shorter than 50 times the integrated autocorrelation time for 4 parameter(s). Use this estimate with caution and run a longer chain!\n",
      "N/50 = 1;\n",
      "tau: [4.30468458 4.23794077 4.09543357 4.56356132]\n"
     ]
    },
    {
     "name": "stderr",
     "output_type": "stream",
     "text": [
      "WARNING:root:Too few points to create valid contours\n",
      "WARNING:root:Too few points to create valid contours\n",
      "WARNING:root:Too few points to create valid contours\n",
      "WARNING:root:Too few points to create valid contours\n",
      "WARNING:root:Too few points to create valid contours\n",
      "WARNING:root:Too few points to create valid contours\n",
      "  0%|          | 0/40 [00:00<?, ?it/s]"
     ]
    },
    {
     "name": "stdout",
     "output_type": "stream",
     "text": [
      "M5XXXXX\n"
     ]
    },
    {
     "name": "stderr",
     "output_type": "stream",
     "text": [
      "100%|██████████| 40/40 [00:03<00:00, 12.83it/s]\n"
     ]
    },
    {
     "name": "stdout",
     "output_type": "stream",
     "text": [
      "The chain is shorter than 50 times the integrated autocorrelation time for 4 parameter(s). Use this estimate with caution and run a longer chain!\n",
      "N/50 = 1;\n",
      "tau: [4.53399384 4.29040828 4.20678599 4.37536428]\n"
     ]
    },
    {
     "name": "stderr",
     "output_type": "stream",
     "text": [
      "WARNING:root:Too few points to create valid contours\n",
      "WARNING:root:Too few points to create valid contours\n",
      "WARNING:root:Too few points to create valid contours\n",
      "WARNING:root:Too few points to create valid contours\n",
      "WARNING:root:Too few points to create valid contours\n",
      "WARNING:root:Too few points to create valid contours\n",
      "  0%|          | 0/40 [00:00<?, ?it/s]"
     ]
    },
    {
     "name": "stdout",
     "output_type": "stream",
     "text": [
      "M6XXXXX\n"
     ]
    },
    {
     "name": "stderr",
     "output_type": "stream",
     "text": [
      "100%|██████████| 40/40 [00:02<00:00, 13.38it/s]\n"
     ]
    },
    {
     "name": "stdout",
     "output_type": "stream",
     "text": [
      "The chain is shorter than 50 times the integrated autocorrelation time for 4 parameter(s). Use this estimate with caution and run a longer chain!\n",
      "N/50 = 1;\n",
      "tau: [4.53578228 4.52868834 4.44254577 4.54591108]\n"
     ]
    },
    {
     "name": "stderr",
     "output_type": "stream",
     "text": [
      "WARNING:root:Too few points to create valid contours\n",
      "WARNING:root:Too few points to create valid contours\n",
      "WARNING:root:Too few points to create valid contours\n",
      "WARNING:root:Too few points to create valid contours\n",
      "WARNING:root:Too few points to create valid contours\n",
      "WARNING:root:Too few points to create valid contours\n",
      "  0%|          | 0/40 [00:00<?, ?it/s]"
     ]
    },
    {
     "name": "stdout",
     "output_type": "stream",
     "text": [
      "NEWA8XXXXX\n"
     ]
    },
    {
     "name": "stderr",
     "output_type": "stream",
     "text": [
      "100%|██████████| 40/40 [00:03<00:00, 12.96it/s]\n"
     ]
    },
    {
     "name": "stdout",
     "output_type": "stream",
     "text": [
      "The chain is shorter than 50 times the integrated autocorrelation time for 4 parameter(s). Use this estimate with caution and run a longer chain!\n",
      "N/50 = 1;\n",
      "tau: [4.64697475 4.21578326 4.27254639 4.53922264]\n"
     ]
    },
    {
     "name": "stderr",
     "output_type": "stream",
     "text": [
      "WARNING:root:Too few points to create valid contours\n",
      "WARNING:root:Too few points to create valid contours\n",
      "WARNING:root:Too few points to create valid contours\n",
      "WARNING:root:Too few points to create valid contours\n",
      "WARNING:root:Too few points to create valid contours\n",
      "WARNING:root:Too few points to create valid contours\n",
      "  0%|          | 0/40 [00:00<?, ?it/s]"
     ]
    },
    {
     "name": "stdout",
     "output_type": "stream",
     "text": [
      "NEWXXXXXA8\n"
     ]
    },
    {
     "name": "stderr",
     "output_type": "stream",
     "text": [
      "100%|██████████| 40/40 [00:03<00:00, 12.92it/s]\n"
     ]
    },
    {
     "name": "stdout",
     "output_type": "stream",
     "text": [
      "The chain is shorter than 50 times the integrated autocorrelation time for 4 parameter(s). Use this estimate with caution and run a longer chain!\n",
      "N/50 = 1;\n",
      "tau: [4.39908918 4.24087661 4.56615653 4.04961336]\n"
     ]
    },
    {
     "name": "stderr",
     "output_type": "stream",
     "text": [
      "WARNING:root:Too few points to create valid contours\n",
      "WARNING:root:Too few points to create valid contours\n",
      "WARNING:root:Too few points to create valid contours\n",
      "WARNING:root:Too few points to create valid contours\n",
      "WARNING:root:Too few points to create valid contours\n",
      "WARNING:root:Too few points to create valid contours\n",
      "  0%|          | 0/40 [00:00<?, ?it/s]"
     ]
    },
    {
     "name": "stdout",
     "output_type": "stream",
     "text": [
      "NO_T\n"
     ]
    },
    {
     "name": "stderr",
     "output_type": "stream",
     "text": [
      "100%|██████████| 40/40 [00:05<00:00,  7.19it/s]\n"
     ]
    },
    {
     "name": "stdout",
     "output_type": "stream",
     "text": [
      "The chain is shorter than 50 times the integrated autocorrelation time for 4 parameter(s). Use this estimate with caution and run a longer chain!\n",
      "N/50 = 1;\n",
      "tau: [4.30328768 4.1704571  4.36520336 4.081968  ]\n"
     ]
    },
    {
     "name": "stderr",
     "output_type": "stream",
     "text": [
      "WARNING:root:Too few points to create valid contours\n",
      "WARNING:root:Too few points to create valid contours\n",
      "WARNING:root:Too few points to create valid contours\n",
      "WARNING:root:Too few points to create valid contours\n",
      "WARNING:root:Too few points to create valid contours\n",
      "WARNING:root:Too few points to create valid contours\n",
      "  0%|          | 0/40 [00:00<?, ?it/s]"
     ]
    },
    {
     "name": "stdout",
     "output_type": "stream",
     "text": [
      "RC(M1M2M3M4M5M6)\n"
     ]
    },
    {
     "name": "stderr",
     "output_type": "stream",
     "text": [
      "100%|██████████| 40/40 [00:03<00:00, 12.41it/s]\n"
     ]
    },
    {
     "name": "stdout",
     "output_type": "stream",
     "text": [
      "The chain is shorter than 50 times the integrated autocorrelation time for 4 parameter(s). Use this estimate with caution and run a longer chain!\n",
      "N/50 = 1;\n",
      "tau: [4.23133422 4.2040166  4.13262548 4.34947979]\n"
     ]
    },
    {
     "name": "stderr",
     "output_type": "stream",
     "text": [
      "WARNING:root:Too few points to create valid contours\n",
      "WARNING:root:Too few points to create valid contours\n",
      "WARNING:root:Too few points to create valid contours\n",
      "WARNING:root:Too few points to create valid contours\n",
      "WARNING:root:Too few points to create valid contours\n",
      "WARNING:root:Too few points to create valid contours\n",
      "  0%|          | 0/40 [00:00<?, ?it/s]"
     ]
    },
    {
     "name": "stdout",
     "output_type": "stream",
     "text": [
      "RC(M1M2M3M4M5X)\n"
     ]
    },
    {
     "name": "stderr",
     "output_type": "stream",
     "text": [
      "100%|██████████| 40/40 [00:03<00:00, 11.93it/s]\n"
     ]
    },
    {
     "name": "stdout",
     "output_type": "stream",
     "text": [
      "The chain is shorter than 50 times the integrated autocorrelation time for 4 parameter(s). Use this estimate with caution and run a longer chain!\n",
      "N/50 = 1;\n",
      "tau: [4.24085663 4.14550282 4.26952985 4.12973817]\n"
     ]
    },
    {
     "name": "stderr",
     "output_type": "stream",
     "text": [
      "WARNING:root:Too few points to create valid contours\n",
      "WARNING:root:Too few points to create valid contours\n",
      "WARNING:root:Too few points to create valid contours\n",
      "WARNING:root:Too few points to create valid contours\n",
      "WARNING:root:Too few points to create valid contours\n",
      "WARNING:root:Too few points to create valid contours\n",
      "  0%|          | 0/40 [00:00<?, ?it/s]"
     ]
    },
    {
     "name": "stdout",
     "output_type": "stream",
     "text": [
      "RC(M1M2M3M4XX)\n"
     ]
    },
    {
     "name": "stderr",
     "output_type": "stream",
     "text": [
      "100%|██████████| 40/40 [00:03<00:00, 10.00it/s]\n"
     ]
    },
    {
     "name": "stdout",
     "output_type": "stream",
     "text": [
      "The chain is shorter than 50 times the integrated autocorrelation time for 4 parameter(s). Use this estimate with caution and run a longer chain!\n",
      "N/50 = 1;\n",
      "tau: [4.09969282 4.12235665 4.2472641  4.2521727 ]\n"
     ]
    },
    {
     "name": "stderr",
     "output_type": "stream",
     "text": [
      "WARNING:root:Too few points to create valid contours\n",
      "WARNING:root:Too few points to create valid contours\n",
      "WARNING:root:Too few points to create valid contours\n",
      "WARNING:root:Too few points to create valid contours\n",
      "WARNING:root:Too few points to create valid contours\n",
      "WARNING:root:Too few points to create valid contours\n",
      "  0%|          | 0/40 [00:00<?, ?it/s]"
     ]
    },
    {
     "name": "stdout",
     "output_type": "stream",
     "text": [
      "W1XXXXX\n"
     ]
    },
    {
     "name": "stderr",
     "output_type": "stream",
     "text": [
      "/Users/transcend/opt/anaconda3/lib/python3.8/site-packages/emcee/moves/red_blue.py:99: RuntimeWarning: invalid value encountered in double_scalars\n",
      "  lnpdiff = f + nlp - state.log_prob[j]\n",
      "100%|██████████| 40/40 [00:03<00:00, 12.86it/s]\n"
     ]
    },
    {
     "name": "stdout",
     "output_type": "stream",
     "text": [
      "The chain is shorter than 50 times the integrated autocorrelation time for 4 parameter(s). Use this estimate with caution and run a longer chain!\n",
      "N/50 = 1;\n",
      "tau: [4.26334012 4.27328632 4.54919071 4.11810974]\n"
     ]
    },
    {
     "name": "stderr",
     "output_type": "stream",
     "text": [
      "WARNING:root:Too few points to create valid contours\n",
      "WARNING:root:Too few points to create valid contours\n",
      "WARNING:root:Too few points to create valid contours\n",
      "WARNING:root:Too few points to create valid contours\n",
      "WARNING:root:Too few points to create valid contours\n",
      "WARNING:root:Too few points to create valid contours\n"
     ]
    },
    {
     "name": "stdout",
     "output_type": "stream",
     "text": [
      "W2W3W1W4W3W2\n"
     ]
    },
    {
     "name": "stderr",
     "output_type": "stream",
     "text": [
      "100%|██████████| 40/40 [00:04<00:00,  9.17it/s]\n"
     ]
    },
    {
     "name": "stdout",
     "output_type": "stream",
     "text": [
      "The chain is shorter than 50 times the integrated autocorrelation time for 4 parameter(s). Use this estimate with caution and run a longer chain!\n",
      "N/50 = 1;\n",
      "tau: [4.57367602 4.30245086 3.99125428 4.49995827]\n"
     ]
    },
    {
     "name": "stderr",
     "output_type": "stream",
     "text": [
      "WARNING:root:Too few points to create valid contours\n",
      "WARNING:root:Too few points to create valid contours\n",
      "WARNING:root:Too few points to create valid contours\n",
      "WARNING:root:Too few points to create valid contours\n",
      "WARNING:root:Too few points to create valid contours\n",
      "WARNING:root:Too few points to create valid contours\n"
     ]
    },
    {
     "name": "stdout",
     "output_type": "stream",
     "text": [
      "W2XXXXX\n"
     ]
    },
    {
     "name": "stderr",
     "output_type": "stream",
     "text": [
      "100%|██████████| 40/40 [00:03<00:00, 12.77it/s]\n"
     ]
    },
    {
     "name": "stdout",
     "output_type": "stream",
     "text": [
      "The chain is shorter than 50 times the integrated autocorrelation time for 4 parameter(s). Use this estimate with caution and run a longer chain!\n",
      "N/50 = 1;\n",
      "tau: [4.41924266 4.21627814 4.16883802 4.20011137]\n"
     ]
    },
    {
     "name": "stderr",
     "output_type": "stream",
     "text": [
      "WARNING:root:Too few points to create valid contours\n",
      "WARNING:root:Too few points to create valid contours\n",
      "WARNING:root:Too few points to create valid contours\n",
      "WARNING:root:Too few points to create valid contours\n",
      "WARNING:root:Too few points to create valid contours\n",
      "WARNING:root:Too few points to create valid contours\n",
      "  0%|          | 0/40 [00:00<?, ?it/s]"
     ]
    },
    {
     "name": "stdout",
     "output_type": "stream",
     "text": [
      "W3XXXXX\n"
     ]
    },
    {
     "name": "stderr",
     "output_type": "stream",
     "text": [
      "100%|██████████| 40/40 [00:03<00:00, 13.13it/s]\n"
     ]
    },
    {
     "name": "stdout",
     "output_type": "stream",
     "text": [
      "The chain is shorter than 50 times the integrated autocorrelation time for 4 parameter(s). Use this estimate with caution and run a longer chain!\n",
      "N/50 = 1;\n",
      "tau: [4.21870555 4.27270547 4.15421766 4.68642436]\n"
     ]
    },
    {
     "name": "stderr",
     "output_type": "stream",
     "text": [
      "WARNING:root:Too few points to create valid contours\n",
      "WARNING:root:Too few points to create valid contours\n",
      "WARNING:root:Too few points to create valid contours\n",
      "WARNING:root:Too few points to create valid contours\n",
      "WARNING:root:Too few points to create valid contours\n",
      "WARNING:root:Too few points to create valid contours\n",
      "  0%|          | 0/40 [00:00<?, ?it/s]"
     ]
    },
    {
     "name": "stdout",
     "output_type": "stream",
     "text": [
      "W4XXXXX\n"
     ]
    },
    {
     "name": "stderr",
     "output_type": "stream",
     "text": [
      "100%|██████████| 40/40 [00:02<00:00, 13.36it/s]\n"
     ]
    },
    {
     "name": "stdout",
     "output_type": "stream",
     "text": [
      "The chain is shorter than 50 times the integrated autocorrelation time for 4 parameter(s). Use this estimate with caution and run a longer chain!\n",
      "N/50 = 1;\n",
      "tau: [4.3995493  4.57441582 4.18140776 4.34636514]\n"
     ]
    },
    {
     "name": "stderr",
     "output_type": "stream",
     "text": [
      "WARNING:root:Too few points to create valid contours\n",
      "WARNING:root:Too few points to create valid contours\n",
      "WARNING:root:Too few points to create valid contours\n",
      "WARNING:root:Too few points to create valid contours\n",
      "WARNING:root:Too few points to create valid contours\n",
      "WARNING:root:Too few points to create valid contours\n",
      "  0%|          | 0/40 [00:00<?, ?it/s]"
     ]
    },
    {
     "name": "stdout",
     "output_type": "stream",
     "text": [
      "XA11A4A4A11X\n"
     ]
    },
    {
     "name": "stderr",
     "output_type": "stream",
     "text": [
      "100%|██████████| 40/40 [00:03<00:00, 12.65it/s]\n"
     ]
    },
    {
     "name": "stdout",
     "output_type": "stream",
     "text": [
      "The chain is shorter than 50 times the integrated autocorrelation time for 4 parameter(s). Use this estimate with caution and run a longer chain!\n",
      "N/50 = 1;\n",
      "tau: [4.35293183 4.17852785 4.07399635 4.23731779]\n"
     ]
    },
    {
     "name": "stderr",
     "output_type": "stream",
     "text": [
      "WARNING:root:Too few points to create valid contours\n",
      "WARNING:root:Too few points to create valid contours\n",
      "WARNING:root:Too few points to create valid contours\n",
      "WARNING:root:Too few points to create valid contours\n",
      "WARNING:root:Too few points to create valid contours\n",
      "WARNING:root:Too few points to create valid contours\n",
      "  0%|          | 0/40 [00:00<?, ?it/s]"
     ]
    },
    {
     "name": "stdout",
     "output_type": "stream",
     "text": [
      "XA11A5A5A11X\n"
     ]
    },
    {
     "name": "stderr",
     "output_type": "stream",
     "text": [
      "100%|██████████| 40/40 [00:03<00:00, 12.13it/s]\n"
     ]
    },
    {
     "name": "stdout",
     "output_type": "stream",
     "text": [
      "The chain is shorter than 50 times the integrated autocorrelation time for 4 parameter(s). Use this estimate with caution and run a longer chain!\n",
      "N/50 = 1;\n",
      "tau: [4.39478306 4.23279488 4.05226369 4.34806148]\n"
     ]
    },
    {
     "name": "stderr",
     "output_type": "stream",
     "text": [
      "WARNING:root:Too few points to create valid contours\n",
      "WARNING:root:Too few points to create valid contours\n",
      "WARNING:root:Too few points to create valid contours\n",
      "WARNING:root:Too few points to create valid contours\n",
      "WARNING:root:Too few points to create valid contours\n",
      "WARNING:root:Too few points to create valid contours\n",
      "  0%|          | 0/40 [00:00<?, ?it/s]"
     ]
    },
    {
     "name": "stdout",
     "output_type": "stream",
     "text": [
      "XA11M2M2A11X\n"
     ]
    },
    {
     "name": "stderr",
     "output_type": "stream",
     "text": [
      "100%|██████████| 40/40 [00:03<00:00, 11.36it/s]\n"
     ]
    },
    {
     "name": "stdout",
     "output_type": "stream",
     "text": [
      "The chain is shorter than 50 times the integrated autocorrelation time for 4 parameter(s). Use this estimate with caution and run a longer chain!\n",
      "N/50 = 1;\n",
      "tau: [4.25717848 4.39950073 4.01321404 4.53856243]\n"
     ]
    },
    {
     "name": "stderr",
     "output_type": "stream",
     "text": [
      "WARNING:root:Too few points to create valid contours\n",
      "WARNING:root:Too few points to create valid contours\n",
      "WARNING:root:Too few points to create valid contours\n",
      "WARNING:root:Too few points to create valid contours\n",
      "WARNING:root:Too few points to create valid contours\n",
      "WARNING:root:Too few points to create valid contours\n",
      "  0%|          | 0/40 [00:00<?, ?it/s]"
     ]
    },
    {
     "name": "stdout",
     "output_type": "stream",
     "text": [
      "XA4A11A11A4X\n"
     ]
    },
    {
     "name": "stderr",
     "output_type": "stream",
     "text": [
      "100%|██████████| 40/40 [00:03<00:00, 11.38it/s]\n"
     ]
    },
    {
     "name": "stdout",
     "output_type": "stream",
     "text": [
      "The chain is shorter than 50 times the integrated autocorrelation time for 4 parameter(s). Use this estimate with caution and run a longer chain!\n",
      "N/50 = 1;\n",
      "tau: [4.14149152 4.35375812 3.82200478 4.14087304]\n"
     ]
    },
    {
     "name": "stderr",
     "output_type": "stream",
     "text": [
      "WARNING:root:Too few points to create valid contours\n",
      "WARNING:root:Too few points to create valid contours\n",
      "WARNING:root:Too few points to create valid contours\n",
      "WARNING:root:Too few points to create valid contours\n",
      "WARNING:root:Too few points to create valid contours\n",
      "WARNING:root:Too few points to create valid contours\n",
      "  0%|          | 0/40 [00:00<?, ?it/s]"
     ]
    },
    {
     "name": "stdout",
     "output_type": "stream",
     "text": [
      "XA5A11A11A5X\n"
     ]
    },
    {
     "name": "stderr",
     "output_type": "stream",
     "text": [
      "100%|██████████| 40/40 [00:03<00:00, 11.79it/s]\n"
     ]
    },
    {
     "name": "stdout",
     "output_type": "stream",
     "text": [
      "The chain is shorter than 50 times the integrated autocorrelation time for 4 parameter(s). Use this estimate with caution and run a longer chain!\n",
      "N/50 = 1;\n",
      "tau: [3.97886473 4.2194787  4.04404064 4.12127029]\n"
     ]
    },
    {
     "name": "stderr",
     "output_type": "stream",
     "text": [
      "WARNING:root:Too few points to create valid contours\n",
      "WARNING:root:Too few points to create valid contours\n",
      "WARNING:root:Too few points to create valid contours\n",
      "WARNING:root:Too few points to create valid contours\n",
      "WARNING:root:Too few points to create valid contours\n",
      "WARNING:root:Too few points to create valid contours\n",
      "  0%|          | 0/40 [00:00<?, ?it/s]"
     ]
    },
    {
     "name": "stdout",
     "output_type": "stream",
     "text": [
      "XM2A11A11M2X\n"
     ]
    },
    {
     "name": "stderr",
     "output_type": "stream",
     "text": [
      "100%|██████████| 40/40 [00:03<00:00, 12.24it/s]\n"
     ]
    },
    {
     "name": "stdout",
     "output_type": "stream",
     "text": [
      "The chain is shorter than 50 times the integrated autocorrelation time for 4 parameter(s). Use this estimate with caution and run a longer chain!\n",
      "N/50 = 1;\n",
      "tau: [4.18028151 4.40369404 3.9304816  4.38691261]\n"
     ]
    },
    {
     "name": "stderr",
     "output_type": "stream",
     "text": [
      "WARNING:root:Too few points to create valid contours\n",
      "WARNING:root:Too few points to create valid contours\n",
      "WARNING:root:Too few points to create valid contours\n",
      "WARNING:root:Too few points to create valid contours\n",
      "WARNING:root:Too few points to create valid contours\n",
      "WARNING:root:Too few points to create valid contours\n",
      "  0%|          | 0/40 [00:00<?, ?it/s]"
     ]
    },
    {
     "name": "stdout",
     "output_type": "stream",
     "text": [
      "XM2XXXX\n"
     ]
    },
    {
     "name": "stderr",
     "output_type": "stream",
     "text": [
      "100%|██████████| 40/40 [00:03<00:00, 12.77it/s]\n"
     ]
    },
    {
     "name": "stdout",
     "output_type": "stream",
     "text": [
      "The chain is shorter than 50 times the integrated autocorrelation time for 4 parameter(s). Use this estimate with caution and run a longer chain!\n",
      "N/50 = 1;\n",
      "tau: [4.16115736 4.22041338 4.18366655 4.18851437]\n"
     ]
    },
    {
     "name": "stderr",
     "output_type": "stream",
     "text": [
      "WARNING:root:Too few points to create valid contours\n",
      "WARNING:root:Too few points to create valid contours\n",
      "WARNING:root:Too few points to create valid contours\n",
      "WARNING:root:Too few points to create valid contours\n",
      "WARNING:root:Too few points to create valid contours\n",
      "WARNING:root:Too few points to create valid contours\n",
      "  0%|          | 0/40 [00:00<?, ?it/s]"
     ]
    },
    {
     "name": "stdout",
     "output_type": "stream",
     "text": [
      "XM3XXXX\n"
     ]
    },
    {
     "name": "stderr",
     "output_type": "stream",
     "text": [
      "100%|██████████| 40/40 [00:03<00:00, 12.36it/s]\n"
     ]
    },
    {
     "name": "stdout",
     "output_type": "stream",
     "text": [
      "The chain is shorter than 50 times the integrated autocorrelation time for 4 parameter(s). Use this estimate with caution and run a longer chain!\n",
      "N/50 = 1;\n",
      "tau: [4.14780696 4.48007352 4.01610105 4.30077357]\n"
     ]
    },
    {
     "name": "stderr",
     "output_type": "stream",
     "text": [
      "WARNING:root:Too few points to create valid contours\n",
      "WARNING:root:Too few points to create valid contours\n",
      "WARNING:root:Too few points to create valid contours\n",
      "WARNING:root:Too few points to create valid contours\n",
      "WARNING:root:Too few points to create valid contours\n",
      "WARNING:root:Too few points to create valid contours\n",
      "  0%|          | 0/40 [00:00<?, ?it/s]"
     ]
    },
    {
     "name": "stdout",
     "output_type": "stream",
     "text": [
      "XXM3XXX\n"
     ]
    },
    {
     "name": "stderr",
     "output_type": "stream",
     "text": [
      "100%|██████████| 40/40 [00:03<00:00, 12.14it/s]\n"
     ]
    },
    {
     "name": "stdout",
     "output_type": "stream",
     "text": [
      "The chain is shorter than 50 times the integrated autocorrelation time for 4 parameter(s). Use this estimate with caution and run a longer chain!\n",
      "N/50 = 1;\n",
      "tau: [4.28084842 4.34016024 4.36796032 4.33362074]\n"
     ]
    },
    {
     "name": "stderr",
     "output_type": "stream",
     "text": [
      "WARNING:root:Too few points to create valid contours\n",
      "WARNING:root:Too few points to create valid contours\n",
      "WARNING:root:Too few points to create valid contours\n",
      "WARNING:root:Too few points to create valid contours\n",
      "WARNING:root:Too few points to create valid contours\n",
      "WARNING:root:Too few points to create valid contours\n",
      "  0%|          | 0/40 [00:00<?, ?it/s]"
     ]
    },
    {
     "name": "stdout",
     "output_type": "stream",
     "text": [
      "XXXM3XX\n"
     ]
    },
    {
     "name": "stderr",
     "output_type": "stream",
     "text": [
      "100%|██████████| 40/40 [00:03<00:00, 10.96it/s]\n"
     ]
    },
    {
     "name": "stdout",
     "output_type": "stream",
     "text": [
      "The chain is shorter than 50 times the integrated autocorrelation time for 4 parameter(s). Use this estimate with caution and run a longer chain!\n",
      "N/50 = 1;\n",
      "tau: [4.46356918 4.36079884 4.2762135  4.01233882]\n"
     ]
    },
    {
     "name": "stderr",
     "output_type": "stream",
     "text": [
      "WARNING:root:Too few points to create valid contours\n",
      "WARNING:root:Too few points to create valid contours\n",
      "WARNING:root:Too few points to create valid contours\n",
      "WARNING:root:Too few points to create valid contours\n",
      "WARNING:root:Too few points to create valid contours\n",
      "WARNING:root:Too few points to create valid contours\n",
      "  0%|          | 0/40 [00:00<?, ?it/s]"
     ]
    },
    {
     "name": "stdout",
     "output_type": "stream",
     "text": [
      "XXXM4XX\n"
     ]
    },
    {
     "name": "stderr",
     "output_type": "stream",
     "text": [
      "100%|██████████| 40/40 [00:03<00:00, 11.71it/s]\n"
     ]
    },
    {
     "name": "stdout",
     "output_type": "stream",
     "text": [
      "The chain is shorter than 50 times the integrated autocorrelation time for 4 parameter(s). Use this estimate with caution and run a longer chain!\n",
      "N/50 = 1;\n",
      "tau: [4.43644431 4.1580891  4.00113466 4.19951823]\n"
     ]
    },
    {
     "name": "stderr",
     "output_type": "stream",
     "text": [
      "WARNING:root:Too few points to create valid contours\n",
      "WARNING:root:Too few points to create valid contours\n",
      "WARNING:root:Too few points to create valid contours\n",
      "WARNING:root:Too few points to create valid contours\n",
      "WARNING:root:Too few points to create valid contours\n",
      "WARNING:root:Too few points to create valid contours\n",
      "  0%|          | 0/40 [00:00<?, ?it/s]"
     ]
    },
    {
     "name": "stdout",
     "output_type": "stream",
     "text": [
      "XXXXM3X\n"
     ]
    },
    {
     "name": "stderr",
     "output_type": "stream",
     "text": [
      "100%|██████████| 40/40 [00:03<00:00, 12.65it/s]\n"
     ]
    },
    {
     "name": "stdout",
     "output_type": "stream",
     "text": [
      "The chain is shorter than 50 times the integrated autocorrelation time for 4 parameter(s). Use this estimate with caution and run a longer chain!\n",
      "N/50 = 1;\n",
      "tau: [4.56008882 4.23575861 4.11065962 4.27752143]\n"
     ]
    },
    {
     "name": "stderr",
     "output_type": "stream",
     "text": [
      "WARNING:root:Too few points to create valid contours\n",
      "WARNING:root:Too few points to create valid contours\n",
      "WARNING:root:Too few points to create valid contours\n",
      "WARNING:root:Too few points to create valid contours\n",
      "WARNING:root:Too few points to create valid contours\n",
      "WARNING:root:Too few points to create valid contours\n",
      "  0%|          | 0/40 [00:00<?, ?it/s]"
     ]
    },
    {
     "name": "stdout",
     "output_type": "stream",
     "text": [
      "XXXXM5X\n"
     ]
    },
    {
     "name": "stderr",
     "output_type": "stream",
     "text": [
      "100%|██████████| 40/40 [00:03<00:00, 12.85it/s]\n"
     ]
    },
    {
     "name": "stdout",
     "output_type": "stream",
     "text": [
      "The chain is shorter than 50 times the integrated autocorrelation time for 4 parameter(s). Use this estimate with caution and run a longer chain!\n",
      "N/50 = 1;\n",
      "tau: [4.30431602 4.52254695 4.58928261 4.45485378]\n"
     ]
    },
    {
     "name": "stderr",
     "output_type": "stream",
     "text": [
      "WARNING:root:Too few points to create valid contours\n",
      "WARNING:root:Too few points to create valid contours\n",
      "WARNING:root:Too few points to create valid contours\n",
      "WARNING:root:Too few points to create valid contours\n",
      "WARNING:root:Too few points to create valid contours\n",
      "WARNING:root:Too few points to create valid contours\n",
      "  0%|          | 0/40 [00:00<?, ?it/s]"
     ]
    },
    {
     "name": "stdout",
     "output_type": "stream",
     "text": [
      "XXXXXM3\n"
     ]
    },
    {
     "name": "stderr",
     "output_type": "stream",
     "text": [
      "100%|██████████| 40/40 [00:03<00:00, 12.77it/s]\n"
     ]
    },
    {
     "name": "stdout",
     "output_type": "stream",
     "text": [
      "The chain is shorter than 50 times the integrated autocorrelation time for 4 parameter(s). Use this estimate with caution and run a longer chain!\n",
      "N/50 = 1;\n",
      "tau: [4.16698632 4.3996232  4.34813474 4.25934269]\n"
     ]
    },
    {
     "name": "stderr",
     "output_type": "stream",
     "text": [
      "WARNING:root:Too few points to create valid contours\n",
      "WARNING:root:Too few points to create valid contours\n",
      "WARNING:root:Too few points to create valid contours\n",
      "WARNING:root:Too few points to create valid contours\n",
      "WARNING:root:Too few points to create valid contours\n",
      "WARNING:root:Too few points to create valid contours\n",
      "  0%|          | 0/40 [00:00<?, ?it/s]"
     ]
    },
    {
     "name": "stdout",
     "output_type": "stream",
     "text": [
      "XXXXXM6\n"
     ]
    },
    {
     "name": "stderr",
     "output_type": "stream",
     "text": [
      "100%|██████████| 40/40 [00:03<00:00, 13.04it/s]\n"
     ]
    },
    {
     "name": "stdout",
     "output_type": "stream",
     "text": [
      "The chain is shorter than 50 times the integrated autocorrelation time for 4 parameter(s). Use this estimate with caution and run a longer chain!\n",
      "N/50 = 1;\n",
      "tau: [4.27501688 4.50976252 4.47614182 4.40109151]\n"
     ]
    },
    {
     "name": "stderr",
     "output_type": "stream",
     "text": [
      "WARNING:root:Too few points to create valid contours\n",
      "WARNING:root:Too few points to create valid contours\n",
      "WARNING:root:Too few points to create valid contours\n",
      "WARNING:root:Too few points to create valid contours\n",
      "WARNING:root:Too few points to create valid contours\n",
      "WARNING:root:Too few points to create valid contours\n"
     ]
    },
    {
     "name": "stdout",
     "output_type": "stream",
     "text": [
      "XXXXXX\n"
     ]
    },
    {
     "name": "stderr",
     "output_type": "stream",
     "text": [
      "  0%|          | 0/40 [00:00<?, ?it/s]/Users/transcend/opt/anaconda3/lib/python3.8/site-packages/emcee/moves/red_blue.py:99: RuntimeWarning: invalid value encountered in double_scalars\n",
      "  lnpdiff = f + nlp - state.log_prob[j]\n",
      "100%|██████████| 40/40 [00:02<00:00, 15.60it/s]\n"
     ]
    },
    {
     "name": "stdout",
     "output_type": "stream",
     "text": [
      "The chain is shorter than 50 times the integrated autocorrelation time for 4 parameter(s). Use this estimate with caution and run a longer chain!\n",
      "N/50 = 1;\n",
      "tau: [4.20467102 4.38630786 4.39811937 4.39665342]\n"
     ]
    },
    {
     "name": "stderr",
     "output_type": "stream",
     "text": [
      "WARNING:root:Too few points to create valid contours\n",
      "WARNING:root:Too few points to create valid contours\n",
      "WARNING:root:Too few points to create valid contours\n",
      "WARNING:root:Too few points to create valid contours\n",
      "WARNING:root:Too few points to create valid contours\n",
      "WARNING:root:Too few points to create valid contours\n"
     ]
    }
   ],
   "source": [
    "hmodel = Model(hill)\n",
    "xs = np.logspace(0, 3.5, 200)\n",
    "\n",
    "params_df = pd.DataFrame() # Initialize dataframe to store model parameters sequentially for each target\n",
    "\n",
    "for tgt, tgtgrp in fdf.groupby('TgtName'):\n",
    "    print(tgt)\n",
    "    \n",
    "    tgtgrp = tgtgrp.loc[(tgtgrp['Free_nM']>0)&(tgtgrp['Complex']>0)] \n",
    "    xd, yd = (tgtgrp['Free_nM'], tgtgrp['Complex']) \n",
    "    \n",
    "    params = hmodel.make_params(Bmax=0.5, n=1, lk=2) # initialize parameters\n",
    "    params['Bmax'].min = 0\n",
    "    params['Bmax'].max = 7\n",
    "    params['n'].min = 0\n",
    "    params['n'].max = 10\n",
    "    params['lk'].min = 0\n",
    "    params['lk'].max = 4\n",
    "    \n",
    "    result = hmodel.fit(yd, params, x=xd) # Initial fit\n",
    "    \n",
    "    emcee_kws = dict(steps=10000, burn=300, thin=10, is_weighted=False, progress=True)\n",
    "    emcee_params = result.params.copy()\n",
    "    emcee_params['Bmax'].max = result.params['Bmax']*1.5\n",
    "    result_emcee = hmodel.fit(yd, emcee_params, x=xd, method='emcee', fit_kws=emcee_kws) # MCMC\n",
    "    result_emcee.col_deriv = None # lmfit has a bug and fails to set this parameter. The model can't be saved without it being set!\n",
    "    \n",
    "    rps = result_emcee.params \n",
    "    np.savetxt(os.path.join(path,'{}_flatchain_Hill.csv'.format(tgt)), result_emcee.flatchain, delimiter=',') #save chain\n",
    "    lm.model.save_modelresult(rps, os.path.join(path,'{}_fitresult_Hill.model'.format(tgt))) #save model results\n",
    "    \n",
    "    d = result_emcee.params.valuesdict()\n",
    "    d['tgt'] = tgt\n",
    "    params_df = pd.concat([params_df, pd.DataFrame(d, index=[0])])\n",
    "    \n",
    "    fig = plt.figure(figsize=(4,6)) # Plotting model fit and residuals\n",
    "    gs = fig.add_gridspec(2, 1)\n",
    "    ax1 = fig.add_subplot(gs[0,0])\n",
    "    ax2 = fig.add_subplot(gs[1,0])\n",
    "    ax1.plot(xs, result.eval(params=result_emcee.params, x=xs)) \n",
    "    ax1.plot(xd, yd, 'k.') # plot datapoints\n",
    "    result_emcee.plot_residuals(ax=ax2) \n",
    "    \n",
    "    for ax in (ax1, ax2):\n",
    "        ax.set_xscale('log')\n",
    "        ax.set_xlim([1e0, 2e3])\n",
    "    ax2.set_xlabel('Free TF (nM)')\n",
    "    ax1.set_ylabel('DNA-TF complex (a.u.)')\n",
    "    ax2.set_ylabel('Residual')\n",
    "    \n",
    "    ax1.set_title(\"{}\\nBmax={:.2f} | n = {:.2f} | k={:.2f}\".format(tgt, rps['Bmax'].value, rps['n'].value, 10**rps['lk'].value))\n",
    "    ax2.set_title(None)\n",
    "    plt.tight_layout()\n",
    "    plt.savefig(os.path.join(path,\"{}_fit_Hill.png\".format(tgt)), dpi=200)\n",
    "#     plt.show()\n",
    "                              \n",
    "    plt.clf()\n",
    "    emcee_corner = corner.corner(result_emcee.flatchain, labels=result_emcee.var_names, truths=list(result_emcee.params.valuesdict().values())) # Plot corner plot\n",
    "#     plt.show()\n",
    "    plt.savefig(os.path.join(path,'{}_corner_Hill.png'.format(tgt)), dpi=200)\n",
    "    plt.close('all')\n",
    "\n",
    "params_df.reset_index(drop=True, inplace=True)\n",
    "params_df.set_index('tgt', drop=True, inplace=True)\n",
    "params_df.to_csv(os.path.join(path,'fit_params_Hill.csv'))"
   ]
  },
  {
   "cell_type": "markdown",
   "metadata": {
    "tags": []
   },
   "source": [
    "#### Hill: Process the chains and save confidence intervals"
   ]
  },
  {
   "cell_type": "code",
   "execution_count": 12,
   "metadata": {},
   "outputs": [],
   "source": [
    "ptiles = range(0,101)\n",
    "\n",
    "ptiles_df = pd.DataFrame()\n",
    "for tgt, tgtgrp in fdf.groupby('TgtName'):\n",
    "        fc = pd.read_csv(os.path.join(path,'{}_flatchain_Hill.csv'.format(tgt)), header=0, names=['Bmax', 'n', 'lk', 'lnsigma'])\n",
    "        pp = fc.apply(np.percentile, args=[ptiles]) #percentile = score below which X percent of values fall in the freq. distribution\n",
    "        pp['tgt'] = tgt\n",
    "        pp['ptile'] = ptiles     \n",
    "        ptiles_df = pd.concat([ptiles_df, pp])\n",
    "\n",
    "ptiles_df = ptiles_df.set_index(['tgt', 'ptile'])\n",
    "ptiles_df.to_csv(os.path.join(path,'fit_params_percentiles_Hill.csv'))"
   ]
  },
  {
   "cell_type": "markdown",
   "metadata": {
    "tags": []
   },
   "source": [
    "#### Fit the # site data to get an occupancy calibration\n",
    "This method plots #sites vs. Bmax, and fits this plot with a slope (proportional model) using MCMC."
   ]
  },
  {
   "cell_type": "code",
   "execution_count": 14,
   "metadata": {
    "tags": []
   },
   "outputs": [
    {
     "name": "stderr",
     "output_type": "stream",
     "text": [
      "100%|██████████| 10000/10000 [04:40<00:00, 35.66it/s]\n"
     ]
    }
   ],
   "source": [
    "tgts = ['M1XXXXX', 'M1M2XXXX', 'M1M2M3XXX', 'M1M2M3M4XX', 'M1M2M3M4M5X', 'M1M2M3M4M5M6']\n",
    "\n",
    "params_df = pd.read_csv(os.path.join(path,'fit_params_Hill.csv'), index_col=0)\n",
    "ptiles_df = pd.read_csv(os.path.join(path,'fit_params_percentiles_Hill.csv'), index_col=[0,1])\n",
    "\n",
    "p = 'Bmax'\n",
    "x = np.array([1, 2, 3, 4, 5, 6])\n",
    "y = params_df.loc[tgts, p]\n",
    "ptiles = [5, 95]\n",
    "yerr = np.vstack((y - ptiles_df.loc[[(tgt, ptiles[0]) for tgt in tgts]][p].values, ptiles_df.loc[[(tgt, ptiles[1]) for tgt in tgts]][p].values - y))\n",
    "\n",
    "def proportional(x, m):\n",
    "    return x*m\n",
    "\n",
    "pmodel = Model(proportional)\n",
    "params = pmodel.make_params(m=0.7)\n",
    "result = pmodel.fit(y, params, x=x)\n",
    "    \n",
    "emcee_kws = dict(steps=10000, burn=300, is_weighted=False, progress=True)\n",
    "emcee_params = result.params.copy()\n",
    "result_emcee = pmodel.fit(y, emcee_params, x=x, method='emcee', fit_kws=emcee_kws)\n",
    "result_emcee.col_deriv = None # lmfit has a bug and fails to set this parameter. The model can't be saved without it being set!\n",
    "\n",
    "rps = result_emcee.params\n",
    "np.savetxt(os.path.join(path,'occupancy_calibration_flatchain_Hill.csv'.format(tgt)), result_emcee.flatchain, delimiter=',')\n",
    "lm.model.save_modelresult(rps, os.path.join(path,'occupancy_calibration_fitresult_Hill.model'.format(tgt)))\n",
    "\n",
    "d = result_emcee.params.valuesdict()\n",
    "d['tgt'] = tgt\n",
    "\n",
    "fig = plt.figure(figsize=(4,6))\n",
    "gs = fig.add_gridspec(2, 1)\n",
    "ax1 = fig.add_subplot(gs[0,0])\n",
    "ax2 = fig.add_subplot(gs[1,0])\n",
    "xs = x\n",
    "ax1.plot(xs, result_emcee.eval(params=rps, x=xs))\n",
    "ax1.errorbar(x, y, yerr=yerr, fmt='k.')\n",
    "result_emcee.plot_residuals(ax=ax2)\n",
    "\n",
    "ax2.set_xlabel('# sites')\n",
    "ax1.set_ylabel('Bmax, saturating occ.')\n",
    "ax2.set_ylabel('Residual')\n",
    "\n",
    "lower, upper = np.percentile(result_emcee.flatchain['m'], [34, 66])\n",
    "ax1.set_title(\"Occupancy calibration\\n$m=%.4f^{+%.4f}_{-%.4f}$\" % (rps['m'].value, upper-rps['m'].value, rps['m'].value-lower))\n",
    "ax2.set_title(None)\n",
    "plt.tight_layout()\n",
    "plt.savefig(os.path.join(path,\"occupancy_calibration_fit_Hill.png\".format(tgt)), dpi=200)\n",
    "#     plt.show()\n",
    "\n",
    "plt.clf()\n",
    "emcee_corner = corner.corner(result_emcee.flatchain, labels=result_emcee.var_names, truths=list(result_emcee.params.valuesdict().values()))\n",
    "#     plt.show()\n",
    "plt.savefig(os.path.join(path,'occupancy_calibration_corner_Hill.png'.format(tgt)), dpi=200)\n",
    "plt.close('all')"
   ]
  },
  {
   "cell_type": "markdown",
   "metadata": {
    "tags": []
   },
   "source": [
    "#### Hill: Update the fit plots to include a sampling of the posterior distribution"
   ]
  },
  {
   "cell_type": "code",
   "execution_count": 28,
   "metadata": {},
   "outputs": [],
   "source": [
    "# Sample the flatchain\n",
    "def eval_samples(flatchain, model, x, N):\n",
    "    \n",
    "    fc = flatchain\n",
    "    \n",
    "    results = np.zeros([len(x), N])\n",
    "    params_all = []\n",
    "    inds = np.random.randint(low=int(0.1*len(fc)), high=len(fc), size=N) # Parameter sets to choose\n",
    "    for i,ind in enumerate(inds):\n",
    "        sample = fc[ind]\n",
    "        params_all.append(sample)\n",
    "        params = lm.Parameters()\n",
    "        if len(sample) == 4:\n",
    "            params.add_many(('Bmax', sample[0]), ('n', sample[1]), ('lk', sample[2]), ('_lnsigma', sample[3]))\n",
    "        elif len(sample) == 3: \n",
    "            params.add_many(('Bmax', sample[0]), ('n', sample[1]), ('lk', sample[2]))\n",
    "        results[:, i] = model.eval(x=x, params=params) #for each x, generate an occupancy value\n",
    "    return {'sims': results, 'params': np.array(params_all)}"
   ]
  },
  {
   "cell_type": "code",
   "execution_count": 29,
   "metadata": {
    "collapsed": true,
    "jupyter": {
     "outputs_hidden": true
    },
    "tags": []
   },
   "outputs": [
    {
     "name": "stdout",
     "output_type": "stream",
     "text": [
      "(17)A11(-1)A11(-1)A11(-1)A11(40)\n",
      "(17)A11(-1)A11(-1)A11(48)\n",
      "(17)A11(-1)A11(56)\n",
      "(17)A11(-3)A11(-3)A11(-3)A11(-3)A11(-3)A11(-3)A11(-3)A11(-3)A11(16)\n",
      "(17)A11(-3)A11(-3)A11(-3)A11(-3)A11(-3)A11(-3)A11(-3)A11(22)\n",
      "(17)A11(-3)A11(-3)A11(-3)A11(-3)A11(-3)A11(34)\n",
      "(17)A11(-3)A11(-3)A11(-3)A11(46)\n",
      "(17)A11(-3)A11(-3)A11(52)\n",
      "(17)A11(-3)A11(58)\n",
      "(17)A11(-3)A5(-3)A11(52)\n",
      "(17)A11(-3)A5(58)\n",
      "(17)A11(-3)A95(-3)A11(52)\n",
      "(17)A11(-3)M5(-3)A11(52)\n",
      "(17)A11(-3)M5(58)\n",
      "(17)A11(-3)W4(-3)A11(52)\n",
      "(17)A11(-3)W4(58)\n",
      "(17)A4(-3)A6(-3)A4(52)\n",
      "(17)A4(-3)A6(58)\n",
      "(17)A5(-1)A11(-1)A5(48)\n",
      "(17)A5(-3)A11(-3)A5(52)\n",
      "(17)A5(-3)M5(-3)A5(52)\n",
      "(17)A6(-3)A4(-3)A6(52)\n",
      "(17)A6(-3)A4(58)\n",
      "(17)A6(-3)M5(58)\n",
      "(17)A7(-3)A11(-3)A9(52)\n",
      "(17)A7(-3)M4(-3)A10(52)\n",
      "(17)A7(-3)M5(-3)A9(52)\n",
      "(17)A95(-1)A11(-1)A95(48)\n",
      "(17)A95(-3)A11(-3)A95(52)\n",
      "(17)M1(-1)M2(56)\n",
      "(17)M1(-3)M2(-3)M3(-3)M4(46)\n",
      "(17)M1(-3)M2(-3)M3(52)\n",
      "(17)M1(-3)M2(58)\n",
      "(17)M5(-1)A11(-1)M5(48)\n",
      "(17)M5(-1)M5(-1)M5(-1)M5(40)\n",
      "(17)M5(-1)M5(-1)M5(48)\n",
      "(17)M5(-1)M5(56)\n",
      "(17)M5(-3)A11(-3)M5(52)\n",
      "(17)M5(-3)A5(-3)M5(52)\n",
      "(17)M5(-3)A95(-3)M5(52)\n",
      "(17)M5(-3)M5(-3)M5(-3)M5(46)\n",
      "(17)M5(-3)M5(-3)M5(52)\n",
      "(17)M5(-3)M5(58)\n",
      "(17)M5(-3)W4(-3)M5(52)\n",
      "(17)W4(-1)A11(-1)W4(48)\n",
      "(17)W4(-3)A11(-3)W4(52)\n",
      "(17)W4(-3)M5(-3)W4(52)\n",
      "(17)W4(-3)W4(-3)W4(52)\n",
      "(17)W4(-3)W4(58)\n",
      "(23)A4(-3)A6(52)\n",
      "(23)A5(-3)A11(52)\n",
      "(23)A5(58)\n",
      "(23)M5(-3)A11(52)\n",
      "(23)W4(-3)A11(52)\n",
      "(23)W4(58)\n",
      "(29)A11(52)\n",
      "(49)M3(32)\n",
      "(51)M3(30)\n",
      "(53)M3(28)\n",
      "(55)M3(26)\n",
      "(59)M3(22)\n",
      "(61)M3(20)\n",
      "(63)M3(18)\n",
      "(65)M3(16)\n",
      "A105XXXXX\n",
      "A11XXXXX\n",
      "A4XXXXX\n",
      "A5XXXXX\n",
      "A6XXXXX\n",
      "A7XXXXX\n",
      "A8XXXXX\n",
      "A95XXXXX\n",
      "A9XXXXX\n",
      "M1(0)M2XXXX\n",
      "M1(10)M2XXX\n",
      "M1(12)M2XXX\n",
      "M1(13)M2XXX\n",
      "M1(14)M2XXX\n",
      "M1(2)M2XXX\n",
      "M1(3)M2XXX\n",
      "M1(4)M2XXX\n",
      "M1(5)M2XXX\n",
      "M1(6)M2XXX\n",
      "M1(7)M2XXX\n",
      "M1(8)M2XXX\n",
      "M1(9)M2XXX\n",
      "M1M2M3M4M5M6\n",
      "M1M2M3M4M5X\n",
      "M1M2M3M4XX\n",
      "M1M2M3M6M4M5\n",
      "M1M2M3M6M5M4\n",
      "M1M2M3XXX\n",
      "M1M2XXXX\n",
      "M1XM2XXX\n",
      "M1XXM2XX\n",
      "M1XXXM2X\n",
      "M1XXXXM2\n",
      "M1XXXXX\n",
      "M2XXXXX\n",
      "M3M4M1M5M2X\n",
      "M3XXXXX\n",
      "M4XXXXX\n",
      "M5XXXXX\n",
      "M6XXXXX\n",
      "NEWA8XXXXX\n",
      "NEWXXXXXA8\n",
      "RC(M1M2M3M4M5M6)\n",
      "RC(M1M2M3M4M5X)\n",
      "RC(M1M2M3M4XX)\n",
      "W1XXXXX\n",
      "W2W3W1W4W3W2\n",
      "W2XXXXX\n",
      "W3XXXXX\n",
      "W4XXXXX\n",
      "XA11A4A4A11X\n",
      "XA11A5A5A11X\n",
      "XA11M2M2A11X\n",
      "XA4A11A11A4X\n",
      "XA5A11A11A5X\n",
      "XM2A11A11M2X\n",
      "XM2XXXX\n",
      "XM3XXXX\n",
      "XXM3XXX\n",
      "XXXM3XX\n",
      "XXXM4XX\n",
      "XXXXM3X\n",
      "XXXXM5X\n",
      "XXXXXM3\n",
      "XXXXXM6\n",
      "XXXXXX\n"
     ]
    }
   ],
   "source": [
    "xs = np.logspace(-1,5,301)\n",
    "N=300\n",
    "cal_factor = 0.6146 # From the occupancy calibration\n",
    "hmodel = Model(hill)\n",
    "\n",
    "params_df = pd.read_csv(os.path.join(path,'fit_params_Hill.csv'), index_col=0)\n",
    "ptiles_df = pd.read_csv(os.path.join(path,'fit_params_percentiles_Hill.csv'), index_col=[0,1])\n",
    "\n",
    "for tgt, tgtgrp in fdf.groupby('TgtName'):\n",
    "        \n",
    "    print(tgt)\n",
    "\n",
    "    tgtgrp = tgtgrp.loc[(tgtgrp['Free_nM']>0)&(tgtgrp['Complex']>0)]\n",
    "    xd, yd = (tgtgrp['Free_nM'], tgtgrp['Complex'])\n",
    "\n",
    "    fc = np.loadtxt(os.path.join(path,'{}_flatchain_Hill.csv'.format(tgt)), delimiter=',')\n",
    "\n",
    "    results = eval_samples(fc, hmodel, xs, N)\n",
    "    sims = results['sims']\n",
    "    params = results['params']\n",
    "    lower, upper = np.percentile(sims, [5, 95], axis=1)\n",
    "\n",
    "    np.savetxt(os.path.join(path,'{}_posterior_sims_Hill.csv'.format(tgt)), sims)\n",
    "    np.savetxt(os.path.join(path,'{}_posterior_sim_params_Hill.csv'.format(tgt)), params)\n",
    "\n",
    "    plt.figure(figsize=(5,5))\n",
    "    plt.fill_between(xs, lower / cal_factor, upper / cal_factor, color='gray', alpha=0.3)\n",
    "    plt.plot(xd, yd / cal_factor, '.')\n",
    "\n",
    "    plt.xlim([1e0, 2e3])\n",
    "    plt.xscale('log')\n",
    "    plt.xlabel('TF concentration (nM)')\n",
    "    plt.ylabel('<N>, Mean occupancy')\n",
    "\n",
    "    val_Bmax = params_df.loc[tgt, 'Bmax'] / cal_factor\n",
    "    lower_Bmax, upper_Bmax = np.percentile(fc[:,0], [5, 95]) / cal_factor\n",
    "    val_k = 10**params_df.loc[tgt, 'lk']\n",
    "    lower_k, upper_k = 10**np.percentile(fc[:,2], [5, 95])\n",
    "    val_n = params_df.loc[tgt, 'n']\n",
    "    lower_n, upper_n = np.percentile(fc[:,1], [5, 95])\n",
    "    plt.title(\"Zif268 | %s \\n$Bmax\\'=%.2f^{+%.2f}_{-%.2f}$, $k=%.1f^{+%.1f}_{-%.1f}$, $n=%.2f^{+%.2f}_{-%.2f}$\" % \\\n",
    "        (tgt,\n",
    "         val_Bmax, upper_Bmax-val_Bmax, val_Bmax-lower_Bmax,\n",
    "         val_k, upper_k-val_k, val_k-lower_k,\n",
    "         val_n, upper_n-val_n, val_n-lower_n))\n",
    "    plt.tight_layout()\n",
    "    plt.savefig(os.path.join(path,\"{}_fit_samples_Hill.png\".format(tgt)), dpi=200)\n",
    "    plt.clf()\n",
    "    plt.close('all')"
   ]
  },
  {
   "cell_type": "markdown",
   "metadata": {
    "heading_collapsed": "true",
    "tags": []
   },
   "source": [
    "## Dependent stat. mech. modeling"
   ]
  },
  {
   "cell_type": "markdown",
   "metadata": {
    "heading_collapsed": "true",
    "tags": [],
    "toc-hr-collapsed": true
   },
   "source": [
    "### Exclusive binding"
   ]
  },
  {
   "cell_type": "markdown",
   "metadata": {
    "heading_collapsed": "true",
    "tags": []
   },
   "source": [
    "#### Path"
   ]
  },
  {
   "cell_type": "code",
   "execution_count": 81,
   "metadata": {
    "heading_collapsed": "true",
    "tags": []
   },
   "outputs": [],
   "source": [
    "dir1 = 'in-vitro_fits_plots'\n",
    "dir2 = 'Zif268'\n",
    "dir3 = 'Exclusive_statmech'\n",
    "path = os.path.join(dir1,dir2,dir3)"
   ]
  },
  {
   "cell_type": "markdown",
   "metadata": {
    "heading_collapsed": "true",
    "tags": [],
    "toc-hr-collapsed": true
   },
   "source": [
    "#### Models"
   ]
  },
  {
   "cell_type": "code",
   "execution_count": 62,
   "metadata": {
    "heading_collapsed": "true",
    "tags": []
   },
   "outputs": [],
   "source": [
    "def twoSiteOverlap_excl(xs, params1, params2):\n",
    "    \n",
    "    C = xs #(301,)\n",
    "    C0 = 0.6e9 #reference concentration parameter - Philips, Physical Biololgy of the Cell\n",
    "\n",
    "    if isinstance(params1, float):\n",
    "        de1 = params1 #in units Kb*T (1/Beta)\n",
    "        de2 = params2\n",
    "\n",
    "    else:\n",
    "        de1 = params1[0] #in units Kb*T (1/Beta)\n",
    "        de2 = params2[0]\n",
    "    \n",
    "    z0 = 1 # No sites bound\n",
    "    z1 = np.outer( (C/C0), np.exp(-de1) ) # Rel. weighted mult.\n",
    "    z2 = np.outer( (C/C0), np.exp(-de2) )\n",
    "    ztot = z0 + z1 + z2\n",
    "    \n",
    "    p0 = z0 / ztot\n",
    "    p1 = z1 / ztot \n",
    "    p2 = z2 / ztot\n",
    "    \n",
    "    occ = (z1 + z2) / ztot\n",
    "    res = {'p0': p0, 'p1': p1, 'p2': p2, 'occ':occ}\n",
    "    \n",
    "    if isinstance(params1, float):\n",
    "        return(np.array([entry[0] for entry in occ]))\n",
    "    else:\n",
    "        return(res)\n",
    "\n",
    "\n",
    "def threeSiteOverlap_excl(xs, params1, params2, params3):\n",
    "    \n",
    "    C = xs #(301,)\n",
    "    C0 = 0.6e9 #reference concentration parameter - Philips, Physical Biololgy of the Cell\n",
    "    \n",
    "    if isinstance(params1, float):\n",
    "        de1 = params1 #in units Kb*T (1/Beta)\n",
    "        de2 = params2\n",
    "        de3 = params3\n",
    "\n",
    "    else:\n",
    "        de1 = params1[0] #in units Kb*T (1/Beta)\n",
    "        de2 = params2[0]\n",
    "        de3 = params3[0]\n",
    "    \n",
    "    z0 = 1 # No sites bound\n",
    "    z1 = np.outer( (C/C0), np.exp(-de1) ) # Rel. weighted mult.\n",
    "    z2 = np.outer( (C/C0), np.exp(-de2) )\n",
    "    z3 = np.outer( (C/C0), np.exp(-de3) )\n",
    "    z4 = np.outer( (C/C0)**2, np.exp(-de1-de3) )\n",
    "    ztot = z0 + z1 + z2 + z3 + z4\n",
    "    \n",
    "    p0 = z0 / ztot\n",
    "    p1 = z1 / ztot \n",
    "    p2 = z2 / ztot\n",
    "    p3 = z3 / ztot\n",
    "    p4 = z4 / ztot\n",
    "    \n",
    "    occ = (z1 + z2 + z3 + 2*z4) / ztot\n",
    "    res = {'p0': p0, 'p1': p1, 'p2': p2, 'p3': p3, 'p4': p4, 'occ':occ}\n",
    "    \n",
    "    if isinstance(params1, float):\n",
    "        return(np.array([entry[0] for entry in occ]))\n",
    "    \n",
    "    else:\n",
    "        return(res)\n",
    "\n",
    "def fourSiteOverlap_excl(xs, params1, params2, params3, params4):    \n",
    "    \n",
    "    C = xs #(301,)\n",
    "    C0 = 0.6e9 #reference concentration parameter - Philips, Physical Biololgy of the Cell\n",
    "    \n",
    "    if isinstance(params1, float):\n",
    "        de1 = params1 #in units Kb*T (1/Beta)\n",
    "        de2 = params2\n",
    "        de3 = params3\n",
    "        de4 = params4\n",
    "        \n",
    "    else:\n",
    "        de1 = params1[0] #in units Kb*T (1/Beta)\n",
    "        de2 = params2[0]\n",
    "        de3 = params3[0]\n",
    "        de4 = params4[0]\n",
    "    \n",
    "    z0 = 1 # No sites bound\n",
    "    z1 = np.outer( (C/C0), np.exp(-de1) ) # Rel. weighted mult.\n",
    "    z2 = np.outer( (C/C0), np.exp(-de2) )\n",
    "    z3 = np.outer( (C/C0), np.exp(-de3) )\n",
    "    z4 = np.outer( (C/C0), np.exp(-de4) )\n",
    "    z5 = np.outer( (C/C0)**2, np.exp(-de1-de3) )\n",
    "    z6 = np.outer( (C/C0)**2, np.exp(-de2-de4) )\n",
    "    ztot = z0 + z1 + z2 + z3 + z4 + z5 + z6\n",
    "    \n",
    "    p0 = z0 / ztot\n",
    "    p1 = z1 / ztot \n",
    "    p2 = z2 / ztot\n",
    "    p3 = z3 / ztot\n",
    "    p4 = z4 / ztot\n",
    "    p5 = z5 / ztot\n",
    "    p6 = z6 / ztot\n",
    "    \n",
    "    occ = (z1 + z2 + z3 + z4 + 2*z5 + 2*z6) / ztot\n",
    "    res = {'p0': p0, 'p1': p1, 'p2': p2, 'p3': p3, 'p4': p4, 'p5': p5, 'p6': p6, 'occ':occ}\n",
    "    \n",
    "    if isinstance(params1, float):\n",
    "        return(np.array([entry[0] for entry in occ]))\n",
    "    \n",
    "    else:\n",
    "        return(res)"
   ]
  },
  {
   "cell_type": "markdown",
   "metadata": {
    "heading_collapsed": "true",
    "tags": [],
    "toc-hr-collapsed": true
   },
   "source": [
    "#### Modeling + plotting exclusive binding "
   ]
  },
  {
   "cell_type": "code",
   "execution_count": 82,
   "metadata": {
    "heading_collapsed": "true",
    "tags": []
   },
   "outputs": [
    {
     "name": "stdout",
     "output_type": "stream",
     "text": [
      "(17)A11(-1)A11(-1)A11(-1)A11(40)\n",
      "(17)A11(-1)A11(-1)A11(48)\n",
      "(17)A11(-1)A11(56)\n",
      "(17)A11(-3)A11(-3)A11(-3)A11(46)\n",
      "(17)A11(-3)A11(-3)A11(52)\n",
      "(17)A11(-3)A11(58)\n"
     ]
    }
   ],
   "source": [
    "target_info = pd.read_csv(os.path.join('input_datasets','in-vitro','target_info.csv'), index_col=0)\n",
    "\n",
    "C0 = 0.6e9\n",
    "xs = np.logspace(-1,5,301)\n",
    "N = 300\n",
    "\n",
    "params_df = pd.DataFrame()\n",
    "\n",
    "for tgt, tgtgrp in fdf.groupby('TgtName'):\n",
    "\n",
    "    if tgt not in ['(17)A11(-1)A11(-1)A11(-1)A11(40)','(17)A11(-1)A11(-1)A11(48)','(17)A11(-1)A11(56)','(17)A11(-3)A11(-3)A11(-3)A11(46)','(17)A11(-3)A11(-3)A11(52)','(17)A11(-3)A11(58)']:\n",
    "        continue\n",
    "    \n",
    "    if target_info.loc[tgt, 'HasOverlaps']:\n",
    "    \n",
    "        sites = site_info[tgt]\n",
    "        sims = []\n",
    "        params = []\n",
    "        \n",
    "        if any(item in ['A7','A6','A95','A10','A105'] for item in sites): #didn't characterize the singe-site targets\n",
    "            continue    \n",
    "        \n",
    "        xd, yd = (tgtgrp['Free_nM'], tgtgrp['Meanocc']) #set x and y values\n",
    "        \n",
    "        for ss in sites:\n",
    "            if ss == 'None':\n",
    "                continue\n",
    "            params.append(np.loadtxt(os.path.join(dir1, dir2, '1par_statmech_measured', '{}_posterior_sim_params_imsf_model.csv'.format(referenceSingleTargets[ss]))))\n",
    "        \n",
    "        paramsCalcRsq = []\n",
    "        usemodel = []\n",
    "        \n",
    "        print(tgt)\n",
    "        \n",
    "        if len(sites) == 2: \n",
    "            \n",
    "            usemodel = Model(twoSiteOverlap_excl)\n",
    "            \n",
    "            de1 = np.median(params[0].T[0])\n",
    "            de2 = np.median(params[1].T[0])\n",
    "            paramsCalcRsq = usemodel.make_params(params1=de1,params2=de2)\n",
    "            paramsCalcRsq['params1'].vary=False\n",
    "            paramsCalcRsq['params2'].vary=False\n",
    "            result = usemodel.fit(yd, paramsCalcRsq, xs=xd)\n",
    "            \n",
    "            # Obtain a distribution of predicted occupancies for plotting\n",
    "            results = twoSiteOverlap_excl(xs, params[0].T, params[1].T) \n",
    "            \n",
    "        elif len(sites) == 3:\n",
    "            \n",
    "            usemodel = Model(threeSiteOverlap_excl)\n",
    "            \n",
    "            de1 = np.median(params[0].T[0])\n",
    "            de2 = np.median(params[1].T[0])\n",
    "            de3 = np.median(params[2].T[0])\n",
    "            paramsCalcRsq = usemodel.make_params(params1=de1,params2=de2,params3=de3)\n",
    "            paramsCalcRsq['params1'].vary=False\n",
    "            paramsCalcRsq['params2'].vary=False\n",
    "            paramsCalcRsq['params3'].vary=False\n",
    "            result =usemodel.fit(yd, paramsCalcRsq, xs=xd)\n",
    "            \n",
    "            # Obtain a distribution of predicted occupancies for plotting\n",
    "            results = threeSiteOverlap_excl(xs, params[0].T, params[1].T, params[2].T)\n",
    "            \n",
    "        elif len(sites) == 4:\n",
    "            \n",
    "            usemodel = Model(fourSiteOverlap_excl)\n",
    "            \n",
    "            de1 = np.median(params[0].T[0])\n",
    "            de2 = np.median(params[1].T[0])\n",
    "            de3 = np.median(params[2].T[0])\n",
    "            de4 = np.median(params[3].T[0])\n",
    "            paramsCalcRsq = usemodel.make_params(params1=de1,params2=de2, params3=de3, params4=de4)\n",
    "            paramsCalcRsq['params1'].vary=False\n",
    "            paramsCalcRsq['params2'].vary=False\n",
    "            paramsCalcRsq['params3'].vary=False\n",
    "            paramsCalcRsq['params4'].vary=False\n",
    "            result = usemodel.fit(yd, paramsCalcRsq, xs=xd)\n",
    "            \n",
    "            # Obtain a distribution of predicted occupancies for plotting\n",
    "            results = fourSiteOverlap_excl(xs, params[0].T, params[1].T, params[2].T, params[3].T)\n",
    "        else:\n",
    "            continue\n",
    "        \n",
    "        Rsq = 1 - result.residual.var() / np.var(yd)  # Manually calculate the r-squared value\n",
    "        \n",
    "        d = result.params.valuesdict()\n",
    "        d['tgt'] = tgt\n",
    "        d['Rsq'] = Rsq\n",
    "        d['aic'] = result.aic\n",
    "        d['bic'] = result.bic\n",
    "        d['redchi'] = result.redchi\n",
    "        \n",
    "        params_df = pd.concat([params_df, pd.DataFrame(d, index=[0])])\n",
    "\n",
    "        np.savetxt(os.path.join(path,'{}_prediction_dependent-excl_smm.csv'.format(tgt)), results['occ'], delimiter=',')\n",
    "\n",
    "        tgtgrp = tgtgrp.loc[(tgtgrp['Free_nM']>0)&(tgtgrp['Complex']>0)]\n",
    "        xd, yd = (tgtgrp['Free_nM'], tgtgrp['Meanocc'])\n",
    "\n",
    "        # Load dependent binding model\n",
    "        sims_db = np.loadtxt(os.path.join(path,'{}_prediction_dependent-excl_smm.csv'.format(tgt)), delimiter=',')\n",
    "\n",
    "        # Plot simulation and data\n",
    "        lower_db, upper_db = np.percentile(sims_db, [5,95], axis=1)\n",
    "\n",
    "        plt.figure(figsize=(5,5))\n",
    "        plt.plot(xd, yd, 'k.', label='Data')\n",
    "        plt.fill_between(xs, lower_db, upper_db, color='blue', alpha=0.3, label='DB_model_exclusive') #don't apply cal_factor since already mean occs.\n",
    "        plt.legend(loc='lower right')\n",
    "\n",
    "        plt.xlim([1e-1, 1e3])\n",
    "        plt.xlabel('TF concentration (nM)')\n",
    "        plt.ylabel('<N>, mean occupancy')\n",
    "\n",
    "        plt.title(\"Zif268 | {} \".format(tgt))\n",
    "        plt.tight_layout()\n",
    "        plt.savefig(os.path.join(path,'{}_prediction_dependent-excl.png'.format(tgt)), dpi=300)\n",
    "        plt.clf()\n",
    "        plt.close('all')\n",
    "        \n",
    "params_df.reset_index(drop=True, inplace=True)\n",
    "params_df.set_index('tgt', drop=True, inplace=True)\n",
    "params_df.to_csv(os.path.join(path,'fit_params_dependent-excl_rsq.csv'))"
   ]
  },
  {
   "cell_type": "markdown",
   "metadata": {
    "heading_collapsed": "true",
    "tags": []
   },
   "source": [
    "### Permissive binding"
   ]
  },
  {
   "cell_type": "markdown",
   "metadata": {
    "heading_collapsed": "true",
    "tags": []
   },
   "source": [
    "#### Path"
   ]
  },
  {
   "cell_type": "code",
   "execution_count": 83,
   "metadata": {
    "heading_collapsed": "true",
    "tags": []
   },
   "outputs": [],
   "source": [
    "dir1 = 'in-vitro_fits_plots'\n",
    "dir2 = 'Zif268'\n",
    "dir3 = 'Permissive_statmech'\n",
    "path = os.path.join(dir1,dir2,dir3)"
   ]
  },
  {
   "cell_type": "markdown",
   "metadata": {
    "heading_collapsed": "true",
    "tags": [],
    "toc-hr-collapsed": true
   },
   "source": [
    "#### Models"
   ]
  },
  {
   "cell_type": "code",
   "execution_count": 66,
   "metadata": {
    "heading_collapsed": "true",
    "tags": []
   },
   "outputs": [],
   "source": [
    "# Take single site simulations and predict outcomes if they were overlapped, with a steic energy term\n",
    "def twoSiteOverlap_perm(x, ehuh, de1, de2):\n",
    "\n",
    "    C = x\n",
    "    C0 = 0.6e9 #reference concentration parameter\n",
    "\n",
    "    z0 = 1 # No sites bound\n",
    "    z1 = np.outer( (C/C0), np.exp(-de1) )\n",
    "    z2 = np.outer( (C/C0), np.exp(-de2) )\n",
    "    z3 = np.outer( (C/C0)**2, np.exp(-de1-de2-ehuh) )\n",
    "    ztot = z0 + z1 + z2 + z3\n",
    "    \n",
    "    p0 = z0 / ztot\n",
    "    p1 = z1 / ztot \n",
    "    p2 = z2 / ztot\n",
    "    p3 = z3 / ztot\n",
    "    occ = (z1 + z2 + 2*z3) / ztot\n",
    "    occ = occ.flatten()\n",
    "    \n",
    "    return(occ)\n",
    "\n",
    "\n",
    "def threeSiteOverlap_perm(x, ehuh, de1, de2, de3):\n",
    "\n",
    "    C = x \n",
    "    C0 = 0.6e9 #reference concentration parameter\n",
    "    \n",
    "    z0 = 1 # No sites bound\n",
    "    z1 = np.outer( (C/C0), np.exp(-de1) )\n",
    "    z2 = np.outer( (C/C0), np.exp(-de2) )\n",
    "    z3 = np.outer( (C/C0), np.exp(-de3) )\n",
    "    z4 = np.outer( (C/C0)**2, np.exp(-de1-de3) )\n",
    "    z5 = np.outer( (C/C0)**2, np.exp(-de1-de2-ehuh) )\n",
    "    z6 = np.outer( (C/C0)**2, np.exp(-de2-de3-ehuh) )\n",
    "    z7 = np.outer( (C/C0)**3, np.exp(-de1-de2-de3-2*ehuh) )\n",
    "    ztot = z0 + z1 + z2 + z3 + z4 + z5 + z6 + z7\n",
    "    \n",
    "    p0 = z0 / ztot\n",
    "    p1 = z1 / ztot \n",
    "    p2 = z2 / ztot\n",
    "    p3 = z3 / ztot\n",
    "    p4 = z4 / ztot\n",
    "    p5 = z5 / ztot\n",
    "    p6 = z6 / ztot\n",
    "    p7 = z7 / ztot\n",
    "    \n",
    "    occ = (z1 + z2 + z3 + 2*z4 + 2*z5 + 2*z6 + 3*z7) / ztot\n",
    "    occ = occ.flatten()\n",
    "    \n",
    "    return(occ)\n",
    "\n",
    "def fourSiteOverlap_perm(x, ehuh, de1, de2, de3, de4):\n",
    "\n",
    "    C = x \n",
    "    C0 = 0.6e9 #reference concentration parameter\n",
    "    \n",
    "    z0 = 1 # No sites bound\n",
    "    z1 = np.outer( (C/C0), np.exp(-de1) )\n",
    "    z2 = np.outer( (C/C0), np.exp(-de2) )\n",
    "    z3 = np.outer( (C/C0), np.exp(-de3) )\n",
    "    z4 = np.outer( (C/C0), np.exp(-de4) )\n",
    "    z5 = np.outer( (C/C0)**2, np.exp(-de1-de2-ehuh) )\n",
    "    z6 = np.outer( (C/C0)**2, np.exp(-de1-de3) )\n",
    "    z7 = np.outer( (C/C0)**2, np.exp(-de1-de4) )\n",
    "    z8 = np.outer( (C/C0)**2, np.exp(-de2-de3-ehuh) )\n",
    "    z9 = np.outer( (C/C0)**2, np.exp(-de2-de4) )\n",
    "    z10 = np.outer( (C/C0)**2, np.exp(-de3-de4-ehuh) )\n",
    "    z11 = np.outer( (C/C0)**3, np.exp(-de1-de2-de3-2*ehuh) )\n",
    "    z12 = np.outer( (C/C0)**3, np.exp(-de1-de2-de4-ehuh) )\n",
    "    z13 = np.outer( (C/C0)**3, np.exp(-de2-de3-de4-2*ehuh) )\n",
    "    z14 = np.outer( (C/C0)**3, np.exp(-de1-de3-de4-ehuh) )\n",
    "    z15 = np.outer( (C/C0)**4, np.exp(-de1-de2-de3-de4-3*ehuh) )\n",
    "    ztot = z0 + z1 + z2 + z3 + z4 + z5 + z6 + z7 + z8 + z9 + z10 + z11 + z12 + z13 + z14 + z15\n",
    "    \n",
    "    p0 = z0 / ztot\n",
    "    p1 = z1 / ztot \n",
    "    p2 = z2 / ztot\n",
    "    p3 = z3 / ztot\n",
    "    p4 = z4 / ztot\n",
    "    p5 = z5 / ztot\n",
    "    p6 = z6 / ztot\n",
    "    p7 = z7 / ztot\n",
    "    p8 = z8 / ztot\n",
    "    p9 = z9 / ztot \n",
    "    p10 = z10 / ztot\n",
    "    p11 = z11 / ztot\n",
    "    p12 = z12 / ztot\n",
    "    p13 = z13 / ztot\n",
    "    p14 = z14 / ztot\n",
    "    p15 = z15 / ztot\n",
    "    \n",
    "    occ = (z1 + z2 + z3 + z4 + 2*z5 + 2*z6 + 2*z7 + 2*z8 + 2*z9 + 2*z10 + 3*z11 + 3*z12 + 3*z13 + 3*z14 + 4*z15) / ztot\n",
    "    occ = occ.flatten()\n",
    "    return(occ)"
   ]
  },
  {
   "cell_type": "markdown",
   "metadata": {
    "heading_collapsed": "true",
    "tags": []
   },
   "source": [
    "#### Modeling + plotting permissive binding "
   ]
  },
  {
   "cell_type": "code",
   "execution_count": 85,
   "metadata": {
    "heading_collapsed": "true",
    "tags": []
   },
   "outputs": [
    {
     "name": "stderr",
     "output_type": "stream",
     "text": [
      "  0%|          | 0/10000 [00:00<?, ?it/s]"
     ]
    },
    {
     "name": "stdout",
     "output_type": "stream",
     "text": [
      "(17)A11(-1)A11(-1)A11(-1)A11(40)\n",
      "Parameters([('ehuh', <Parameter 'ehuh', value=3, bounds=[0:30]>), ('de1', <Parameter 'de1', value=-17.65343057102193 (fixed), bounds=[-inf:inf]>), ('de2', <Parameter 'de2', value=-17.65343057102193 (fixed), bounds=[-inf:inf]>), ('de3', <Parameter 'de3', value=-17.65343057102193 (fixed), bounds=[-inf:inf]>), ('de4', <Parameter 'de4', value=-17.65343057102193 (fixed), bounds=[-inf:inf]>)])\n"
     ]
    },
    {
     "name": "stderr",
     "output_type": "stream",
     "text": [
      "100%|██████████| 10000/10000 [03:46<00:00, 44.14it/s]\n",
      "  0%|          | 5/10000 [00:00<03:21, 49.57it/s]"
     ]
    },
    {
     "name": "stdout",
     "output_type": "stream",
     "text": [
      "(17)A11(-1)A11(-1)A11(48)\n"
     ]
    },
    {
     "name": "stderr",
     "output_type": "stream",
     "text": [
      "100%|██████████| 10000/10000 [02:07<00:00, 78.35it/s]\n",
      "  0%|          | 9/10000 [00:00<01:58, 84.56it/s]"
     ]
    },
    {
     "name": "stdout",
     "output_type": "stream",
     "text": [
      "(17)A11(-1)A11(56)\n"
     ]
    },
    {
     "name": "stderr",
     "output_type": "stream",
     "text": [
      "100%|██████████| 10000/10000 [01:50<00:00, 90.43it/s]\n",
      "  0%|          | 4/10000 [00:00<04:38, 35.85it/s]"
     ]
    },
    {
     "name": "stdout",
     "output_type": "stream",
     "text": [
      "(17)A11(-3)A11(-3)A11(-3)A11(46)\n",
      "Parameters([('ehuh', <Parameter 'ehuh', value=3, bounds=[0:30]>), ('de1', <Parameter 'de1', value=-17.65343057102193 (fixed), bounds=[-inf:inf]>), ('de2', <Parameter 'de2', value=-17.65343057102193 (fixed), bounds=[-inf:inf]>), ('de3', <Parameter 'de3', value=-17.65343057102193 (fixed), bounds=[-inf:inf]>), ('de4', <Parameter 'de4', value=-17.65343057102193 (fixed), bounds=[-inf:inf]>)])\n"
     ]
    },
    {
     "name": "stderr",
     "output_type": "stream",
     "text": [
      "100%|██████████| 10000/10000 [03:28<00:00, 47.97it/s]\n",
      "  0%|          | 7/10000 [00:00<02:28, 67.47it/s]"
     ]
    },
    {
     "name": "stdout",
     "output_type": "stream",
     "text": [
      "(17)A11(-3)A11(-3)A11(52)\n"
     ]
    },
    {
     "name": "stderr",
     "output_type": "stream",
     "text": [
      "100%|██████████| 10000/10000 [02:10<00:00, 76.47it/s]\n",
      "  0%|          | 9/10000 [00:00<01:57, 85.12it/s]"
     ]
    },
    {
     "name": "stdout",
     "output_type": "stream",
     "text": [
      "(17)A11(-3)A11(58)\n"
     ]
    },
    {
     "name": "stderr",
     "output_type": "stream",
     "text": [
      "100%|██████████| 10000/10000 [01:37<00:00, 102.33it/s]\n"
     ]
    }
   ],
   "source": [
    "C0 = 0.6e9 #reference concentration parameter\n",
    "\n",
    "target_info = pd.read_csv(os.path.join('input_datasets','in-vitro','target_info.csv'), index_col=0)\n",
    "ss_params = pd.read_csv(os.path.join(dir1, dir2, '1par_statmech_measured', 'fit_params_imsf_model.csv'), index_col=0)\n",
    "\n",
    "smmodel2Steric = Model(twoSiteOverlap_perm)\n",
    "smmodel3Steric = Model(threeSiteOverlap_perm)\n",
    "smmodel4Steric = Model(fourSiteOverlap_perm)\n",
    "\n",
    "xs = np.logspace(-1,5,301)\n",
    "\n",
    "params_df = pd.DataFrame()\n",
    "\n",
    "for tgt, tgtgrp in fdf.groupby('TgtName'): \n",
    "    \n",
    "    if tgt not in ['(17)A11(-1)A11(-1)A11(-1)A11(40)','(17)A11(-1)A11(-1)A11(48)','(17)A11(-1)A11(56)','(17)A11(-3)A11(-3)A11(-3)A11(46)','(17)A11(-3)A11(-3)A11(52)','(17)A11(-3)A11(58)']:\n",
    "        continue\n",
    "        \n",
    "    if target_info.loc[tgt, 'HasOverlaps']: \n",
    "\n",
    "        print(tgt)\n",
    "\n",
    "        #Figure out which sites are in the tgt\n",
    "        sites = site_info[tgt]\n",
    "        params = []\n",
    "\n",
    "        if any(item in ['A6','A7','A95','A10','A105'] for item in sites): \n",
    "            continue\n",
    "\n",
    "        for ss in sites:\n",
    "            if ss == 'None':\n",
    "                continue\n",
    "\n",
    "            params.append(ss_params.loc[referenceSingleTargets[ss], 'de1']) \n",
    "\n",
    "        tgtgrp = tgtgrp.loc[(tgtgrp['Free_nM']>0)&(tgtgrp['Meanocc']>0)] \n",
    "        xd, yd = (tgtgrp['Free_nM'], tgtgrp['Meanocc']) \n",
    "\n",
    "        yd = yd.values.flatten()\n",
    "        xd = xd.values.flatten()\n",
    "\n",
    "        if target_info.loc[tgt, 'NumSites'] == 2 :\n",
    "            usemodel = smmodel2Steric\n",
    "            params = usemodel.make_params(ehuh=3, de1=params[0], de2=params[1])\n",
    "            params['ehuh'].min = 0\n",
    "            params['ehuh'].max = 30\n",
    "            params['de1'].vary=False\n",
    "            params['de2'].vary=False\n",
    "\n",
    "        elif target_info.loc[tgt, 'NumSites'] == 3 :\n",
    "            usemodel = smmodel3Steric\n",
    "            params = usemodel.make_params(ehuh=3, de1=params[0], de2=params[1], de3=params[2])\n",
    "            params['ehuh'].min = 0\n",
    "            params['ehuh'].max = 30\n",
    "            params['de1'].vary=False\n",
    "            params['de2'].vary=False\n",
    "            params['de3'].vary=False\n",
    "\n",
    "        elif target_info.loc[tgt, 'NumSites'] == 4 :\n",
    "            usemodel = smmodel4Steric\n",
    "            params = usemodel.make_params(ehuh=3, de1=params[0], de2=params[1], de3=params[2], de4=params[3])\n",
    "            params['ehuh'].min = 0\n",
    "            params['ehuh'].max = 30\n",
    "            params['de1'].vary=False\n",
    "            params['de2'].vary=False\n",
    "            params['de3'].vary=False\n",
    "            params['de4'].vary=False\n",
    "            print(params)\n",
    "        else:\n",
    "            continue\n",
    "        \n",
    "        result = usemodel.fit(yd, params, x=xd)\n",
    "\n",
    "        emcee_kws = dict(steps=10000, burn=300, thin=10, is_weighted=False, progress=True)\n",
    "        emcee_params = result.params.copy()\n",
    "        result_emcee = usemodel.fit(yd, emcee_params, x=xd, method='emcee', fit_kws=emcee_kws)\n",
    "        result_emcee.col_deriv = None # lmfit has a bug and fails to set this parameter. The model can't be saved without it being set!\n",
    "\n",
    "        rps = result_emcee.params \n",
    "        np.savetxt(os.path.join(path,'{}_flatchain_smm_perm.csv'.format(tgt)), result_emcee.flatchain, delimiter=',') #save chain\n",
    "        lm.model.save_modelresult(rps, os.path.join(path,'{}_fitresult_smm_perm.model'.format(tgt))) #save model results\n",
    "\n",
    "        d = result.params.valuesdict()\n",
    "        d['tgt'] = tgt\n",
    "        d['aic'] = result.aic\n",
    "        d['bic'] = result.bic\n",
    "        d['redchi'] = result.redchi\n",
    "        params_df = pd.concat([params_df, pd.DataFrame(d, index=[0])])\n",
    "        \n",
    "        fig = plt.figure(figsize=(4,6))\n",
    "        gs = fig.add_gridspec(2, 1)\n",
    "        ax1 = fig.add_subplot(gs[0,0])\n",
    "        ax2 = fig.add_subplot(gs[1,0])\n",
    "        ax1.plot(xs, result.eval(params=result_emcee.params, x=xs)) \n",
    "        ax1.plot(xd, yd, 'k.') # plot the datapoints\n",
    "        result_emcee.plot_residuals(ax=ax2) \n",
    "\n",
    "        for ax in (ax1, ax2):\n",
    "            ax.set_xlim([1, 4e4])\n",
    "            ax.set_xscale('log')\n",
    "        ax2.set_xlabel('Free TF (nM)')\n",
    "        ax1.set_ylabel('N, Predicted Mean Occ.')\n",
    "        ax2.set_ylabel('Residual')\n",
    "\n",
    "    # We can convert from delE (in Kb*T units) to Kd \n",
    "        ax1.set_title(\"{}\\ne_ovlp={:.2f}\".format(tgt, rps['ehuh'].value))\n",
    "        ax2.set_title(None)\n",
    "        plt.tight_layout()\n",
    "        plt.savefig(os.path.join(path,'{}_fit_smm_perm.png'.format(tgt)), dpi=300)\n",
    "    #     plt.show()\n",
    "\n",
    "        plt.clf()\n",
    "        plt.close('all')\n",
    "\n",
    "params_df.reset_index(drop=True, inplace=True)\n",
    "params_df.set_index('tgt', drop=True, inplace=True)\n",
    "params_df.to_csv(os.path.join(path,'fit_params_smm_perm.csv')) "
   ]
  },
  {
   "cell_type": "markdown",
   "metadata": {
    "heading_collapsed": "true",
    "jupyter": {
     "outputs_hidden": true
    },
    "tags": [],
    "toc-hr-collapsed": true
   },
   "source": [
    "##### Sample posterior"
   ]
  },
  {
   "cell_type": "code",
   "execution_count": 86,
   "metadata": {
    "heading_collapsed": "true",
    "tags": []
   },
   "outputs": [],
   "source": [
    "# Sample the flatchain and produce and return simulated results\n",
    "def eval_samples(flatchain, model, x, N, fixedParams):\n",
    "    \n",
    "    fc = flatchain\n",
    "    \n",
    "    results = np.zeros([len(x), N])\n",
    "    params_all = []\n",
    "    inds = np.random.randint(low=int(0.1*len(fc)), high=len(fc), size=N) #randomly choose 300 parameter-sets from the flatchain\n",
    "    for i,ind in enumerate(inds):\n",
    "        sample = fc[ind]\n",
    "        params_all.append(sample)\n",
    "        params = lm.Parameters() #Parameters class/object that can receive parameters as input\n",
    "        \n",
    "        for key, value in fixedParams.items():\n",
    "            params.add(key, value=value)\n",
    "        \n",
    "        if len(sample) == 2:\n",
    "            params.add('ehuh', sample[0])\n",
    "            params.add('_lnsigma', sample[1]) #store the sample parameters\n",
    "        elif len(sample) == 1:\n",
    "            params.add('ehuh', sample[0])\n",
    "        \n",
    "\n",
    "        results[:, i] = model.eval(x=x, params=params) #for each x-value generate an occupancy value by feeding the parameters back into the model (supplied in argument).\n",
    "    print(params)\n",
    "    return {'sims': results, 'params': np.array(params_all)}"
   ]
  },
  {
   "cell_type": "code",
   "execution_count": 87,
   "metadata": {
    "heading_collapsed": "true",
    "tags": []
   },
   "outputs": [
    {
     "name": "stdout",
     "output_type": "stream",
     "text": [
      "(17)A11(-1)A11(-1)A11(-1)A11(40)\n",
      "Parameters([('de1', <Parameter 'de1', value=-17.65343057102193, bounds=[-inf:inf]>), ('de2', <Parameter 'de2', value=-17.65343057102193, bounds=[-inf:inf]>), ('de3', <Parameter 'de3', value=-17.65343057102193, bounds=[-inf:inf]>), ('de4', <Parameter 'de4', value=-17.65343057102193, bounds=[-inf:inf]>), ('ehuh', <Parameter 'ehuh', value=18.50448946630975, bounds=[-inf:inf]>), ('_lnsigma', <Parameter '_lnsigma', value=-0.25645106339711765, bounds=[-inf:inf]>)])\n",
      "(17)A11(-1)A11(-1)A11(48)\n",
      "Parameters([('de1', <Parameter 'de1', value=-17.65343057102193, bounds=[-inf:inf]>), ('de2', <Parameter 'de2', value=-17.65343057102193, bounds=[-inf:inf]>), ('de3', <Parameter 'de3', value=-17.65343057102193, bounds=[-inf:inf]>), ('ehuh', <Parameter 'ehuh', value=1.8829740938018413, bounds=[-inf:inf]>), ('_lnsigma', <Parameter '_lnsigma', value=-0.7305254269841518, bounds=[-inf:inf]>)])\n",
      "(17)A11(-1)A11(56)\n",
      "Parameters([('de1', <Parameter 'de1', value=-17.65343057102193, bounds=[-inf:inf]>), ('de2', <Parameter 'de2', value=-17.65343057102193, bounds=[-inf:inf]>), ('ehuh', <Parameter 'ehuh', value=2.2641727674859498, bounds=[-inf:inf]>), ('_lnsigma', <Parameter '_lnsigma', value=-1.8604494823117794, bounds=[-inf:inf]>)])\n",
      "(17)A11(-3)A11(-3)A11(-3)A11(46)\n",
      "Parameters([('de1', <Parameter 'de1', value=-17.65343057102193, bounds=[-inf:inf]>), ('de2', <Parameter 'de2', value=-17.65343057102193, bounds=[-inf:inf]>), ('de3', <Parameter 'de3', value=-17.65343057102193, bounds=[-inf:inf]>), ('de4', <Parameter 'de4', value=-17.65343057102193, bounds=[-inf:inf]>), ('ehuh', <Parameter 'ehuh', value=10.037682141095939, bounds=[-inf:inf]>), ('_lnsigma', <Parameter '_lnsigma', value=-0.6293141110582241, bounds=[-inf:inf]>)])\n",
      "(17)A11(-3)A11(-3)A11(52)\n",
      "Parameters([('de1', <Parameter 'de1', value=-17.65343057102193, bounds=[-inf:inf]>), ('de2', <Parameter 'de2', value=-17.65343057102193, bounds=[-inf:inf]>), ('de3', <Parameter 'de3', value=-17.65343057102193, bounds=[-inf:inf]>), ('ehuh', <Parameter 'ehuh', value=12.367770774697423, bounds=[-inf:inf]>), ('_lnsigma', <Parameter '_lnsigma', value=-0.9744772333445623, bounds=[-inf:inf]>)])\n",
      "(17)A11(-3)A11(58)\n",
      "Parameters([('de1', <Parameter 'de1', value=-17.65343057102193, bounds=[-inf:inf]>), ('de2', <Parameter 'de2', value=-17.65343057102193, bounds=[-inf:inf]>), ('ehuh', <Parameter 'ehuh', value=12.43211722881956, bounds=[-inf:inf]>), ('_lnsigma', <Parameter '_lnsigma', value=-1.3787772390021933, bounds=[-inf:inf]>)])\n"
     ]
    }
   ],
   "source": [
    "C0 = 0.6e9\n",
    "xs = np.logspace(-1,5,301)\n",
    "N=300\n",
    "\n",
    "target_info = pd.read_csv(os.path.join('input_datasets','in-vitro','target_info.csv'), index_col=0)\n",
    "ss_params = pd.read_csv(os.path.join(dir1, dir2, '1par_statmech_measured', 'fit_params_imsf_model.csv'), index_col=0)\n",
    "\n",
    "params_df = pd.read_csv(os.path.join(path, 'fit_params_smm_perm.csv'),index_col=0)\n",
    "\n",
    "indexlist = params_df.index.tolist()\n",
    "\n",
    "for tgt, tgtgrp in fdf.groupby('TgtName'):\n",
    "    \n",
    "    if tgt in indexlist :\n",
    "\n",
    "        print(tgt)\n",
    "        \n",
    "        nrSites = target_info.loc[tgt,'NumSites']\n",
    "        \n",
    "        tgtgrp = tgtgrp.loc[(tgtgrp['Free_nM']>0)&(tgtgrp['Meanocc']>0)]\n",
    "        xd, yd = (tgtgrp['Free_nM'], tgtgrp['Meanocc'])\n",
    "        \n",
    "        sites = site_info[tgt]\n",
    "        params = []\n",
    "        fixedParams = {}\n",
    "\n",
    "        for ss in sites:\n",
    "            if ss == 'None':\n",
    "                continue\n",
    "\n",
    "            params.append(ss_params.loc[referenceSingleTargets[ss], 'de1']) \n",
    "\n",
    "        if nrSites == 2:\n",
    "            smmodel = Model(twoSiteOverlap_perm)\n",
    "            fixedParams['de1']=params[0]\n",
    "            fixedParams['de2']=params[1]\n",
    "            \n",
    "        if nrSites == 3:\n",
    "            smmodel = Model(threeSiteOverlap_perm)\n",
    "            fixedParams['de1']=params[0]\n",
    "            fixedParams['de2']=params[1]\n",
    "            fixedParams['de3']=params[2]\n",
    "            \n",
    "        if nrSites == 4:\n",
    "            smmodel = Model(fourSiteOverlap_perm)\n",
    "            fixedParams['de1']=params[0]\n",
    "            fixedParams['de2']=params[1]\n",
    "            fixedParams['de3']=params[2]\n",
    "            fixedParams['de4']=params[3]\n",
    "        \n",
    "        fc = np.loadtxt(os.path.join(path,'{}_flatchain_smm_perm.csv'.format(tgt)), delimiter=',')\n",
    "        \n",
    "        results = eval_samples(fc, smmodel, xs, N, fixedParams)\n",
    "        simsDPMSF = results['sims'] # these are the predicted occupancy values associated with the sample parameter sets\n",
    "        paramsDP = results['params'] # these are the sample parameter sets\n",
    "\n",
    "        np.savetxt(os.path.join(path,'{}_posterior_sims_dp_model.csv'.format(tgt)), simsDPMSF)\n",
    "        np.savetxt(os.path.join(path,'{}_posterior_sim_params_dp_model.csv'.format(tgt)), paramsDP)\n",
    "        \n",
    "        lowerDPMSF, upperDPMSF = np.percentile(simsDPMSF, [5, 95], axis=1)\n",
    "\n",
    "        plt.figure(figsize=(6,6))\n",
    "        plt.plot(xd, yd, 'k.', label='Data')\n",
    "        plt.fill_between(xs, lowerDPMSF, upperDPMSF, color='darkviolet', alpha=0.3, label='Dependent Permissive Multi-site Model Fit')\n",
    "        plt.legend(loc='best') \n",
    "                \n",
    "        plt.xlim([1e0, 3e3])\n",
    "        plt.xscale('linear')\n",
    "        plt.xlabel('TF concentration (nM)')\n",
    "        plt.ylabel('<N>, Mean occupancy')\n",
    "        \n",
    "        #parameters for the DPMSF model\n",
    "        val_ehuh_DPMSF = (params_df.loc[tgt, 'ehuh'])\n",
    "        lower_ehuh_DPMSF, upper_ehuh_DPMSF = (np.percentile(fc[:,0], [5, 95]))\n",
    "                \n",
    "        plt.title(\"Zif268 | %s $Ehuh=%.1f^{+%.1f}_{-%.1f}$ \" %\n",
    "            (tgt, \n",
    "             val_ehuh_DPMSF, upper_ehuh_DPMSF-val_ehuh_DPMSF, val_ehuh_DPMSF-lower_ehuh_DPMSF))\n",
    "\n",
    "        plt.tight_layout()\n",
    "        plt.savefig(os.path.join(path,\"{}_fit_samples_dpmsf_model.png\".format(tgt)), dpi=200)\n",
    "        plt.clf()\n",
    "        plt.close('all')"
   ]
  },
  {
   "cell_type": "markdown",
   "metadata": {
    "heading_collapsed": "true",
    "jupyter": {
     "outputs_hidden": true
    },
    "tags": []
   },
   "source": [
    "#### Plotting exclusive and permissive models on the same plot with the data"
   ]
  },
  {
   "cell_type": "markdown",
   "metadata": {
    "heading_collapsed": "true",
    "jupyter": {
     "outputs_hidden": true
    },
    "tags": []
   },
   "source": [
    "##### Path"
   ]
  },
  {
   "cell_type": "code",
   "execution_count": 88,
   "metadata": {
    "heading_collapsed": "true",
    "tags": []
   },
   "outputs": [],
   "source": [
    "dir1 = 'in-vitro_fits_plots'\n",
    "dir2 = 'Zif268'\n",
    "path = os.path.join(dir1,dir2)"
   ]
  },
  {
   "cell_type": "markdown",
   "metadata": {
    "heading_collapsed": "true",
    "jupyter": {
     "outputs_hidden": true
    },
    "tags": [],
    "toc-hr-collapsed": true
   },
   "source": [
    "##### 2 sites"
   ]
  },
  {
   "cell_type": "code",
   "execution_count": 89,
   "metadata": {
    "heading_collapsed": "true",
    "tags": []
   },
   "outputs": [
    {
     "data": {
      "image/png": "[encoded data removed]",
      "text/plain": [
       "<Figure size 432x360 with 1 Axes>"
      ]
     },
     "metadata": {
      "needs_background": "light"
     },
     "output_type": "display_data"
    },
    {
     "data": {
      "image/png": "[encoded data removed]",
      "text/plain": [
       "<Figure size 432x360 with 1 Axes>"
      ]
     },
     "metadata": {
      "needs_background": "light"
     },
     "output_type": "display_data"
    }
   ],
   "source": [
    "target_info = pd.read_csv(os.path.join('input_datasets','in-vitro','target_info.csv'), index_col=0)\n",
    "\n",
    "C0 = 0.6e9\n",
    "xs = np.logspace(-1,5,301)\n",
    "N = 300\n",
    "\n",
    "params_df = pd.DataFrame()\n",
    "\n",
    "for tgt, tgtgrp in fdf.groupby('TgtName'):\n",
    "\n",
    "    if tgt not in ['(17)A11(-1)A11(56)', '(17)A11(-3)A11(58)']:\n",
    "        continue\n",
    "\n",
    "    xd, yd = (tgtgrp['Free_nM'], tgtgrp['Meanocc']) \n",
    "\n",
    "    # Load data\n",
    "    tgtgrp = tgtgrp.loc[(tgtgrp['Free_nM']>0)&(tgtgrp['Complex']>0)]\n",
    "    xd, yd = (tgtgrp['Free_nM'], tgtgrp['Meanocc'])\n",
    "\n",
    "    # Load dependent binding model\n",
    "    sims_db = np.loadtxt(os.path.join(path,'Exclusive_statmech','{}_prediction_dependent-excl_smm.csv'.format(tgt)), delimiter=',')\n",
    "    sims_perm = np.loadtxt(os.path.join(path,'Permissive_statmech','{}_posterior_sims_dp_model.csv'.format(tgt)), delimiter=' ')\n",
    "            \n",
    "    # Plot simulation and data\n",
    "    median_excl = np.median(sims_db, axis=1)\n",
    "    \n",
    "    median_perm = np.median(sims_perm, axis=1)\n",
    "    \n",
    "    plt.figure(figsize=(6,5))\n",
    "    plt.plot(xd, yd, 'k.', ms=10, marker='x', mew=2, label='Data')\n",
    "    plt.plot(xs, median_excl, color='black', alpha=0.6, lw=5, label='DB_model_exclusive')\n",
    "    plt.plot(xs, median_perm, color='#4B8467', alpha=0.6, lw=5, label='DB_model_permissive')\n",
    "    plt.legend(loc='lower right')\n",
    "\n",
    "    plt.xlim([-200, 1e3])\n",
    "    plt.ylim([0, 2.20])\n",
    "    plt.xlabel('TF concentration (nM)', fontsize=16)\n",
    "    plt.ylabel('<N>, mean occupancy', fontsize=16)\n",
    "\n",
    "    plt.grid(b=True, axis='both', zorder=1)\n",
    "\n",
    "    plt.title(\"Zif268 | {} \".format(tgt), fontsize=16)\n",
    "    plt.tight_layout()\n",
    "    \n",
    "    plt.savefig(os.path.join(path,'plots','{}_prediction_dependent-perm-excl.svg'.format(tgt)), dpi=300)\n",
    "    plt.savefig(os.path.join(path,'plots','{}_prediction_dependent-perm-excl.jpg'.format(tgt)), dpi=300)\n",
    "    \n",
    "    plt.show()    \n",
    "\n",
    "    plt.clf()\n",
    "    plt.close('all')"
   ]
  },
  {
   "cell_type": "markdown",
   "metadata": {
    "heading_collapsed": "true",
    "jupyter": {
     "outputs_hidden": true
    },
    "tags": [],
    "toc-hr-collapsed": true
   },
   "source": [
    "##### Plotting independent model vs. perm vs. excl vs. single site"
   ]
  },
  {
   "cell_type": "code",
   "execution_count": 91,
   "metadata": {
    "heading_collapsed": "true",
    "tags": [],
    "toc-hr-collapsed": true
   },
   "outputs": [
    {
     "data": {
      "image/png": "[encoded data removed]",
      "text/plain": [
       "<Figure size 432x360 with 1 Axes>"
      ]
     },
     "metadata": {
      "needs_background": "light"
     },
     "output_type": "display_data"
    },
    {
     "data": {
      "image/png": "[encoded data removed]",
      "text/plain": [
       "<Figure size 432x360 with 1 Axes>"
      ]
     },
     "metadata": {
      "needs_background": "light"
     },
     "output_type": "display_data"
    }
   ],
   "source": [
    "target_info = pd.read_csv(os.path.join('input_datasets','in-vitro','target_info.csv'), index_col=0)\n",
    "\n",
    "C0 = 0.6e9\n",
    "xs = np.logspace(-1,5,301)\n",
    "xf = np.logspace(-1,5,10000) #note: logspace so -1 = 10^-1 = 1/10\n",
    "N = 300\n",
    "\n",
    "params_df = pd.DataFrame()\n",
    "\n",
    "for tgt, tgtgrp in fdf.groupby('TgtName'):\n",
    "\n",
    "    if tgt not in ['(17)A11(-1)A11(56)', '(17)A11(-3)A11(58)']:\n",
    "        continue\n",
    "\n",
    "    xd, yd = (tgtgrp['Free_nM'], tgtgrp['Meanocc']) #set x and y values\n",
    "\n",
    "    # Load data\n",
    "    tgtgrp = tgtgrp.loc[(tgtgrp['Free_nM']>0)&(tgtgrp['Complex']>0)]\n",
    "    xd, yd = (tgtgrp['Free_nM'], tgtgrp['Meanocc'])\n",
    "\n",
    "    # Load dependent binding model\n",
    "    sims_db = np.loadtxt(os.path.join(path,'Exclusive_statmech','{}_prediction_dependent-excl_smm.csv'.format(tgt)), delimiter=',')\n",
    "    median_excl = np.median(sims_db, axis=1)\n",
    "    \n",
    "    sims_perm = np.loadtxt(os.path.join(path,'Permissive_statmech','{}_posterior_sims_dp_model.csv'.format(tgt)), delimiter=' ')\n",
    "    median_perm = np.median(sims_perm, axis=1)\n",
    "    \n",
    "    # Load A11 alone\n",
    "    A11_ind = np.loadtxt(os.path.join(path, '1par_statmech_measured', '{}_posterior_sims_imsf_model.csv'.format(referenceSingleTargets['A11'])))\n",
    "    A11_lower, A11_upper = np.percentile(A11_ind, [2.5,97.5], axis=1)\n",
    "    \n",
    "    sites = site_info[tgt]\n",
    "    independent_sims = []\n",
    "    \n",
    "    for ss in sites: #for each ss in the target, append to sims the _posterior_sims.csv for that single site target (e.g. for M5XXXXX)\n",
    "        if ss == 'None':\n",
    "            print('nothing in that tgt')\n",
    "            continue\n",
    "        independent_sims.append(np.loadtxt(os.path.join(path, '1par_statmech_measured', '{}_posterior_sims_imsf_model.csv'.format(referenceSingleTargets[ss]))))\n",
    "        \n",
    "    independent_sims = sum(independent_sims)\n",
    "    lower_ind, upper_ind = np.percentile(independent_sims, [2.5,97.5], axis=1) #independent target occupancy prediction\n",
    "\n",
    "\n",
    "    plt.figure(figsize=(6,5))\n",
    "    plt.plot(xd, yd, 'k.', ms=10, marker='x', mew=2, label='Data')\n",
    "    plt.plot(xs, median_excl, color='black', alpha=0.6, lw=5, label='Exclusive binding')\n",
    "    plt.plot(xs, median_perm, color='#4B8467', alpha=0.6, lw=5, label='Permissive binding')\n",
    "    plt.fill_between(xf, lower_ind, upper_ind, color='#BFBEA4', alpha=0.6, label='Independent binding')\n",
    "    plt.fill_between(xf, A11_lower, A11_upper, color='red', alpha=0.4, label='Single consensus site')\n",
    "    \n",
    "    plt.legend(loc='lower right')\n",
    "\n",
    "    plt.xlim([-100, 1e3])\n",
    "    plt.ylim([0, 2.40])\n",
    "    plt.xlabel('TF concentration (nM)', fontsize=22)\n",
    "    plt.ylabel( \"Mean occupancy, \"+r\"$\\langle$\"+ \"N\"+ r\"$\\rangle$\", fontsize=22)\n",
    "\n",
    "    plt.grid(b=True, axis='both', zorder=1)\n",
    "\n",
    "    plt.title(\"\".format(tgt), fontsize=16)\n",
    "    plt.tight_layout()\n",
    "    \n",
    "    plt.savefig(os.path.join(path,'plots','{}_predictions_ind-perm-excl-ss_.svg'.format(tgt)), dpi=300)\n",
    "    plt.savefig(os.path.join(path,'plots','{}_predictions_ind-perm-excl-ss_.jpg'.format(tgt)), dpi=300)\n",
    "    \n",
    "    plt.show()    \n",
    "\n",
    "    plt.clf()\n",
    "    plt.close('all')"
   ]
  },
  {
   "cell_type": "markdown",
   "metadata": {
    "heading_collapsed": "true",
    "jupyter": {
     "outputs_hidden": true
    },
    "tags": [],
    "toc-hr-collapsed": true
   },
   "source": [
    "#### Plotting occupancy of 2-TF bound state"
   ]
  },
  {
   "cell_type": "code",
   "execution_count": 92,
   "metadata": {
    "heading_collapsed": "true",
    "tags": []
   },
   "outputs": [],
   "source": [
    "def twoSiteOverlap_perm_poccs(x, ehuh, de1, de2):\n",
    "    #params1[0] is the Bmax (300,) pre-cal. factor, #params1[1] is the delE value (300,)... params1 = first site, params2 = second site\n",
    "    # currently I'm doing it this way, but could multiply the params[0], to obtain dedicated max. occ. values on a per parameter basis\n",
    "    # note that I'm plotting against other curves that are normalized by cal_factor\n",
    "\n",
    "    #relMult = (conc/concO)*np.exp(-delE)\n",
    "\n",
    "    C = x\n",
    "    C0 = 0.6e9 #reference concentration parameter\n",
    "\n",
    "    z0 = 1 # No sites bound\n",
    "    z1 = np.outer( (C/C0), np.exp(-de1) ) # Rel. weighted mult.: multiply every X value with every parameter set (np.exp(-de1)): (301 by 300)\n",
    "    z2 = np.outer( (C/C0), np.exp(-de2) )\n",
    "    z3 = np.outer( (C/C0)**2, np.exp(-de1-de2-ehuh) )\n",
    "    ztot = z0 + z1 + z2 + z3\n",
    "    \n",
    "    p0 = z0 / ztot\n",
    "    p1 = z1 / ztot \n",
    "    p2 = z2 / ztot\n",
    "    p3 = z3 / ztot\n",
    "    occ = (z1 + z2 + 2*z3) / ztot\n",
    "    occ = occ.flatten()\n",
    "    \n",
    "    res = {'p0':p0, 'p1':p1, 'p2':p2, 'p3':p3, 'N0':p0*0, 'N1':p1*1, 'N2':p2*1, 'N3':p3*2, 'occ':occ}\n",
    "    return(res)"
   ]
  },
  {
   "cell_type": "code",
   "execution_count": 93,
   "metadata": {
    "heading_collapsed": "true",
    "tags": []
   },
   "outputs": [
    {
     "data": {
      "image/png": "[encoded data removed]",
      "text/plain": [
       "<Figure size 432x360 with 1 Axes>"
      ]
     },
     "metadata": {
      "needs_background": "light"
     },
     "output_type": "display_data"
    },
    {
     "data": {
      "image/png": "[encoded data removed]",
      "text/plain": [
       "<Figure size 432x360 with 1 Axes>"
      ]
     },
     "metadata": {
      "needs_background": "light"
     },
     "output_type": "display_data"
    },
    {
     "data": {
      "image/png": "[encoded data removed]",
      "text/plain": [
       "<Figure size 432x360 with 1 Axes>"
      ]
     },
     "metadata": {
      "needs_background": "light"
     },
     "output_type": "display_data"
    },
    {
     "data": {
      "image/png": "[encoded data removed]",
      "text/plain": [
       "<Figure size 432x360 with 1 Axes>"
      ]
     },
     "metadata": {
      "needs_background": "light"
     },
     "output_type": "display_data"
    }
   ],
   "source": [
    "C0 = 0.6e9\n",
    "xs = np.logspace(-1,5,301) #note: logspace so -1 = 10^-1 = 1/10\n",
    "N=300\n",
    "\n",
    "target_info = pd.read_csv(os.path.join('input_datasets','in-vitro','target_info.csv'), index_col=0)\n",
    "\n",
    "ss_params = pd.read_csv(os.path.join(path, '1par_statmech_measured', 'fit_params_imsf_model.csv'), index_col=0)\n",
    "\n",
    "params_df = pd.read_csv(os.path.join(path, 'Permissive_statmech', 'fit_params_smm_perm.csv'),index_col=0)\n",
    "\n",
    "targets = ['(17)A11(-1)A11(56)','(17)A11(-3)A11(58)']\n",
    "\n",
    "for tgt in targets:\n",
    "    \n",
    "    nrSites = target_info.loc[tgt,'NumSites']\n",
    "\n",
    "    sites = site_info[tgt]\n",
    "    params = []\n",
    "    fixedParams = {}\n",
    "\n",
    "    for ss in sites:\n",
    "        if ss == 'None':\n",
    "            continue\n",
    "\n",
    "        params.append(ss_params.loc[referenceSingleTargets[ss], 'de1']) #pull the (median) de1 value for each site in tgt (note: to get proper confidence intervals, should probably fit 300 times -- once for each parameter set)\n",
    "\n",
    "    if nrSites == 2:\n",
    "        fixedParams['de1']=params[0]\n",
    "        fixedParams['de2']=params[1]\n",
    "        fixedParams['ehuh']=params_df.loc[tgt,'ehuh']\n",
    "    else:\n",
    "        print('method currently only designed for A11(-1)A11 target')\n",
    "\n",
    "    results = twoSiteOverlap_perm_poccs(xs, fixedParams['ehuh'], fixedParams['de1'], fixedParams['de2'])\n",
    "\n",
    "    for l in ['p', 'N']:\n",
    "        plt.figure(figsize=(6,5))\n",
    "\n",
    "        if len(sites) == 2:\n",
    "            labels = ['- -', 'X -', '- X', 'X X']\n",
    "            colors = ['brown', 'green', 'pink', 'grey']\n",
    "\n",
    "        for i in range(4):\n",
    "            configocc = results['{}{}'.format(l,i)]\n",
    "            configocc = configocc.reshape(len(configocc))\n",
    "\n",
    "            plt.plot(xs, configocc, color=colors[i], alpha=0.5, linewidth=5, label=labels[i])\n",
    "\n",
    "        plt.grid(b=True, axis='both', zorder=1)\n",
    "\n",
    "        plt.title('{} | {}occ'.format(tgt,l), fontsize=16)\n",
    "        plt.xlabel('TF concentration (nM)', fontsize=16)\n",
    "        plt.ylabel('{}occ'.format(l), fontsize=16)\n",
    "\n",
    "        plt.xlim([-50, 1e3])\n",
    "        plt.ylim([0, 1])\n",
    "        plt.xscale('linear')\n",
    "\n",
    "        plt.legend(loc='best')\n",
    "\n",
    "        plt.savefig(os.path.join(path,'plots','{}_prediction_{}occs_perm.svg'.format(tgt,l)), dpi=300)\n",
    "        plt.savefig(os.path.join(path,'plots','{}_prediction_{}occs_perm.jpg'.format(tgt,l)), dpi=300)\n",
    "\n",
    "        plt.show()\n",
    "\n",
    "        plt.clf()\n",
    "        plt.close('all')\n"
   ]
  }
 ],
 "metadata": {
  "kernelspec": {
   "display_name": "Python 3",
   "language": "python",
   "name": "python3"
  },
  "language_info": {
   "codemirror_mode": {
    "name": "ipython",
    "version": 3
   },
   "file_extension": ".py",
   "mimetype": "text/x-python",
   "name": "python",
   "nbconvert_exporter": "python",
   "pygments_lexer": "ipython3",
   "version": "3.8.10"
  }
 },
 "nbformat": 4,
 "nbformat_minor": 4
}
